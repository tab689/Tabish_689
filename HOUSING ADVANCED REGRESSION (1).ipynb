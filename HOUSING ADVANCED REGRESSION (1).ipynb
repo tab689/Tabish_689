{
 "cells": [
  {
   "cell_type": "code",
   "execution_count": 1,
   "metadata": {},
   "outputs": [],
   "source": [
    "import pandas as pd\n",
    "import numpy as np\n",
    "import matplotlib.pyplot as plt\n",
    "import seaborn as sns\n",
    "from sklearn.model_selection import train_test_split\n",
    "import datetime\n",
    "from sklearn.preprocessing import StandardScaler\n",
    "from sklearn.linear_model import Ridge\n",
    "from sklearn.linear_model import Lasso\n",
    "from sklearn.model_selection import GridSearchCV\n",
    "from sklearn import metrics\n",
    "from sklearn.linear_model import LinearRegression\n",
    "from sklearn.metrics import r2_score\n"
   ]
  },
  {
   "cell_type": "code",
   "execution_count": 2,
   "metadata": {},
   "outputs": [],
   "source": [
    "df = pd.read_csv(r'C:\\Users\\tabish\\Downloads\\train.csv')"
   ]
  },
  {
   "cell_type": "code",
   "execution_count": 3,
   "metadata": {},
   "outputs": [
    {
     "data": {
      "text/plain": [
       "Id                  0\n",
       "MSSubClass          0\n",
       "MSZoning            0\n",
       "LotFrontage       259\n",
       "LotArea             0\n",
       "Street              0\n",
       "Alley            1369\n",
       "LotShape            0\n",
       "LandContour         0\n",
       "Utilities           0\n",
       "LotConfig           0\n",
       "LandSlope           0\n",
       "Neighborhood        0\n",
       "Condition1          0\n",
       "Condition2          0\n",
       "BldgType            0\n",
       "HouseStyle          0\n",
       "OverallQual         0\n",
       "OverallCond         0\n",
       "YearBuilt           0\n",
       "YearRemodAdd        0\n",
       "RoofStyle           0\n",
       "RoofMatl            0\n",
       "Exterior1st         0\n",
       "Exterior2nd         0\n",
       "MasVnrType          8\n",
       "MasVnrArea          8\n",
       "ExterQual           0\n",
       "ExterCond           0\n",
       "Foundation          0\n",
       "                 ... \n",
       "BedroomAbvGr        0\n",
       "KitchenAbvGr        0\n",
       "KitchenQual         0\n",
       "TotRmsAbvGrd        0\n",
       "Functional          0\n",
       "Fireplaces          0\n",
       "FireplaceQu       690\n",
       "GarageType         81\n",
       "GarageYrBlt        81\n",
       "GarageFinish       81\n",
       "GarageCars          0\n",
       "GarageArea          0\n",
       "GarageQual         81\n",
       "GarageCond         81\n",
       "PavedDrive          0\n",
       "WoodDeckSF          0\n",
       "OpenPorchSF         0\n",
       "EnclosedPorch       0\n",
       "3SsnPorch           0\n",
       "ScreenPorch         0\n",
       "PoolArea            0\n",
       "PoolQC           1453\n",
       "Fence            1179\n",
       "MiscFeature      1406\n",
       "MiscVal             0\n",
       "MoSold              0\n",
       "YrSold              0\n",
       "SaleType            0\n",
       "SaleCondition       0\n",
       "SalePrice           0\n",
       "Length: 81, dtype: int64"
      ]
     },
     "execution_count": 3,
     "metadata": {},
     "output_type": "execute_result"
    }
   ],
   "source": [
    "df.isnull().sum()"
   ]
  },
  {
   "cell_type": "code",
   "execution_count": 4,
   "metadata": {},
   "outputs": [
    {
     "data": {
      "text/plain": [
       "Id                0.00\n",
       "MSSubClass        0.00\n",
       "MSZoning          0.00\n",
       "LotFrontage      17.74\n",
       "LotArea           0.00\n",
       "Street            0.00\n",
       "Alley            93.77\n",
       "LotShape          0.00\n",
       "LandContour       0.00\n",
       "Utilities         0.00\n",
       "LotConfig         0.00\n",
       "LandSlope         0.00\n",
       "Neighborhood      0.00\n",
       "Condition1        0.00\n",
       "Condition2        0.00\n",
       "BldgType          0.00\n",
       "HouseStyle        0.00\n",
       "OverallQual       0.00\n",
       "OverallCond       0.00\n",
       "YearBuilt         0.00\n",
       "YearRemodAdd      0.00\n",
       "RoofStyle         0.00\n",
       "RoofMatl          0.00\n",
       "Exterior1st       0.00\n",
       "Exterior2nd       0.00\n",
       "MasVnrType        0.55\n",
       "MasVnrArea        0.55\n",
       "ExterQual         0.00\n",
       "ExterCond         0.00\n",
       "Foundation        0.00\n",
       "                 ...  \n",
       "BedroomAbvGr      0.00\n",
       "KitchenAbvGr      0.00\n",
       "KitchenQual       0.00\n",
       "TotRmsAbvGrd      0.00\n",
       "Functional        0.00\n",
       "Fireplaces        0.00\n",
       "FireplaceQu      47.26\n",
       "GarageType        5.55\n",
       "GarageYrBlt       5.55\n",
       "GarageFinish      5.55\n",
       "GarageCars        0.00\n",
       "GarageArea        0.00\n",
       "GarageQual        5.55\n",
       "GarageCond        5.55\n",
       "PavedDrive        0.00\n",
       "WoodDeckSF        0.00\n",
       "OpenPorchSF       0.00\n",
       "EnclosedPorch     0.00\n",
       "3SsnPorch         0.00\n",
       "ScreenPorch       0.00\n",
       "PoolArea          0.00\n",
       "PoolQC           99.52\n",
       "Fence            80.75\n",
       "MiscFeature      96.30\n",
       "MiscVal           0.00\n",
       "MoSold            0.00\n",
       "YrSold            0.00\n",
       "SaleType          0.00\n",
       "SaleCondition     0.00\n",
       "SalePrice         0.00\n",
       "Length: 81, dtype: float64"
      ]
     },
     "execution_count": 4,
     "metadata": {},
     "output_type": "execute_result"
    }
   ],
   "source": [
    "round(df.isnull().sum() / len(df.index) * 100, 2)"
   ]
  },
  {
   "cell_type": "code",
   "execution_count": 5,
   "metadata": {},
   "outputs": [
    {
     "data": {
      "text/plain": [
       "Grvl    50\n",
       "Pave    41\n",
       "Name: Alley, dtype: int64"
      ]
     },
     "execution_count": 5,
     "metadata": {},
     "output_type": "execute_result"
    }
   ],
   "source": [
    "df['Alley'].value_counts()"
   ]
  },
  {
   "cell_type": "code",
   "execution_count": 6,
   "metadata": {},
   "outputs": [
    {
     "data": {
      "text/plain": [
       "No Alley    1369\n",
       "Grvl          50\n",
       "Pave          41\n",
       "Name: Alley, dtype: int64"
      ]
     },
     "execution_count": 6,
     "metadata": {},
     "output_type": "execute_result"
    }
   ],
   "source": [
    "df['Alley'] = df['Alley'].fillna('No Alley')\n",
    "df['Alley'].value_counts()"
   ]
  },
  {
   "cell_type": "code",
   "execution_count": 7,
   "metadata": {},
   "outputs": [
    {
     "data": {
      "text/plain": [
       "No Fence    1179\n",
       "MnPrv        157\n",
       "GdPrv         59\n",
       "GdWo          54\n",
       "MnWw          11\n",
       "Name: Fence, dtype: int64"
      ]
     },
     "execution_count": 7,
     "metadata": {},
     "output_type": "execute_result"
    }
   ],
   "source": [
    "df['Fence'] = df['Fence'].fillna('No Fence')\n",
    "df['Fence'].value_counts()"
   ]
  },
  {
   "cell_type": "code",
   "execution_count": 8,
   "metadata": {},
   "outputs": [
    {
     "data": {
      "text/plain": [
       "No Pool    1453\n",
       "Gd            3\n",
       "Ex            2\n",
       "Fa            2\n",
       "Name: PoolQC, dtype: int64"
      ]
     },
     "execution_count": 8,
     "metadata": {},
     "output_type": "execute_result"
    }
   ],
   "source": [
    "df['PoolQC'] = df['PoolQC'].fillna('No Pool')\n",
    "df['PoolQC'].value_counts()"
   ]
  },
  {
   "cell_type": "code",
   "execution_count": 9,
   "metadata": {},
   "outputs": [
    {
     "data": {
      "text/plain": [
       "None    1406\n",
       "Shed      49\n",
       "Gar2       2\n",
       "Othr       2\n",
       "TenC       1\n",
       "Name: MiscFeature, dtype: int64"
      ]
     },
     "execution_count": 9,
     "metadata": {},
     "output_type": "execute_result"
    }
   ],
   "source": [
    "df['MiscFeature'] = df['MiscFeature'].fillna('None')\n",
    "df['MiscFeature'].value_counts()"
   ]
  },
  {
   "cell_type": "code",
   "execution_count": 10,
   "metadata": {},
   "outputs": [
    {
     "data": {
      "text/plain": [
       "TA           1311\n",
       "No Garage      81\n",
       "Fa             48\n",
       "Gd             14\n",
       "Po              3\n",
       "Ex              3\n",
       "Name: GarageQual, dtype: int64"
      ]
     },
     "execution_count": 10,
     "metadata": {},
     "output_type": "execute_result"
    }
   ],
   "source": [
    "df['GarageQual'] = df['GarageQual'].fillna('No Garage')\n",
    "df['GarageQual'].value_counts()"
   ]
  },
  {
   "cell_type": "code",
   "execution_count": 11,
   "metadata": {},
   "outputs": [
    {
     "data": {
      "text/plain": [
       "TA           1326\n",
       "No Garage      81\n",
       "Fa             35\n",
       "Gd              9\n",
       "Po              7\n",
       "Ex              2\n",
       "Name: GarageCond, dtype: int64"
      ]
     },
     "execution_count": 11,
     "metadata": {},
     "output_type": "execute_result"
    }
   ],
   "source": [
    "df['GarageCond'] = df['GarageCond'].fillna('No Garage')\n",
    "df['GarageCond'].value_counts()"
   ]
  },
  {
   "cell_type": "code",
   "execution_count": 12,
   "metadata": {},
   "outputs": [
    {
     "data": {
      "text/plain": [
       "Unf          605\n",
       "RFn          422\n",
       "Fin          352\n",
       "No Garage     81\n",
       "Name: GarageFinish, dtype: int64"
      ]
     },
     "execution_count": 12,
     "metadata": {},
     "output_type": "execute_result"
    }
   ],
   "source": [
    "df['GarageFinish'] = df['GarageFinish'].fillna('No Garage')\n",
    "df['GarageFinish'].value_counts()"
   ]
  },
  {
   "cell_type": "code",
   "execution_count": 13,
   "metadata": {},
   "outputs": [
    {
     "data": {
      "text/plain": [
       "Attchd       870\n",
       "Detchd       387\n",
       "BuiltIn       88\n",
       "No Garage     81\n",
       "Basment       19\n",
       "CarPort        9\n",
       "2Types         6\n",
       "Name: GarageType, dtype: int64"
      ]
     },
     "execution_count": 13,
     "metadata": {},
     "output_type": "execute_result"
    }
   ],
   "source": [
    "df['GarageType'] = df['GarageType'].fillna('No Garage')\n",
    "df['GarageType'].value_counts()"
   ]
  },
  {
   "cell_type": "code",
   "execution_count": 14,
   "metadata": {},
   "outputs": [
    {
     "data": {
      "text/plain": [
       "No Fireplace    690\n",
       "Gd              380\n",
       "TA              313\n",
       "Fa               33\n",
       "Ex               24\n",
       "Po               20\n",
       "Name: FireplaceQu, dtype: int64"
      ]
     },
     "execution_count": 14,
     "metadata": {},
     "output_type": "execute_result"
    }
   ],
   "source": [
    "df['FireplaceQu'] = df['FireplaceQu'].fillna('No Fireplace')\n",
    "df['FireplaceQu'].value_counts()"
   ]
  },
  {
   "cell_type": "code",
   "execution_count": 15,
   "metadata": {},
   "outputs": [
    {
     "data": {
      "text/plain": [
       "Unf            1256\n",
       "Rec              54\n",
       "LwQ              46\n",
       "No Basement      38\n",
       "BLQ              33\n",
       "ALQ              19\n",
       "GLQ              14\n",
       "Name: BsmtFinType2, dtype: int64"
      ]
     },
     "execution_count": 15,
     "metadata": {},
     "output_type": "execute_result"
    }
   ],
   "source": [
    "df['BsmtFinType2'] = df['BsmtFinType2'].fillna('No Basement')\n",
    "df['BsmtFinType2'].value_counts()"
   ]
  },
  {
   "cell_type": "code",
   "execution_count": 16,
   "metadata": {},
   "outputs": [
    {
     "data": {
      "text/plain": [
       "Unf            430\n",
       "GLQ            418\n",
       "ALQ            220\n",
       "BLQ            148\n",
       "Rec            133\n",
       "LwQ             74\n",
       "No Basement     37\n",
       "Name: BsmtFinType1, dtype: int64"
      ]
     },
     "execution_count": 16,
     "metadata": {},
     "output_type": "execute_result"
    }
   ],
   "source": [
    "df['BsmtFinType1'] = df['BsmtFinType1'].fillna('No Basement')\n",
    "df['BsmtFinType1'].value_counts()"
   ]
  },
  {
   "cell_type": "code",
   "execution_count": 17,
   "metadata": {},
   "outputs": [
    {
     "data": {
      "text/plain": [
       "No           953\n",
       "Av           221\n",
       "Gd           134\n",
       "Mn           114\n",
       "No Garage     38\n",
       "Name: BsmtExposure, dtype: int64"
      ]
     },
     "execution_count": 17,
     "metadata": {},
     "output_type": "execute_result"
    }
   ],
   "source": [
    "df['BsmtExposure'] = df['BsmtExposure'].fillna('No Garage')\n",
    "df['BsmtExposure'].value_counts()"
   ]
  },
  {
   "cell_type": "code",
   "execution_count": 18,
   "metadata": {},
   "outputs": [
    {
     "data": {
      "text/plain": [
       "TA           1311\n",
       "Gd             65\n",
       "Fa             45\n",
       "No Garage      37\n",
       "Po              2\n",
       "Name: BsmtCond, dtype: int64"
      ]
     },
     "execution_count": 18,
     "metadata": {},
     "output_type": "execute_result"
    }
   ],
   "source": [
    "df['BsmtCond'] = df['BsmtCond'].fillna('No Garage')\n",
    "df['BsmtCond'].value_counts()"
   ]
  },
  {
   "cell_type": "code",
   "execution_count": 19,
   "metadata": {},
   "outputs": [
    {
     "data": {
      "text/plain": [
       "TA           649\n",
       "Gd           618\n",
       "Ex           121\n",
       "No Garage     37\n",
       "Fa            35\n",
       "Name: BsmtQual, dtype: int64"
      ]
     },
     "execution_count": 19,
     "metadata": {},
     "output_type": "execute_result"
    }
   ],
   "source": [
    "df['BsmtQual'] = df['BsmtQual'].fillna('No Garage')\n",
    "df['BsmtQual'].value_counts()"
   ]
  },
  {
   "cell_type": "code",
   "execution_count": 20,
   "metadata": {},
   "outputs": [
    {
     "data": {
      "text/plain": [
       "Id                 0\n",
       "MSSubClass         0\n",
       "MSZoning           0\n",
       "LotFrontage      259\n",
       "LotArea            0\n",
       "Street             0\n",
       "Alley              0\n",
       "LotShape           0\n",
       "LandContour        0\n",
       "Utilities          0\n",
       "LotConfig          0\n",
       "LandSlope          0\n",
       "Neighborhood       0\n",
       "Condition1         0\n",
       "Condition2         0\n",
       "BldgType           0\n",
       "HouseStyle         0\n",
       "OverallQual        0\n",
       "OverallCond        0\n",
       "YearBuilt          0\n",
       "YearRemodAdd       0\n",
       "RoofStyle          0\n",
       "RoofMatl           0\n",
       "Exterior1st        0\n",
       "Exterior2nd        0\n",
       "MasVnrType         8\n",
       "MasVnrArea         8\n",
       "ExterQual          0\n",
       "ExterCond          0\n",
       "Foundation         0\n",
       "                ... \n",
       "BedroomAbvGr       0\n",
       "KitchenAbvGr       0\n",
       "KitchenQual        0\n",
       "TotRmsAbvGrd       0\n",
       "Functional         0\n",
       "Fireplaces         0\n",
       "FireplaceQu        0\n",
       "GarageType         0\n",
       "GarageYrBlt       81\n",
       "GarageFinish       0\n",
       "GarageCars         0\n",
       "GarageArea         0\n",
       "GarageQual         0\n",
       "GarageCond         0\n",
       "PavedDrive         0\n",
       "WoodDeckSF         0\n",
       "OpenPorchSF        0\n",
       "EnclosedPorch      0\n",
       "3SsnPorch          0\n",
       "ScreenPorch        0\n",
       "PoolArea           0\n",
       "PoolQC             0\n",
       "Fence              0\n",
       "MiscFeature        0\n",
       "MiscVal            0\n",
       "MoSold             0\n",
       "YrSold             0\n",
       "SaleType           0\n",
       "SaleCondition      0\n",
       "SalePrice          0\n",
       "Length: 81, dtype: int64"
      ]
     },
     "execution_count": 20,
     "metadata": {},
     "output_type": "execute_result"
    }
   ],
   "source": [
    "# Again finding Null values\n",
    "df.isnull().sum()"
   ]
  },
  {
   "cell_type": "code",
   "execution_count": 21,
   "metadata": {},
   "outputs": [
    {
     "data": {
      "text/html": [
       "<div>\n",
       "<style scoped>\n",
       "    .dataframe tbody tr th:only-of-type {\n",
       "        vertical-align: middle;\n",
       "    }\n",
       "\n",
       "    .dataframe tbody tr th {\n",
       "        vertical-align: top;\n",
       "    }\n",
       "\n",
       "    .dataframe thead th {\n",
       "        text-align: right;\n",
       "    }\n",
       "</style>\n",
       "<table border=\"1\" class=\"dataframe\">\n",
       "  <thead>\n",
       "    <tr style=\"text-align: right;\">\n",
       "      <th></th>\n",
       "      <th>index</th>\n",
       "      <th>Number of NaN values</th>\n",
       "    </tr>\n",
       "  </thead>\n",
       "  <tbody>\n",
       "    <tr>\n",
       "      <th>3</th>\n",
       "      <td>LotFrontage</td>\n",
       "      <td>259</td>\n",
       "    </tr>\n",
       "    <tr>\n",
       "      <th>59</th>\n",
       "      <td>GarageYrBlt</td>\n",
       "      <td>81</td>\n",
       "    </tr>\n",
       "    <tr>\n",
       "      <th>25</th>\n",
       "      <td>MasVnrType</td>\n",
       "      <td>8</td>\n",
       "    </tr>\n",
       "    <tr>\n",
       "      <th>26</th>\n",
       "      <td>MasVnrArea</td>\n",
       "      <td>8</td>\n",
       "    </tr>\n",
       "    <tr>\n",
       "      <th>42</th>\n",
       "      <td>Electrical</td>\n",
       "      <td>1</td>\n",
       "    </tr>\n",
       "    <tr>\n",
       "      <th>53</th>\n",
       "      <td>KitchenQual</td>\n",
       "      <td>0</td>\n",
       "    </tr>\n",
       "    <tr>\n",
       "      <th>58</th>\n",
       "      <td>GarageType</td>\n",
       "      <td>0</td>\n",
       "    </tr>\n",
       "    <tr>\n",
       "      <th>57</th>\n",
       "      <td>FireplaceQu</td>\n",
       "      <td>0</td>\n",
       "    </tr>\n",
       "    <tr>\n",
       "      <th>56</th>\n",
       "      <td>Fireplaces</td>\n",
       "      <td>0</td>\n",
       "    </tr>\n",
       "    <tr>\n",
       "      <th>55</th>\n",
       "      <td>Functional</td>\n",
       "      <td>0</td>\n",
       "    </tr>\n",
       "    <tr>\n",
       "      <th>54</th>\n",
       "      <td>TotRmsAbvGrd</td>\n",
       "      <td>0</td>\n",
       "    </tr>\n",
       "    <tr>\n",
       "      <th>0</th>\n",
       "      <td>Id</td>\n",
       "      <td>0</td>\n",
       "    </tr>\n",
       "    <tr>\n",
       "      <th>60</th>\n",
       "      <td>GarageFinish</td>\n",
       "      <td>0</td>\n",
       "    </tr>\n",
       "    <tr>\n",
       "      <th>51</th>\n",
       "      <td>BedroomAbvGr</td>\n",
       "      <td>0</td>\n",
       "    </tr>\n",
       "    <tr>\n",
       "      <th>50</th>\n",
       "      <td>HalfBath</td>\n",
       "      <td>0</td>\n",
       "    </tr>\n",
       "    <tr>\n",
       "      <th>49</th>\n",
       "      <td>FullBath</td>\n",
       "      <td>0</td>\n",
       "    </tr>\n",
       "    <tr>\n",
       "      <th>48</th>\n",
       "      <td>BsmtHalfBath</td>\n",
       "      <td>0</td>\n",
       "    </tr>\n",
       "    <tr>\n",
       "      <th>47</th>\n",
       "      <td>BsmtFullBath</td>\n",
       "      <td>0</td>\n",
       "    </tr>\n",
       "    <tr>\n",
       "      <th>46</th>\n",
       "      <td>GrLivArea</td>\n",
       "      <td>0</td>\n",
       "    </tr>\n",
       "    <tr>\n",
       "      <th>45</th>\n",
       "      <td>LowQualFinSF</td>\n",
       "      <td>0</td>\n",
       "    </tr>\n",
       "    <tr>\n",
       "      <th>44</th>\n",
       "      <td>2ndFlrSF</td>\n",
       "      <td>0</td>\n",
       "    </tr>\n",
       "    <tr>\n",
       "      <th>52</th>\n",
       "      <td>KitchenAbvGr</td>\n",
       "      <td>0</td>\n",
       "    </tr>\n",
       "    <tr>\n",
       "      <th>61</th>\n",
       "      <td>GarageCars</td>\n",
       "      <td>0</td>\n",
       "    </tr>\n",
       "    <tr>\n",
       "      <th>62</th>\n",
       "      <td>GarageArea</td>\n",
       "      <td>0</td>\n",
       "    </tr>\n",
       "    <tr>\n",
       "      <th>72</th>\n",
       "      <td>PoolQC</td>\n",
       "      <td>0</td>\n",
       "    </tr>\n",
       "    <tr>\n",
       "      <th>79</th>\n",
       "      <td>SaleCondition</td>\n",
       "      <td>0</td>\n",
       "    </tr>\n",
       "    <tr>\n",
       "      <th>78</th>\n",
       "      <td>SaleType</td>\n",
       "      <td>0</td>\n",
       "    </tr>\n",
       "    <tr>\n",
       "      <th>77</th>\n",
       "      <td>YrSold</td>\n",
       "      <td>0</td>\n",
       "    </tr>\n",
       "    <tr>\n",
       "      <th>76</th>\n",
       "      <td>MoSold</td>\n",
       "      <td>0</td>\n",
       "    </tr>\n",
       "    <tr>\n",
       "      <th>75</th>\n",
       "      <td>MiscVal</td>\n",
       "      <td>0</td>\n",
       "    </tr>\n",
       "    <tr>\n",
       "      <th>...</th>\n",
       "      <td>...</td>\n",
       "      <td>...</td>\n",
       "    </tr>\n",
       "    <tr>\n",
       "      <th>12</th>\n",
       "      <td>Neighborhood</td>\n",
       "      <td>0</td>\n",
       "    </tr>\n",
       "    <tr>\n",
       "      <th>10</th>\n",
       "      <td>LotConfig</td>\n",
       "      <td>0</td>\n",
       "    </tr>\n",
       "    <tr>\n",
       "      <th>1</th>\n",
       "      <td>MSSubClass</td>\n",
       "      <td>0</td>\n",
       "    </tr>\n",
       "    <tr>\n",
       "      <th>9</th>\n",
       "      <td>Utilities</td>\n",
       "      <td>0</td>\n",
       "    </tr>\n",
       "    <tr>\n",
       "      <th>8</th>\n",
       "      <td>LandContour</td>\n",
       "      <td>0</td>\n",
       "    </tr>\n",
       "    <tr>\n",
       "      <th>7</th>\n",
       "      <td>LotShape</td>\n",
       "      <td>0</td>\n",
       "    </tr>\n",
       "    <tr>\n",
       "      <th>6</th>\n",
       "      <td>Alley</td>\n",
       "      <td>0</td>\n",
       "    </tr>\n",
       "    <tr>\n",
       "      <th>5</th>\n",
       "      <td>Street</td>\n",
       "      <td>0</td>\n",
       "    </tr>\n",
       "    <tr>\n",
       "      <th>4</th>\n",
       "      <td>LotArea</td>\n",
       "      <td>0</td>\n",
       "    </tr>\n",
       "    <tr>\n",
       "      <th>2</th>\n",
       "      <td>MSZoning</td>\n",
       "      <td>0</td>\n",
       "    </tr>\n",
       "    <tr>\n",
       "      <th>19</th>\n",
       "      <td>YearBuilt</td>\n",
       "      <td>0</td>\n",
       "    </tr>\n",
       "    <tr>\n",
       "      <th>20</th>\n",
       "      <td>YearRemodAdd</td>\n",
       "      <td>0</td>\n",
       "    </tr>\n",
       "    <tr>\n",
       "      <th>21</th>\n",
       "      <td>RoofStyle</td>\n",
       "      <td>0</td>\n",
       "    </tr>\n",
       "    <tr>\n",
       "      <th>22</th>\n",
       "      <td>RoofMatl</td>\n",
       "      <td>0</td>\n",
       "    </tr>\n",
       "    <tr>\n",
       "      <th>39</th>\n",
       "      <td>Heating</td>\n",
       "      <td>0</td>\n",
       "    </tr>\n",
       "    <tr>\n",
       "      <th>38</th>\n",
       "      <td>TotalBsmtSF</td>\n",
       "      <td>0</td>\n",
       "    </tr>\n",
       "    <tr>\n",
       "      <th>37</th>\n",
       "      <td>BsmtUnfSF</td>\n",
       "      <td>0</td>\n",
       "    </tr>\n",
       "    <tr>\n",
       "      <th>36</th>\n",
       "      <td>BsmtFinSF2</td>\n",
       "      <td>0</td>\n",
       "    </tr>\n",
       "    <tr>\n",
       "      <th>35</th>\n",
       "      <td>BsmtFinType2</td>\n",
       "      <td>0</td>\n",
       "    </tr>\n",
       "    <tr>\n",
       "      <th>34</th>\n",
       "      <td>BsmtFinSF1</td>\n",
       "      <td>0</td>\n",
       "    </tr>\n",
       "    <tr>\n",
       "      <th>33</th>\n",
       "      <td>BsmtFinType1</td>\n",
       "      <td>0</td>\n",
       "    </tr>\n",
       "    <tr>\n",
       "      <th>32</th>\n",
       "      <td>BsmtExposure</td>\n",
       "      <td>0</td>\n",
       "    </tr>\n",
       "    <tr>\n",
       "      <th>31</th>\n",
       "      <td>BsmtCond</td>\n",
       "      <td>0</td>\n",
       "    </tr>\n",
       "    <tr>\n",
       "      <th>30</th>\n",
       "      <td>BsmtQual</td>\n",
       "      <td>0</td>\n",
       "    </tr>\n",
       "    <tr>\n",
       "      <th>29</th>\n",
       "      <td>Foundation</td>\n",
       "      <td>0</td>\n",
       "    </tr>\n",
       "    <tr>\n",
       "      <th>28</th>\n",
       "      <td>ExterCond</td>\n",
       "      <td>0</td>\n",
       "    </tr>\n",
       "    <tr>\n",
       "      <th>27</th>\n",
       "      <td>ExterQual</td>\n",
       "      <td>0</td>\n",
       "    </tr>\n",
       "    <tr>\n",
       "      <th>24</th>\n",
       "      <td>Exterior2nd</td>\n",
       "      <td>0</td>\n",
       "    </tr>\n",
       "    <tr>\n",
       "      <th>23</th>\n",
       "      <td>Exterior1st</td>\n",
       "      <td>0</td>\n",
       "    </tr>\n",
       "    <tr>\n",
       "      <th>80</th>\n",
       "      <td>SalePrice</td>\n",
       "      <td>0</td>\n",
       "    </tr>\n",
       "  </tbody>\n",
       "</table>\n",
       "<p>81 rows × 2 columns</p>\n",
       "</div>"
      ],
      "text/plain": [
       "            index  Number of NaN values\n",
       "3     LotFrontage                   259\n",
       "59    GarageYrBlt                    81\n",
       "25     MasVnrType                     8\n",
       "26     MasVnrArea                     8\n",
       "42     Electrical                     1\n",
       "53    KitchenQual                     0\n",
       "58     GarageType                     0\n",
       "57    FireplaceQu                     0\n",
       "56     Fireplaces                     0\n",
       "55     Functional                     0\n",
       "54   TotRmsAbvGrd                     0\n",
       "0              Id                     0\n",
       "60   GarageFinish                     0\n",
       "51   BedroomAbvGr                     0\n",
       "50       HalfBath                     0\n",
       "49       FullBath                     0\n",
       "48   BsmtHalfBath                     0\n",
       "47   BsmtFullBath                     0\n",
       "46      GrLivArea                     0\n",
       "45   LowQualFinSF                     0\n",
       "44       2ndFlrSF                     0\n",
       "52   KitchenAbvGr                     0\n",
       "61     GarageCars                     0\n",
       "62     GarageArea                     0\n",
       "72         PoolQC                     0\n",
       "79  SaleCondition                     0\n",
       "78       SaleType                     0\n",
       "77         YrSold                     0\n",
       "76         MoSold                     0\n",
       "75        MiscVal                     0\n",
       "..            ...                   ...\n",
       "12   Neighborhood                     0\n",
       "10      LotConfig                     0\n",
       "1      MSSubClass                     0\n",
       "9       Utilities                     0\n",
       "8     LandContour                     0\n",
       "7        LotShape                     0\n",
       "6           Alley                     0\n",
       "5          Street                     0\n",
       "4         LotArea                     0\n",
       "2        MSZoning                     0\n",
       "19      YearBuilt                     0\n",
       "20   YearRemodAdd                     0\n",
       "21      RoofStyle                     0\n",
       "22       RoofMatl                     0\n",
       "39        Heating                     0\n",
       "38    TotalBsmtSF                     0\n",
       "37      BsmtUnfSF                     0\n",
       "36     BsmtFinSF2                     0\n",
       "35   BsmtFinType2                     0\n",
       "34     BsmtFinSF1                     0\n",
       "33   BsmtFinType1                     0\n",
       "32   BsmtExposure                     0\n",
       "31       BsmtCond                     0\n",
       "30       BsmtQual                     0\n",
       "29     Foundation                     0\n",
       "28      ExterCond                     0\n",
       "27      ExterQual                     0\n",
       "24    Exterior2nd                     0\n",
       "23    Exterior1st                     0\n",
       "80      SalePrice                     0\n",
       "\n",
       "[81 rows x 2 columns]"
      ]
     },
     "execution_count": 21,
     "metadata": {},
     "output_type": "execute_result"
    }
   ],
   "source": [
    "# Checking the columns having most number of missing values\n",
    "df.isnull().sum().reset_index().rename({0:'Number of NaN values'},axis=1).sort_values('Number of NaN values',ascending=False)"
   ]
  },
  {
   "cell_type": "code",
   "execution_count": 22,
   "metadata": {},
   "outputs": [
    {
     "data": {
      "text/plain": [
       "Id                0.00\n",
       "MSSubClass        0.00\n",
       "MSZoning          0.00\n",
       "LotFrontage      17.74\n",
       "LotArea           0.00\n",
       "Street            0.00\n",
       "Alley             0.00\n",
       "LotShape          0.00\n",
       "LandContour       0.00\n",
       "Utilities         0.00\n",
       "LotConfig         0.00\n",
       "LandSlope         0.00\n",
       "Neighborhood      0.00\n",
       "Condition1        0.00\n",
       "Condition2        0.00\n",
       "BldgType          0.00\n",
       "HouseStyle        0.00\n",
       "OverallQual       0.00\n",
       "OverallCond       0.00\n",
       "YearBuilt         0.00\n",
       "YearRemodAdd      0.00\n",
       "RoofStyle         0.00\n",
       "RoofMatl          0.00\n",
       "Exterior1st       0.00\n",
       "Exterior2nd       0.00\n",
       "MasVnrType        0.55\n",
       "MasVnrArea        0.55\n",
       "ExterQual         0.00\n",
       "ExterCond         0.00\n",
       "Foundation        0.00\n",
       "                 ...  \n",
       "BedroomAbvGr      0.00\n",
       "KitchenAbvGr      0.00\n",
       "KitchenQual       0.00\n",
       "TotRmsAbvGrd      0.00\n",
       "Functional        0.00\n",
       "Fireplaces        0.00\n",
       "FireplaceQu       0.00\n",
       "GarageType        0.00\n",
       "GarageYrBlt       5.55\n",
       "GarageFinish      0.00\n",
       "GarageCars        0.00\n",
       "GarageArea        0.00\n",
       "GarageQual        0.00\n",
       "GarageCond        0.00\n",
       "PavedDrive        0.00\n",
       "WoodDeckSF        0.00\n",
       "OpenPorchSF       0.00\n",
       "EnclosedPorch     0.00\n",
       "3SsnPorch         0.00\n",
       "ScreenPorch       0.00\n",
       "PoolArea          0.00\n",
       "PoolQC            0.00\n",
       "Fence             0.00\n",
       "MiscFeature       0.00\n",
       "MiscVal           0.00\n",
       "MoSold            0.00\n",
       "YrSold            0.00\n",
       "SaleType          0.00\n",
       "SaleCondition     0.00\n",
       "SalePrice         0.00\n",
       "Length: 81, dtype: float64"
      ]
     },
     "execution_count": 22,
     "metadata": {},
     "output_type": "execute_result"
    }
   ],
   "source": [
    "# Percentage of missing values column-wise\n",
    "round(df.isnull().sum()/len(df.index)*100,2)"
   ]
  },
  {
   "cell_type": "markdown",
   "metadata": {},
   "source": [
    "### Imputing Missing values\n"
   ]
  },
  {
   "cell_type": "markdown",
   "metadata": {},
   "source": [
    "### Lot Frontage\n"
   ]
  },
  {
   "cell_type": "code",
   "execution_count": 23,
   "metadata": {},
   "outputs": [
    {
     "data": {
      "text/plain": [
       "69.0"
      ]
     },
     "execution_count": 23,
     "metadata": {},
     "output_type": "execute_result"
    }
   ],
   "source": [
    "df['LotFrontage'].median()"
   ]
  },
  {
   "cell_type": "code",
   "execution_count": 24,
   "metadata": {},
   "outputs": [],
   "source": [
    "df['LotFrontage'] = df['LotFrontage'].fillna(df['LotFrontage'].mean())"
   ]
  },
  {
   "cell_type": "markdown",
   "metadata": {},
   "source": [
    "### GarageYrBlt"
   ]
  },
  {
   "cell_type": "code",
   "execution_count": 25,
   "metadata": {},
   "outputs": [],
   "source": [
    "df['GarageYrBlt'].median()\n",
    "df['GarageYrBlt'] = df['GarageYrBlt'].fillna(df['GarageYrBlt'].median())"
   ]
  },
  {
   "cell_type": "markdown",
   "metadata": {},
   "source": [
    "### MasVnrType"
   ]
  },
  {
   "cell_type": "code",
   "execution_count": 26,
   "metadata": {},
   "outputs": [
    {
     "data": {
      "text/plain": [
       "None       872\n",
       "BrkFace    445\n",
       "Stone      128\n",
       "BrkCmn      15\n",
       "Name: MasVnrType, dtype: int64"
      ]
     },
     "execution_count": 26,
     "metadata": {},
     "output_type": "execute_result"
    }
   ],
   "source": [
    "\n",
    "df['MasVnrType'] = df['MasVnrType'].fillna('None')\n",
    "df['MasVnrType'].value_counts()"
   ]
  },
  {
   "cell_type": "markdown",
   "metadata": {},
   "source": [
    "### MasVnrArea"
   ]
  },
  {
   "cell_type": "code",
   "execution_count": 27,
   "metadata": {},
   "outputs": [],
   "source": [
    "df['MasVnrArea'].median()\n",
    "df['MasVnrArea'] = df['MasVnrArea'].fillna(df['MasVnrArea'].median())"
   ]
  },
  {
   "cell_type": "markdown",
   "metadata": {},
   "source": [
    "### Electrical"
   ]
  },
  {
   "cell_type": "code",
   "execution_count": 28,
   "metadata": {},
   "outputs": [
    {
     "data": {
      "text/plain": [
       "SBrkr    1335\n",
       "FuseA      94\n",
       "FuseF      27\n",
       "FuseP       3\n",
       "Mix         1\n",
       "Name: Electrical, dtype: int64"
      ]
     },
     "execution_count": 28,
     "metadata": {},
     "output_type": "execute_result"
    }
   ],
   "source": [
    "df['Electrical'] = df['Electrical'].fillna('SBrkr')\n",
    "df['Electrical'].value_counts()"
   ]
  },
  {
   "cell_type": "markdown",
   "metadata": {},
   "source": [
    "##### Again checking the missing values after imputing values"
   ]
  },
  {
   "cell_type": "code",
   "execution_count": 29,
   "metadata": {},
   "outputs": [
    {
     "data": {
      "text/plain": [
       "Id               0\n",
       "MSSubClass       0\n",
       "MSZoning         0\n",
       "LotFrontage      0\n",
       "LotArea          0\n",
       "Street           0\n",
       "Alley            0\n",
       "LotShape         0\n",
       "LandContour      0\n",
       "Utilities        0\n",
       "LotConfig        0\n",
       "LandSlope        0\n",
       "Neighborhood     0\n",
       "Condition1       0\n",
       "Condition2       0\n",
       "BldgType         0\n",
       "HouseStyle       0\n",
       "OverallQual      0\n",
       "OverallCond      0\n",
       "YearBuilt        0\n",
       "YearRemodAdd     0\n",
       "RoofStyle        0\n",
       "RoofMatl         0\n",
       "Exterior1st      0\n",
       "Exterior2nd      0\n",
       "MasVnrType       0\n",
       "MasVnrArea       0\n",
       "ExterQual        0\n",
       "ExterCond        0\n",
       "Foundation       0\n",
       "                ..\n",
       "BedroomAbvGr     0\n",
       "KitchenAbvGr     0\n",
       "KitchenQual      0\n",
       "TotRmsAbvGrd     0\n",
       "Functional       0\n",
       "Fireplaces       0\n",
       "FireplaceQu      0\n",
       "GarageType       0\n",
       "GarageYrBlt      0\n",
       "GarageFinish     0\n",
       "GarageCars       0\n",
       "GarageArea       0\n",
       "GarageQual       0\n",
       "GarageCond       0\n",
       "PavedDrive       0\n",
       "WoodDeckSF       0\n",
       "OpenPorchSF      0\n",
       "EnclosedPorch    0\n",
       "3SsnPorch        0\n",
       "ScreenPorch      0\n",
       "PoolArea         0\n",
       "PoolQC           0\n",
       "Fence            0\n",
       "MiscFeature      0\n",
       "MiscVal          0\n",
       "MoSold           0\n",
       "YrSold           0\n",
       "SaleType         0\n",
       "SaleCondition    0\n",
       "SalePrice        0\n",
       "Length: 81, dtype: int64"
      ]
     },
     "execution_count": 29,
     "metadata": {},
     "output_type": "execute_result"
    }
   ],
   "source": [
    "df.isnull().sum()"
   ]
  },
  {
   "cell_type": "markdown",
   "metadata": {},
   "source": [
    "###### After removing, imputing the missing rows it can be seen that no missing  values are left"
   ]
  },
  {
   "cell_type": "markdown",
   "metadata": {},
   "source": [
    "### Checking for Value_count"
   ]
  },
  {
   "cell_type": "code",
   "execution_count": 30,
   "metadata": {},
   "outputs": [
    {
     "data": {
      "text/html": [
       "<div>\n",
       "<style scoped>\n",
       "    .dataframe tbody tr th:only-of-type {\n",
       "        vertical-align: middle;\n",
       "    }\n",
       "\n",
       "    .dataframe tbody tr th {\n",
       "        vertical-align: top;\n",
       "    }\n",
       "\n",
       "    .dataframe thead th {\n",
       "        text-align: right;\n",
       "    }\n",
       "</style>\n",
       "<table border=\"1\" class=\"dataframe\">\n",
       "  <thead>\n",
       "    <tr style=\"text-align: right;\">\n",
       "      <th></th>\n",
       "      <th>MSSubClass</th>\n",
       "      <th>MSZoning</th>\n",
       "      <th>LotFrontage</th>\n",
       "      <th>LotArea</th>\n",
       "      <th>Street</th>\n",
       "      <th>Alley</th>\n",
       "      <th>LotShape</th>\n",
       "      <th>LandContour</th>\n",
       "      <th>Utilities</th>\n",
       "      <th>LotConfig</th>\n",
       "      <th>...</th>\n",
       "      <th>PoolArea</th>\n",
       "      <th>PoolQC</th>\n",
       "      <th>Fence</th>\n",
       "      <th>MiscFeature</th>\n",
       "      <th>MiscVal</th>\n",
       "      <th>MoSold</th>\n",
       "      <th>YrSold</th>\n",
       "      <th>SaleType</th>\n",
       "      <th>SaleCondition</th>\n",
       "      <th>SalePrice</th>\n",
       "    </tr>\n",
       "  </thead>\n",
       "  <tbody>\n",
       "    <tr>\n",
       "      <th>0</th>\n",
       "      <td>60</td>\n",
       "      <td>RL</td>\n",
       "      <td>65.0</td>\n",
       "      <td>8450</td>\n",
       "      <td>Pave</td>\n",
       "      <td>No Alley</td>\n",
       "      <td>Reg</td>\n",
       "      <td>Lvl</td>\n",
       "      <td>AllPub</td>\n",
       "      <td>Inside</td>\n",
       "      <td>...</td>\n",
       "      <td>0</td>\n",
       "      <td>No Pool</td>\n",
       "      <td>No Fence</td>\n",
       "      <td>None</td>\n",
       "      <td>0</td>\n",
       "      <td>2</td>\n",
       "      <td>2008</td>\n",
       "      <td>WD</td>\n",
       "      <td>Normal</td>\n",
       "      <td>208500</td>\n",
       "    </tr>\n",
       "    <tr>\n",
       "      <th>1</th>\n",
       "      <td>20</td>\n",
       "      <td>RL</td>\n",
       "      <td>80.0</td>\n",
       "      <td>9600</td>\n",
       "      <td>Pave</td>\n",
       "      <td>No Alley</td>\n",
       "      <td>Reg</td>\n",
       "      <td>Lvl</td>\n",
       "      <td>AllPub</td>\n",
       "      <td>FR2</td>\n",
       "      <td>...</td>\n",
       "      <td>0</td>\n",
       "      <td>No Pool</td>\n",
       "      <td>No Fence</td>\n",
       "      <td>None</td>\n",
       "      <td>0</td>\n",
       "      <td>5</td>\n",
       "      <td>2007</td>\n",
       "      <td>WD</td>\n",
       "      <td>Normal</td>\n",
       "      <td>181500</td>\n",
       "    </tr>\n",
       "    <tr>\n",
       "      <th>2</th>\n",
       "      <td>60</td>\n",
       "      <td>RL</td>\n",
       "      <td>68.0</td>\n",
       "      <td>11250</td>\n",
       "      <td>Pave</td>\n",
       "      <td>No Alley</td>\n",
       "      <td>IR1</td>\n",
       "      <td>Lvl</td>\n",
       "      <td>AllPub</td>\n",
       "      <td>Inside</td>\n",
       "      <td>...</td>\n",
       "      <td>0</td>\n",
       "      <td>No Pool</td>\n",
       "      <td>No Fence</td>\n",
       "      <td>None</td>\n",
       "      <td>0</td>\n",
       "      <td>9</td>\n",
       "      <td>2008</td>\n",
       "      <td>WD</td>\n",
       "      <td>Normal</td>\n",
       "      <td>223500</td>\n",
       "    </tr>\n",
       "    <tr>\n",
       "      <th>3</th>\n",
       "      <td>70</td>\n",
       "      <td>RL</td>\n",
       "      <td>60.0</td>\n",
       "      <td>9550</td>\n",
       "      <td>Pave</td>\n",
       "      <td>No Alley</td>\n",
       "      <td>IR1</td>\n",
       "      <td>Lvl</td>\n",
       "      <td>AllPub</td>\n",
       "      <td>Corner</td>\n",
       "      <td>...</td>\n",
       "      <td>0</td>\n",
       "      <td>No Pool</td>\n",
       "      <td>No Fence</td>\n",
       "      <td>None</td>\n",
       "      <td>0</td>\n",
       "      <td>2</td>\n",
       "      <td>2006</td>\n",
       "      <td>WD</td>\n",
       "      <td>Abnorml</td>\n",
       "      <td>140000</td>\n",
       "    </tr>\n",
       "    <tr>\n",
       "      <th>4</th>\n",
       "      <td>60</td>\n",
       "      <td>RL</td>\n",
       "      <td>84.0</td>\n",
       "      <td>14260</td>\n",
       "      <td>Pave</td>\n",
       "      <td>No Alley</td>\n",
       "      <td>IR1</td>\n",
       "      <td>Lvl</td>\n",
       "      <td>AllPub</td>\n",
       "      <td>FR2</td>\n",
       "      <td>...</td>\n",
       "      <td>0</td>\n",
       "      <td>No Pool</td>\n",
       "      <td>No Fence</td>\n",
       "      <td>None</td>\n",
       "      <td>0</td>\n",
       "      <td>12</td>\n",
       "      <td>2008</td>\n",
       "      <td>WD</td>\n",
       "      <td>Normal</td>\n",
       "      <td>250000</td>\n",
       "    </tr>\n",
       "  </tbody>\n",
       "</table>\n",
       "<p>5 rows × 80 columns</p>\n",
       "</div>"
      ],
      "text/plain": [
       "   MSSubClass MSZoning  LotFrontage  LotArea Street     Alley LotShape  \\\n",
       "0          60       RL         65.0     8450   Pave  No Alley      Reg   \n",
       "1          20       RL         80.0     9600   Pave  No Alley      Reg   \n",
       "2          60       RL         68.0    11250   Pave  No Alley      IR1   \n",
       "3          70       RL         60.0     9550   Pave  No Alley      IR1   \n",
       "4          60       RL         84.0    14260   Pave  No Alley      IR1   \n",
       "\n",
       "  LandContour Utilities LotConfig  ... PoolArea   PoolQC     Fence  \\\n",
       "0         Lvl    AllPub    Inside  ...        0  No Pool  No Fence   \n",
       "1         Lvl    AllPub       FR2  ...        0  No Pool  No Fence   \n",
       "2         Lvl    AllPub    Inside  ...        0  No Pool  No Fence   \n",
       "3         Lvl    AllPub    Corner  ...        0  No Pool  No Fence   \n",
       "4         Lvl    AllPub       FR2  ...        0  No Pool  No Fence   \n",
       "\n",
       "  MiscFeature MiscVal MoSold  YrSold  SaleType  SaleCondition  SalePrice  \n",
       "0        None       0      2    2008        WD         Normal     208500  \n",
       "1        None       0      5    2007        WD         Normal     181500  \n",
       "2        None       0      9    2008        WD         Normal     223500  \n",
       "3        None       0      2    2006        WD        Abnorml     140000  \n",
       "4        None       0     12    2008        WD         Normal     250000  \n",
       "\n",
       "[5 rows x 80 columns]"
      ]
     },
     "execution_count": 30,
     "metadata": {},
     "output_type": "execute_result"
    }
   ],
   "source": [
    "# Dropping the ID column\n",
    "df = df.drop('Id', axis = 1)\n",
    "df.head()"
   ]
  },
  {
   "cell_type": "markdown",
   "metadata": {},
   "source": [
    "### MSSubClass"
   ]
  },
  {
   "cell_type": "code",
   "execution_count": 31,
   "metadata": {},
   "outputs": [
    {
     "data": {
      "text/plain": [
       "20     536\n",
       "60     299\n",
       "50     144\n",
       "120     87\n",
       "30      69\n",
       "160     63\n",
       "70      60\n",
       "80      58\n",
       "90      52\n",
       "190     30\n",
       "85      20\n",
       "75      16\n",
       "45      12\n",
       "180     10\n",
       "40       4\n",
       "Name: MSSubClass, dtype: int64"
      ]
     },
     "execution_count": 31,
     "metadata": {},
     "output_type": "execute_result"
    }
   ],
   "source": [
    "df['MSSubClass'].value_counts()"
   ]
  },
  {
   "cell_type": "markdown",
   "metadata": {},
   "source": [
    "### MSZoning"
   ]
  },
  {
   "cell_type": "code",
   "execution_count": 32,
   "metadata": {},
   "outputs": [
    {
     "data": {
      "text/plain": [
       "RL         1151\n",
       "RM          218\n",
       "FV           65\n",
       "RH           16\n",
       "C (all)      10\n",
       "Name: MSZoning, dtype: int64"
      ]
     },
     "execution_count": 32,
     "metadata": {},
     "output_type": "execute_result"
    }
   ],
   "source": [
    "df['MSZoning'].value_counts()"
   ]
  },
  {
   "cell_type": "markdown",
   "metadata": {},
   "source": [
    "### Street\n"
   ]
  },
  {
   "cell_type": "code",
   "execution_count": 33,
   "metadata": {},
   "outputs": [
    {
     "data": {
      "text/plain": [
       "Pave    1454\n",
       "Grvl       6\n",
       "Name: Street, dtype: int64"
      ]
     },
     "execution_count": 33,
     "metadata": {},
     "output_type": "execute_result"
    }
   ],
   "source": [
    "df['Street'].value_counts()"
   ]
  },
  {
   "cell_type": "markdown",
   "metadata": {},
   "source": [
    "### Alley"
   ]
  },
  {
   "cell_type": "code",
   "execution_count": 34,
   "metadata": {},
   "outputs": [
    {
     "data": {
      "text/plain": [
       "No Alley    1369\n",
       "Grvl          50\n",
       "Pave          41\n",
       "Name: Alley, dtype: int64"
      ]
     },
     "execution_count": 34,
     "metadata": {},
     "output_type": "execute_result"
    }
   ],
   "source": [
    "df['Alley'].value_counts()"
   ]
  },
  {
   "cell_type": "markdown",
   "metadata": {},
   "source": [
    "### LotShape"
   ]
  },
  {
   "cell_type": "code",
   "execution_count": 35,
   "metadata": {},
   "outputs": [
    {
     "data": {
      "text/plain": [
       "Reg    925\n",
       "IR1    484\n",
       "IR2     41\n",
       "IR3     10\n",
       "Name: LotShape, dtype: int64"
      ]
     },
     "execution_count": 35,
     "metadata": {},
     "output_type": "execute_result"
    }
   ],
   "source": [
    "df['LotShape'].value_counts()"
   ]
  },
  {
   "cell_type": "markdown",
   "metadata": {},
   "source": [
    "### LandContour"
   ]
  },
  {
   "cell_type": "code",
   "execution_count": 36,
   "metadata": {},
   "outputs": [
    {
     "data": {
      "text/plain": [
       "Lvl    1311\n",
       "Bnk      63\n",
       "HLS      50\n",
       "Low      36\n",
       "Name: LandContour, dtype: int64"
      ]
     },
     "execution_count": 36,
     "metadata": {},
     "output_type": "execute_result"
    }
   ],
   "source": [
    "df['LandContour'].value_counts()"
   ]
  },
  {
   "cell_type": "markdown",
   "metadata": {},
   "source": [
    "### Utilities\n"
   ]
  },
  {
   "cell_type": "code",
   "execution_count": 37,
   "metadata": {},
   "outputs": [
    {
     "data": {
      "text/plain": [
       "AllPub    1459\n",
       "NoSeWa       1\n",
       "Name: Utilities, dtype: int64"
      ]
     },
     "execution_count": 37,
     "metadata": {},
     "output_type": "execute_result"
    }
   ],
   "source": [
    "df['Utilities'].value_counts()"
   ]
  },
  {
   "cell_type": "markdown",
   "metadata": {},
   "source": [
    "### LotConfig"
   ]
  },
  {
   "cell_type": "code",
   "execution_count": 38,
   "metadata": {},
   "outputs": [
    {
     "data": {
      "text/plain": [
       "Inside     1052\n",
       "Corner      263\n",
       "CulDSac      94\n",
       "FR2          47\n",
       "FR3           4\n",
       "Name: LotConfig, dtype: int64"
      ]
     },
     "execution_count": 38,
     "metadata": {},
     "output_type": "execute_result"
    }
   ],
   "source": [
    "df['LotConfig'].value_counts()"
   ]
  },
  {
   "cell_type": "markdown",
   "metadata": {},
   "source": [
    "### LandSlope"
   ]
  },
  {
   "cell_type": "code",
   "execution_count": 39,
   "metadata": {},
   "outputs": [
    {
     "data": {
      "text/plain": [
       "Gtl    1382\n",
       "Mod      65\n",
       "Sev      13\n",
       "Name: LandSlope, dtype: int64"
      ]
     },
     "execution_count": 39,
     "metadata": {},
     "output_type": "execute_result"
    }
   ],
   "source": [
    "df['LandSlope'].value_counts()"
   ]
  },
  {
   "cell_type": "markdown",
   "metadata": {},
   "source": [
    "### Neighborhood"
   ]
  },
  {
   "cell_type": "code",
   "execution_count": 40,
   "metadata": {},
   "outputs": [
    {
     "data": {
      "text/plain": [
       "NAmes      225\n",
       "CollgCr    150\n",
       "OldTown    113\n",
       "Edwards    100\n",
       "Somerst     86\n",
       "Gilbert     79\n",
       "NridgHt     77\n",
       "Sawyer      74\n",
       "NWAmes      73\n",
       "SawyerW     59\n",
       "BrkSide     58\n",
       "Crawfor     51\n",
       "Mitchel     49\n",
       "NoRidge     41\n",
       "Timber      38\n",
       "IDOTRR      37\n",
       "ClearCr     28\n",
       "SWISU       25\n",
       "StoneBr     25\n",
       "Blmngtn     17\n",
       "MeadowV     17\n",
       "BrDale      16\n",
       "Veenker     11\n",
       "NPkVill      9\n",
       "Blueste      2\n",
       "Name: Neighborhood, dtype: int64"
      ]
     },
     "execution_count": 40,
     "metadata": {},
     "output_type": "execute_result"
    }
   ],
   "source": [
    "df['Neighborhood'].value_counts()"
   ]
  },
  {
   "cell_type": "markdown",
   "metadata": {},
   "source": [
    "### Condition1"
   ]
  },
  {
   "cell_type": "code",
   "execution_count": 41,
   "metadata": {},
   "outputs": [
    {
     "data": {
      "text/plain": [
       "Norm      1260\n",
       "Feedr       81\n",
       "Artery      48\n",
       "RRAn        26\n",
       "PosN        19\n",
       "RRAe        11\n",
       "PosA         8\n",
       "RRNn         5\n",
       "RRNe         2\n",
       "Name: Condition1, dtype: int64"
      ]
     },
     "execution_count": 41,
     "metadata": {},
     "output_type": "execute_result"
    }
   ],
   "source": [
    "df['Condition1'].value_counts()"
   ]
  },
  {
   "cell_type": "markdown",
   "metadata": {},
   "source": [
    "### Condition 2"
   ]
  },
  {
   "cell_type": "code",
   "execution_count": 42,
   "metadata": {},
   "outputs": [
    {
     "data": {
      "text/plain": [
       "Norm      1445\n",
       "Feedr        6\n",
       "RRNn         2\n",
       "PosN         2\n",
       "Artery       2\n",
       "RRAe         1\n",
       "PosA         1\n",
       "RRAn         1\n",
       "Name: Condition2, dtype: int64"
      ]
     },
     "execution_count": 42,
     "metadata": {},
     "output_type": "execute_result"
    }
   ],
   "source": [
    "df['Condition2'].value_counts()"
   ]
  },
  {
   "cell_type": "markdown",
   "metadata": {},
   "source": [
    "### BldgType"
   ]
  },
  {
   "cell_type": "code",
   "execution_count": 43,
   "metadata": {},
   "outputs": [
    {
     "data": {
      "text/plain": [
       "1Fam      1220\n",
       "TwnhsE     114\n",
       "Duplex      52\n",
       "Twnhs       43\n",
       "2fmCon      31\n",
       "Name: BldgType, dtype: int64"
      ]
     },
     "execution_count": 43,
     "metadata": {},
     "output_type": "execute_result"
    }
   ],
   "source": [
    "df['BldgType'].value_counts()"
   ]
  },
  {
   "cell_type": "markdown",
   "metadata": {},
   "source": [
    "### HouseStyle"
   ]
  },
  {
   "cell_type": "code",
   "execution_count": 44,
   "metadata": {},
   "outputs": [
    {
     "data": {
      "text/plain": [
       "1Story    726\n",
       "2Story    445\n",
       "1.5Fin    154\n",
       "SLvl       65\n",
       "SFoyer     37\n",
       "1.5Unf     14\n",
       "2.5Unf     11\n",
       "2.5Fin      8\n",
       "Name: HouseStyle, dtype: int64"
      ]
     },
     "execution_count": 44,
     "metadata": {},
     "output_type": "execute_result"
    }
   ],
   "source": [
    "df['HouseStyle'].value_counts()"
   ]
  },
  {
   "cell_type": "markdown",
   "metadata": {},
   "source": [
    "### OverallQual"
   ]
  },
  {
   "cell_type": "code",
   "execution_count": 45,
   "metadata": {},
   "outputs": [
    {
     "data": {
      "text/plain": [
       "5     397\n",
       "6     374\n",
       "7     319\n",
       "8     168\n",
       "4     116\n",
       "9      43\n",
       "3      20\n",
       "10     18\n",
       "2       3\n",
       "1       2\n",
       "Name: OverallQual, dtype: int64"
      ]
     },
     "execution_count": 45,
     "metadata": {},
     "output_type": "execute_result"
    }
   ],
   "source": [
    "df['OverallQual'].value_counts()"
   ]
  },
  {
   "cell_type": "markdown",
   "metadata": {},
   "source": [
    "### OverallCond"
   ]
  },
  {
   "cell_type": "code",
   "execution_count": 46,
   "metadata": {},
   "outputs": [
    {
     "data": {
      "text/plain": [
       "5    821\n",
       "6    252\n",
       "7    205\n",
       "8     72\n",
       "4     57\n",
       "3     25\n",
       "9     22\n",
       "2      5\n",
       "1      1\n",
       "Name: OverallCond, dtype: int64"
      ]
     },
     "execution_count": 46,
     "metadata": {},
     "output_type": "execute_result"
    }
   ],
   "source": [
    "df['OverallCond'].value_counts()"
   ]
  },
  {
   "cell_type": "markdown",
   "metadata": {},
   "source": [
    "### RoofStyle"
   ]
  },
  {
   "cell_type": "code",
   "execution_count": 47,
   "metadata": {},
   "outputs": [
    {
     "data": {
      "text/plain": [
       "Gable      1141\n",
       "Hip         286\n",
       "Flat         13\n",
       "Gambrel      11\n",
       "Mansard       7\n",
       "Shed          2\n",
       "Name: RoofStyle, dtype: int64"
      ]
     },
     "execution_count": 47,
     "metadata": {},
     "output_type": "execute_result"
    }
   ],
   "source": [
    "df['RoofStyle'].value_counts()"
   ]
  },
  {
   "cell_type": "markdown",
   "metadata": {},
   "source": [
    "### RoofMatl"
   ]
  },
  {
   "cell_type": "code",
   "execution_count": 48,
   "metadata": {},
   "outputs": [
    {
     "data": {
      "text/plain": [
       "CompShg    1434\n",
       "Tar&Grv      11\n",
       "WdShngl       6\n",
       "WdShake       5\n",
       "Metal         1\n",
       "ClyTile       1\n",
       "Roll          1\n",
       "Membran       1\n",
       "Name: RoofMatl, dtype: int64"
      ]
     },
     "execution_count": 48,
     "metadata": {},
     "output_type": "execute_result"
    }
   ],
   "source": [
    "df['RoofMatl'].value_counts()"
   ]
  },
  {
   "cell_type": "markdown",
   "metadata": {},
   "source": [
    "### Exterior1st"
   ]
  },
  {
   "cell_type": "code",
   "execution_count": 49,
   "metadata": {},
   "outputs": [
    {
     "data": {
      "text/plain": [
       "VinylSd    515\n",
       "HdBoard    222\n",
       "MetalSd    220\n",
       "Wd Sdng    206\n",
       "Plywood    108\n",
       "CemntBd     61\n",
       "BrkFace     50\n",
       "WdShing     26\n",
       "Stucco      25\n",
       "AsbShng     20\n",
       "Stone        2\n",
       "BrkComm      2\n",
       "AsphShn      1\n",
       "CBlock       1\n",
       "ImStucc      1\n",
       "Name: Exterior1st, dtype: int64"
      ]
     },
     "execution_count": 49,
     "metadata": {},
     "output_type": "execute_result"
    }
   ],
   "source": [
    "df['Exterior1st'].value_counts()"
   ]
  },
  {
   "cell_type": "markdown",
   "metadata": {},
   "source": [
    "### Exterior2nd"
   ]
  },
  {
   "cell_type": "code",
   "execution_count": 50,
   "metadata": {},
   "outputs": [
    {
     "data": {
      "text/plain": [
       "VinylSd    504\n",
       "MetalSd    214\n",
       "HdBoard    207\n",
       "Wd Sdng    197\n",
       "Plywood    142\n",
       "CmentBd     60\n",
       "Wd Shng     38\n",
       "Stucco      26\n",
       "BrkFace     25\n",
       "AsbShng     20\n",
       "ImStucc     10\n",
       "Brk Cmn      7\n",
       "Stone        5\n",
       "AsphShn      3\n",
       "Other        1\n",
       "CBlock       1\n",
       "Name: Exterior2nd, dtype: int64"
      ]
     },
     "execution_count": 50,
     "metadata": {},
     "output_type": "execute_result"
    }
   ],
   "source": [
    "df['Exterior2nd'].value_counts()"
   ]
  },
  {
   "cell_type": "markdown",
   "metadata": {},
   "source": [
    "### MasVnrType"
   ]
  },
  {
   "cell_type": "code",
   "execution_count": 51,
   "metadata": {},
   "outputs": [
    {
     "data": {
      "text/plain": [
       "None       872\n",
       "BrkFace    445\n",
       "Stone      128\n",
       "BrkCmn      15\n",
       "Name: MasVnrType, dtype: int64"
      ]
     },
     "execution_count": 51,
     "metadata": {},
     "output_type": "execute_result"
    }
   ],
   "source": [
    "df['MasVnrType'].value_counts()"
   ]
  },
  {
   "cell_type": "markdown",
   "metadata": {},
   "source": [
    "### ExterQual"
   ]
  },
  {
   "cell_type": "code",
   "execution_count": 52,
   "metadata": {},
   "outputs": [
    {
     "data": {
      "text/plain": [
       "TA    906\n",
       "Gd    488\n",
       "Ex     52\n",
       "Fa     14\n",
       "Name: ExterQual, dtype: int64"
      ]
     },
     "execution_count": 52,
     "metadata": {},
     "output_type": "execute_result"
    }
   ],
   "source": [
    "df['ExterQual'].value_counts()"
   ]
  },
  {
   "cell_type": "markdown",
   "metadata": {},
   "source": [
    "### ExterCond"
   ]
  },
  {
   "cell_type": "code",
   "execution_count": 53,
   "metadata": {},
   "outputs": [
    {
     "data": {
      "text/plain": [
       "TA    1282\n",
       "Gd     146\n",
       "Fa      28\n",
       "Ex       3\n",
       "Po       1\n",
       "Name: ExterCond, dtype: int64"
      ]
     },
     "execution_count": 53,
     "metadata": {},
     "output_type": "execute_result"
    }
   ],
   "source": [
    "df['ExterCond'].value_counts()"
   ]
  },
  {
   "cell_type": "markdown",
   "metadata": {},
   "source": [
    "### Foundation"
   ]
  },
  {
   "cell_type": "code",
   "execution_count": 54,
   "metadata": {},
   "outputs": [
    {
     "data": {
      "text/plain": [
       "PConc     647\n",
       "CBlock    634\n",
       "BrkTil    146\n",
       "Slab       24\n",
       "Stone       6\n",
       "Wood        3\n",
       "Name: Foundation, dtype: int64"
      ]
     },
     "execution_count": 54,
     "metadata": {},
     "output_type": "execute_result"
    }
   ],
   "source": [
    "df['Foundation'].value_counts()"
   ]
  },
  {
   "cell_type": "markdown",
   "metadata": {},
   "source": [
    "### BsmtQual"
   ]
  },
  {
   "cell_type": "code",
   "execution_count": 55,
   "metadata": {},
   "outputs": [
    {
     "data": {
      "text/plain": [
       "TA           649\n",
       "Gd           618\n",
       "Ex           121\n",
       "No Garage     37\n",
       "Fa            35\n",
       "Name: BsmtQual, dtype: int64"
      ]
     },
     "execution_count": 55,
     "metadata": {},
     "output_type": "execute_result"
    }
   ],
   "source": [
    "df['BsmtQual'].value_counts()"
   ]
  },
  {
   "cell_type": "markdown",
   "metadata": {},
   "source": [
    "### BsmtCond"
   ]
  },
  {
   "cell_type": "code",
   "execution_count": 56,
   "metadata": {},
   "outputs": [
    {
     "data": {
      "text/plain": [
       "TA           1311\n",
       "Gd             65\n",
       "Fa             45\n",
       "No Garage      37\n",
       "Po              2\n",
       "Name: BsmtCond, dtype: int64"
      ]
     },
     "execution_count": 56,
     "metadata": {},
     "output_type": "execute_result"
    }
   ],
   "source": [
    "df['BsmtCond'].value_counts()"
   ]
  },
  {
   "cell_type": "markdown",
   "metadata": {},
   "source": [
    "### BsmtExposure"
   ]
  },
  {
   "cell_type": "code",
   "execution_count": 57,
   "metadata": {},
   "outputs": [
    {
     "data": {
      "text/plain": [
       "No           953\n",
       "Av           221\n",
       "Gd           134\n",
       "Mn           114\n",
       "No Garage     38\n",
       "Name: BsmtExposure, dtype: int64"
      ]
     },
     "execution_count": 57,
     "metadata": {},
     "output_type": "execute_result"
    }
   ],
   "source": [
    "df['BsmtExposure'].value_counts()"
   ]
  },
  {
   "cell_type": "markdown",
   "metadata": {},
   "source": [
    "### BsmtFinType1"
   ]
  },
  {
   "cell_type": "code",
   "execution_count": 58,
   "metadata": {},
   "outputs": [
    {
     "data": {
      "text/plain": [
       "Unf            430\n",
       "GLQ            418\n",
       "ALQ            220\n",
       "BLQ            148\n",
       "Rec            133\n",
       "LwQ             74\n",
       "No Basement     37\n",
       "Name: BsmtFinType1, dtype: int64"
      ]
     },
     "execution_count": 58,
     "metadata": {},
     "output_type": "execute_result"
    }
   ],
   "source": [
    "df['BsmtFinType1'].value_counts()"
   ]
  },
  {
   "cell_type": "markdown",
   "metadata": {},
   "source": [
    "### BsmtFinType2"
   ]
  },
  {
   "cell_type": "code",
   "execution_count": 59,
   "metadata": {},
   "outputs": [
    {
     "data": {
      "text/plain": [
       "Unf            1256\n",
       "Rec              54\n",
       "LwQ              46\n",
       "No Basement      38\n",
       "BLQ              33\n",
       "ALQ              19\n",
       "GLQ              14\n",
       "Name: BsmtFinType2, dtype: int64"
      ]
     },
     "execution_count": 59,
     "metadata": {},
     "output_type": "execute_result"
    }
   ],
   "source": [
    "df['BsmtFinType2'].value_counts()"
   ]
  },
  {
   "cell_type": "markdown",
   "metadata": {},
   "source": [
    "### Heating"
   ]
  },
  {
   "cell_type": "code",
   "execution_count": 60,
   "metadata": {},
   "outputs": [
    {
     "data": {
      "text/plain": [
       "GasA     1428\n",
       "GasW       18\n",
       "Grav        7\n",
       "Wall        4\n",
       "OthW        2\n",
       "Floor       1\n",
       "Name: Heating, dtype: int64"
      ]
     },
     "execution_count": 60,
     "metadata": {},
     "output_type": "execute_result"
    }
   ],
   "source": [
    "df['Heating'].value_counts()"
   ]
  },
  {
   "cell_type": "markdown",
   "metadata": {},
   "source": [
    "### HeatingQC"
   ]
  },
  {
   "cell_type": "code",
   "execution_count": 61,
   "metadata": {},
   "outputs": [
    {
     "data": {
      "text/plain": [
       "Ex    741\n",
       "TA    428\n",
       "Gd    241\n",
       "Fa     49\n",
       "Po      1\n",
       "Name: HeatingQC, dtype: int64"
      ]
     },
     "execution_count": 61,
     "metadata": {},
     "output_type": "execute_result"
    }
   ],
   "source": [
    "df['HeatingQC'].value_counts()"
   ]
  },
  {
   "cell_type": "markdown",
   "metadata": {},
   "source": [
    "### CentralAir"
   ]
  },
  {
   "cell_type": "code",
   "execution_count": 62,
   "metadata": {},
   "outputs": [
    {
     "data": {
      "text/plain": [
       "Y    1365\n",
       "N      95\n",
       "Name: CentralAir, dtype: int64"
      ]
     },
     "execution_count": 62,
     "metadata": {},
     "output_type": "execute_result"
    }
   ],
   "source": [
    "df['CentralAir'].value_counts()"
   ]
  },
  {
   "cell_type": "markdown",
   "metadata": {},
   "source": [
    "### Electrical"
   ]
  },
  {
   "cell_type": "code",
   "execution_count": 63,
   "metadata": {},
   "outputs": [
    {
     "data": {
      "text/plain": [
       "SBrkr    1335\n",
       "FuseA      94\n",
       "FuseF      27\n",
       "FuseP       3\n",
       "Mix         1\n",
       "Name: Electrical, dtype: int64"
      ]
     },
     "execution_count": 63,
     "metadata": {},
     "output_type": "execute_result"
    }
   ],
   "source": [
    "df['Electrical'].value_counts()"
   ]
  },
  {
   "cell_type": "markdown",
   "metadata": {},
   "source": [
    "### KitchenQual"
   ]
  },
  {
   "cell_type": "code",
   "execution_count": 64,
   "metadata": {},
   "outputs": [
    {
     "data": {
      "text/plain": [
       "TA    735\n",
       "Gd    586\n",
       "Ex    100\n",
       "Fa     39\n",
       "Name: KitchenQual, dtype: int64"
      ]
     },
     "execution_count": 64,
     "metadata": {},
     "output_type": "execute_result"
    }
   ],
   "source": [
    "df['KitchenQual'].value_counts()"
   ]
  },
  {
   "cell_type": "markdown",
   "metadata": {},
   "source": [
    "### Functional"
   ]
  },
  {
   "cell_type": "code",
   "execution_count": 65,
   "metadata": {},
   "outputs": [
    {
     "data": {
      "text/plain": [
       "Typ     1360\n",
       "Min2      34\n",
       "Min1      31\n",
       "Mod       15\n",
       "Maj1      14\n",
       "Maj2       5\n",
       "Sev        1\n",
       "Name: Functional, dtype: int64"
      ]
     },
     "execution_count": 65,
     "metadata": {},
     "output_type": "execute_result"
    }
   ],
   "source": [
    "df['Functional'].value_counts()"
   ]
  },
  {
   "cell_type": "markdown",
   "metadata": {},
   "source": [
    "### FireplaceQu"
   ]
  },
  {
   "cell_type": "code",
   "execution_count": 66,
   "metadata": {},
   "outputs": [
    {
     "data": {
      "text/plain": [
       "No Fireplace    690\n",
       "Gd              380\n",
       "TA              313\n",
       "Fa               33\n",
       "Ex               24\n",
       "Po               20\n",
       "Name: FireplaceQu, dtype: int64"
      ]
     },
     "execution_count": 66,
     "metadata": {},
     "output_type": "execute_result"
    }
   ],
   "source": [
    "df['FireplaceQu'].value_counts()"
   ]
  },
  {
   "cell_type": "markdown",
   "metadata": {},
   "source": [
    "### GarageType"
   ]
  },
  {
   "cell_type": "code",
   "execution_count": 67,
   "metadata": {},
   "outputs": [
    {
     "data": {
      "text/plain": [
       "Attchd       870\n",
       "Detchd       387\n",
       "BuiltIn       88\n",
       "No Garage     81\n",
       "Basment       19\n",
       "CarPort        9\n",
       "2Types         6\n",
       "Name: GarageType, dtype: int64"
      ]
     },
     "execution_count": 67,
     "metadata": {},
     "output_type": "execute_result"
    }
   ],
   "source": [
    "df['GarageType'].value_counts()"
   ]
  },
  {
   "cell_type": "markdown",
   "metadata": {},
   "source": [
    "### GarageFinish"
   ]
  },
  {
   "cell_type": "code",
   "execution_count": 68,
   "metadata": {},
   "outputs": [
    {
     "data": {
      "text/plain": [
       "Unf          605\n",
       "RFn          422\n",
       "Fin          352\n",
       "No Garage     81\n",
       "Name: GarageFinish, dtype: int64"
      ]
     },
     "execution_count": 68,
     "metadata": {},
     "output_type": "execute_result"
    }
   ],
   "source": [
    "df['GarageFinish'].value_counts()"
   ]
  },
  {
   "cell_type": "markdown",
   "metadata": {},
   "source": [
    "### GarageQual"
   ]
  },
  {
   "cell_type": "code",
   "execution_count": 69,
   "metadata": {},
   "outputs": [
    {
     "data": {
      "text/plain": [
       "TA           1311\n",
       "No Garage      81\n",
       "Fa             48\n",
       "Gd             14\n",
       "Po              3\n",
       "Ex              3\n",
       "Name: GarageQual, dtype: int64"
      ]
     },
     "execution_count": 69,
     "metadata": {},
     "output_type": "execute_result"
    }
   ],
   "source": [
    "df['GarageQual'].value_counts()"
   ]
  },
  {
   "cell_type": "markdown",
   "metadata": {},
   "source": [
    "### GarageCond"
   ]
  },
  {
   "cell_type": "code",
   "execution_count": 70,
   "metadata": {},
   "outputs": [
    {
     "data": {
      "text/plain": [
       "TA           1326\n",
       "No Garage      81\n",
       "Fa             35\n",
       "Gd              9\n",
       "Po              7\n",
       "Ex              2\n",
       "Name: GarageCond, dtype: int64"
      ]
     },
     "execution_count": 70,
     "metadata": {},
     "output_type": "execute_result"
    }
   ],
   "source": [
    "df['GarageCond'].value_counts()"
   ]
  },
  {
   "cell_type": "markdown",
   "metadata": {},
   "source": [
    "### PavedDrive"
   ]
  },
  {
   "cell_type": "code",
   "execution_count": 71,
   "metadata": {},
   "outputs": [
    {
     "data": {
      "text/plain": [
       "Y    1340\n",
       "N      90\n",
       "P      30\n",
       "Name: PavedDrive, dtype: int64"
      ]
     },
     "execution_count": 71,
     "metadata": {},
     "output_type": "execute_result"
    }
   ],
   "source": [
    "df['PavedDrive'].value_counts()"
   ]
  },
  {
   "cell_type": "markdown",
   "metadata": {},
   "source": [
    "### PoolQC"
   ]
  },
  {
   "cell_type": "code",
   "execution_count": 72,
   "metadata": {},
   "outputs": [
    {
     "data": {
      "text/plain": [
       "No Pool    1453\n",
       "Gd            3\n",
       "Ex            2\n",
       "Fa            2\n",
       "Name: PoolQC, dtype: int64"
      ]
     },
     "execution_count": 72,
     "metadata": {},
     "output_type": "execute_result"
    }
   ],
   "source": [
    "df['PoolQC'].value_counts()"
   ]
  },
  {
   "cell_type": "markdown",
   "metadata": {},
   "source": [
    "### Fence"
   ]
  },
  {
   "cell_type": "code",
   "execution_count": 73,
   "metadata": {},
   "outputs": [
    {
     "data": {
      "text/plain": [
       "No Fence    1179\n",
       "MnPrv        157\n",
       "GdPrv         59\n",
       "GdWo          54\n",
       "MnWw          11\n",
       "Name: Fence, dtype: int64"
      ]
     },
     "execution_count": 73,
     "metadata": {},
     "output_type": "execute_result"
    }
   ],
   "source": [
    "df['Fence'].value_counts()"
   ]
  },
  {
   "cell_type": "markdown",
   "metadata": {},
   "source": [
    "### MiscFeature"
   ]
  },
  {
   "cell_type": "code",
   "execution_count": 74,
   "metadata": {},
   "outputs": [
    {
     "data": {
      "text/plain": [
       "None    1406\n",
       "Shed      49\n",
       "Gar2       2\n",
       "Othr       2\n",
       "TenC       1\n",
       "Name: MiscFeature, dtype: int64"
      ]
     },
     "execution_count": 74,
     "metadata": {},
     "output_type": "execute_result"
    }
   ],
   "source": [
    "df['MiscFeature'].value_counts()"
   ]
  },
  {
   "cell_type": "markdown",
   "metadata": {},
   "source": [
    "### SaleType"
   ]
  },
  {
   "cell_type": "code",
   "execution_count": 75,
   "metadata": {},
   "outputs": [
    {
     "data": {
      "text/plain": [
       "WD       1267\n",
       "New       122\n",
       "COD        43\n",
       "ConLD       9\n",
       "ConLw       5\n",
       "ConLI       5\n",
       "CWD         4\n",
       "Oth         3\n",
       "Con         2\n",
       "Name: SaleType, dtype: int64"
      ]
     },
     "execution_count": 75,
     "metadata": {},
     "output_type": "execute_result"
    }
   ],
   "source": [
    "df['SaleType'].value_counts()"
   ]
  },
  {
   "cell_type": "markdown",
   "metadata": {},
   "source": [
    "### SaleCondition"
   ]
  },
  {
   "cell_type": "code",
   "execution_count": 76,
   "metadata": {},
   "outputs": [
    {
     "data": {
      "text/plain": [
       "Normal     1198\n",
       "Partial     125\n",
       "Abnorml     101\n",
       "Family       20\n",
       "Alloca       12\n",
       "AdjLand       4\n",
       "Name: SaleCondition, dtype: int64"
      ]
     },
     "execution_count": 76,
     "metadata": {},
     "output_type": "execute_result"
    }
   ],
   "source": [
    "df['SaleCondition'].value_counts()"
   ]
  },
  {
   "cell_type": "markdown",
   "metadata": {},
   "source": [
    "#####  Drop the  columns having only one predominant option, since it won't make any impact on the conversion rate."
   ]
  },
  {
   "cell_type": "code",
   "execution_count": 77,
   "metadata": {},
   "outputs": [
    {
     "data": {
      "text/plain": [
       "(1460, 67)"
      ]
     },
     "execution_count": 77,
     "metadata": {},
     "output_type": "execute_result"
    }
   ],
   "source": [
    "col_to_drop = ['Alley', 'Street', 'Utilities', 'LandSlope', 'Condition2', 'RoofMatl', 'Heating', 'CentralAir', 'Electrical', 'GarageCond', 'PavedDrive', 'PoolQC', 'MiscFeature']\n",
    "df = df.drop(col_to_drop, axis = 1)\n",
    "df.shape"
   ]
  },
  {
   "cell_type": "markdown",
   "metadata": {},
   "source": [
    "# Outliers"
   ]
  },
  {
   "cell_type": "code",
   "execution_count": 78,
   "metadata": {},
   "outputs": [
    {
     "data": {
      "text/html": [
       "<div>\n",
       "<style scoped>\n",
       "    .dataframe tbody tr th:only-of-type {\n",
       "        vertical-align: middle;\n",
       "    }\n",
       "\n",
       "    .dataframe tbody tr th {\n",
       "        vertical-align: top;\n",
       "    }\n",
       "\n",
       "    .dataframe thead th {\n",
       "        text-align: right;\n",
       "    }\n",
       "</style>\n",
       "<table border=\"1\" class=\"dataframe\">\n",
       "  <thead>\n",
       "    <tr style=\"text-align: right;\">\n",
       "      <th></th>\n",
       "      <th>MSSubClass</th>\n",
       "      <th>LotFrontage</th>\n",
       "      <th>LotArea</th>\n",
       "      <th>OverallQual</th>\n",
       "      <th>OverallCond</th>\n",
       "      <th>YearBuilt</th>\n",
       "      <th>YearRemodAdd</th>\n",
       "      <th>MasVnrArea</th>\n",
       "      <th>BsmtFinSF1</th>\n",
       "      <th>BsmtFinSF2</th>\n",
       "      <th>...</th>\n",
       "      <th>WoodDeckSF</th>\n",
       "      <th>OpenPorchSF</th>\n",
       "      <th>EnclosedPorch</th>\n",
       "      <th>3SsnPorch</th>\n",
       "      <th>ScreenPorch</th>\n",
       "      <th>PoolArea</th>\n",
       "      <th>MiscVal</th>\n",
       "      <th>MoSold</th>\n",
       "      <th>YrSold</th>\n",
       "      <th>SalePrice</th>\n",
       "    </tr>\n",
       "  </thead>\n",
       "  <tbody>\n",
       "    <tr>\n",
       "      <th>count</th>\n",
       "      <td>1460.000000</td>\n",
       "      <td>1460.000000</td>\n",
       "      <td>1460.000000</td>\n",
       "      <td>1460.000000</td>\n",
       "      <td>1460.000000</td>\n",
       "      <td>1460.000000</td>\n",
       "      <td>1460.000000</td>\n",
       "      <td>1460.000000</td>\n",
       "      <td>1460.000000</td>\n",
       "      <td>1460.000000</td>\n",
       "      <td>...</td>\n",
       "      <td>1460.000000</td>\n",
       "      <td>1460.000000</td>\n",
       "      <td>1460.000000</td>\n",
       "      <td>1460.000000</td>\n",
       "      <td>1460.000000</td>\n",
       "      <td>1460.000000</td>\n",
       "      <td>1460.000000</td>\n",
       "      <td>1460.000000</td>\n",
       "      <td>1460.000000</td>\n",
       "      <td>1460.000000</td>\n",
       "    </tr>\n",
       "    <tr>\n",
       "      <th>mean</th>\n",
       "      <td>56.897260</td>\n",
       "      <td>70.049958</td>\n",
       "      <td>10516.828082</td>\n",
       "      <td>6.099315</td>\n",
       "      <td>5.575342</td>\n",
       "      <td>1971.267808</td>\n",
       "      <td>1984.865753</td>\n",
       "      <td>103.117123</td>\n",
       "      <td>443.639726</td>\n",
       "      <td>46.549315</td>\n",
       "      <td>...</td>\n",
       "      <td>94.244521</td>\n",
       "      <td>46.660274</td>\n",
       "      <td>21.954110</td>\n",
       "      <td>3.409589</td>\n",
       "      <td>15.060959</td>\n",
       "      <td>2.758904</td>\n",
       "      <td>43.489041</td>\n",
       "      <td>6.321918</td>\n",
       "      <td>2007.815753</td>\n",
       "      <td>180921.195890</td>\n",
       "    </tr>\n",
       "    <tr>\n",
       "      <th>std</th>\n",
       "      <td>42.300571</td>\n",
       "      <td>22.024023</td>\n",
       "      <td>9981.264932</td>\n",
       "      <td>1.382997</td>\n",
       "      <td>1.112799</td>\n",
       "      <td>30.202904</td>\n",
       "      <td>20.645407</td>\n",
       "      <td>180.731373</td>\n",
       "      <td>456.098091</td>\n",
       "      <td>161.319273</td>\n",
       "      <td>...</td>\n",
       "      <td>125.338794</td>\n",
       "      <td>66.256028</td>\n",
       "      <td>61.119149</td>\n",
       "      <td>29.317331</td>\n",
       "      <td>55.757415</td>\n",
       "      <td>40.177307</td>\n",
       "      <td>496.123024</td>\n",
       "      <td>2.703626</td>\n",
       "      <td>1.328095</td>\n",
       "      <td>79442.502883</td>\n",
       "    </tr>\n",
       "    <tr>\n",
       "      <th>min</th>\n",
       "      <td>20.000000</td>\n",
       "      <td>21.000000</td>\n",
       "      <td>1300.000000</td>\n",
       "      <td>1.000000</td>\n",
       "      <td>1.000000</td>\n",
       "      <td>1872.000000</td>\n",
       "      <td>1950.000000</td>\n",
       "      <td>0.000000</td>\n",
       "      <td>0.000000</td>\n",
       "      <td>0.000000</td>\n",
       "      <td>...</td>\n",
       "      <td>0.000000</td>\n",
       "      <td>0.000000</td>\n",
       "      <td>0.000000</td>\n",
       "      <td>0.000000</td>\n",
       "      <td>0.000000</td>\n",
       "      <td>0.000000</td>\n",
       "      <td>0.000000</td>\n",
       "      <td>1.000000</td>\n",
       "      <td>2006.000000</td>\n",
       "      <td>34900.000000</td>\n",
       "    </tr>\n",
       "    <tr>\n",
       "      <th>25%</th>\n",
       "      <td>20.000000</td>\n",
       "      <td>60.000000</td>\n",
       "      <td>7553.500000</td>\n",
       "      <td>5.000000</td>\n",
       "      <td>5.000000</td>\n",
       "      <td>1954.000000</td>\n",
       "      <td>1967.000000</td>\n",
       "      <td>0.000000</td>\n",
       "      <td>0.000000</td>\n",
       "      <td>0.000000</td>\n",
       "      <td>...</td>\n",
       "      <td>0.000000</td>\n",
       "      <td>0.000000</td>\n",
       "      <td>0.000000</td>\n",
       "      <td>0.000000</td>\n",
       "      <td>0.000000</td>\n",
       "      <td>0.000000</td>\n",
       "      <td>0.000000</td>\n",
       "      <td>5.000000</td>\n",
       "      <td>2007.000000</td>\n",
       "      <td>129975.000000</td>\n",
       "    </tr>\n",
       "    <tr>\n",
       "      <th>50%</th>\n",
       "      <td>50.000000</td>\n",
       "      <td>70.049958</td>\n",
       "      <td>9478.500000</td>\n",
       "      <td>6.000000</td>\n",
       "      <td>5.000000</td>\n",
       "      <td>1973.000000</td>\n",
       "      <td>1994.000000</td>\n",
       "      <td>0.000000</td>\n",
       "      <td>383.500000</td>\n",
       "      <td>0.000000</td>\n",
       "      <td>...</td>\n",
       "      <td>0.000000</td>\n",
       "      <td>25.000000</td>\n",
       "      <td>0.000000</td>\n",
       "      <td>0.000000</td>\n",
       "      <td>0.000000</td>\n",
       "      <td>0.000000</td>\n",
       "      <td>0.000000</td>\n",
       "      <td>6.000000</td>\n",
       "      <td>2008.000000</td>\n",
       "      <td>163000.000000</td>\n",
       "    </tr>\n",
       "    <tr>\n",
       "      <th>75%</th>\n",
       "      <td>70.000000</td>\n",
       "      <td>79.000000</td>\n",
       "      <td>11601.500000</td>\n",
       "      <td>7.000000</td>\n",
       "      <td>6.000000</td>\n",
       "      <td>2000.000000</td>\n",
       "      <td>2004.000000</td>\n",
       "      <td>164.250000</td>\n",
       "      <td>712.250000</td>\n",
       "      <td>0.000000</td>\n",
       "      <td>...</td>\n",
       "      <td>168.000000</td>\n",
       "      <td>68.000000</td>\n",
       "      <td>0.000000</td>\n",
       "      <td>0.000000</td>\n",
       "      <td>0.000000</td>\n",
       "      <td>0.000000</td>\n",
       "      <td>0.000000</td>\n",
       "      <td>8.000000</td>\n",
       "      <td>2009.000000</td>\n",
       "      <td>214000.000000</td>\n",
       "    </tr>\n",
       "    <tr>\n",
       "      <th>90%</th>\n",
       "      <td>120.000000</td>\n",
       "      <td>92.000000</td>\n",
       "      <td>14381.700000</td>\n",
       "      <td>8.000000</td>\n",
       "      <td>7.000000</td>\n",
       "      <td>2006.000000</td>\n",
       "      <td>2006.000000</td>\n",
       "      <td>335.000000</td>\n",
       "      <td>1065.500000</td>\n",
       "      <td>117.200000</td>\n",
       "      <td>...</td>\n",
       "      <td>262.000000</td>\n",
       "      <td>130.000000</td>\n",
       "      <td>112.000000</td>\n",
       "      <td>0.000000</td>\n",
       "      <td>0.000000</td>\n",
       "      <td>0.000000</td>\n",
       "      <td>0.000000</td>\n",
       "      <td>10.000000</td>\n",
       "      <td>2010.000000</td>\n",
       "      <td>278000.000000</td>\n",
       "    </tr>\n",
       "    <tr>\n",
       "      <th>95%</th>\n",
       "      <td>160.000000</td>\n",
       "      <td>104.000000</td>\n",
       "      <td>17401.150000</td>\n",
       "      <td>8.000000</td>\n",
       "      <td>8.000000</td>\n",
       "      <td>2007.000000</td>\n",
       "      <td>2007.000000</td>\n",
       "      <td>456.000000</td>\n",
       "      <td>1274.000000</td>\n",
       "      <td>396.200000</td>\n",
       "      <td>...</td>\n",
       "      <td>335.000000</td>\n",
       "      <td>175.050000</td>\n",
       "      <td>180.150000</td>\n",
       "      <td>0.000000</td>\n",
       "      <td>160.000000</td>\n",
       "      <td>0.000000</td>\n",
       "      <td>0.000000</td>\n",
       "      <td>11.000000</td>\n",
       "      <td>2010.000000</td>\n",
       "      <td>326100.000000</td>\n",
       "    </tr>\n",
       "    <tr>\n",
       "      <th>99%</th>\n",
       "      <td>190.000000</td>\n",
       "      <td>137.410000</td>\n",
       "      <td>37567.640000</td>\n",
       "      <td>10.000000</td>\n",
       "      <td>9.000000</td>\n",
       "      <td>2009.000000</td>\n",
       "      <td>2009.000000</td>\n",
       "      <td>791.280000</td>\n",
       "      <td>1572.410000</td>\n",
       "      <td>830.380000</td>\n",
       "      <td>...</td>\n",
       "      <td>505.460000</td>\n",
       "      <td>285.820000</td>\n",
       "      <td>261.050000</td>\n",
       "      <td>168.000000</td>\n",
       "      <td>268.050000</td>\n",
       "      <td>0.000000</td>\n",
       "      <td>700.000000</td>\n",
       "      <td>12.000000</td>\n",
       "      <td>2010.000000</td>\n",
       "      <td>442567.010000</td>\n",
       "    </tr>\n",
       "    <tr>\n",
       "      <th>max</th>\n",
       "      <td>190.000000</td>\n",
       "      <td>313.000000</td>\n",
       "      <td>215245.000000</td>\n",
       "      <td>10.000000</td>\n",
       "      <td>9.000000</td>\n",
       "      <td>2010.000000</td>\n",
       "      <td>2010.000000</td>\n",
       "      <td>1600.000000</td>\n",
       "      <td>5644.000000</td>\n",
       "      <td>1474.000000</td>\n",
       "      <td>...</td>\n",
       "      <td>857.000000</td>\n",
       "      <td>547.000000</td>\n",
       "      <td>552.000000</td>\n",
       "      <td>508.000000</td>\n",
       "      <td>480.000000</td>\n",
       "      <td>738.000000</td>\n",
       "      <td>15500.000000</td>\n",
       "      <td>12.000000</td>\n",
       "      <td>2010.000000</td>\n",
       "      <td>755000.000000</td>\n",
       "    </tr>\n",
       "  </tbody>\n",
       "</table>\n",
       "<p>11 rows × 37 columns</p>\n",
       "</div>"
      ],
      "text/plain": [
       "        MSSubClass  LotFrontage        LotArea  OverallQual  OverallCond  \\\n",
       "count  1460.000000  1460.000000    1460.000000  1460.000000  1460.000000   \n",
       "mean     56.897260    70.049958   10516.828082     6.099315     5.575342   \n",
       "std      42.300571    22.024023    9981.264932     1.382997     1.112799   \n",
       "min      20.000000    21.000000    1300.000000     1.000000     1.000000   \n",
       "25%      20.000000    60.000000    7553.500000     5.000000     5.000000   \n",
       "50%      50.000000    70.049958    9478.500000     6.000000     5.000000   \n",
       "75%      70.000000    79.000000   11601.500000     7.000000     6.000000   \n",
       "90%     120.000000    92.000000   14381.700000     8.000000     7.000000   \n",
       "95%     160.000000   104.000000   17401.150000     8.000000     8.000000   \n",
       "99%     190.000000   137.410000   37567.640000    10.000000     9.000000   \n",
       "max     190.000000   313.000000  215245.000000    10.000000     9.000000   \n",
       "\n",
       "         YearBuilt  YearRemodAdd   MasVnrArea   BsmtFinSF1   BsmtFinSF2  ...  \\\n",
       "count  1460.000000   1460.000000  1460.000000  1460.000000  1460.000000  ...   \n",
       "mean   1971.267808   1984.865753   103.117123   443.639726    46.549315  ...   \n",
       "std      30.202904     20.645407   180.731373   456.098091   161.319273  ...   \n",
       "min    1872.000000   1950.000000     0.000000     0.000000     0.000000  ...   \n",
       "25%    1954.000000   1967.000000     0.000000     0.000000     0.000000  ...   \n",
       "50%    1973.000000   1994.000000     0.000000   383.500000     0.000000  ...   \n",
       "75%    2000.000000   2004.000000   164.250000   712.250000     0.000000  ...   \n",
       "90%    2006.000000   2006.000000   335.000000  1065.500000   117.200000  ...   \n",
       "95%    2007.000000   2007.000000   456.000000  1274.000000   396.200000  ...   \n",
       "99%    2009.000000   2009.000000   791.280000  1572.410000   830.380000  ...   \n",
       "max    2010.000000   2010.000000  1600.000000  5644.000000  1474.000000  ...   \n",
       "\n",
       "        WoodDeckSF  OpenPorchSF  EnclosedPorch    3SsnPorch  ScreenPorch  \\\n",
       "count  1460.000000  1460.000000    1460.000000  1460.000000  1460.000000   \n",
       "mean     94.244521    46.660274      21.954110     3.409589    15.060959   \n",
       "std     125.338794    66.256028      61.119149    29.317331    55.757415   \n",
       "min       0.000000     0.000000       0.000000     0.000000     0.000000   \n",
       "25%       0.000000     0.000000       0.000000     0.000000     0.000000   \n",
       "50%       0.000000    25.000000       0.000000     0.000000     0.000000   \n",
       "75%     168.000000    68.000000       0.000000     0.000000     0.000000   \n",
       "90%     262.000000   130.000000     112.000000     0.000000     0.000000   \n",
       "95%     335.000000   175.050000     180.150000     0.000000   160.000000   \n",
       "99%     505.460000   285.820000     261.050000   168.000000   268.050000   \n",
       "max     857.000000   547.000000     552.000000   508.000000   480.000000   \n",
       "\n",
       "          PoolArea       MiscVal       MoSold       YrSold      SalePrice  \n",
       "count  1460.000000   1460.000000  1460.000000  1460.000000    1460.000000  \n",
       "mean      2.758904     43.489041     6.321918  2007.815753  180921.195890  \n",
       "std      40.177307    496.123024     2.703626     1.328095   79442.502883  \n",
       "min       0.000000      0.000000     1.000000  2006.000000   34900.000000  \n",
       "25%       0.000000      0.000000     5.000000  2007.000000  129975.000000  \n",
       "50%       0.000000      0.000000     6.000000  2008.000000  163000.000000  \n",
       "75%       0.000000      0.000000     8.000000  2009.000000  214000.000000  \n",
       "90%       0.000000      0.000000    10.000000  2010.000000  278000.000000  \n",
       "95%       0.000000      0.000000    11.000000  2010.000000  326100.000000  \n",
       "99%       0.000000    700.000000    12.000000  2010.000000  442567.010000  \n",
       "max     738.000000  15500.000000    12.000000  2010.000000  755000.000000  \n",
       "\n",
       "[11 rows x 37 columns]"
      ]
     },
     "execution_count": 78,
     "metadata": {},
     "output_type": "execute_result"
    }
   ],
   "source": [
    "df1 = df.describe(percentiles=[.25, .5, .75, .90, .95, .99])\n",
    "df1"
   ]
  },
  {
   "cell_type": "code",
   "execution_count": 79,
   "metadata": {},
   "outputs": [
    {
     "data": {
      "text/html": [
       "<div>\n",
       "<style scoped>\n",
       "    .dataframe tbody tr th:only-of-type {\n",
       "        vertical-align: middle;\n",
       "    }\n",
       "\n",
       "    .dataframe tbody tr th {\n",
       "        vertical-align: top;\n",
       "    }\n",
       "\n",
       "    .dataframe thead th {\n",
       "        text-align: right;\n",
       "    }\n",
       "</style>\n",
       "<table border=\"1\" class=\"dataframe\">\n",
       "  <thead>\n",
       "    <tr style=\"text-align: right;\">\n",
       "      <th></th>\n",
       "      <th>BsmtUnfSF</th>\n",
       "      <th>TotalBsmtSF</th>\n",
       "      <th>1stFlrSF</th>\n",
       "      <th>2ndFlrSF</th>\n",
       "      <th>LowQualFinSF</th>\n",
       "      <th>GrLivArea</th>\n",
       "      <th>BsmtFullBath</th>\n",
       "      <th>BsmtHalfBath</th>\n",
       "      <th>FullBath</th>\n",
       "      <th>HalfBath</th>\n",
       "      <th>BedroomAbvGr</th>\n",
       "      <th>KitchenAbvGr</th>\n",
       "      <th>TotRmsAbvGrd</th>\n",
       "      <th>Fireplaces</th>\n",
       "      <th>GarageYrBlt</th>\n",
       "      <th>GarageCars</th>\n",
       "      <th>GarageArea</th>\n",
       "    </tr>\n",
       "  </thead>\n",
       "  <tbody>\n",
       "    <tr>\n",
       "      <th>count</th>\n",
       "      <td>1460.000000</td>\n",
       "      <td>1460.000000</td>\n",
       "      <td>1460.000000</td>\n",
       "      <td>1460.000000</td>\n",
       "      <td>1460.000000</td>\n",
       "      <td>1460.000000</td>\n",
       "      <td>1460.000000</td>\n",
       "      <td>1460.000000</td>\n",
       "      <td>1460.000000</td>\n",
       "      <td>1460.000000</td>\n",
       "      <td>1460.000000</td>\n",
       "      <td>1460.000000</td>\n",
       "      <td>1460.000000</td>\n",
       "      <td>1460.000000</td>\n",
       "      <td>1460.000000</td>\n",
       "      <td>1460.000000</td>\n",
       "      <td>1460.000000</td>\n",
       "    </tr>\n",
       "    <tr>\n",
       "      <th>mean</th>\n",
       "      <td>567.240411</td>\n",
       "      <td>1057.429452</td>\n",
       "      <td>1162.626712</td>\n",
       "      <td>346.992466</td>\n",
       "      <td>5.844521</td>\n",
       "      <td>1515.463699</td>\n",
       "      <td>0.425342</td>\n",
       "      <td>0.057534</td>\n",
       "      <td>1.565068</td>\n",
       "      <td>0.382877</td>\n",
       "      <td>2.866438</td>\n",
       "      <td>1.046575</td>\n",
       "      <td>6.517808</td>\n",
       "      <td>0.613014</td>\n",
       "      <td>1978.589041</td>\n",
       "      <td>1.767123</td>\n",
       "      <td>472.980137</td>\n",
       "    </tr>\n",
       "    <tr>\n",
       "      <th>std</th>\n",
       "      <td>441.866955</td>\n",
       "      <td>438.705324</td>\n",
       "      <td>386.587738</td>\n",
       "      <td>436.528436</td>\n",
       "      <td>48.623081</td>\n",
       "      <td>525.480383</td>\n",
       "      <td>0.518911</td>\n",
       "      <td>0.238753</td>\n",
       "      <td>0.550916</td>\n",
       "      <td>0.502885</td>\n",
       "      <td>0.815778</td>\n",
       "      <td>0.220338</td>\n",
       "      <td>1.625393</td>\n",
       "      <td>0.644666</td>\n",
       "      <td>23.997022</td>\n",
       "      <td>0.747315</td>\n",
       "      <td>213.804841</td>\n",
       "    </tr>\n",
       "    <tr>\n",
       "      <th>min</th>\n",
       "      <td>0.000000</td>\n",
       "      <td>0.000000</td>\n",
       "      <td>334.000000</td>\n",
       "      <td>0.000000</td>\n",
       "      <td>0.000000</td>\n",
       "      <td>334.000000</td>\n",
       "      <td>0.000000</td>\n",
       "      <td>0.000000</td>\n",
       "      <td>0.000000</td>\n",
       "      <td>0.000000</td>\n",
       "      <td>0.000000</td>\n",
       "      <td>0.000000</td>\n",
       "      <td>2.000000</td>\n",
       "      <td>0.000000</td>\n",
       "      <td>1900.000000</td>\n",
       "      <td>0.000000</td>\n",
       "      <td>0.000000</td>\n",
       "    </tr>\n",
       "    <tr>\n",
       "      <th>25%</th>\n",
       "      <td>223.000000</td>\n",
       "      <td>795.750000</td>\n",
       "      <td>882.000000</td>\n",
       "      <td>0.000000</td>\n",
       "      <td>0.000000</td>\n",
       "      <td>1129.500000</td>\n",
       "      <td>0.000000</td>\n",
       "      <td>0.000000</td>\n",
       "      <td>1.000000</td>\n",
       "      <td>0.000000</td>\n",
       "      <td>2.000000</td>\n",
       "      <td>1.000000</td>\n",
       "      <td>5.000000</td>\n",
       "      <td>0.000000</td>\n",
       "      <td>1962.000000</td>\n",
       "      <td>1.000000</td>\n",
       "      <td>334.500000</td>\n",
       "    </tr>\n",
       "    <tr>\n",
       "      <th>50%</th>\n",
       "      <td>477.500000</td>\n",
       "      <td>991.500000</td>\n",
       "      <td>1087.000000</td>\n",
       "      <td>0.000000</td>\n",
       "      <td>0.000000</td>\n",
       "      <td>1464.000000</td>\n",
       "      <td>0.000000</td>\n",
       "      <td>0.000000</td>\n",
       "      <td>2.000000</td>\n",
       "      <td>0.000000</td>\n",
       "      <td>3.000000</td>\n",
       "      <td>1.000000</td>\n",
       "      <td>6.000000</td>\n",
       "      <td>1.000000</td>\n",
       "      <td>1980.000000</td>\n",
       "      <td>2.000000</td>\n",
       "      <td>480.000000</td>\n",
       "    </tr>\n",
       "    <tr>\n",
       "      <th>75%</th>\n",
       "      <td>808.000000</td>\n",
       "      <td>1298.250000</td>\n",
       "      <td>1391.250000</td>\n",
       "      <td>728.000000</td>\n",
       "      <td>0.000000</td>\n",
       "      <td>1776.750000</td>\n",
       "      <td>1.000000</td>\n",
       "      <td>0.000000</td>\n",
       "      <td>2.000000</td>\n",
       "      <td>1.000000</td>\n",
       "      <td>3.000000</td>\n",
       "      <td>1.000000</td>\n",
       "      <td>7.000000</td>\n",
       "      <td>1.000000</td>\n",
       "      <td>2001.000000</td>\n",
       "      <td>2.000000</td>\n",
       "      <td>576.000000</td>\n",
       "    </tr>\n",
       "    <tr>\n",
       "      <th>90%</th>\n",
       "      <td>1232.000000</td>\n",
       "      <td>1602.200000</td>\n",
       "      <td>1680.000000</td>\n",
       "      <td>954.200000</td>\n",
       "      <td>0.000000</td>\n",
       "      <td>2158.300000</td>\n",
       "      <td>1.000000</td>\n",
       "      <td>0.000000</td>\n",
       "      <td>2.000000</td>\n",
       "      <td>1.000000</td>\n",
       "      <td>4.000000</td>\n",
       "      <td>1.000000</td>\n",
       "      <td>9.000000</td>\n",
       "      <td>1.000000</td>\n",
       "      <td>2006.000000</td>\n",
       "      <td>3.000000</td>\n",
       "      <td>757.100000</td>\n",
       "    </tr>\n",
       "    <tr>\n",
       "      <th>95%</th>\n",
       "      <td>1468.000000</td>\n",
       "      <td>1753.000000</td>\n",
       "      <td>1831.250000</td>\n",
       "      <td>1141.050000</td>\n",
       "      <td>0.000000</td>\n",
       "      <td>2466.100000</td>\n",
       "      <td>1.000000</td>\n",
       "      <td>1.000000</td>\n",
       "      <td>2.000000</td>\n",
       "      <td>1.000000</td>\n",
       "      <td>4.000000</td>\n",
       "      <td>1.000000</td>\n",
       "      <td>10.000000</td>\n",
       "      <td>2.000000</td>\n",
       "      <td>2007.000000</td>\n",
       "      <td>3.000000</td>\n",
       "      <td>850.100000</td>\n",
       "    </tr>\n",
       "    <tr>\n",
       "      <th>99%</th>\n",
       "      <td>1797.050000</td>\n",
       "      <td>2155.050000</td>\n",
       "      <td>2219.460000</td>\n",
       "      <td>1418.920000</td>\n",
       "      <td>360.000000</td>\n",
       "      <td>3123.480000</td>\n",
       "      <td>2.000000</td>\n",
       "      <td>1.000000</td>\n",
       "      <td>3.000000</td>\n",
       "      <td>1.000000</td>\n",
       "      <td>5.000000</td>\n",
       "      <td>2.000000</td>\n",
       "      <td>11.000000</td>\n",
       "      <td>2.000000</td>\n",
       "      <td>2009.000000</td>\n",
       "      <td>3.000000</td>\n",
       "      <td>1002.790000</td>\n",
       "    </tr>\n",
       "    <tr>\n",
       "      <th>max</th>\n",
       "      <td>2336.000000</td>\n",
       "      <td>6110.000000</td>\n",
       "      <td>4692.000000</td>\n",
       "      <td>2065.000000</td>\n",
       "      <td>572.000000</td>\n",
       "      <td>5642.000000</td>\n",
       "      <td>3.000000</td>\n",
       "      <td>2.000000</td>\n",
       "      <td>3.000000</td>\n",
       "      <td>2.000000</td>\n",
       "      <td>8.000000</td>\n",
       "      <td>3.000000</td>\n",
       "      <td>14.000000</td>\n",
       "      <td>3.000000</td>\n",
       "      <td>2010.000000</td>\n",
       "      <td>4.000000</td>\n",
       "      <td>1418.000000</td>\n",
       "    </tr>\n",
       "  </tbody>\n",
       "</table>\n",
       "</div>"
      ],
      "text/plain": [
       "         BsmtUnfSF  TotalBsmtSF     1stFlrSF     2ndFlrSF  LowQualFinSF  \\\n",
       "count  1460.000000  1460.000000  1460.000000  1460.000000   1460.000000   \n",
       "mean    567.240411  1057.429452  1162.626712   346.992466      5.844521   \n",
       "std     441.866955   438.705324   386.587738   436.528436     48.623081   \n",
       "min       0.000000     0.000000   334.000000     0.000000      0.000000   \n",
       "25%     223.000000   795.750000   882.000000     0.000000      0.000000   \n",
       "50%     477.500000   991.500000  1087.000000     0.000000      0.000000   \n",
       "75%     808.000000  1298.250000  1391.250000   728.000000      0.000000   \n",
       "90%    1232.000000  1602.200000  1680.000000   954.200000      0.000000   \n",
       "95%    1468.000000  1753.000000  1831.250000  1141.050000      0.000000   \n",
       "99%    1797.050000  2155.050000  2219.460000  1418.920000    360.000000   \n",
       "max    2336.000000  6110.000000  4692.000000  2065.000000    572.000000   \n",
       "\n",
       "         GrLivArea  BsmtFullBath  BsmtHalfBath     FullBath     HalfBath  \\\n",
       "count  1460.000000   1460.000000   1460.000000  1460.000000  1460.000000   \n",
       "mean   1515.463699      0.425342      0.057534     1.565068     0.382877   \n",
       "std     525.480383      0.518911      0.238753     0.550916     0.502885   \n",
       "min     334.000000      0.000000      0.000000     0.000000     0.000000   \n",
       "25%    1129.500000      0.000000      0.000000     1.000000     0.000000   \n",
       "50%    1464.000000      0.000000      0.000000     2.000000     0.000000   \n",
       "75%    1776.750000      1.000000      0.000000     2.000000     1.000000   \n",
       "90%    2158.300000      1.000000      0.000000     2.000000     1.000000   \n",
       "95%    2466.100000      1.000000      1.000000     2.000000     1.000000   \n",
       "99%    3123.480000      2.000000      1.000000     3.000000     1.000000   \n",
       "max    5642.000000      3.000000      2.000000     3.000000     2.000000   \n",
       "\n",
       "       BedroomAbvGr  KitchenAbvGr  TotRmsAbvGrd   Fireplaces  GarageYrBlt  \\\n",
       "count   1460.000000   1460.000000   1460.000000  1460.000000  1460.000000   \n",
       "mean       2.866438      1.046575      6.517808     0.613014  1978.589041   \n",
       "std        0.815778      0.220338      1.625393     0.644666    23.997022   \n",
       "min        0.000000      0.000000      2.000000     0.000000  1900.000000   \n",
       "25%        2.000000      1.000000      5.000000     0.000000  1962.000000   \n",
       "50%        3.000000      1.000000      6.000000     1.000000  1980.000000   \n",
       "75%        3.000000      1.000000      7.000000     1.000000  2001.000000   \n",
       "90%        4.000000      1.000000      9.000000     1.000000  2006.000000   \n",
       "95%        4.000000      1.000000     10.000000     2.000000  2007.000000   \n",
       "99%        5.000000      2.000000     11.000000     2.000000  2009.000000   \n",
       "max        8.000000      3.000000     14.000000     3.000000  2010.000000   \n",
       "\n",
       "        GarageCars   GarageArea  \n",
       "count  1460.000000  1460.000000  \n",
       "mean      1.767123   472.980137  \n",
       "std       0.747315   213.804841  \n",
       "min       0.000000     0.000000  \n",
       "25%       1.000000   334.500000  \n",
       "50%       2.000000   480.000000  \n",
       "75%       2.000000   576.000000  \n",
       "90%       3.000000   757.100000  \n",
       "95%       3.000000   850.100000  \n",
       "99%       3.000000  1002.790000  \n",
       "max       4.000000  1418.000000  "
      ]
     },
     "execution_count": 79,
     "metadata": {},
     "output_type": "execute_result"
    }
   ],
   "source": [
    "df1.iloc[:, 10:27]"
   ]
  },
  {
   "cell_type": "markdown",
   "metadata": {},
   "source": [
    "### LotArea"
   ]
  },
  {
   "cell_type": "code",
   "execution_count": 80,
   "metadata": {},
   "outputs": [
    {
     "data": {
      "text/plain": [
       "<matplotlib.axes._subplots.AxesSubplot at 0x24994530a58>"
      ]
     },
     "execution_count": 80,
     "metadata": {},
     "output_type": "execute_result"
    },
    {
     "data": {
      "image/png": "[encoded data removed]",
      "text/plain": [
       "<Figure size 432x288 with 1 Axes>"
      ]
     },
     "metadata": {
      "needs_background": "light"
     },
     "output_type": "display_data"
    }
   ],
   "source": [
    "### #Outlier removal\n",
    "Q1 = df.LotArea.quantile(0.25)\n",
    "Q3 = df.LotArea.quantile(0.75)\n",
    "IQR = Q3 - Q1\n",
    "df = df[(df.LotArea >= Q1 - 1.5*IQR) & ( df.LotArea <= Q3 + 1.5*IQR)]\n",
    "sns.boxplot(y = df['LotArea'])"
   ]
  },
  {
   "cell_type": "markdown",
   "metadata": {},
   "source": [
    "### MasVnrArea\t"
   ]
  },
  {
   "cell_type": "code",
   "execution_count": 81,
   "metadata": {},
   "outputs": [
    {
     "data": {
      "text/plain": [
       "<matplotlib.axes._subplots.AxesSubplot at 0x2499482d240>"
      ]
     },
     "execution_count": 81,
     "metadata": {},
     "output_type": "execute_result"
    },
    {
     "data": {
      "image/png": "[encoded data removed]",
      "text/plain": [
       "<Figure size 432x288 with 1 Axes>"
      ]
     },
     "metadata": {
      "needs_background": "light"
     },
     "output_type": "display_data"
    }
   ],
   "source": [
    "### #Outlier removal\n",
    "Q1 = df.MasVnrArea.quantile(0.25)\n",
    "Q3 = df.MasVnrArea.quantile(0.75)\n",
    "IQR = Q3 - Q1\n",
    "df = df[(df.MasVnrArea >= Q1 - 1.5*IQR) & ( df.MasVnrArea <= Q3 + 1.5*IQR)]\n",
    "sns.boxplot(y = df['MasVnrArea'])"
   ]
  },
  {
   "cell_type": "markdown",
   "metadata": {},
   "source": [
    "### BsmtFinSF1\t"
   ]
  },
  {
   "cell_type": "code",
   "execution_count": 82,
   "metadata": {},
   "outputs": [
    {
     "data": {
      "text/plain": [
       "<matplotlib.axes._subplots.AxesSubplot at 0x249948c3828>"
      ]
     },
     "execution_count": 82,
     "metadata": {},
     "output_type": "execute_result"
    },
    {
     "data": {
      "image/png": "[encoded data removed]",
      "text/plain": [
       "<Figure size 432x288 with 1 Axes>"
      ]
     },
     "metadata": {
      "needs_background": "light"
     },
     "output_type": "display_data"
    }
   ],
   "source": [
    "### #Outlier removal\n",
    "Q1 = df.BsmtFinSF1.quantile(0.25)\n",
    "Q3 = df.BsmtFinSF1.quantile(0.75)\n",
    "IQR = Q3 - Q1\n",
    "df = df[(df.BsmtFinSF1 >= Q1 - 1.5*IQR) & ( df.BsmtFinSF1 <= Q3 + 1.5*IQR)]\n",
    "sns.boxplot(y = df['BsmtFinSF1'])"
   ]
  },
  {
   "cell_type": "markdown",
   "metadata": {},
   "source": [
    "### PoolArea"
   ]
  },
  {
   "cell_type": "code",
   "execution_count": 83,
   "metadata": {},
   "outputs": [
    {
     "data": {
      "text/plain": [
       "<matplotlib.axes._subplots.AxesSubplot at 0x24994922278>"
      ]
     },
     "execution_count": 83,
     "metadata": {},
     "output_type": "execute_result"
    },
    {
     "data": {
      "image/png": "[encoded data removed]",
      "text/plain": [
       "<Figure size 432x288 with 1 Axes>"
      ]
     },
     "metadata": {
      "needs_background": "light"
     },
     "output_type": "display_data"
    }
   ],
   "source": [
    "### #Outlier removal\n",
    "Q1 = df.PoolArea.quantile(0.25)\n",
    "Q3 = df.PoolArea.quantile(0.75)\n",
    "IQR = Q3 - Q1\n",
    "df = df[(df.PoolArea >= Q1 - 1.5*IQR) & ( df.PoolArea <= Q3 + 1.5*IQR)]\n",
    "sns.boxplot(y = df['PoolArea'])"
   ]
  },
  {
   "cell_type": "markdown",
   "metadata": {},
   "source": [
    "### MiscVal"
   ]
  },
  {
   "cell_type": "code",
   "execution_count": 84,
   "metadata": {},
   "outputs": [
    {
     "data": {
      "text/plain": [
       "<matplotlib.axes._subplots.AxesSubplot at 0x2499497c048>"
      ]
     },
     "execution_count": 84,
     "metadata": {},
     "output_type": "execute_result"
    },
    {
     "data": {
      "image/png": "[encoded data removed]",
      "text/plain": [
       "<Figure size 432x288 with 1 Axes>"
      ]
     },
     "metadata": {
      "needs_background": "light"
     },
     "output_type": "display_data"
    }
   ],
   "source": [
    "### #Outlier removal\n",
    "Q1 = df.MiscVal.quantile(0.25)\n",
    "Q3 = df.MiscVal.quantile(0.75)\n",
    "IQR = Q3 - Q1\n",
    "df = df[(df.MiscVal >= Q1 - 1.5*IQR) & ( df.MiscVal <= Q3 + 1.5*IQR)]\n",
    "sns.boxplot(y = df['MiscVal'])"
   ]
  },
  {
   "cell_type": "markdown",
   "metadata": {},
   "source": [
    "### TotalBsmtSF"
   ]
  },
  {
   "cell_type": "code",
   "execution_count": 85,
   "metadata": {},
   "outputs": [
    {
     "data": {
      "text/plain": [
       "<matplotlib.axes._subplots.AxesSubplot at 0x249949c2198>"
      ]
     },
     "execution_count": 85,
     "metadata": {},
     "output_type": "execute_result"
    },
    {
     "data": {
      "image/png": "[encoded data removed]",
      "text/plain": [
       "<Figure size 432x288 with 1 Axes>"
      ]
     },
     "metadata": {
      "needs_background": "light"
     },
     "output_type": "display_data"
    }
   ],
   "source": [
    "### #Outlier removal\n",
    "Q1 = df.TotalBsmtSF.quantile(0.25)\n",
    "Q3 = df.TotalBsmtSF.quantile(0.75)\n",
    "IQR = Q3 - Q1\n",
    "df = df[(df.TotalBsmtSF >= Q1 - 1.5*IQR) & ( df.TotalBsmtSF <= Q3 + 1.5*IQR)]\n",
    "sns.boxplot(y = df['TotalBsmtSF'])"
   ]
  },
  {
   "cell_type": "code",
   "execution_count": 86,
   "metadata": {},
   "outputs": [
    {
     "data": {
      "text/plain": [
       "(1202, 67)"
      ]
     },
     "execution_count": 86,
     "metadata": {},
     "output_type": "execute_result"
    }
   ],
   "source": [
    "df.shape"
   ]
  },
  {
   "cell_type": "code",
   "execution_count": 87,
   "metadata": {},
   "outputs": [
    {
     "data": {
      "image/png": "[encoded data removed]",
      "text/plain": [
       "<Figure size 432x288 with 1 Axes>"
      ]
     },
     "metadata": {
      "needs_background": "light"
     },
     "output_type": "display_data"
    }
   ],
   "source": [
    "# wheelbase: distance between centre of front and rarewheels\n",
    "sns.distplot(df['LotFrontage'])\n",
    "plt.show()"
   ]
  },
  {
   "cell_type": "code",
   "execution_count": 88,
   "metadata": {},
   "outputs": [
    {
     "data": {
      "image/png": "[encoded data removed]",
      "text/plain": [
       "<Figure size 432x288 with 1 Axes>"
      ]
     },
     "metadata": {
      "needs_background": "light"
     },
     "output_type": "display_data"
    }
   ],
   "source": [
    "# wheelbase: distance between centre of front and rarewheels\n",
    "sns.distplot(df['OverallQual'])\n",
    "plt.show()"
   ]
  },
  {
   "cell_type": "code",
   "execution_count": 89,
   "metadata": {},
   "outputs": [
    {
     "data": {
      "text/html": [
       "<div>\n",
       "<style scoped>\n",
       "    .dataframe tbody tr th:only-of-type {\n",
       "        vertical-align: middle;\n",
       "    }\n",
       "\n",
       "    .dataframe tbody tr th {\n",
       "        vertical-align: top;\n",
       "    }\n",
       "\n",
       "    .dataframe thead th {\n",
       "        text-align: right;\n",
       "    }\n",
       "</style>\n",
       "<table border=\"1\" class=\"dataframe\">\n",
       "  <thead>\n",
       "    <tr style=\"text-align: right;\">\n",
       "      <th></th>\n",
       "      <th>MSSubClass</th>\n",
       "      <th>LotFrontage</th>\n",
       "      <th>LotArea</th>\n",
       "      <th>OverallQual</th>\n",
       "      <th>OverallCond</th>\n",
       "      <th>YearBuilt</th>\n",
       "      <th>YearRemodAdd</th>\n",
       "      <th>MasVnrArea</th>\n",
       "      <th>BsmtFinSF1</th>\n",
       "      <th>BsmtFinSF2</th>\n",
       "      <th>...</th>\n",
       "      <th>WoodDeckSF</th>\n",
       "      <th>OpenPorchSF</th>\n",
       "      <th>EnclosedPorch</th>\n",
       "      <th>3SsnPorch</th>\n",
       "      <th>ScreenPorch</th>\n",
       "      <th>PoolArea</th>\n",
       "      <th>MiscVal</th>\n",
       "      <th>MoSold</th>\n",
       "      <th>YrSold</th>\n",
       "      <th>SalePrice</th>\n",
       "    </tr>\n",
       "  </thead>\n",
       "  <tbody>\n",
       "    <tr>\n",
       "      <th>MSSubClass</th>\n",
       "      <td>1.000000</td>\n",
       "      <td>-0.414922</td>\n",
       "      <td>-0.435695</td>\n",
       "      <td>0.072280</td>\n",
       "      <td>-0.059734</td>\n",
       "      <td>0.031630</td>\n",
       "      <td>0.047601</td>\n",
       "      <td>0.026031</td>\n",
       "      <td>-0.068149</td>\n",
       "      <td>-0.053143</td>\n",
       "      <td>...</td>\n",
       "      <td>-0.025447</td>\n",
       "      <td>0.010673</td>\n",
       "      <td>-0.019958</td>\n",
       "      <td>-0.034593</td>\n",
       "      <td>-0.018592</td>\n",
       "      <td>NaN</td>\n",
       "      <td>NaN</td>\n",
       "      <td>-0.022262</td>\n",
       "      <td>-0.023045</td>\n",
       "      <td>-0.059335</td>\n",
       "    </tr>\n",
       "    <tr>\n",
       "      <th>LotFrontage</th>\n",
       "      <td>-0.414922</td>\n",
       "      <td>1.000000</td>\n",
       "      <td>0.587617</td>\n",
       "      <td>0.188642</td>\n",
       "      <td>-0.038270</td>\n",
       "      <td>0.121850</td>\n",
       "      <td>0.069760</td>\n",
       "      <td>0.152160</td>\n",
       "      <td>0.108576</td>\n",
       "      <td>0.024500</td>\n",
       "      <td>...</td>\n",
       "      <td>0.095433</td>\n",
       "      <td>0.088521</td>\n",
       "      <td>-0.017692</td>\n",
       "      <td>0.072728</td>\n",
       "      <td>0.042142</td>\n",
       "      <td>NaN</td>\n",
       "      <td>NaN</td>\n",
       "      <td>0.025354</td>\n",
       "      <td>0.019298</td>\n",
       "      <td>0.321694</td>\n",
       "    </tr>\n",
       "    <tr>\n",
       "      <th>LotArea</th>\n",
       "      <td>-0.435695</td>\n",
       "      <td>0.587617</td>\n",
       "      <td>1.000000</td>\n",
       "      <td>0.185100</td>\n",
       "      <td>-0.025732</td>\n",
       "      <td>0.076802</td>\n",
       "      <td>0.051805</td>\n",
       "      <td>0.112095</td>\n",
       "      <td>0.172792</td>\n",
       "      <td>0.054222</td>\n",
       "      <td>...</td>\n",
       "      <td>0.138360</td>\n",
       "      <td>0.104137</td>\n",
       "      <td>-0.024904</td>\n",
       "      <td>0.041017</td>\n",
       "      <td>0.082302</td>\n",
       "      <td>NaN</td>\n",
       "      <td>NaN</td>\n",
       "      <td>0.020684</td>\n",
       "      <td>-0.025771</td>\n",
       "      <td>0.387234</td>\n",
       "    </tr>\n",
       "    <tr>\n",
       "      <th>OverallQual</th>\n",
       "      <td>0.072280</td>\n",
       "      <td>0.188642</td>\n",
       "      <td>0.185100</td>\n",
       "      <td>1.000000</td>\n",
       "      <td>-0.120799</td>\n",
       "      <td>0.565421</td>\n",
       "      <td>0.532240</td>\n",
       "      <td>0.334481</td>\n",
       "      <td>0.120465</td>\n",
       "      <td>-0.073044</td>\n",
       "      <td>...</td>\n",
       "      <td>0.191707</td>\n",
       "      <td>0.309554</td>\n",
       "      <td>-0.141170</td>\n",
       "      <td>0.039532</td>\n",
       "      <td>0.031728</td>\n",
       "      <td>NaN</td>\n",
       "      <td>NaN</td>\n",
       "      <td>0.080609</td>\n",
       "      <td>-0.021823</td>\n",
       "      <td>0.798700</td>\n",
       "    </tr>\n",
       "    <tr>\n",
       "      <th>OverallCond</th>\n",
       "      <td>-0.059734</td>\n",
       "      <td>-0.038270</td>\n",
       "      <td>-0.025732</td>\n",
       "      <td>-0.120799</td>\n",
       "      <td>1.000000</td>\n",
       "      <td>-0.381957</td>\n",
       "      <td>0.056104</td>\n",
       "      <td>-0.125248</td>\n",
       "      <td>-0.033321</td>\n",
       "      <td>0.047894</td>\n",
       "      <td>...</td>\n",
       "      <td>-0.018967</td>\n",
       "      <td>-0.040080</td>\n",
       "      <td>0.093423</td>\n",
       "      <td>0.014751</td>\n",
       "      <td>0.055697</td>\n",
       "      <td>NaN</td>\n",
       "      <td>NaN</td>\n",
       "      <td>-0.002099</td>\n",
       "      <td>0.045253</td>\n",
       "      <td>-0.099782</td>\n",
       "    </tr>\n",
       "    <tr>\n",
       "      <th>YearBuilt</th>\n",
       "      <td>0.031630</td>\n",
       "      <td>0.121850</td>\n",
       "      <td>0.076802</td>\n",
       "      <td>0.565421</td>\n",
       "      <td>-0.381957</td>\n",
       "      <td>1.000000</td>\n",
       "      <td>0.591669</td>\n",
       "      <td>0.308147</td>\n",
       "      <td>0.226616</td>\n",
       "      <td>-0.038204</td>\n",
       "      <td>...</td>\n",
       "      <td>0.221502</td>\n",
       "      <td>0.193564</td>\n",
       "      <td>-0.426382</td>\n",
       "      <td>0.019497</td>\n",
       "      <td>-0.041002</td>\n",
       "      <td>NaN</td>\n",
       "      <td>NaN</td>\n",
       "      <td>0.013520</td>\n",
       "      <td>-0.019621</td>\n",
       "      <td>0.580887</td>\n",
       "    </tr>\n",
       "    <tr>\n",
       "      <th>YearRemodAdd</th>\n",
       "      <td>0.047601</td>\n",
       "      <td>0.069760</td>\n",
       "      <td>0.051805</td>\n",
       "      <td>0.532240</td>\n",
       "      <td>0.056104</td>\n",
       "      <td>0.591669</td>\n",
       "      <td>1.000000</td>\n",
       "      <td>0.129396</td>\n",
       "      <td>0.078457</td>\n",
       "      <td>-0.057168</td>\n",
       "      <td>...</td>\n",
       "      <td>0.193141</td>\n",
       "      <td>0.237406</td>\n",
       "      <td>-0.208118</td>\n",
       "      <td>0.021997</td>\n",
       "      <td>-0.033501</td>\n",
       "      <td>NaN</td>\n",
       "      <td>NaN</td>\n",
       "      <td>0.024529</td>\n",
       "      <td>0.040365</td>\n",
       "      <td>0.554828</td>\n",
       "    </tr>\n",
       "    <tr>\n",
       "      <th>MasVnrArea</th>\n",
       "      <td>0.026031</td>\n",
       "      <td>0.152160</td>\n",
       "      <td>0.112095</td>\n",
       "      <td>0.334481</td>\n",
       "      <td>-0.125248</td>\n",
       "      <td>0.308147</td>\n",
       "      <td>0.129396</td>\n",
       "      <td>1.000000</td>\n",
       "      <td>0.197193</td>\n",
       "      <td>-0.085258</td>\n",
       "      <td>...</td>\n",
       "      <td>0.125055</td>\n",
       "      <td>0.098823</td>\n",
       "      <td>-0.121705</td>\n",
       "      <td>0.046867</td>\n",
       "      <td>0.038254</td>\n",
       "      <td>NaN</td>\n",
       "      <td>NaN</td>\n",
       "      <td>0.037001</td>\n",
       "      <td>0.010706</td>\n",
       "      <td>0.375954</td>\n",
       "    </tr>\n",
       "    <tr>\n",
       "      <th>BsmtFinSF1</th>\n",
       "      <td>-0.068149</td>\n",
       "      <td>0.108576</td>\n",
       "      <td>0.172792</td>\n",
       "      <td>0.120465</td>\n",
       "      <td>-0.033321</td>\n",
       "      <td>0.226616</td>\n",
       "      <td>0.078457</td>\n",
       "      <td>0.197193</td>\n",
       "      <td>1.000000</td>\n",
       "      <td>-0.064817</td>\n",
       "      <td>...</td>\n",
       "      <td>0.175533</td>\n",
       "      <td>0.032706</td>\n",
       "      <td>-0.137709</td>\n",
       "      <td>0.023034</td>\n",
       "      <td>0.075879</td>\n",
       "      <td>NaN</td>\n",
       "      <td>NaN</td>\n",
       "      <td>0.016890</td>\n",
       "      <td>0.024372</td>\n",
       "      <td>0.323235</td>\n",
       "    </tr>\n",
       "    <tr>\n",
       "      <th>BsmtFinSF2</th>\n",
       "      <td>-0.053143</td>\n",
       "      <td>0.024500</td>\n",
       "      <td>0.054222</td>\n",
       "      <td>-0.073044</td>\n",
       "      <td>0.047894</td>\n",
       "      <td>-0.038204</td>\n",
       "      <td>-0.057168</td>\n",
       "      <td>-0.085258</td>\n",
       "      <td>-0.064817</td>\n",
       "      <td>1.000000</td>\n",
       "      <td>...</td>\n",
       "      <td>0.109865</td>\n",
       "      <td>-0.034326</td>\n",
       "      <td>0.022889</td>\n",
       "      <td>-0.029138</td>\n",
       "      <td>0.038917</td>\n",
       "      <td>NaN</td>\n",
       "      <td>NaN</td>\n",
       "      <td>-0.018865</td>\n",
       "      <td>0.048206</td>\n",
       "      <td>-0.023906</td>\n",
       "    </tr>\n",
       "    <tr>\n",
       "      <th>BsmtUnfSF</th>\n",
       "      <td>-0.121735</td>\n",
       "      <td>0.109950</td>\n",
       "      <td>0.062589</td>\n",
       "      <td>0.256753</td>\n",
       "      <td>-0.174753</td>\n",
       "      <td>0.124628</td>\n",
       "      <td>0.152564</td>\n",
       "      <td>0.057269</td>\n",
       "      <td>-0.635423</td>\n",
       "      <td>-0.248337</td>\n",
       "      <td>...</td>\n",
       "      <td>-0.061934</td>\n",
       "      <td>0.113739</td>\n",
       "      <td>0.010388</td>\n",
       "      <td>0.036764</td>\n",
       "      <td>-0.035135</td>\n",
       "      <td>NaN</td>\n",
       "      <td>NaN</td>\n",
       "      <td>0.039347</td>\n",
       "      <td>-0.041856</td>\n",
       "      <td>0.151830</td>\n",
       "    </tr>\n",
       "    <tr>\n",
       "      <th>TotalBsmtSF</th>\n",
       "      <td>-0.265431</td>\n",
       "      <td>0.286149</td>\n",
       "      <td>0.319229</td>\n",
       "      <td>0.440687</td>\n",
       "      <td>-0.240907</td>\n",
       "      <td>0.419595</td>\n",
       "      <td>0.263597</td>\n",
       "      <td>0.274301</td>\n",
       "      <td>0.387684</td>\n",
       "      <td>0.091670</td>\n",
       "      <td>...</td>\n",
       "      <td>0.190694</td>\n",
       "      <td>0.168821</td>\n",
       "      <td>-0.145096</td>\n",
       "      <td>0.061095</td>\n",
       "      <td>0.067556</td>\n",
       "      <td>NaN</td>\n",
       "      <td>NaN</td>\n",
       "      <td>0.061851</td>\n",
       "      <td>0.000089</td>\n",
       "      <td>0.580304</td>\n",
       "    </tr>\n",
       "    <tr>\n",
       "      <th>1stFlrSF</th>\n",
       "      <td>-0.238972</td>\n",
       "      <td>0.333067</td>\n",
       "      <td>0.385984</td>\n",
       "      <td>0.411974</td>\n",
       "      <td>-0.155495</td>\n",
       "      <td>0.277340</td>\n",
       "      <td>0.234821</td>\n",
       "      <td>0.257441</td>\n",
       "      <td>0.351024</td>\n",
       "      <td>0.094960</td>\n",
       "      <td>...</td>\n",
       "      <td>0.196136</td>\n",
       "      <td>0.139255</td>\n",
       "      <td>-0.079484</td>\n",
       "      <td>0.053310</td>\n",
       "      <td>0.083670</td>\n",
       "      <td>NaN</td>\n",
       "      <td>NaN</td>\n",
       "      <td>0.073712</td>\n",
       "      <td>-0.013138</td>\n",
       "      <td>0.571654</td>\n",
       "    </tr>\n",
       "    <tr>\n",
       "      <th>2ndFlrSF</th>\n",
       "      <td>0.310781</td>\n",
       "      <td>0.044417</td>\n",
       "      <td>0.097810</td>\n",
       "      <td>0.285490</td>\n",
       "      <td>0.009228</td>\n",
       "      <td>-0.009206</td>\n",
       "      <td>0.124595</td>\n",
       "      <td>0.111374</td>\n",
       "      <td>-0.223704</td>\n",
       "      <td>-0.112780</td>\n",
       "      <td>...</td>\n",
       "      <td>0.043740</td>\n",
       "      <td>0.206354</td>\n",
       "      <td>0.041723</td>\n",
       "      <td>-0.017323</td>\n",
       "      <td>-0.007174</td>\n",
       "      <td>NaN</td>\n",
       "      <td>NaN</td>\n",
       "      <td>0.033260</td>\n",
       "      <td>-0.018377</td>\n",
       "      <td>0.304897</td>\n",
       "    </tr>\n",
       "    <tr>\n",
       "      <th>LowQualFinSF</th>\n",
       "      <td>0.052456</td>\n",
       "      <td>-0.004045</td>\n",
       "      <td>-0.013274</td>\n",
       "      <td>-0.066189</td>\n",
       "      <td>0.000546</td>\n",
       "      <td>-0.169037</td>\n",
       "      <td>-0.073645</td>\n",
       "      <td>-0.074378</td>\n",
       "      <td>-0.067073</td>\n",
       "      <td>-0.003064</td>\n",
       "      <td>...</td>\n",
       "      <td>-0.014701</td>\n",
       "      <td>0.010791</td>\n",
       "      <td>0.026642</td>\n",
       "      <td>0.001125</td>\n",
       "      <td>-0.030680</td>\n",
       "      <td>NaN</td>\n",
       "      <td>NaN</td>\n",
       "      <td>-0.016436</td>\n",
       "      <td>0.003444</td>\n",
       "      <td>-0.068981</td>\n",
       "    </tr>\n",
       "    <tr>\n",
       "      <th>GrLivArea</th>\n",
       "      <td>0.121410</td>\n",
       "      <td>0.280188</td>\n",
       "      <td>0.366729</td>\n",
       "      <td>0.553762</td>\n",
       "      <td>-0.103197</td>\n",
       "      <td>0.173427</td>\n",
       "      <td>0.276618</td>\n",
       "      <td>0.280561</td>\n",
       "      <td>0.038286</td>\n",
       "      <td>-0.036486</td>\n",
       "      <td>...</td>\n",
       "      <td>0.180009</td>\n",
       "      <td>0.292340</td>\n",
       "      <td>-0.015758</td>\n",
       "      <td>0.022403</td>\n",
       "      <td>0.050347</td>\n",
       "      <td>NaN</td>\n",
       "      <td>NaN</td>\n",
       "      <td>0.082102</td>\n",
       "      <td>-0.026109</td>\n",
       "      <td>0.686254</td>\n",
       "    </tr>\n",
       "    <tr>\n",
       "      <th>BsmtFullBath</th>\n",
       "      <td>0.023041</td>\n",
       "      <td>0.020914</td>\n",
       "      <td>0.060946</td>\n",
       "      <td>0.044867</td>\n",
       "      <td>-0.050831</td>\n",
       "      <td>0.176034</td>\n",
       "      <td>0.103519</td>\n",
       "      <td>0.079593</td>\n",
       "      <td>0.632361</td>\n",
       "      <td>0.160027</td>\n",
       "      <td>...</td>\n",
       "      <td>0.147476</td>\n",
       "      <td>0.033065</td>\n",
       "      <td>-0.074608</td>\n",
       "      <td>-0.024059</td>\n",
       "      <td>0.023596</td>\n",
       "      <td>NaN</td>\n",
       "      <td>NaN</td>\n",
       "      <td>-0.020505</td>\n",
       "      <td>0.072301</td>\n",
       "      <td>0.193827</td>\n",
       "    </tr>\n",
       "    <tr>\n",
       "      <th>BsmtHalfBath</th>\n",
       "      <td>-0.003456</td>\n",
       "      <td>0.000496</td>\n",
       "      <td>0.048521</td>\n",
       "      <td>-0.043114</td>\n",
       "      <td>0.129601</td>\n",
       "      <td>-0.032361</td>\n",
       "      <td>-0.014826</td>\n",
       "      <td>0.038772</td>\n",
       "      <td>0.074356</td>\n",
       "      <td>0.062226</td>\n",
       "      <td>...</td>\n",
       "      <td>0.039315</td>\n",
       "      <td>-0.041955</td>\n",
       "      <td>-0.027658</td>\n",
       "      <td>0.056503</td>\n",
       "      <td>0.024249</td>\n",
       "      <td>NaN</td>\n",
       "      <td>NaN</td>\n",
       "      <td>0.041011</td>\n",
       "      <td>-0.037984</td>\n",
       "      <td>-0.020329</td>\n",
       "    </tr>\n",
       "    <tr>\n",
       "      <th>FullBath</th>\n",
       "      <td>0.140698</td>\n",
       "      <td>0.152840</td>\n",
       "      <td>0.174466</td>\n",
       "      <td>0.572277</td>\n",
       "      <td>-0.223928</td>\n",
       "      <td>0.497641</td>\n",
       "      <td>0.462367</td>\n",
       "      <td>0.221201</td>\n",
       "      <td>0.022558</td>\n",
       "      <td>-0.085470</td>\n",
       "      <td>...</td>\n",
       "      <td>0.165620</td>\n",
       "      <td>0.276379</td>\n",
       "      <td>-0.165195</td>\n",
       "      <td>0.052220</td>\n",
       "      <td>-0.049869</td>\n",
       "      <td>NaN</td>\n",
       "      <td>NaN</td>\n",
       "      <td>0.059846</td>\n",
       "      <td>-0.004270</td>\n",
       "      <td>0.594021</td>\n",
       "    </tr>\n",
       "    <tr>\n",
       "      <th>HalfBath</th>\n",
       "      <td>0.181235</td>\n",
       "      <td>0.043478</td>\n",
       "      <td>0.104070</td>\n",
       "      <td>0.235798</td>\n",
       "      <td>-0.047882</td>\n",
       "      <td>0.212963</td>\n",
       "      <td>0.161415</td>\n",
       "      <td>0.161714</td>\n",
       "      <td>-0.068224</td>\n",
       "      <td>-0.037552</td>\n",
       "      <td>...</td>\n",
       "      <td>0.061687</td>\n",
       "      <td>0.174840</td>\n",
       "      <td>-0.102459</td>\n",
       "      <td>0.002251</td>\n",
       "      <td>0.056126</td>\n",
       "      <td>NaN</td>\n",
       "      <td>NaN</td>\n",
       "      <td>-0.011447</td>\n",
       "      <td>-0.003791</td>\n",
       "      <td>0.264817</td>\n",
       "    </tr>\n",
       "    <tr>\n",
       "      <th>BedroomAbvGr</th>\n",
       "      <td>-0.035788</td>\n",
       "      <td>0.261990</td>\n",
       "      <td>0.327346</td>\n",
       "      <td>0.101745</td>\n",
       "      <td>0.004745</td>\n",
       "      <td>-0.070997</td>\n",
       "      <td>-0.038651</td>\n",
       "      <td>0.141596</td>\n",
       "      <td>-0.106875</td>\n",
       "      <td>-0.029330</td>\n",
       "      <td>...</td>\n",
       "      <td>0.045098</td>\n",
       "      <td>0.091452</td>\n",
       "      <td>-0.000197</td>\n",
       "      <td>0.000708</td>\n",
       "      <td>-0.009121</td>\n",
       "      <td>NaN</td>\n",
       "      <td>NaN</td>\n",
       "      <td>0.040939</td>\n",
       "      <td>-0.036961</td>\n",
       "      <td>0.182058</td>\n",
       "    </tr>\n",
       "    <tr>\n",
       "      <th>KitchenAbvGr</th>\n",
       "      <td>0.279012</td>\n",
       "      <td>0.008024</td>\n",
       "      <td>0.004562</td>\n",
       "      <td>-0.146103</td>\n",
       "      <td>-0.059880</td>\n",
       "      <td>-0.190364</td>\n",
       "      <td>-0.116628</td>\n",
       "      <td>-0.018339</td>\n",
       "      <td>-0.040652</td>\n",
       "      <td>-0.031223</td>\n",
       "      <td>...</td>\n",
       "      <td>-0.068987</td>\n",
       "      <td>-0.045628</td>\n",
       "      <td>0.045190</td>\n",
       "      <td>-0.019436</td>\n",
       "      <td>-0.040394</td>\n",
       "      <td>NaN</td>\n",
       "      <td>NaN</td>\n",
       "      <td>0.023377</td>\n",
       "      <td>0.028270</td>\n",
       "      <td>-0.107705</td>\n",
       "    </tr>\n",
       "    <tr>\n",
       "      <th>TotRmsAbvGrd</th>\n",
       "      <td>0.061745</td>\n",
       "      <td>0.276682</td>\n",
       "      <td>0.361821</td>\n",
       "      <td>0.383020</td>\n",
       "      <td>-0.075133</td>\n",
       "      <td>0.063589</td>\n",
       "      <td>0.162235</td>\n",
       "      <td>0.251703</td>\n",
       "      <td>-0.047973</td>\n",
       "      <td>-0.053992</td>\n",
       "      <td>...</td>\n",
       "      <td>0.125188</td>\n",
       "      <td>0.217254</td>\n",
       "      <td>-0.019914</td>\n",
       "      <td>-0.006072</td>\n",
       "      <td>-0.004705</td>\n",
       "      <td>NaN</td>\n",
       "      <td>NaN</td>\n",
       "      <td>0.051525</td>\n",
       "      <td>-0.039196</td>\n",
       "      <td>0.499500</td>\n",
       "    </tr>\n",
       "    <tr>\n",
       "      <th>Fireplaces</th>\n",
       "      <td>-0.016207</td>\n",
       "      <td>0.188521</td>\n",
       "      <td>0.278829</td>\n",
       "      <td>0.356518</td>\n",
       "      <td>-0.039511</td>\n",
       "      <td>0.129841</td>\n",
       "      <td>0.079376</td>\n",
       "      <td>0.190935</td>\n",
       "      <td>0.188542</td>\n",
       "      <td>0.015624</td>\n",
       "      <td>...</td>\n",
       "      <td>0.181662</td>\n",
       "      <td>0.114051</td>\n",
       "      <td>-0.026820</td>\n",
       "      <td>0.003865</td>\n",
       "      <td>0.166272</td>\n",
       "      <td>NaN</td>\n",
       "      <td>NaN</td>\n",
       "      <td>0.066059</td>\n",
       "      <td>-0.016555</td>\n",
       "      <td>0.435437</td>\n",
       "    </tr>\n",
       "    <tr>\n",
       "      <th>GarageYrBlt</th>\n",
       "      <td>0.085688</td>\n",
       "      <td>0.061494</td>\n",
       "      <td>0.012520</td>\n",
       "      <td>0.501720</td>\n",
       "      <td>-0.331092</td>\n",
       "      <td>0.783448</td>\n",
       "      <td>0.609015</td>\n",
       "      <td>0.213031</td>\n",
       "      <td>0.124736</td>\n",
       "      <td>-0.075701</td>\n",
       "      <td>...</td>\n",
       "      <td>0.223271</td>\n",
       "      <td>0.245682</td>\n",
       "      <td>-0.307379</td>\n",
       "      <td>0.017168</td>\n",
       "      <td>-0.073468</td>\n",
       "      <td>NaN</td>\n",
       "      <td>NaN</td>\n",
       "      <td>0.004273</td>\n",
       "      <td>-0.004076</td>\n",
       "      <td>0.507088</td>\n",
       "    </tr>\n",
       "    <tr>\n",
       "      <th>GarageCars</th>\n",
       "      <td>-0.022154</td>\n",
       "      <td>0.261739</td>\n",
       "      <td>0.259068</td>\n",
       "      <td>0.586999</td>\n",
       "      <td>-0.192404</td>\n",
       "      <td>0.542999</td>\n",
       "      <td>0.420563</td>\n",
       "      <td>0.326403</td>\n",
       "      <td>0.170757</td>\n",
       "      <td>-0.046499</td>\n",
       "      <td>...</td>\n",
       "      <td>0.205917</td>\n",
       "      <td>0.189037</td>\n",
       "      <td>-0.147927</td>\n",
       "      <td>0.036244</td>\n",
       "      <td>0.029485</td>\n",
       "      <td>NaN</td>\n",
       "      <td>NaN</td>\n",
       "      <td>0.032747</td>\n",
       "      <td>-0.026083</td>\n",
       "      <td>0.651134</td>\n",
       "    </tr>\n",
       "    <tr>\n",
       "      <th>GarageArea</th>\n",
       "      <td>-0.085828</td>\n",
       "      <td>0.290046</td>\n",
       "      <td>0.293150</td>\n",
       "      <td>0.539356</td>\n",
       "      <td>-0.155916</td>\n",
       "      <td>0.492879</td>\n",
       "      <td>0.372860</td>\n",
       "      <td>0.314752</td>\n",
       "      <td>0.210555</td>\n",
       "      <td>-0.017961</td>\n",
       "      <td>...</td>\n",
       "      <td>0.208895</td>\n",
       "      <td>0.216445</td>\n",
       "      <td>-0.137021</td>\n",
       "      <td>0.043858</td>\n",
       "      <td>0.022196</td>\n",
       "      <td>NaN</td>\n",
       "      <td>NaN</td>\n",
       "      <td>0.032730</td>\n",
       "      <td>-0.018969</td>\n",
       "      <td>0.638803</td>\n",
       "    </tr>\n",
       "    <tr>\n",
       "      <th>WoodDeckSF</th>\n",
       "      <td>-0.025447</td>\n",
       "      <td>0.095433</td>\n",
       "      <td>0.138360</td>\n",
       "      <td>0.191707</td>\n",
       "      <td>-0.018967</td>\n",
       "      <td>0.221502</td>\n",
       "      <td>0.193141</td>\n",
       "      <td>0.125055</td>\n",
       "      <td>0.175533</td>\n",
       "      <td>0.109865</td>\n",
       "      <td>...</td>\n",
       "      <td>1.000000</td>\n",
       "      <td>0.023168</td>\n",
       "      <td>-0.145966</td>\n",
       "      <td>-0.034840</td>\n",
       "      <td>-0.081042</td>\n",
       "      <td>NaN</td>\n",
       "      <td>NaN</td>\n",
       "      <td>0.048953</td>\n",
       "      <td>0.032435</td>\n",
       "      <td>0.281052</td>\n",
       "    </tr>\n",
       "    <tr>\n",
       "      <th>OpenPorchSF</th>\n",
       "      <td>0.010673</td>\n",
       "      <td>0.088521</td>\n",
       "      <td>0.104137</td>\n",
       "      <td>0.309554</td>\n",
       "      <td>-0.040080</td>\n",
       "      <td>0.193564</td>\n",
       "      <td>0.237406</td>\n",
       "      <td>0.098823</td>\n",
       "      <td>0.032706</td>\n",
       "      <td>-0.034326</td>\n",
       "      <td>...</td>\n",
       "      <td>0.023168</td>\n",
       "      <td>1.000000</td>\n",
       "      <td>-0.103063</td>\n",
       "      <td>-0.016287</td>\n",
       "      <td>-0.050749</td>\n",
       "      <td>NaN</td>\n",
       "      <td>NaN</td>\n",
       "      <td>0.088508</td>\n",
       "      <td>-0.035932</td>\n",
       "      <td>0.333417</td>\n",
       "    </tr>\n",
       "    <tr>\n",
       "      <th>EnclosedPorch</th>\n",
       "      <td>-0.019958</td>\n",
       "      <td>-0.017692</td>\n",
       "      <td>-0.024904</td>\n",
       "      <td>-0.141170</td>\n",
       "      <td>0.093423</td>\n",
       "      <td>-0.426382</td>\n",
       "      <td>-0.208118</td>\n",
       "      <td>-0.121705</td>\n",
       "      <td>-0.137709</td>\n",
       "      <td>0.022889</td>\n",
       "      <td>...</td>\n",
       "      <td>-0.145966</td>\n",
       "      <td>-0.103063</td>\n",
       "      <td>1.000000</td>\n",
       "      <td>-0.033284</td>\n",
       "      <td>-0.082334</td>\n",
       "      <td>NaN</td>\n",
       "      <td>NaN</td>\n",
       "      <td>-0.026030</td>\n",
       "      <td>-0.010750</td>\n",
       "      <td>-0.173634</td>\n",
       "    </tr>\n",
       "    <tr>\n",
       "      <th>3SsnPorch</th>\n",
       "      <td>-0.034593</td>\n",
       "      <td>0.072728</td>\n",
       "      <td>0.041017</td>\n",
       "      <td>0.039532</td>\n",
       "      <td>0.014751</td>\n",
       "      <td>0.019497</td>\n",
       "      <td>0.021997</td>\n",
       "      <td>0.046867</td>\n",
       "      <td>0.023034</td>\n",
       "      <td>-0.029138</td>\n",
       "      <td>...</td>\n",
       "      <td>-0.034840</td>\n",
       "      <td>-0.016287</td>\n",
       "      <td>-0.033284</td>\n",
       "      <td>1.000000</td>\n",
       "      <td>-0.027641</td>\n",
       "      <td>NaN</td>\n",
       "      <td>NaN</td>\n",
       "      <td>-0.000856</td>\n",
       "      <td>0.039362</td>\n",
       "      <td>0.044333</td>\n",
       "    </tr>\n",
       "    <tr>\n",
       "      <th>ScreenPorch</th>\n",
       "      <td>-0.018592</td>\n",
       "      <td>0.042142</td>\n",
       "      <td>0.082302</td>\n",
       "      <td>0.031728</td>\n",
       "      <td>0.055697</td>\n",
       "      <td>-0.041002</td>\n",
       "      <td>-0.033501</td>\n",
       "      <td>0.038254</td>\n",
       "      <td>0.075879</td>\n",
       "      <td>0.038917</td>\n",
       "      <td>...</td>\n",
       "      <td>-0.081042</td>\n",
       "      <td>-0.050749</td>\n",
       "      <td>-0.082334</td>\n",
       "      <td>-0.027641</td>\n",
       "      <td>1.000000</td>\n",
       "      <td>NaN</td>\n",
       "      <td>NaN</td>\n",
       "      <td>0.019244</td>\n",
       "      <td>0.044996</td>\n",
       "      <td>0.076193</td>\n",
       "    </tr>\n",
       "    <tr>\n",
       "      <th>PoolArea</th>\n",
       "      <td>NaN</td>\n",
       "      <td>NaN</td>\n",
       "      <td>NaN</td>\n",
       "      <td>NaN</td>\n",
       "      <td>NaN</td>\n",
       "      <td>NaN</td>\n",
       "      <td>NaN</td>\n",
       "      <td>NaN</td>\n",
       "      <td>NaN</td>\n",
       "      <td>NaN</td>\n",
       "      <td>...</td>\n",
       "      <td>NaN</td>\n",
       "      <td>NaN</td>\n",
       "      <td>NaN</td>\n",
       "      <td>NaN</td>\n",
       "      <td>NaN</td>\n",
       "      <td>NaN</td>\n",
       "      <td>NaN</td>\n",
       "      <td>NaN</td>\n",
       "      <td>NaN</td>\n",
       "      <td>NaN</td>\n",
       "    </tr>\n",
       "    <tr>\n",
       "      <th>MiscVal</th>\n",
       "      <td>NaN</td>\n",
       "      <td>NaN</td>\n",
       "      <td>NaN</td>\n",
       "      <td>NaN</td>\n",
       "      <td>NaN</td>\n",
       "      <td>NaN</td>\n",
       "      <td>NaN</td>\n",
       "      <td>NaN</td>\n",
       "      <td>NaN</td>\n",
       "      <td>NaN</td>\n",
       "      <td>...</td>\n",
       "      <td>NaN</td>\n",
       "      <td>NaN</td>\n",
       "      <td>NaN</td>\n",
       "      <td>NaN</td>\n",
       "      <td>NaN</td>\n",
       "      <td>NaN</td>\n",
       "      <td>NaN</td>\n",
       "      <td>NaN</td>\n",
       "      <td>NaN</td>\n",
       "      <td>NaN</td>\n",
       "    </tr>\n",
       "    <tr>\n",
       "      <th>MoSold</th>\n",
       "      <td>-0.022262</td>\n",
       "      <td>0.025354</td>\n",
       "      <td>0.020684</td>\n",
       "      <td>0.080609</td>\n",
       "      <td>-0.002099</td>\n",
       "      <td>0.013520</td>\n",
       "      <td>0.024529</td>\n",
       "      <td>0.037001</td>\n",
       "      <td>0.016890</td>\n",
       "      <td>-0.018865</td>\n",
       "      <td>...</td>\n",
       "      <td>0.048953</td>\n",
       "      <td>0.088508</td>\n",
       "      <td>-0.026030</td>\n",
       "      <td>-0.000856</td>\n",
       "      <td>0.019244</td>\n",
       "      <td>NaN</td>\n",
       "      <td>NaN</td>\n",
       "      <td>1.000000</td>\n",
       "      <td>-0.147676</td>\n",
       "      <td>0.098594</td>\n",
       "    </tr>\n",
       "    <tr>\n",
       "      <th>YrSold</th>\n",
       "      <td>-0.023045</td>\n",
       "      <td>0.019298</td>\n",
       "      <td>-0.025771</td>\n",
       "      <td>-0.021823</td>\n",
       "      <td>0.045253</td>\n",
       "      <td>-0.019621</td>\n",
       "      <td>0.040365</td>\n",
       "      <td>0.010706</td>\n",
       "      <td>0.024372</td>\n",
       "      <td>0.048206</td>\n",
       "      <td>...</td>\n",
       "      <td>0.032435</td>\n",
       "      <td>-0.035932</td>\n",
       "      <td>-0.010750</td>\n",
       "      <td>0.039362</td>\n",
       "      <td>0.044996</td>\n",
       "      <td>NaN</td>\n",
       "      <td>NaN</td>\n",
       "      <td>-0.147676</td>\n",
       "      <td>1.000000</td>\n",
       "      <td>-0.021481</td>\n",
       "    </tr>\n",
       "    <tr>\n",
       "      <th>SalePrice</th>\n",
       "      <td>-0.059335</td>\n",
       "      <td>0.321694</td>\n",
       "      <td>0.387234</td>\n",
       "      <td>0.798700</td>\n",
       "      <td>-0.099782</td>\n",
       "      <td>0.580887</td>\n",
       "      <td>0.554828</td>\n",
       "      <td>0.375954</td>\n",
       "      <td>0.323235</td>\n",
       "      <td>-0.023906</td>\n",
       "      <td>...</td>\n",
       "      <td>0.281052</td>\n",
       "      <td>0.333417</td>\n",
       "      <td>-0.173634</td>\n",
       "      <td>0.044333</td>\n",
       "      <td>0.076193</td>\n",
       "      <td>NaN</td>\n",
       "      <td>NaN</td>\n",
       "      <td>0.098594</td>\n",
       "      <td>-0.021481</td>\n",
       "      <td>1.000000</td>\n",
       "    </tr>\n",
       "  </tbody>\n",
       "</table>\n",
       "<p>37 rows × 37 columns</p>\n",
       "</div>"
      ],
      "text/plain": [
       "               MSSubClass  LotFrontage   LotArea  OverallQual  OverallCond  \\\n",
       "MSSubClass       1.000000    -0.414922 -0.435695     0.072280    -0.059734   \n",
       "LotFrontage     -0.414922     1.000000  0.587617     0.188642    -0.038270   \n",
       "LotArea         -0.435695     0.587617  1.000000     0.185100    -0.025732   \n",
       "OverallQual      0.072280     0.188642  0.185100     1.000000    -0.120799   \n",
       "OverallCond     -0.059734    -0.038270 -0.025732    -0.120799     1.000000   \n",
       "YearBuilt        0.031630     0.121850  0.076802     0.565421    -0.381957   \n",
       "YearRemodAdd     0.047601     0.069760  0.051805     0.532240     0.056104   \n",
       "MasVnrArea       0.026031     0.152160  0.112095     0.334481    -0.125248   \n",
       "BsmtFinSF1      -0.068149     0.108576  0.172792     0.120465    -0.033321   \n",
       "BsmtFinSF2      -0.053143     0.024500  0.054222    -0.073044     0.047894   \n",
       "BsmtUnfSF       -0.121735     0.109950  0.062589     0.256753    -0.174753   \n",
       "TotalBsmtSF     -0.265431     0.286149  0.319229     0.440687    -0.240907   \n",
       "1stFlrSF        -0.238972     0.333067  0.385984     0.411974    -0.155495   \n",
       "2ndFlrSF         0.310781     0.044417  0.097810     0.285490     0.009228   \n",
       "LowQualFinSF     0.052456    -0.004045 -0.013274    -0.066189     0.000546   \n",
       "GrLivArea        0.121410     0.280188  0.366729     0.553762    -0.103197   \n",
       "BsmtFullBath     0.023041     0.020914  0.060946     0.044867    -0.050831   \n",
       "BsmtHalfBath    -0.003456     0.000496  0.048521    -0.043114     0.129601   \n",
       "FullBath         0.140698     0.152840  0.174466     0.572277    -0.223928   \n",
       "HalfBath         0.181235     0.043478  0.104070     0.235798    -0.047882   \n",
       "BedroomAbvGr    -0.035788     0.261990  0.327346     0.101745     0.004745   \n",
       "KitchenAbvGr     0.279012     0.008024  0.004562    -0.146103    -0.059880   \n",
       "TotRmsAbvGrd     0.061745     0.276682  0.361821     0.383020    -0.075133   \n",
       "Fireplaces      -0.016207     0.188521  0.278829     0.356518    -0.039511   \n",
       "GarageYrBlt      0.085688     0.061494  0.012520     0.501720    -0.331092   \n",
       "GarageCars      -0.022154     0.261739  0.259068     0.586999    -0.192404   \n",
       "GarageArea      -0.085828     0.290046  0.293150     0.539356    -0.155916   \n",
       "WoodDeckSF      -0.025447     0.095433  0.138360     0.191707    -0.018967   \n",
       "OpenPorchSF      0.010673     0.088521  0.104137     0.309554    -0.040080   \n",
       "EnclosedPorch   -0.019958    -0.017692 -0.024904    -0.141170     0.093423   \n",
       "3SsnPorch       -0.034593     0.072728  0.041017     0.039532     0.014751   \n",
       "ScreenPorch     -0.018592     0.042142  0.082302     0.031728     0.055697   \n",
       "PoolArea              NaN          NaN       NaN          NaN          NaN   \n",
       "MiscVal               NaN          NaN       NaN          NaN          NaN   \n",
       "MoSold          -0.022262     0.025354  0.020684     0.080609    -0.002099   \n",
       "YrSold          -0.023045     0.019298 -0.025771    -0.021823     0.045253   \n",
       "SalePrice       -0.059335     0.321694  0.387234     0.798700    -0.099782   \n",
       "\n",
       "               YearBuilt  YearRemodAdd  MasVnrArea  BsmtFinSF1  BsmtFinSF2  \\\n",
       "MSSubClass      0.031630      0.047601    0.026031   -0.068149   -0.053143   \n",
       "LotFrontage     0.121850      0.069760    0.152160    0.108576    0.024500   \n",
       "LotArea         0.076802      0.051805    0.112095    0.172792    0.054222   \n",
       "OverallQual     0.565421      0.532240    0.334481    0.120465   -0.073044   \n",
       "OverallCond    -0.381957      0.056104   -0.125248   -0.033321    0.047894   \n",
       "YearBuilt       1.000000      0.591669    0.308147    0.226616   -0.038204   \n",
       "YearRemodAdd    0.591669      1.000000    0.129396    0.078457   -0.057168   \n",
       "MasVnrArea      0.308147      0.129396    1.000000    0.197193   -0.085258   \n",
       "BsmtFinSF1      0.226616      0.078457    0.197193    1.000000   -0.064817   \n",
       "BsmtFinSF2     -0.038204     -0.057168   -0.085258   -0.064817    1.000000   \n",
       "BsmtUnfSF       0.124628      0.152564    0.057269   -0.635423   -0.248337   \n",
       "TotalBsmtSF     0.419595      0.263597    0.274301    0.387684    0.091670   \n",
       "1stFlrSF        0.277340      0.234821    0.257441    0.351024    0.094960   \n",
       "2ndFlrSF       -0.009206      0.124595    0.111374   -0.223704   -0.112780   \n",
       "LowQualFinSF   -0.169037     -0.073645   -0.074378   -0.067073   -0.003064   \n",
       "GrLivArea       0.173427      0.276618    0.280561    0.038286   -0.036486   \n",
       "BsmtFullBath    0.176034      0.103519    0.079593    0.632361    0.160027   \n",
       "BsmtHalfBath   -0.032361     -0.014826    0.038772    0.074356    0.062226   \n",
       "FullBath        0.497641      0.462367    0.221201    0.022558   -0.085470   \n",
       "HalfBath        0.212963      0.161415    0.161714   -0.068224   -0.037552   \n",
       "BedroomAbvGr   -0.070997     -0.038651    0.141596   -0.106875   -0.029330   \n",
       "KitchenAbvGr   -0.190364     -0.116628   -0.018339   -0.040652   -0.031223   \n",
       "TotRmsAbvGrd    0.063589      0.162235    0.251703   -0.047973   -0.053992   \n",
       "Fireplaces      0.129841      0.079376    0.190935    0.188542    0.015624   \n",
       "GarageYrBlt     0.783448      0.609015    0.213031    0.124736   -0.075701   \n",
       "GarageCars      0.542999      0.420563    0.326403    0.170757   -0.046499   \n",
       "GarageArea      0.492879      0.372860    0.314752    0.210555   -0.017961   \n",
       "WoodDeckSF      0.221502      0.193141    0.125055    0.175533    0.109865   \n",
       "OpenPorchSF     0.193564      0.237406    0.098823    0.032706   -0.034326   \n",
       "EnclosedPorch  -0.426382     -0.208118   -0.121705   -0.137709    0.022889   \n",
       "3SsnPorch       0.019497      0.021997    0.046867    0.023034   -0.029138   \n",
       "ScreenPorch    -0.041002     -0.033501    0.038254    0.075879    0.038917   \n",
       "PoolArea             NaN           NaN         NaN         NaN         NaN   \n",
       "MiscVal              NaN           NaN         NaN         NaN         NaN   \n",
       "MoSold          0.013520      0.024529    0.037001    0.016890   -0.018865   \n",
       "YrSold         -0.019621      0.040365    0.010706    0.024372    0.048206   \n",
       "SalePrice       0.580887      0.554828    0.375954    0.323235   -0.023906   \n",
       "\n",
       "               ...  WoodDeckSF  OpenPorchSF  EnclosedPorch  3SsnPorch  \\\n",
       "MSSubClass     ...   -0.025447     0.010673      -0.019958  -0.034593   \n",
       "LotFrontage    ...    0.095433     0.088521      -0.017692   0.072728   \n",
       "LotArea        ...    0.138360     0.104137      -0.024904   0.041017   \n",
       "OverallQual    ...    0.191707     0.309554      -0.141170   0.039532   \n",
       "OverallCond    ...   -0.018967    -0.040080       0.093423   0.014751   \n",
       "YearBuilt      ...    0.221502     0.193564      -0.426382   0.019497   \n",
       "YearRemodAdd   ...    0.193141     0.237406      -0.208118   0.021997   \n",
       "MasVnrArea     ...    0.125055     0.098823      -0.121705   0.046867   \n",
       "BsmtFinSF1     ...    0.175533     0.032706      -0.137709   0.023034   \n",
       "BsmtFinSF2     ...    0.109865    -0.034326       0.022889  -0.029138   \n",
       "BsmtUnfSF      ...   -0.061934     0.113739       0.010388   0.036764   \n",
       "TotalBsmtSF    ...    0.190694     0.168821      -0.145096   0.061095   \n",
       "1stFlrSF       ...    0.196136     0.139255      -0.079484   0.053310   \n",
       "2ndFlrSF       ...    0.043740     0.206354       0.041723  -0.017323   \n",
       "LowQualFinSF   ...   -0.014701     0.010791       0.026642   0.001125   \n",
       "GrLivArea      ...    0.180009     0.292340      -0.015758   0.022403   \n",
       "BsmtFullBath   ...    0.147476     0.033065      -0.074608  -0.024059   \n",
       "BsmtHalfBath   ...    0.039315    -0.041955      -0.027658   0.056503   \n",
       "FullBath       ...    0.165620     0.276379      -0.165195   0.052220   \n",
       "HalfBath       ...    0.061687     0.174840      -0.102459   0.002251   \n",
       "BedroomAbvGr   ...    0.045098     0.091452      -0.000197   0.000708   \n",
       "KitchenAbvGr   ...   -0.068987    -0.045628       0.045190  -0.019436   \n",
       "TotRmsAbvGrd   ...    0.125188     0.217254      -0.019914  -0.006072   \n",
       "Fireplaces     ...    0.181662     0.114051      -0.026820   0.003865   \n",
       "GarageYrBlt    ...    0.223271     0.245682      -0.307379   0.017168   \n",
       "GarageCars     ...    0.205917     0.189037      -0.147927   0.036244   \n",
       "GarageArea     ...    0.208895     0.216445      -0.137021   0.043858   \n",
       "WoodDeckSF     ...    1.000000     0.023168      -0.145966  -0.034840   \n",
       "OpenPorchSF    ...    0.023168     1.000000      -0.103063  -0.016287   \n",
       "EnclosedPorch  ...   -0.145966    -0.103063       1.000000  -0.033284   \n",
       "3SsnPorch      ...   -0.034840    -0.016287      -0.033284   1.000000   \n",
       "ScreenPorch    ...   -0.081042    -0.050749      -0.082334  -0.027641   \n",
       "PoolArea       ...         NaN          NaN            NaN        NaN   \n",
       "MiscVal        ...         NaN          NaN            NaN        NaN   \n",
       "MoSold         ...    0.048953     0.088508      -0.026030  -0.000856   \n",
       "YrSold         ...    0.032435    -0.035932      -0.010750   0.039362   \n",
       "SalePrice      ...    0.281052     0.333417      -0.173634   0.044333   \n",
       "\n",
       "               ScreenPorch  PoolArea  MiscVal    MoSold    YrSold  SalePrice  \n",
       "MSSubClass       -0.018592       NaN      NaN -0.022262 -0.023045  -0.059335  \n",
       "LotFrontage       0.042142       NaN      NaN  0.025354  0.019298   0.321694  \n",
       "LotArea           0.082302       NaN      NaN  0.020684 -0.025771   0.387234  \n",
       "OverallQual       0.031728       NaN      NaN  0.080609 -0.021823   0.798700  \n",
       "OverallCond       0.055697       NaN      NaN -0.002099  0.045253  -0.099782  \n",
       "YearBuilt        -0.041002       NaN      NaN  0.013520 -0.019621   0.580887  \n",
       "YearRemodAdd     -0.033501       NaN      NaN  0.024529  0.040365   0.554828  \n",
       "MasVnrArea        0.038254       NaN      NaN  0.037001  0.010706   0.375954  \n",
       "BsmtFinSF1        0.075879       NaN      NaN  0.016890  0.024372   0.323235  \n",
       "BsmtFinSF2        0.038917       NaN      NaN -0.018865  0.048206  -0.023906  \n",
       "BsmtUnfSF        -0.035135       NaN      NaN  0.039347 -0.041856   0.151830  \n",
       "TotalBsmtSF       0.067556       NaN      NaN  0.061851  0.000089   0.580304  \n",
       "1stFlrSF          0.083670       NaN      NaN  0.073712 -0.013138   0.571654  \n",
       "2ndFlrSF         -0.007174       NaN      NaN  0.033260 -0.018377   0.304897  \n",
       "LowQualFinSF     -0.030680       NaN      NaN -0.016436  0.003444  -0.068981  \n",
       "GrLivArea         0.050347       NaN      NaN  0.082102 -0.026109   0.686254  \n",
       "BsmtFullBath      0.023596       NaN      NaN -0.020505  0.072301   0.193827  \n",
       "BsmtHalfBath      0.024249       NaN      NaN  0.041011 -0.037984  -0.020329  \n",
       "FullBath         -0.049869       NaN      NaN  0.059846 -0.004270   0.594021  \n",
       "HalfBath          0.056126       NaN      NaN -0.011447 -0.003791   0.264817  \n",
       "BedroomAbvGr     -0.009121       NaN      NaN  0.040939 -0.036961   0.182058  \n",
       "KitchenAbvGr     -0.040394       NaN      NaN  0.023377  0.028270  -0.107705  \n",
       "TotRmsAbvGrd     -0.004705       NaN      NaN  0.051525 -0.039196   0.499500  \n",
       "Fireplaces        0.166272       NaN      NaN  0.066059 -0.016555   0.435437  \n",
       "GarageYrBlt      -0.073468       NaN      NaN  0.004273 -0.004076   0.507088  \n",
       "GarageCars        0.029485       NaN      NaN  0.032747 -0.026083   0.651134  \n",
       "GarageArea        0.022196       NaN      NaN  0.032730 -0.018969   0.638803  \n",
       "WoodDeckSF       -0.081042       NaN      NaN  0.048953  0.032435   0.281052  \n",
       "OpenPorchSF      -0.050749       NaN      NaN  0.088508 -0.035932   0.333417  \n",
       "EnclosedPorch    -0.082334       NaN      NaN -0.026030 -0.010750  -0.173634  \n",
       "3SsnPorch        -0.027641       NaN      NaN -0.000856  0.039362   0.044333  \n",
       "ScreenPorch       1.000000       NaN      NaN  0.019244  0.044996   0.076193  \n",
       "PoolArea               NaN       NaN      NaN       NaN       NaN        NaN  \n",
       "MiscVal                NaN       NaN      NaN       NaN       NaN        NaN  \n",
       "MoSold            0.019244       NaN      NaN  1.000000 -0.147676   0.098594  \n",
       "YrSold            0.044996       NaN      NaN -0.147676  1.000000  -0.021481  \n",
       "SalePrice         0.076193       NaN      NaN  0.098594 -0.021481   1.000000  \n",
       "\n",
       "[37 rows x 37 columns]"
      ]
     },
     "execution_count": 89,
     "metadata": {},
     "output_type": "execute_result"
    }
   ],
   "source": [
    "# correlation matrix\n",
    "cor = df.corr()\n",
    "cor"
   ]
  },
  {
   "cell_type": "code",
   "execution_count": 90,
   "metadata": {},
   "outputs": [
    {
     "data": {
      "image/png": "[encoded data removed]",
      "text/plain": [
       "<Figure size 1152x576 with 2 Axes>"
      ]
     },
     "metadata": {
      "needs_background": "light"
     },
     "output_type": "display_data"
    }
   ],
   "source": [
    "# plotting correlations on a heatmap\n",
    "\n",
    "# figure size\n",
    "plt.figure(figsize=(16,8))\n",
    "\n",
    "# heatmap\n",
    "sns.heatmap(cor, cmap=\"YlGnBu\", annot=True)\n",
    "plt.show()"
   ]
  },
  {
   "cell_type": "markdown",
   "metadata": {},
   "source": [
    "# Data Preparation"
   ]
  },
  {
   "cell_type": "markdown",
   "metadata": {},
   "source": [
    "### Dummy Creation"
   ]
  },
  {
   "cell_type": "code",
   "execution_count": 91,
   "metadata": {},
   "outputs": [],
   "source": [
    "# Creating dummy variables for the remaining categorical variables and dropping the level with big names.\n",
    "\n",
    "# Creating dummy variables for the variable 'MSZoning'\n",
    "ml = pd.get_dummies(df['MSZoning'], prefix = 'MSZoning')\n",
    "\n",
    "#Adding the results to the master dataframe\n",
    "df = pd.concat([df, ml], axis = 1)\n",
    "\n",
    "ml = pd.get_dummies(df['LotShape'], prefix = 'LotShape')\n",
    "\n",
    "# Adding the results to the masterframe\n",
    "df = pd.concat([df, ml], axis = 1)\n",
    "\n",
    "# Creating dummy variables for the variable Land Contour\n",
    "ml = pd.get_dummies(df['LandContour'], prefix = 'LandContour')\n",
    "# Adding the result to the masterframe\n",
    "df = pd.concat([df, ml], axis = 1)\n",
    "\n",
    "# Creating dummy variables for Lot Config\n",
    "ml = pd.get_dummies(df['LotConfig'], prefix = 'LotConfig')\n",
    "# Adding the variables to the dataframe\n",
    "df = pd.concat([df, ml], axis  = 1)\n",
    "\n",
    "# Creating the dummy variable for Neighborhood\n",
    "ml = pd.get_dummies(df['Neighborhood'], prefix = 'Neighborhood')\n",
    "# Adding the variables to the dataframe\n",
    "df = pd.concat([df, ml], axis = 1)\n",
    "\n",
    "# Creating dummy variables for Condition1\n",
    "ml = pd.get_dummies(df['Condition1'], prefix = 'Condition1')\n",
    "# Adding the variables to the dataframe\n",
    "df = pd.concat([df, ml], axis = 1)\n",
    "\n",
    "# Creating dummy variables for BldgType\n",
    "ml = pd.get_dummies(df['BldgType'], prefix = 'BldgType')\n",
    "# Adding the variables to the dataframe\n",
    "df = pd.concat([df, ml], axis = 1)\n",
    "\n",
    "# Creating dummy variables for HouseStyle\n",
    "ml = pd.get_dummies(df['HouseStyle'], prefix = 'HouseStyle')\n",
    "# Adding the variable to the dataframe\n",
    "df = pd.concat([df, ml], axis = 1)\n",
    "\n",
    "# Creating Dummy Variable for RoofStyle\n",
    "ml = pd.get_dummies(df['RoofStyle'], prefix = 'RoofStyle')\n",
    "# Adding the varibles to the dataframe\n",
    "df = pd.concat([df, ml], axis = 1)\n",
    "\n",
    "# Creating dummy variable for Exterior1st\n",
    "ml = pd.get_dummies(df['Exterior1st'], prefix = 'Exterior1st')\n",
    "# Adding the variables to the dataframe\n",
    "df = pd.concat([df, ml], axis = 1)\n",
    "\n",
    "# Creating dummy variable for Exterior2nd\n",
    "ml = pd.get_dummies(df['Exterior2nd'], prefix = 'Exterior2nd')\n",
    "# Adding the variables to the dataframe\n",
    "df = pd.concat([df, ml], axis = 1)\n",
    "\n",
    "# Creating dummy variable for MasVnrArea \n",
    "ml = pd.get_dummies(df['MasVnrType'], prefix = 'MasVnrType')\n",
    "# Adding the variables to the dataframe\n",
    "df = pd.concat([df, ml], axis = 1)\n",
    "\n",
    "# Creating dummy variable for ExterQual \n",
    "ml = pd.get_dummies(df['ExterQual'], prefix = 'ExterQual')\n",
    "# Adding the variables to the dataframe\n",
    "df = pd.concat([df, ml], axis = 1)\n",
    "\n",
    "# Creating dummy variable for ExterCond \n",
    "ml = pd.get_dummies(df['ExterCond'], prefix = 'ExterCond')\n",
    "# Adding the variables to the dataframe\n",
    "df = pd.concat([df, ml], axis = 1)\n",
    "\n",
    "# Creating dummy variable for Foundation \n",
    "ml = pd.get_dummies(df['Foundation'], prefix = 'Foundation')\n",
    "# Adding the variables to the dataframe\n",
    "df = pd.concat([df, ml], axis = 1)\n",
    "\n",
    "\n",
    "# Creating dummy variable for BsmtQual \n",
    "ml = pd.get_dummies(df['BsmtQual'], prefix = 'BsmtQual')\n",
    "# Adding the variables to the dataframe\n",
    "df = pd.concat([df, ml], axis = 1)\n",
    "\n",
    "\n",
    "# Creating dummy variable for BsmtCond \n",
    "ml = pd.get_dummies(df['BsmtCond'], prefix = 'BsmtCond')\n",
    "# Adding the variables to the dataframe\n",
    "df = pd.concat([df, ml], axis = 1)\n",
    "\n",
    "# Creating dummy variable for BsmtExposure \n",
    "ml = pd.get_dummies(df['BsmtExposure'], prefix = 'BsmtExposure')\n",
    "# Adding the variables to the dataframe\n",
    "df = pd.concat([df, ml], axis = 1)\n",
    "\n",
    "\n",
    "# Creating dummy variable for BsmtFinType1 \n",
    "ml = pd.get_dummies(df['BsmtFinType1'], prefix = 'BsmtFinType1')\n",
    "# Adding the variables to the dataframe\n",
    "df = pd.concat([df, ml], axis = 1)\n",
    "\n",
    "\n",
    "# Creating dummy variable for BsmtFinType2 \n",
    "ml = pd.get_dummies(df['BsmtFinType2'], prefix = 'BsmtFinType2')\n",
    "# Adding the variables to the dataframe\n",
    "df = pd.concat([df, ml], axis = 1)\n",
    "\n",
    "\n",
    "# Creating dummy variable for HeatingQC \n",
    "ml = pd.get_dummies(df['HeatingQC'], prefix = 'HeatingQC')\n",
    "# Adding the variables to the dataframe\n",
    "df = pd.concat([df, ml], axis = 1)\n",
    "\n",
    "\n",
    "# Creating dummy variable for KitchenQual \n",
    "ml = pd.get_dummies(df['KitchenQual'], prefix = 'KitchenQual')\n",
    "# Adding the variables to the dataframe\n",
    "df = pd.concat([df, ml], axis = 1)\n",
    "\n",
    "\n",
    "# Creating dummy variable for Functional \n",
    "ml = pd.get_dummies(df['Functional'], prefix = 'Functional')\n",
    "# Adding the variables to the dataframe\n",
    "df = pd.concat([df, ml], axis = 1)\n",
    "\n",
    "# Creating dummy variable for FireplaceQu \n",
    "ml = pd.get_dummies(df['FireplaceQu'], prefix = 'FireplaceQu')\n",
    "# Adding the variables to the dataframe\n",
    "df = pd.concat([df, ml], axis = 1)\n",
    "\n",
    "# Creating dummy variable for GarageType \n",
    "ml = pd.get_dummies(df['GarageType'], prefix = 'GarageType')\n",
    "# Adding the variables to the dataframe\n",
    "df = pd.concat([df, ml], axis = 1)\n",
    "\n",
    "\n",
    "# Creating dummy variable for GarageFinish \n",
    "ml = pd.get_dummies(df['GarageFinish'], prefix = 'GarageFinish')\n",
    "# Adding the variables to the dataframe\n",
    "df = pd.concat([df, ml], axis = 1)\n",
    "\n",
    "# Creating dummy variable for GarageQual \n",
    "ml = pd.get_dummies(df['GarageQual'], prefix = 'GarageQual')\n",
    "# Adding the variables to the dataframe\n",
    "df = pd.concat([df, ml], axis = 1)\n",
    "\n",
    "# Creating dummy variable for Fence \n",
    "ml = pd.get_dummies(df['SaleType'], prefix = 'Fence')\n",
    "# Adding the variables to the dataframe\n",
    "df = pd.concat([df, ml], axis = 1)\n",
    "\n",
    "# Creating dummy variable for SaleType \n",
    "ml = pd.get_dummies(df['SaleType'], prefix = 'SaleType')\n",
    "# Adding the variables to the dataframe\n",
    "df = pd.concat([df, ml], axis = 1)\n",
    "\n",
    "\n",
    "# Creating dummy variable for SaleCondition \n",
    "ml = pd.get_dummies(df['SaleCondition'], prefix = 'SaleCondition')\n",
    "# Adding the variables to the dataframe\n",
    "df = pd.concat([df, ml], axis = 1)\n",
    "\n",
    "# Creating dummy variable for SaleCondition \n",
    "ml = pd.get_dummies(df['Fence'], prefix = 'Fence')\n",
    "# Adding the variables to the dataframe\n",
    "df = pd.concat([df, ml], axis = 1)"
   ]
  },
  {
   "cell_type": "code",
   "execution_count": 92,
   "metadata": {},
   "outputs": [
    {
     "data": {
      "text/plain": [
       "(1202, 276)"
      ]
     },
     "execution_count": 92,
     "metadata": {},
     "output_type": "execute_result"
    }
   ],
   "source": [
    "df.shape"
   ]
  },
  {
   "cell_type": "code",
   "execution_count": 93,
   "metadata": {},
   "outputs": [],
   "source": [
    "df = df.drop(['SaleCondition', 'SaleType', 'GarageQual', 'GarageFinish', 'GarageType', 'FireplaceQu', 'Functional', 'KitchenQual', 'HeatingQC', 'BsmtFinType2', 'BsmtFinType1', 'BsmtExposure', 'BsmtCond', 'BsmtQual', 'Foundation', 'ExterCond', 'ExterQual', 'MasVnrType', 'Exterior2nd', 'Exterior1st', 'RoofStyle', 'HouseStyle', 'BldgType', 'Condition1', 'Neighborhood', 'LotConfig', 'LandContour', 'LotShape', 'Fence', 'MSZoning'], axis = 1)"
   ]
  },
  {
   "cell_type": "markdown",
   "metadata": {},
   "source": [
    "## Target Column"
   ]
  },
  {
   "cell_type": "markdown",
   "metadata": {},
   "source": [
    "### Sales Price"
   ]
  },
  {
   "cell_type": "code",
   "execution_count": 94,
   "metadata": {},
   "outputs": [
    {
     "data": {
      "text/plain": [
       "<matplotlib.axes._subplots.AxesSubplot at 0x249955f9b00>"
      ]
     },
     "execution_count": 94,
     "metadata": {},
     "output_type": "execute_result"
    },
    {
     "data": {
      "image/png": "[encoded data removed]",
      "text/plain": [
       "<Figure size 432x288 with 1 Axes>"
      ]
     },
     "metadata": {
      "needs_background": "light"
     },
     "output_type": "display_data"
    }
   ],
   "source": [
    "#Let's visualize the distribution of sale price\n",
    "sns.distplot(df['SalePrice'])"
   ]
  },
  {
   "cell_type": "code",
   "execution_count": 95,
   "metadata": {},
   "outputs": [
    {
     "data": {
      "text/plain": [
       "<matplotlib.axes._subplots.AxesSubplot at 0x24994a1bfd0>"
      ]
     },
     "execution_count": 95,
     "metadata": {},
     "output_type": "execute_result"
    },
    {
     "data": {
      "image/png": "[encoded data removed]",
      "text/plain": [
       "<Figure size 432x288 with 1 Axes>"
      ]
     },
     "metadata": {
      "needs_background": "light"
     },
     "output_type": "display_data"
    }
   ],
   "source": [
    "# Converting into logarithmic scale to distribute it normally\n",
    "df['SalePrice'] = df['SalePrice'].apply(np.log)\n",
    "sns.distplot(df['SalePrice'])"
   ]
  },
  {
   "cell_type": "markdown",
   "metadata": {},
   "source": [
    "##### Target Column is normally distributed "
   ]
  },
  {
   "cell_type": "markdown",
   "metadata": {},
   "source": [
    "## Derived Features\n"
   ]
  },
  {
   "cell_type": "markdown",
   "metadata": {},
   "source": [
    "## Age"
   ]
  },
  {
   "cell_type": "code",
   "execution_count": 96,
   "metadata": {},
   "outputs": [],
   "source": [
    "#Getting the age of the houses\n",
    "df['CurrentYear'] = datetime.datetime.now().year\n",
    "df['Age'] = df['CurrentYear'] - df['YearBuilt']\n"
   ]
  },
  {
   "cell_type": "markdown",
   "metadata": {},
   "source": [
    "## Garage Age"
   ]
  },
  {
   "cell_type": "code",
   "execution_count": 97,
   "metadata": {},
   "outputs": [],
   "source": [
    "df['Garage Age'] = df['CurrentYear'] - df['GarageYrBlt']"
   ]
  },
  {
   "cell_type": "markdown",
   "metadata": {},
   "source": [
    "## Age Sold"
   ]
  },
  {
   "cell_type": "code",
   "execution_count": 98,
   "metadata": {},
   "outputs": [],
   "source": [
    "df['AgeSold'] = df['CurrentYear'] - df['YrSold']"
   ]
  },
  {
   "cell_type": "markdown",
   "metadata": {},
   "source": [
    "## Age Remod Add"
   ]
  },
  {
   "cell_type": "code",
   "execution_count": 99,
   "metadata": {},
   "outputs": [],
   "source": [
    "df['AgeRemodAdd'] = df['CurrentYear'] - df['YearRemodAdd']"
   ]
  },
  {
   "cell_type": "code",
   "execution_count": 100,
   "metadata": {},
   "outputs": [
    {
     "data": {
      "text/html": [
       "<div>\n",
       "<style scoped>\n",
       "    .dataframe tbody tr th:only-of-type {\n",
       "        vertical-align: middle;\n",
       "    }\n",
       "\n",
       "    .dataframe tbody tr th {\n",
       "        vertical-align: top;\n",
       "    }\n",
       "\n",
       "    .dataframe thead th {\n",
       "        text-align: right;\n",
       "    }\n",
       "</style>\n",
       "<table border=\"1\" class=\"dataframe\">\n",
       "  <thead>\n",
       "    <tr style=\"text-align: right;\">\n",
       "      <th></th>\n",
       "      <th>MSSubClass</th>\n",
       "      <th>LotFrontage</th>\n",
       "      <th>LotArea</th>\n",
       "      <th>OverallQual</th>\n",
       "      <th>OverallCond</th>\n",
       "      <th>YearBuilt</th>\n",
       "      <th>YearRemodAdd</th>\n",
       "      <th>MasVnrArea</th>\n",
       "      <th>BsmtFinSF1</th>\n",
       "      <th>BsmtFinSF2</th>\n",
       "      <th>...</th>\n",
       "      <th>Fence_GdPrv</th>\n",
       "      <th>Fence_GdWo</th>\n",
       "      <th>Fence_MnPrv</th>\n",
       "      <th>Fence_MnWw</th>\n",
       "      <th>Fence_No Fence</th>\n",
       "      <th>CurrentYear</th>\n",
       "      <th>Age</th>\n",
       "      <th>Garage Age</th>\n",
       "      <th>AgeSold</th>\n",
       "      <th>AgeRemodAdd</th>\n",
       "    </tr>\n",
       "  </thead>\n",
       "  <tbody>\n",
       "    <tr>\n",
       "      <th>0</th>\n",
       "      <td>60</td>\n",
       "      <td>65.0</td>\n",
       "      <td>8450</td>\n",
       "      <td>7</td>\n",
       "      <td>5</td>\n",
       "      <td>2003</td>\n",
       "      <td>2003</td>\n",
       "      <td>196.0</td>\n",
       "      <td>706</td>\n",
       "      <td>0</td>\n",
       "      <td>...</td>\n",
       "      <td>0</td>\n",
       "      <td>0</td>\n",
       "      <td>0</td>\n",
       "      <td>0</td>\n",
       "      <td>1</td>\n",
       "      <td>2020</td>\n",
       "      <td>17</td>\n",
       "      <td>17.0</td>\n",
       "      <td>12</td>\n",
       "      <td>17</td>\n",
       "    </tr>\n",
       "    <tr>\n",
       "      <th>1</th>\n",
       "      <td>20</td>\n",
       "      <td>80.0</td>\n",
       "      <td>9600</td>\n",
       "      <td>6</td>\n",
       "      <td>8</td>\n",
       "      <td>1976</td>\n",
       "      <td>1976</td>\n",
       "      <td>0.0</td>\n",
       "      <td>978</td>\n",
       "      <td>0</td>\n",
       "      <td>...</td>\n",
       "      <td>0</td>\n",
       "      <td>0</td>\n",
       "      <td>0</td>\n",
       "      <td>0</td>\n",
       "      <td>1</td>\n",
       "      <td>2020</td>\n",
       "      <td>44</td>\n",
       "      <td>44.0</td>\n",
       "      <td>13</td>\n",
       "      <td>44</td>\n",
       "    </tr>\n",
       "    <tr>\n",
       "      <th>2</th>\n",
       "      <td>60</td>\n",
       "      <td>68.0</td>\n",
       "      <td>11250</td>\n",
       "      <td>7</td>\n",
       "      <td>5</td>\n",
       "      <td>2001</td>\n",
       "      <td>2002</td>\n",
       "      <td>162.0</td>\n",
       "      <td>486</td>\n",
       "      <td>0</td>\n",
       "      <td>...</td>\n",
       "      <td>0</td>\n",
       "      <td>0</td>\n",
       "      <td>0</td>\n",
       "      <td>0</td>\n",
       "      <td>1</td>\n",
       "      <td>2020</td>\n",
       "      <td>19</td>\n",
       "      <td>19.0</td>\n",
       "      <td>12</td>\n",
       "      <td>18</td>\n",
       "    </tr>\n",
       "    <tr>\n",
       "      <th>3</th>\n",
       "      <td>70</td>\n",
       "      <td>60.0</td>\n",
       "      <td>9550</td>\n",
       "      <td>7</td>\n",
       "      <td>5</td>\n",
       "      <td>1915</td>\n",
       "      <td>1970</td>\n",
       "      <td>0.0</td>\n",
       "      <td>216</td>\n",
       "      <td>0</td>\n",
       "      <td>...</td>\n",
       "      <td>0</td>\n",
       "      <td>0</td>\n",
       "      <td>0</td>\n",
       "      <td>0</td>\n",
       "      <td>1</td>\n",
       "      <td>2020</td>\n",
       "      <td>105</td>\n",
       "      <td>22.0</td>\n",
       "      <td>14</td>\n",
       "      <td>50</td>\n",
       "    </tr>\n",
       "    <tr>\n",
       "      <th>4</th>\n",
       "      <td>60</td>\n",
       "      <td>84.0</td>\n",
       "      <td>14260</td>\n",
       "      <td>8</td>\n",
       "      <td>5</td>\n",
       "      <td>2000</td>\n",
       "      <td>2000</td>\n",
       "      <td>350.0</td>\n",
       "      <td>655</td>\n",
       "      <td>0</td>\n",
       "      <td>...</td>\n",
       "      <td>0</td>\n",
       "      <td>0</td>\n",
       "      <td>0</td>\n",
       "      <td>0</td>\n",
       "      <td>1</td>\n",
       "      <td>2020</td>\n",
       "      <td>20</td>\n",
       "      <td>20.0</td>\n",
       "      <td>12</td>\n",
       "      <td>20</td>\n",
       "    </tr>\n",
       "  </tbody>\n",
       "</table>\n",
       "<p>5 rows × 251 columns</p>\n",
       "</div>"
      ],
      "text/plain": [
       "   MSSubClass  LotFrontage  LotArea  OverallQual  OverallCond  YearBuilt  \\\n",
       "0          60         65.0     8450            7            5       2003   \n",
       "1          20         80.0     9600            6            8       1976   \n",
       "2          60         68.0    11250            7            5       2001   \n",
       "3          70         60.0     9550            7            5       1915   \n",
       "4          60         84.0    14260            8            5       2000   \n",
       "\n",
       "   YearRemodAdd  MasVnrArea  BsmtFinSF1  BsmtFinSF2  ...  Fence_GdPrv  \\\n",
       "0          2003       196.0         706           0  ...            0   \n",
       "1          1976         0.0         978           0  ...            0   \n",
       "2          2002       162.0         486           0  ...            0   \n",
       "3          1970         0.0         216           0  ...            0   \n",
       "4          2000       350.0         655           0  ...            0   \n",
       "\n",
       "   Fence_GdWo  Fence_MnPrv  Fence_MnWw  Fence_No Fence  CurrentYear  Age  \\\n",
       "0           0            0           0               1         2020   17   \n",
       "1           0            0           0               1         2020   44   \n",
       "2           0            0           0               1         2020   19   \n",
       "3           0            0           0               1         2020  105   \n",
       "4           0            0           0               1         2020   20   \n",
       "\n",
       "   Garage Age  AgeSold  AgeRemodAdd  \n",
       "0        17.0       12           17  \n",
       "1        44.0       13           44  \n",
       "2        19.0       12           18  \n",
       "3        22.0       14           50  \n",
       "4        20.0       12           20  \n",
       "\n",
       "[5 rows x 251 columns]"
      ]
     },
     "execution_count": 100,
     "metadata": {},
     "output_type": "execute_result"
    }
   ],
   "source": [
    "df.head()"
   ]
  },
  {
   "cell_type": "code",
   "execution_count": 101,
   "metadata": {},
   "outputs": [
    {
     "data": {
      "text/plain": [
       "(1202, 246)"
      ]
     },
     "execution_count": 101,
     "metadata": {},
     "output_type": "execute_result"
    }
   ],
   "source": [
    "# Dropping original columns and Current year\n",
    "df.drop(['CurrentYear', 'YearBuilt', 'YearRemodAdd', 'YrSold', 'GarageYrBlt'], axis = 1, inplace = True)\n",
    "df.shape"
   ]
  },
  {
   "cell_type": "markdown",
   "metadata": {},
   "source": [
    "# Model Building"
   ]
  },
  {
   "cell_type": "code",
   "execution_count": 102,
   "metadata": {},
   "outputs": [
    {
     "name": "stderr",
     "output_type": "stream",
     "text": [
      "G:\\anaconda\\lib\\site-packages\\sklearn\\preprocessing\\data.py:645: DataConversionWarning: Data with input dtype uint8, int64, float64 were all converted to float64 by StandardScaler.\n",
      "  return self.partial_fit(X, y)\n"
     ]
    }
   ],
   "source": [
    "# model coefficients\n",
    "y = df.loc[:, 'SalePrice']\n",
    "X = df.loc[:, df.columns != 'SalePrice']\n",
    "\n",
    "# scale\n",
    "scaler = StandardScaler()\n",
    "scaler.fit(X)\n",
    "\n",
    "# split\n",
    "X_train, X_test, y_train, y_test = train_test_split(X, y, \n",
    "                                                    test_size = 0.2, \n",
    "                                                    random_state = 1)"
   ]
  },
  {
   "cell_type": "markdown",
   "metadata": {},
   "source": [
    "## Ridge Regression"
   ]
  },
  {
   "cell_type": "code",
   "execution_count": 103,
   "metadata": {},
   "outputs": [
    {
     "name": "stderr",
     "output_type": "stream",
     "text": [
      "[Parallel(n_jobs=1)]: Using backend SequentialBackend with 1 concurrent workers.\n"
     ]
    },
    {
     "name": "stdout",
     "output_type": "stream",
     "text": [
      "Fitting 5 folds for each of 28 candidates, totalling 140 fits\n"
     ]
    },
    {
     "name": "stderr",
     "output_type": "stream",
     "text": [
      "[Parallel(n_jobs=1)]: Done 140 out of 140 | elapsed:    1.5s finished\n"
     ]
    },
    {
     "data": {
      "text/plain": [
       "GridSearchCV(cv=5, error_score='raise-deprecating',\n",
       "       estimator=Ridge(alpha=1.0, copy_X=True, fit_intercept=True, max_iter=None,\n",
       "   normalize=False, random_state=None, solver='auto', tol=0.001),\n",
       "       fit_params=None, iid='warn', n_jobs=None,\n",
       "       param_grid={'alpha': [0.0001, 0.001, 0.01, 0.05, 0.1, 0.2, 0.3, 0.4, 0.5, 0.6, 0.7, 0.8, 0.9, 1.0, 2.0, 3.0, 4.0, 5.0, 6.0, 7.0, 8.0, 9.0, 10.0, 20, 50, 100, 500, 1000]},\n",
       "       pre_dispatch='2*n_jobs', refit=True, return_train_score=True,\n",
       "       scoring='neg_mean_absolute_error', verbose=1)"
      ]
     },
     "execution_count": 103,
     "metadata": {},
     "output_type": "execute_result"
    }
   ],
   "source": [
    "# list of alphas to tune\n",
    "params = {'alpha': [0.0001, 0.001, 0.01, 0.05, 0.1, \n",
    " 0.2, 0.3, 0.4, 0.5, 0.6, 0.7, 0.8, 0.9, 1.0, 2.0, 3.0, \n",
    " 4.0, 5.0, 6.0, 7.0, 8.0, 9.0, 10.0, 20, 50, 100, 500, 1000 ]}\n",
    "\n",
    "\n",
    "ridge = Ridge()\n",
    "\n",
    "# cross validation\n",
    "folds = 5\n",
    "model_cv = GridSearchCV(estimator = ridge, \n",
    "                        param_grid = params, \n",
    "                        scoring= 'neg_mean_absolute_error', \n",
    "                        cv = folds, \n",
    "                        return_train_score=True,\n",
    "                        verbose = 1)            \n",
    "model_cv.fit(X_train, y_train)"
   ]
  },
  {
   "cell_type": "code",
   "execution_count": 104,
   "metadata": {},
   "outputs": [
    {
     "data": {
      "text/html": [
       "<div>\n",
       "<style scoped>\n",
       "    .dataframe tbody tr th:only-of-type {\n",
       "        vertical-align: middle;\n",
       "    }\n",
       "\n",
       "    .dataframe tbody tr th {\n",
       "        vertical-align: top;\n",
       "    }\n",
       "\n",
       "    .dataframe thead th {\n",
       "        text-align: right;\n",
       "    }\n",
       "</style>\n",
       "<table border=\"1\" class=\"dataframe\">\n",
       "  <thead>\n",
       "    <tr style=\"text-align: right;\">\n",
       "      <th></th>\n",
       "      <th>mean_fit_time</th>\n",
       "      <th>std_fit_time</th>\n",
       "      <th>mean_score_time</th>\n",
       "      <th>std_score_time</th>\n",
       "      <th>param_alpha</th>\n",
       "      <th>params</th>\n",
       "      <th>split0_test_score</th>\n",
       "      <th>split1_test_score</th>\n",
       "      <th>split2_test_score</th>\n",
       "      <th>split3_test_score</th>\n",
       "      <th>...</th>\n",
       "      <th>mean_test_score</th>\n",
       "      <th>std_test_score</th>\n",
       "      <th>rank_test_score</th>\n",
       "      <th>split0_train_score</th>\n",
       "      <th>split1_train_score</th>\n",
       "      <th>split2_train_score</th>\n",
       "      <th>split3_train_score</th>\n",
       "      <th>split4_train_score</th>\n",
       "      <th>mean_train_score</th>\n",
       "      <th>std_train_score</th>\n",
       "    </tr>\n",
       "  </thead>\n",
       "  <tbody>\n",
       "    <tr>\n",
       "      <th>0</th>\n",
       "      <td>0.009008</td>\n",
       "      <td>0.001791</td>\n",
       "      <td>0.001600</td>\n",
       "      <td>0.000490</td>\n",
       "      <td>0.0001</td>\n",
       "      <td>{'alpha': 0.0001}</td>\n",
       "      <td>-0.084485</td>\n",
       "      <td>-0.084682</td>\n",
       "      <td>-0.079251</td>\n",
       "      <td>-0.082362</td>\n",
       "      <td>...</td>\n",
       "      <td>-0.083502</td>\n",
       "      <td>0.002533</td>\n",
       "      <td>26</td>\n",
       "      <td>-0.059042</td>\n",
       "      <td>-0.060100</td>\n",
       "      <td>-0.059888</td>\n",
       "      <td>-0.059051</td>\n",
       "      <td>-0.058412</td>\n",
       "      <td>-0.059298</td>\n",
       "      <td>0.000617</td>\n",
       "    </tr>\n",
       "    <tr>\n",
       "      <th>1</th>\n",
       "      <td>0.009007</td>\n",
       "      <td>0.001415</td>\n",
       "      <td>0.001401</td>\n",
       "      <td>0.000490</td>\n",
       "      <td>0.001</td>\n",
       "      <td>{'alpha': 0.001}</td>\n",
       "      <td>-0.084472</td>\n",
       "      <td>-0.084672</td>\n",
       "      <td>-0.079243</td>\n",
       "      <td>-0.082354</td>\n",
       "      <td>...</td>\n",
       "      <td>-0.083493</td>\n",
       "      <td>0.002533</td>\n",
       "      <td>25</td>\n",
       "      <td>-0.059042</td>\n",
       "      <td>-0.060101</td>\n",
       "      <td>-0.059888</td>\n",
       "      <td>-0.059051</td>\n",
       "      <td>-0.058412</td>\n",
       "      <td>-0.059299</td>\n",
       "      <td>0.000617</td>\n",
       "    </tr>\n",
       "    <tr>\n",
       "      <th>2</th>\n",
       "      <td>0.008808</td>\n",
       "      <td>0.001167</td>\n",
       "      <td>0.001800</td>\n",
       "      <td>0.000401</td>\n",
       "      <td>0.01</td>\n",
       "      <td>{'alpha': 0.01}</td>\n",
       "      <td>-0.084342</td>\n",
       "      <td>-0.084584</td>\n",
       "      <td>-0.079174</td>\n",
       "      <td>-0.082267</td>\n",
       "      <td>...</td>\n",
       "      <td>-0.083411</td>\n",
       "      <td>0.002537</td>\n",
       "      <td>24</td>\n",
       "      <td>-0.059040</td>\n",
       "      <td>-0.060108</td>\n",
       "      <td>-0.059893</td>\n",
       "      <td>-0.059055</td>\n",
       "      <td>-0.058414</td>\n",
       "      <td>-0.059302</td>\n",
       "      <td>0.000619</td>\n",
       "    </tr>\n",
       "    <tr>\n",
       "      <th>3</th>\n",
       "      <td>0.009406</td>\n",
       "      <td>0.001021</td>\n",
       "      <td>0.001800</td>\n",
       "      <td>0.000400</td>\n",
       "      <td>0.05</td>\n",
       "      <td>{'alpha': 0.05}</td>\n",
       "      <td>-0.083802</td>\n",
       "      <td>-0.084218</td>\n",
       "      <td>-0.078880</td>\n",
       "      <td>-0.081901</td>\n",
       "      <td>...</td>\n",
       "      <td>-0.083068</td>\n",
       "      <td>0.002560</td>\n",
       "      <td>23</td>\n",
       "      <td>-0.059041</td>\n",
       "      <td>-0.060138</td>\n",
       "      <td>-0.059923</td>\n",
       "      <td>-0.059073</td>\n",
       "      <td>-0.058422</td>\n",
       "      <td>-0.059319</td>\n",
       "      <td>0.000629</td>\n",
       "    </tr>\n",
       "    <tr>\n",
       "      <th>4</th>\n",
       "      <td>0.006605</td>\n",
       "      <td>0.000490</td>\n",
       "      <td>0.001200</td>\n",
       "      <td>0.000401</td>\n",
       "      <td>0.1</td>\n",
       "      <td>{'alpha': 0.1}</td>\n",
       "      <td>-0.083219</td>\n",
       "      <td>-0.083798</td>\n",
       "      <td>-0.078545</td>\n",
       "      <td>-0.081488</td>\n",
       "      <td>...</td>\n",
       "      <td>-0.082683</td>\n",
       "      <td>0.002592</td>\n",
       "      <td>22</td>\n",
       "      <td>-0.059070</td>\n",
       "      <td>-0.060169</td>\n",
       "      <td>-0.059962</td>\n",
       "      <td>-0.059098</td>\n",
       "      <td>-0.058439</td>\n",
       "      <td>-0.059348</td>\n",
       "      <td>0.000635</td>\n",
       "    </tr>\n",
       "  </tbody>\n",
       "</table>\n",
       "<p>5 rows × 21 columns</p>\n",
       "</div>"
      ],
      "text/plain": [
       "   mean_fit_time  std_fit_time  mean_score_time  std_score_time param_alpha  \\\n",
       "0       0.009008      0.001791         0.001600        0.000490      0.0001   \n",
       "1       0.009007      0.001415         0.001401        0.000490       0.001   \n",
       "2       0.008808      0.001167         0.001800        0.000401        0.01   \n",
       "3       0.009406      0.001021         0.001800        0.000400        0.05   \n",
       "4       0.006605      0.000490         0.001200        0.000401         0.1   \n",
       "\n",
       "              params  split0_test_score  split1_test_score  split2_test_score  \\\n",
       "0  {'alpha': 0.0001}          -0.084485          -0.084682          -0.079251   \n",
       "1   {'alpha': 0.001}          -0.084472          -0.084672          -0.079243   \n",
       "2    {'alpha': 0.01}          -0.084342          -0.084584          -0.079174   \n",
       "3    {'alpha': 0.05}          -0.083802          -0.084218          -0.078880   \n",
       "4     {'alpha': 0.1}          -0.083219          -0.083798          -0.078545   \n",
       "\n",
       "   split3_test_score  ...  mean_test_score  std_test_score  rank_test_score  \\\n",
       "0          -0.082362  ...        -0.083502        0.002533               26   \n",
       "1          -0.082354  ...        -0.083493        0.002533               25   \n",
       "2          -0.082267  ...        -0.083411        0.002537               24   \n",
       "3          -0.081901  ...        -0.083068        0.002560               23   \n",
       "4          -0.081488  ...        -0.082683        0.002592               22   \n",
       "\n",
       "   split0_train_score  split1_train_score  split2_train_score  \\\n",
       "0           -0.059042           -0.060100           -0.059888   \n",
       "1           -0.059042           -0.060101           -0.059888   \n",
       "2           -0.059040           -0.060108           -0.059893   \n",
       "3           -0.059041           -0.060138           -0.059923   \n",
       "4           -0.059070           -0.060169           -0.059962   \n",
       "\n",
       "   split3_train_score  split4_train_score  mean_train_score  std_train_score  \n",
       "0           -0.059051           -0.058412         -0.059298         0.000617  \n",
       "1           -0.059051           -0.058412         -0.059299         0.000617  \n",
       "2           -0.059055           -0.058414         -0.059302         0.000619  \n",
       "3           -0.059073           -0.058422         -0.059319         0.000629  \n",
       "4           -0.059098           -0.058439         -0.059348         0.000635  \n",
       "\n",
       "[5 rows x 21 columns]"
      ]
     },
     "execution_count": 104,
     "metadata": {},
     "output_type": "execute_result"
    }
   ],
   "source": [
    "cv_results = pd.DataFrame(model_cv.cv_results_)\n",
    "cv_results = cv_results[cv_results['param_alpha']<=200]\n",
    "cv_results.head()"
   ]
  },
  {
   "cell_type": "code",
   "execution_count": 105,
   "metadata": {},
   "outputs": [
    {
     "data": {
      "image/png": "[encoded data removed]",
      "text/plain": [
       "<Figure size 432x288 with 1 Axes>"
      ]
     },
     "metadata": {
      "needs_background": "light"
     },
     "output_type": "display_data"
    }
   ],
   "source": [
    "# plotting mean test and train scoes with alpha \n",
    "cv_results['param_alpha'] = cv_results['param_alpha'].astype('int32')\n",
    "\n",
    "# plotting\n",
    "plt.plot(cv_results['param_alpha'], cv_results['mean_train_score'])\n",
    "plt.plot(cv_results['param_alpha'], cv_results['mean_test_score'])\n",
    "plt.xlabel('alpha')\n",
    "plt.ylabel('Negative Mean Absolute Error')\n",
    "plt.title(\"Negative Mean Absolute Error and alpha\")\n",
    "plt.legend(['train score', 'test score'], loc='upper left')\n",
    "plt.show()"
   ]
  },
  {
   "cell_type": "code",
   "execution_count": 106,
   "metadata": {},
   "outputs": [
    {
     "name": "stdout",
     "output_type": "stream",
     "text": [
      "{'alpha': 10.0}\n"
     ]
    }
   ],
   "source": [
    "print(model_cv.best_params_)"
   ]
  },
  {
   "cell_type": "code",
   "execution_count": 107,
   "metadata": {},
   "outputs": [
    {
     "data": {
      "text/plain": [
       "array([-3.75582790e-04,  7.91318544e-05,  8.15480793e-06,  4.52548542e-02,\n",
       "        4.90825798e-02, -2.82345596e-05,  6.68779425e-05,  7.18626888e-05,\n",
       "       -7.42682555e-06,  1.31313803e-04,  7.52101864e-05,  7.85246424e-05,\n",
       "        4.71404153e-05,  2.00875247e-04,  2.09097845e-02, -1.32225028e-03,\n",
       "        1.63154669e-02,  2.23882894e-02, -8.62631512e-03, -2.55412122e-02,\n",
       "        4.86140682e-03,  3.83885153e-03,  1.65862436e-02,  6.00921959e-05,\n",
       "        7.66498040e-05,  5.67286697e-06,  1.79326235e-04,  2.05184469e-04,\n",
       "        2.55800121e-04,  0.00000000e+00,  0.00000000e+00,  8.82336880e-05,\n",
       "       -1.24004197e-01,  4.34054486e-02,  2.45356728e-02,  4.39831316e-02,\n",
       "        1.20799443e-02, -4.64441844e-03,  1.65688093e-02, -1.47625921e-02,\n",
       "        2.83820116e-03, -6.13608462e-03,  2.33708876e-02, -1.08076203e-02,\n",
       "       -6.42718269e-03,  6.07889944e-03,  1.54940816e-02, -2.19613277e-02,\n",
       "       -1.65557803e-03,  2.04392467e-03, -4.91813558e-03,  4.59434617e-03,\n",
       "       -9.15446288e-03,  5.84983014e-02,  5.98340818e-03, -1.12229676e-02,\n",
       "        9.02907717e-02, -4.37488157e-02, -2.43481555e-02, -3.63198599e-02,\n",
       "       -4.05952847e-02, -2.22395579e-02, -4.64933756e-03,  1.42978426e-02,\n",
       "       -2.89643057e-02, -1.33167992e-02,  1.32434275e-02, -2.57760038e-02,\n",
       "        8.65866408e-03,  4.32887167e-03, -1.37413251e-02,  5.07727303e-02,\n",
       "        5.44412742e-02, -2.54203027e-02, -6.94323968e-04, -3.12943015e-02,\n",
       "       -1.59235531e-03,  3.59604050e-02, -1.21835016e-02,  3.42693820e-02,\n",
       "       -4.77676267e-02,  1.64712510e-02,  5.43726863e-03,  6.99478516e-04,\n",
       "        3.34644424e-03,  1.87782199e-02, -2.01909774e-02, -2.23317129e-02,\n",
       "        2.03980262e-02,  4.42779235e-03,  4.50546729e-03, -9.74346777e-03,\n",
       "       -3.12413397e-02,  8.81979867e-03, -4.60492316e-03,  8.39246374e-03,\n",
       "        1.94442086e-02,  1.15602466e-02, -2.52966038e-03, -2.09582574e-02,\n",
       "        1.78896567e-03,  1.01387055e-02, -1.65066602e-02,  0.00000000e+00,\n",
       "        4.16986402e-02, -3.33479689e-03, -1.16629537e-02, -6.48544750e-03,\n",
       "        6.07079825e-04,  1.38495437e-02, -7.40185469e-03, -1.50298448e-02,\n",
       "        8.37709416e-03,  7.23795573e-03, -1.26455716e-02,  1.29681582e-03,\n",
       "       -9.68087432e-03,  9.32365333e-03,  1.15075440e-02, -1.81639186e-02,\n",
       "       -3.33479689e-03, -1.10257565e-02, -5.12291063e-03, -1.00562051e-02,\n",
       "        6.42796457e-03,  0.00000000e+00, -1.24308561e-02,  3.55477399e-03,\n",
       "        3.76969918e-02, -6.67253959e-03,  1.29574025e-02, -4.98047249e-03,\n",
       "       -2.72629753e-03,  1.27660655e-03, -4.81797029e-03,  6.26766127e-03,\n",
       "        1.12620775e-02,  1.26963489e-02, -1.39959152e-02, -9.96251115e-03,\n",
       "        2.48420586e-02, -2.01911413e-02, -1.53818370e-02,  1.07309196e-02,\n",
       "       -1.28684971e-02, -6.84623726e-03,  2.40384338e-02,  2.03233992e-02,\n",
       "       -2.46470986e-02,  2.76397283e-02, -8.39106339e-03, -5.01588001e-03,\n",
       "       -1.42327849e-02, -9.91589358e-03,  2.42771209e-03,  0.00000000e+00,\n",
       "        7.48818149e-03, -1.00324968e-02,  2.66674017e-02, -5.54130417e-03,\n",
       "       -1.10936008e-02,  0.00000000e+00,  1.04246017e-02,  8.58480099e-03,\n",
       "        1.32450348e-02, -1.82539547e-02, -1.14640327e-02, -2.53645015e-03,\n",
       "        7.73641480e-03, -2.05893176e-02, -6.36593880e-03, -1.46041880e-03,\n",
       "       -7.67277613e-04,  2.14465380e-02,  2.31432105e-02, -2.86836571e-02,\n",
       "        1.12802176e-02, -6.59837077e-03,  8.58599752e-04,  4.58038511e-02,\n",
       "       -2.18993555e-02, -1.30427963e-02, -1.08616993e-02, -2.27385646e-02,\n",
       "       -3.22129116e-02,  9.68553339e-03,  1.31711466e-02, -6.78857629e-03,\n",
       "        3.88833725e-02, -1.21468050e-02, -3.43688095e-03,  1.70841991e-02,\n",
       "       -8.39076335e-03,  4.56995239e-03,  2.32029781e-03, -1.82909260e-02,\n",
       "        9.92852747e-03,  2.62397180e-03,  6.15069759e-03,  1.09430378e-02,\n",
       "       -3.52492965e-03, -7.83037899e-03, -1.16838970e-03, -7.83037899e-03,\n",
       "        5.45194581e-03,  3.54682288e-03,  0.00000000e+00, -1.08780697e-02,\n",
       "        5.22928654e-03, -7.83037899e-03, -3.42335697e-03,  1.69025192e-02,\n",
       "       -1.05855390e-02,  3.81944722e-03,  2.88360671e-03,  1.05925661e-02,\n",
       "       -4.53025090e-03, -4.78037017e-03,  5.22685933e-03,  1.69085483e-02,\n",
       "       -1.95348676e-02, -1.05855390e-02,  3.81944722e-03,  2.88360671e-03,\n",
       "        1.05925661e-02, -4.53025090e-03, -4.78037017e-03,  5.22685933e-03,\n",
       "        1.69085483e-02, -1.95348676e-02, -3.90402335e-02,  1.68295132e-02,\n",
       "        1.83593672e-02, -2.38426639e-02,  2.18409419e-02,  5.85307505e-03,\n",
       "        4.95181612e-03, -3.36058359e-02,  1.94497124e-02, -1.28362628e-03,\n",
       "        1.04879336e-02, -2.63300898e-03,  2.18972708e-04,  5.93882632e-03,\n",
       "       -1.00410481e-03])"
      ]
     },
     "execution_count": 107,
     "metadata": {},
     "output_type": "execute_result"
    }
   ],
   "source": [
    "alpha = 10\n",
    "ridge = Ridge(alpha=alpha)\n",
    "\n",
    "ridge.fit(X_train, y_train)\n",
    "ridge.coef_"
   ]
  },
  {
   "cell_type": "markdown",
   "metadata": {},
   "source": [
    "# Lasso Regression"
   ]
  },
  {
   "cell_type": "code",
   "execution_count": 108,
   "metadata": {},
   "outputs": [
    {
     "name": "stdout",
     "output_type": "stream",
     "text": [
      "Fitting 5 folds for each of 28 candidates, totalling 140 fits\n"
     ]
    },
    {
     "name": "stderr",
     "output_type": "stream",
     "text": [
      "[Parallel(n_jobs=1)]: Using backend SequentialBackend with 1 concurrent workers.\n",
      "[Parallel(n_jobs=1)]: Done 140 out of 140 | elapsed:    3.4s finished\n"
     ]
    },
    {
     "data": {
      "text/plain": [
       "GridSearchCV(cv=5, error_score='raise-deprecating',\n",
       "       estimator=Lasso(alpha=1.0, copy_X=True, fit_intercept=True, max_iter=1000,\n",
       "   normalize=False, positive=False, precompute=False, random_state=None,\n",
       "   selection='cyclic', tol=0.0001, warm_start=False),\n",
       "       fit_params=None, iid='warn', n_jobs=None,\n",
       "       param_grid={'alpha': [0.0001, 0.001, 0.01, 0.05, 0.1, 0.2, 0.3, 0.4, 0.5, 0.6, 0.7, 0.8, 0.9, 1.0, 2.0, 3.0, 4.0, 5.0, 6.0, 7.0, 8.0, 9.0, 10.0, 20, 50, 100, 500, 1000]},\n",
       "       pre_dispatch='2*n_jobs', refit=True, return_train_score=True,\n",
       "       scoring='neg_mean_absolute_error', verbose=1)"
      ]
     },
     "execution_count": 108,
     "metadata": {},
     "output_type": "execute_result"
    }
   ],
   "source": [
    "lasso = Lasso()\n",
    "\n",
    "# cross validation\n",
    "model_cv = GridSearchCV(estimator = lasso, \n",
    "                        param_grid = params, \n",
    "                        scoring= 'neg_mean_absolute_error', \n",
    "                        cv = folds, \n",
    "                        return_train_score=True,\n",
    "                        verbose = 1)            \n",
    "\n",
    "model_cv.fit(X_train, y_train)"
   ]
  },
  {
   "cell_type": "code",
   "execution_count": 109,
   "metadata": {},
   "outputs": [
    {
     "data": {
      "text/html": [
       "<div>\n",
       "<style scoped>\n",
       "    .dataframe tbody tr th:only-of-type {\n",
       "        vertical-align: middle;\n",
       "    }\n",
       "\n",
       "    .dataframe tbody tr th {\n",
       "        vertical-align: top;\n",
       "    }\n",
       "\n",
       "    .dataframe thead th {\n",
       "        text-align: right;\n",
       "    }\n",
       "</style>\n",
       "<table border=\"1\" class=\"dataframe\">\n",
       "  <thead>\n",
       "    <tr style=\"text-align: right;\">\n",
       "      <th></th>\n",
       "      <th>mean_fit_time</th>\n",
       "      <th>std_fit_time</th>\n",
       "      <th>mean_score_time</th>\n",
       "      <th>std_score_time</th>\n",
       "      <th>param_alpha</th>\n",
       "      <th>params</th>\n",
       "      <th>split0_test_score</th>\n",
       "      <th>split1_test_score</th>\n",
       "      <th>split2_test_score</th>\n",
       "      <th>split3_test_score</th>\n",
       "      <th>...</th>\n",
       "      <th>mean_test_score</th>\n",
       "      <th>std_test_score</th>\n",
       "      <th>rank_test_score</th>\n",
       "      <th>split0_train_score</th>\n",
       "      <th>split1_train_score</th>\n",
       "      <th>split2_train_score</th>\n",
       "      <th>split3_train_score</th>\n",
       "      <th>split4_train_score</th>\n",
       "      <th>mean_train_score</th>\n",
       "      <th>std_train_score</th>\n",
       "    </tr>\n",
       "  </thead>\n",
       "  <tbody>\n",
       "    <tr>\n",
       "      <th>0</th>\n",
       "      <td>0.067246</td>\n",
       "      <td>0.020306</td>\n",
       "      <td>0.001201</td>\n",
       "      <td>0.000401</td>\n",
       "      <td>0.0001</td>\n",
       "      <td>{'alpha': 0.0001}</td>\n",
       "      <td>-0.077307</td>\n",
       "      <td>-0.079059</td>\n",
       "      <td>-0.074587</td>\n",
       "      <td>-0.077221</td>\n",
       "      <td>...</td>\n",
       "      <td>-0.078197</td>\n",
       "      <td>0.002714</td>\n",
       "      <td>2</td>\n",
       "      <td>-0.059769</td>\n",
       "      <td>-0.061198</td>\n",
       "      <td>-0.061143</td>\n",
       "      <td>-0.059952</td>\n",
       "      <td>-0.059471</td>\n",
       "      <td>-0.060306</td>\n",
       "      <td>0.000722</td>\n",
       "    </tr>\n",
       "    <tr>\n",
       "      <th>1</th>\n",
       "      <td>0.022015</td>\n",
       "      <td>0.005177</td>\n",
       "      <td>0.001201</td>\n",
       "      <td>0.000400</td>\n",
       "      <td>0.001</td>\n",
       "      <td>{'alpha': 0.001}</td>\n",
       "      <td>-0.076720</td>\n",
       "      <td>-0.077433</td>\n",
       "      <td>-0.075482</td>\n",
       "      <td>-0.077482</td>\n",
       "      <td>...</td>\n",
       "      <td>-0.077351</td>\n",
       "      <td>0.001353</td>\n",
       "      <td>1</td>\n",
       "      <td>-0.068027</td>\n",
       "      <td>-0.070002</td>\n",
       "      <td>-0.068829</td>\n",
       "      <td>-0.068326</td>\n",
       "      <td>-0.068238</td>\n",
       "      <td>-0.068684</td>\n",
       "      <td>0.000709</td>\n",
       "    </tr>\n",
       "    <tr>\n",
       "      <th>2</th>\n",
       "      <td>0.011411</td>\n",
       "      <td>0.001750</td>\n",
       "      <td>0.001202</td>\n",
       "      <td>0.000401</td>\n",
       "      <td>0.01</td>\n",
       "      <td>{'alpha': 0.01}</td>\n",
       "      <td>-0.086566</td>\n",
       "      <td>-0.088450</td>\n",
       "      <td>-0.087504</td>\n",
       "      <td>-0.081562</td>\n",
       "      <td>...</td>\n",
       "      <td>-0.086162</td>\n",
       "      <td>0.002394</td>\n",
       "      <td>3</td>\n",
       "      <td>-0.083647</td>\n",
       "      <td>-0.084214</td>\n",
       "      <td>-0.083621</td>\n",
       "      <td>-0.084595</td>\n",
       "      <td>-0.084096</td>\n",
       "      <td>-0.084035</td>\n",
       "      <td>0.000366</td>\n",
       "    </tr>\n",
       "    <tr>\n",
       "      <th>3</th>\n",
       "      <td>0.048233</td>\n",
       "      <td>0.015103</td>\n",
       "      <td>0.001401</td>\n",
       "      <td>0.000491</td>\n",
       "      <td>0.05</td>\n",
       "      <td>{'alpha': 0.05}</td>\n",
       "      <td>-0.108407</td>\n",
       "      <td>-0.096238</td>\n",
       "      <td>-0.104235</td>\n",
       "      <td>-0.093509</td>\n",
       "      <td>...</td>\n",
       "      <td>-0.100186</td>\n",
       "      <td>0.005426</td>\n",
       "      <td>4</td>\n",
       "      <td>-0.098208</td>\n",
       "      <td>-0.098318</td>\n",
       "      <td>-0.096994</td>\n",
       "      <td>-0.097573</td>\n",
       "      <td>-0.096893</td>\n",
       "      <td>-0.097597</td>\n",
       "      <td>0.000592</td>\n",
       "    </tr>\n",
       "    <tr>\n",
       "      <th>4</th>\n",
       "      <td>0.029215</td>\n",
       "      <td>0.004707</td>\n",
       "      <td>0.001401</td>\n",
       "      <td>0.000490</td>\n",
       "      <td>0.1</td>\n",
       "      <td>{'alpha': 0.1}</td>\n",
       "      <td>-0.110902</td>\n",
       "      <td>-0.101947</td>\n",
       "      <td>-0.108513</td>\n",
       "      <td>-0.097866</td>\n",
       "      <td>...</td>\n",
       "      <td>-0.104567</td>\n",
       "      <td>0.004660</td>\n",
       "      <td>5</td>\n",
       "      <td>-0.100494</td>\n",
       "      <td>-0.103664</td>\n",
       "      <td>-0.102006</td>\n",
       "      <td>-0.104027</td>\n",
       "      <td>-0.101622</td>\n",
       "      <td>-0.102362</td>\n",
       "      <td>0.001314</td>\n",
       "    </tr>\n",
       "  </tbody>\n",
       "</table>\n",
       "<p>5 rows × 21 columns</p>\n",
       "</div>"
      ],
      "text/plain": [
       "   mean_fit_time  std_fit_time  mean_score_time  std_score_time param_alpha  \\\n",
       "0       0.067246      0.020306         0.001201        0.000401      0.0001   \n",
       "1       0.022015      0.005177         0.001201        0.000400       0.001   \n",
       "2       0.011411      0.001750         0.001202        0.000401        0.01   \n",
       "3       0.048233      0.015103         0.001401        0.000491        0.05   \n",
       "4       0.029215      0.004707         0.001401        0.000490         0.1   \n",
       "\n",
       "              params  split0_test_score  split1_test_score  split2_test_score  \\\n",
       "0  {'alpha': 0.0001}          -0.077307          -0.079059          -0.074587   \n",
       "1   {'alpha': 0.001}          -0.076720          -0.077433          -0.075482   \n",
       "2    {'alpha': 0.01}          -0.086566          -0.088450          -0.087504   \n",
       "3    {'alpha': 0.05}          -0.108407          -0.096238          -0.104235   \n",
       "4     {'alpha': 0.1}          -0.110902          -0.101947          -0.108513   \n",
       "\n",
       "   split3_test_score  ...  mean_test_score  std_test_score  rank_test_score  \\\n",
       "0          -0.077221  ...        -0.078197        0.002714                2   \n",
       "1          -0.077482  ...        -0.077351        0.001353                1   \n",
       "2          -0.081562  ...        -0.086162        0.002394                3   \n",
       "3          -0.093509  ...        -0.100186        0.005426                4   \n",
       "4          -0.097866  ...        -0.104567        0.004660                5   \n",
       "\n",
       "   split0_train_score  split1_train_score  split2_train_score  \\\n",
       "0           -0.059769           -0.061198           -0.061143   \n",
       "1           -0.068027           -0.070002           -0.068829   \n",
       "2           -0.083647           -0.084214           -0.083621   \n",
       "3           -0.098208           -0.098318           -0.096994   \n",
       "4           -0.100494           -0.103664           -0.102006   \n",
       "\n",
       "   split3_train_score  split4_train_score  mean_train_score  std_train_score  \n",
       "0           -0.059952           -0.059471         -0.060306         0.000722  \n",
       "1           -0.068326           -0.068238         -0.068684         0.000709  \n",
       "2           -0.084595           -0.084096         -0.084035         0.000366  \n",
       "3           -0.097573           -0.096893         -0.097597         0.000592  \n",
       "4           -0.104027           -0.101622         -0.102362         0.001314  \n",
       "\n",
       "[5 rows x 21 columns]"
      ]
     },
     "execution_count": 109,
     "metadata": {},
     "output_type": "execute_result"
    }
   ],
   "source": [
    "cv_results = pd.DataFrame(model_cv.cv_results_)\n",
    "cv_results.head()"
   ]
  },
  {
   "cell_type": "code",
   "execution_count": 110,
   "metadata": {},
   "outputs": [
    {
     "data": {
      "image/png": "[encoded data removed]",
      "text/plain": [
       "<Figure size 432x288 with 1 Axes>"
      ]
     },
     "metadata": {
      "needs_background": "light"
     },
     "output_type": "display_data"
    }
   ],
   "source": [
    "# plotting mean test and train scoes with alpha \n",
    "cv_results['param_alpha'] = cv_results['param_alpha'].astype('float32')\n",
    "\n",
    "# plotting\n",
    "plt.plot(cv_results['param_alpha'], cv_results['mean_train_score'])\n",
    "plt.plot(cv_results['param_alpha'], cv_results['mean_test_score'])\n",
    "plt.xlabel('alpha')\n",
    "plt.ylabel('Negative Mean Absolute Error')\n",
    "\n",
    "plt.title(\"Negative Mean Absolute Error and alpha\")\n",
    "plt.legend(['train score', 'test score'], loc='upper left')\n",
    "plt.show()"
   ]
  },
  {
   "cell_type": "code",
   "execution_count": 111,
   "metadata": {},
   "outputs": [
    {
     "name": "stdout",
     "output_type": "stream",
     "text": [
      "{'alpha': 0.001}\n"
     ]
    }
   ],
   "source": [
    "print(model_cv.best_params_)"
   ]
  },
  {
   "cell_type": "code",
   "execution_count": 112,
   "metadata": {},
   "outputs": [
    {
     "data": {
      "text/plain": [
       "Lasso(alpha=0.001, copy_X=True, fit_intercept=True, max_iter=1000,\n",
       "   normalize=False, positive=False, precompute=False, random_state=None,\n",
       "   selection='cyclic', tol=0.0001, warm_start=False)"
      ]
     },
     "execution_count": 112,
     "metadata": {},
     "output_type": "execute_result"
    }
   ],
   "source": [
    "alpha =0.001\n",
    "\n",
    "lasso = Lasso(alpha=alpha)\n",
    "        \n",
    "lasso.fit(X_train, y_train)"
   ]
  },
  {
   "cell_type": "code",
   "execution_count": 113,
   "metadata": {},
   "outputs": [
    {
     "data": {
      "text/plain": [
       "array([-2.18242033e-04,  8.51868879e-05,  7.74254860e-06,  5.39769528e-02,\n",
       "        4.87684473e-02, -1.76448933e-05,  1.40909877e-04,  9.66892308e-05,\n",
       "        5.38118010e-05,  6.78107015e-05,  2.30922789e-04,  2.48280440e-04,\n",
       "        1.96161062e-04,  5.28504125e-05,  1.46376877e-02, -0.00000000e+00,\n",
       "        0.00000000e+00,  7.42772995e-03, -9.89342002e-03, -9.45644801e-03,\n",
       "        8.67192383e-04,  5.03119162e-03,  1.09145919e-02,  1.00457384e-04,\n",
       "        8.85283727e-05,  2.36522789e-05,  1.88751235e-04,  1.97911879e-04,\n",
       "        2.47745764e-04,  0.00000000e+00,  0.00000000e+00,  5.88064038e-04,\n",
       "       -2.13551151e-01,  0.00000000e+00,  0.00000000e+00,  9.28055983e-03,\n",
       "       -3.51728034e-02, -0.00000000e+00,  0.00000000e+00, -0.00000000e+00,\n",
       "        0.00000000e+00,  0.00000000e+00,  1.55090713e-03, -0.00000000e+00,\n",
       "       -0.00000000e+00,  0.00000000e+00,  0.00000000e+00, -0.00000000e+00,\n",
       "        0.00000000e+00,  0.00000000e+00,  0.00000000e+00,  0.00000000e+00,\n",
       "       -0.00000000e+00,  6.75262880e-02,  0.00000000e+00, -0.00000000e+00,\n",
       "        1.04402576e-01, -2.07801169e-02, -0.00000000e+00, -0.00000000e+00,\n",
       "       -0.00000000e+00, -0.00000000e+00,  0.00000000e+00,  0.00000000e+00,\n",
       "       -3.56976440e-03, -0.00000000e+00,  0.00000000e+00, -0.00000000e+00,\n",
       "        0.00000000e+00,  0.00000000e+00, -0.00000000e+00,  5.04398739e-02,\n",
       "        1.35601475e-02, -0.00000000e+00,  0.00000000e+00, -1.44716051e-02,\n",
       "        0.00000000e+00,  3.18031818e-02, -0.00000000e+00,  0.00000000e+00,\n",
       "       -0.00000000e+00,  0.00000000e+00,  0.00000000e+00, -0.00000000e+00,\n",
       "        0.00000000e+00,  0.00000000e+00, -0.00000000e+00, -1.51104474e-02,\n",
       "        3.53986351e-04,  0.00000000e+00,  0.00000000e+00, -0.00000000e+00,\n",
       "       -0.00000000e+00,  0.00000000e+00, -0.00000000e+00, -0.00000000e+00,\n",
       "        0.00000000e+00,  0.00000000e+00, -0.00000000e+00, -0.00000000e+00,\n",
       "        0.00000000e+00,  0.00000000e+00, -0.00000000e+00,  0.00000000e+00,\n",
       "        2.25734432e-02, -0.00000000e+00, -0.00000000e+00, -0.00000000e+00,\n",
       "       -0.00000000e+00,  1.72270073e-02, -0.00000000e+00, -0.00000000e+00,\n",
       "        0.00000000e+00,  0.00000000e+00, -0.00000000e+00,  0.00000000e+00,\n",
       "       -0.00000000e+00,  0.00000000e+00,  0.00000000e+00, -0.00000000e+00,\n",
       "       -0.00000000e+00, -0.00000000e+00, -0.00000000e+00, -0.00000000e+00,\n",
       "        0.00000000e+00,  0.00000000e+00, -0.00000000e+00,  0.00000000e+00,\n",
       "        0.00000000e+00,  0.00000000e+00,  0.00000000e+00,  0.00000000e+00,\n",
       "       -0.00000000e+00, -0.00000000e+00, -0.00000000e+00,  0.00000000e+00,\n",
       "        0.00000000e+00,  0.00000000e+00, -0.00000000e+00, -0.00000000e+00,\n",
       "        0.00000000e+00, -0.00000000e+00, -1.06236858e-02,  7.35219627e-03,\n",
       "       -0.00000000e+00, -0.00000000e+00,  3.53136326e-02,  0.00000000e+00,\n",
       "       -0.00000000e+00,  2.47026884e-02, -0.00000000e+00,  0.00000000e+00,\n",
       "       -0.00000000e+00, -0.00000000e+00, -0.00000000e+00,  0.00000000e+00,\n",
       "        5.22196770e-04, -0.00000000e+00,  2.49106479e-02,  0.00000000e+00,\n",
       "       -4.91234740e-03,  0.00000000e+00,  0.00000000e+00,  0.00000000e+00,\n",
       "        3.22079530e-03, -0.00000000e+00, -0.00000000e+00, -0.00000000e+00,\n",
       "        0.00000000e+00, -0.00000000e+00, -0.00000000e+00, -0.00000000e+00,\n",
       "       -0.00000000e+00,  0.00000000e+00,  1.90220348e-02, -1.39410986e-02,\n",
       "        5.52521523e-03, -0.00000000e+00, -0.00000000e+00,  4.73356085e-02,\n",
       "       -0.00000000e+00, -0.00000000e+00, -0.00000000e+00, -0.00000000e+00,\n",
       "       -0.00000000e+00,  0.00000000e+00,  0.00000000e+00, -0.00000000e+00,\n",
       "        1.91663748e-02, -0.00000000e+00,  0.00000000e+00,  2.32620310e-02,\n",
       "       -5.69573986e-03,  0.00000000e+00, -0.00000000e+00, -0.00000000e+00,\n",
       "        1.15736183e-02,  0.00000000e+00,  0.00000000e+00,  0.00000000e+00,\n",
       "       -0.00000000e+00, -0.00000000e+00,  0.00000000e+00, -0.00000000e+00,\n",
       "        2.49993204e-03, -0.00000000e+00,  0.00000000e+00, -0.00000000e+00,\n",
       "        0.00000000e+00, -0.00000000e+00, -0.00000000e+00,  2.03733301e-02,\n",
       "       -0.00000000e+00,  0.00000000e+00,  0.00000000e+00,  0.00000000e+00,\n",
       "       -0.00000000e+00, -0.00000000e+00,  9.30936781e-04,  0.00000000e+00,\n",
       "       -1.91590119e-02, -0.00000000e+00,  0.00000000e+00,  0.00000000e+00,\n",
       "        0.00000000e+00, -0.00000000e+00, -0.00000000e+00,  1.88985995e-03,\n",
       "        0.00000000e+00, -2.44684967e-03, -5.25017261e-02,  0.00000000e+00,\n",
       "        0.00000000e+00, -1.13497133e-02,  0.00000000e+00,  0.00000000e+00,\n",
       "       -0.00000000e+00, -2.38510717e-02,  0.00000000e+00, -0.00000000e+00,\n",
       "        0.00000000e+00, -2.91576013e-03,  2.76551370e-04,  4.34815393e-03,\n",
       "       -1.11865380e-03])"
      ]
     },
     "execution_count": 113,
     "metadata": {},
     "output_type": "execute_result"
    }
   ],
   "source": [
    "lasso.coef_"
   ]
  },
  {
   "cell_type": "code",
   "execution_count": 114,
   "metadata": {},
   "outputs": [],
   "source": [
    "y_pred_ridge_train = ridge.predict(X_train)\n",
    "y_pred_lasso_train = lasso.predict(X_train)\n",
    "#y_pred_ridge_test = ridge.predict(X_test)"
   ]
  },
  {
   "cell_type": "code",
   "execution_count": 115,
   "metadata": {},
   "outputs": [
    {
     "name": "stdout",
     "output_type": "stream",
     "text": [
      "r2_score for ridge: 0.9315442303889443\n",
      "r2_score for lasso: 0.9208723690178839\n"
     ]
    }
   ],
   "source": [
    "print('r2_score for ridge:', r2_score(y_train, y_pred_ridge_train))\n",
    "print('r2_score for lasso:', r2_score(y_train, y_pred_lasso_train))"
   ]
  },
  {
   "cell_type": "code",
   "execution_count": 116,
   "metadata": {},
   "outputs": [],
   "source": [
    "y_pred_ridge_test = ridge.predict(X_test)\n",
    "y_pred_lasso_test = lasso.predict(X_test)"
   ]
  },
  {
   "cell_type": "code",
   "execution_count": 117,
   "metadata": {},
   "outputs": [
    {
     "name": "stdout",
     "output_type": "stream",
     "text": [
      "r2_score for ridge: 0.91\n",
      "r2_score for lasso: 0.9\n"
     ]
    }
   ],
   "source": [
    "print('r2_score for ridge:', round(r2_score(y_test, y_pred_ridge_test), 2))\n",
    "print('r2_score for lasso:', round(r2_score(y_test, y_pred_lasso_test), 2))"
   ]
  },
  {
   "cell_type": "code",
   "execution_count": 118,
   "metadata": {},
   "outputs": [
    {
     "data": {
      "text/plain": [
       "[('constant', 10.704),\n",
       " ('MSSubClass', -0.0),\n",
       " ('LotFrontage', 0.0),\n",
       " ('LotArea', 0.0),\n",
       " ('OverallQual', 0.054),\n",
       " ('OverallCond', 0.049),\n",
       " ('MasVnrArea', -0.0),\n",
       " ('BsmtFinSF1', 0.0),\n",
       " ('BsmtFinSF2', 0.0),\n",
       " ('BsmtUnfSF', 0.0),\n",
       " ('TotalBsmtSF', 0.0),\n",
       " ('1stFlrSF', 0.0),\n",
       " ('2ndFlrSF', 0.0),\n",
       " ('LowQualFinSF', 0.0),\n",
       " ('GrLivArea', 0.0),\n",
       " ('BsmtFullBath', 0.015),\n",
       " ('BsmtHalfBath', -0.0),\n",
       " ('FullBath', 0.0),\n",
       " ('HalfBath', 0.007),\n",
       " ('BedroomAbvGr', -0.01),\n",
       " ('KitchenAbvGr', -0.009),\n",
       " ('TotRmsAbvGrd', 0.001),\n",
       " ('Fireplaces', 0.005),\n",
       " ('GarageCars', 0.011),\n",
       " ('GarageArea', 0.0),\n",
       " ('WoodDeckSF', 0.0),\n",
       " ('OpenPorchSF', 0.0),\n",
       " ('EnclosedPorch', 0.0),\n",
       " ('3SsnPorch', 0.0),\n",
       " ('ScreenPorch', 0.0),\n",
       " ('PoolArea', 0.0),\n",
       " ('MiscVal', 0.0),\n",
       " ('MoSold', 0.001),\n",
       " ('MSZoning_C (all)', -0.214),\n",
       " ('MSZoning_FV', 0.0),\n",
       " ('MSZoning_RH', 0.0),\n",
       " ('MSZoning_RL', 0.009),\n",
       " ('MSZoning_RM', -0.035),\n",
       " ('LotShape_IR1', -0.0),\n",
       " ('LotShape_IR2', 0.0),\n",
       " ('LotShape_IR3', -0.0),\n",
       " ('LotShape_Reg', 0.0),\n",
       " ('LandContour_Bnk', 0.0),\n",
       " ('LandContour_HLS', 0.002),\n",
       " ('LandContour_Low', -0.0),\n",
       " ('LandContour_Lvl', -0.0),\n",
       " ('LotConfig_Corner', 0.0),\n",
       " ('LotConfig_CulDSac', 0.0),\n",
       " ('LotConfig_FR2', -0.0),\n",
       " ('LotConfig_FR3', 0.0),\n",
       " ('LotConfig_Inside', 0.0),\n",
       " ('Neighborhood_Blmngtn', 0.0),\n",
       " ('Neighborhood_Blueste', 0.0),\n",
       " ('Neighborhood_BrDale', -0.0),\n",
       " ('Neighborhood_BrkSide', 0.068),\n",
       " ('Neighborhood_ClearCr', 0.0),\n",
       " ('Neighborhood_CollgCr', -0.0),\n",
       " ('Neighborhood_Crawfor', 0.104),\n",
       " ('Neighborhood_Edwards', -0.021),\n",
       " ('Neighborhood_Gilbert', -0.0),\n",
       " ('Neighborhood_IDOTRR', -0.0),\n",
       " ('Neighborhood_MeadowV', -0.0),\n",
       " ('Neighborhood_Mitchel', -0.0),\n",
       " ('Neighborhood_NAmes', 0.0),\n",
       " ('Neighborhood_NPkVill', 0.0),\n",
       " ('Neighborhood_NWAmes', -0.004),\n",
       " ('Neighborhood_NoRidge', -0.0),\n",
       " ('Neighborhood_NridgHt', 0.0),\n",
       " ('Neighborhood_OldTown', -0.0),\n",
       " ('Neighborhood_SWISU', 0.0),\n",
       " ('Neighborhood_Sawyer', 0.0),\n",
       " ('Neighborhood_SawyerW', -0.0),\n",
       " ('Neighborhood_Somerst', 0.05),\n",
       " ('Neighborhood_StoneBr', 0.014),\n",
       " ('Neighborhood_Timber', -0.0),\n",
       " ('Neighborhood_Veenker', 0.0),\n",
       " ('Condition1_Artery', -0.014),\n",
       " ('Condition1_Feedr', 0.0),\n",
       " ('Condition1_Norm', 0.032),\n",
       " ('Condition1_PosA', -0.0),\n",
       " ('Condition1_PosN', 0.0),\n",
       " ('Condition1_RRAe', -0.0),\n",
       " ('Condition1_RRAn', 0.0),\n",
       " ('Condition1_RRNe', 0.0),\n",
       " ('Condition1_RRNn', -0.0),\n",
       " ('BldgType_1Fam', 0.0),\n",
       " ('BldgType_2fmCon', 0.0),\n",
       " ('BldgType_Duplex', -0.0),\n",
       " ('BldgType_Twnhs', -0.015),\n",
       " ('BldgType_TwnhsE', 0.0),\n",
       " ('HouseStyle_1.5Fin', 0.0),\n",
       " ('HouseStyle_1.5Unf', 0.0),\n",
       " ('HouseStyle_1Story', -0.0),\n",
       " ('HouseStyle_2.5Fin', -0.0),\n",
       " ('HouseStyle_2.5Unf', 0.0),\n",
       " ('HouseStyle_2Story', -0.0),\n",
       " ('HouseStyle_SFoyer', -0.0),\n",
       " ('HouseStyle_SLvl', 0.0),\n",
       " ('RoofStyle_Flat', 0.0),\n",
       " ('RoofStyle_Gable', -0.0),\n",
       " ('RoofStyle_Gambrel', -0.0),\n",
       " ('RoofStyle_Hip', 0.0),\n",
       " ('RoofStyle_Mansard', 0.0),\n",
       " ('Exterior1st_AsbShng', -0.0),\n",
       " ('Exterior1st_BrkComm', 0.0),\n",
       " ('Exterior1st_BrkFace', 0.023),\n",
       " ('Exterior1st_CBlock', -0.0),\n",
       " ('Exterior1st_CemntBd', -0.0),\n",
       " ('Exterior1st_HdBoard', -0.0),\n",
       " ('Exterior1st_ImStucc', -0.0),\n",
       " ('Exterior1st_MetalSd', 0.017),\n",
       " ('Exterior1st_Plywood', -0.0),\n",
       " ('Exterior1st_Stone', -0.0),\n",
       " ('Exterior1st_Stucco', 0.0),\n",
       " ('Exterior1st_VinylSd', 0.0),\n",
       " ('Exterior1st_Wd Sdng', -0.0),\n",
       " ('Exterior1st_WdShing', 0.0),\n",
       " ('Exterior2nd_AsbShng', -0.0),\n",
       " ('Exterior2nd_AsphShn', 0.0),\n",
       " ('Exterior2nd_Brk Cmn', 0.0),\n",
       " ('Exterior2nd_BrkFace', -0.0),\n",
       " ('Exterior2nd_CBlock', -0.0),\n",
       " ('Exterior2nd_CmentBd', -0.0),\n",
       " ('Exterior2nd_HdBoard', -0.0),\n",
       " ('Exterior2nd_ImStucc', -0.0),\n",
       " ('Exterior2nd_MetalSd', 0.0),\n",
       " ('Exterior2nd_Other', 0.0),\n",
       " ('Exterior2nd_Plywood', -0.0),\n",
       " ('Exterior2nd_Stone', 0.0),\n",
       " ('Exterior2nd_Stucco', 0.0),\n",
       " ('Exterior2nd_VinylSd', 0.0),\n",
       " ('Exterior2nd_Wd Sdng', 0.0),\n",
       " ('Exterior2nd_Wd Shng', 0.0),\n",
       " ('MasVnrType_BrkCmn', -0.0),\n",
       " ('MasVnrType_BrkFace', -0.0),\n",
       " ('MasVnrType_None', -0.0),\n",
       " ('MasVnrType_Stone', 0.0),\n",
       " ('ExterQual_Ex', 0.0),\n",
       " ('ExterQual_Fa', 0.0),\n",
       " ('ExterQual_Gd', -0.0),\n",
       " ('ExterQual_TA', -0.0),\n",
       " ('ExterCond_Ex', 0.0),\n",
       " ('ExterCond_Fa', -0.0),\n",
       " ('ExterCond_Gd', -0.011),\n",
       " ('ExterCond_TA', 0.007),\n",
       " ('Foundation_BrkTil', -0.0),\n",
       " ('Foundation_CBlock', -0.0),\n",
       " ('Foundation_PConc', 0.035),\n",
       " ('Foundation_Stone', 0.0),\n",
       " ('Foundation_Wood', -0.0),\n",
       " ('BsmtQual_Ex', 0.025),\n",
       " ('BsmtQual_Fa', -0.0),\n",
       " ('BsmtQual_Gd', 0.0),\n",
       " ('BsmtQual_TA', -0.0),\n",
       " ('BsmtCond_Fa', -0.0),\n",
       " ('BsmtCond_Gd', -0.0),\n",
       " ('BsmtCond_Po', 0.0),\n",
       " ('BsmtCond_TA', 0.001),\n",
       " ('BsmtExposure_Av', -0.0),\n",
       " ('BsmtExposure_Gd', 0.025),\n",
       " ('BsmtExposure_Mn', 0.0),\n",
       " ('BsmtExposure_No', -0.005),\n",
       " ('BsmtExposure_No Garage', 0.0),\n",
       " ('BsmtFinType1_ALQ', 0.0),\n",
       " ('BsmtFinType1_BLQ', 0.0),\n",
       " ('BsmtFinType1_GLQ', 0.003),\n",
       " ('BsmtFinType1_LwQ', -0.0),\n",
       " ('BsmtFinType1_Rec', -0.0),\n",
       " ('BsmtFinType1_Unf', -0.0),\n",
       " ('BsmtFinType2_ALQ', 0.0),\n",
       " ('BsmtFinType2_BLQ', -0.0),\n",
       " ('BsmtFinType2_GLQ', -0.0),\n",
       " ('BsmtFinType2_LwQ', -0.0),\n",
       " ('BsmtFinType2_Rec', -0.0),\n",
       " ('BsmtFinType2_Unf', 0.0),\n",
       " ('HeatingQC_Ex', 0.019),\n",
       " ('HeatingQC_Fa', -0.014),\n",
       " ('HeatingQC_Gd', 0.006),\n",
       " ('HeatingQC_Po', -0.0),\n",
       " ('HeatingQC_TA', -0.0),\n",
       " ('KitchenQual_Ex', 0.047),\n",
       " ('KitchenQual_Fa', -0.0),\n",
       " ('KitchenQual_Gd', -0.0),\n",
       " ('KitchenQual_TA', -0.0),\n",
       " ('Functional_Maj1', -0.0),\n",
       " ('Functional_Maj2', -0.0),\n",
       " ('Functional_Min1', 0.0),\n",
       " ('Functional_Min2', 0.0),\n",
       " ('Functional_Mod', -0.0),\n",
       " ('Functional_Typ', 0.019),\n",
       " ('FireplaceQu_Ex', -0.0),\n",
       " ('FireplaceQu_Fa', 0.0),\n",
       " ('FireplaceQu_Gd', 0.023),\n",
       " ('FireplaceQu_No Fireplace', -0.006),\n",
       " ('FireplaceQu_Po', 0.0),\n",
       " ('FireplaceQu_TA', -0.0),\n",
       " ('GarageType_2Types', -0.0),\n",
       " ('GarageType_Attchd', 0.012),\n",
       " ('GarageType_Basment', 0.0),\n",
       " ('GarageType_BuiltIn', 0.0),\n",
       " ('GarageType_CarPort', 0.0),\n",
       " ('GarageType_Detchd', -0.0),\n",
       " ('GarageType_No Garage', -0.0),\n",
       " ('GarageFinish_Fin', 0.0),\n",
       " ('GarageFinish_No Garage', -0.0),\n",
       " ('GarageFinish_RFn', 0.002),\n",
       " ('GarageFinish_Unf', -0.0),\n",
       " ('GarageQual_Ex', 0.0),\n",
       " ('GarageQual_Fa', -0.0),\n",
       " ('GarageQual_Gd', 0.0),\n",
       " ('GarageQual_No Garage', -0.0),\n",
       " ('GarageQual_Po', -0.0),\n",
       " ('GarageQual_TA', 0.02),\n",
       " ('Fence_COD', -0.0),\n",
       " ('Fence_CWD', 0.0),\n",
       " ('Fence_Con', 0.0),\n",
       " ('Fence_ConLD', 0.0),\n",
       " ('Fence_ConLI', -0.0),\n",
       " ('Fence_ConLw', -0.0),\n",
       " ('Fence_New', 0.001),\n",
       " ('Fence_Oth', 0.0),\n",
       " ('Fence_WD', -0.019),\n",
       " ('SaleType_COD', -0.0),\n",
       " ('SaleType_CWD', 0.0),\n",
       " ('SaleType_Con', 0.0),\n",
       " ('SaleType_ConLD', 0.0),\n",
       " ('SaleType_ConLI', -0.0),\n",
       " ('SaleType_ConLw', -0.0),\n",
       " ('SaleType_New', 0.002),\n",
       " ('SaleType_Oth', 0.0),\n",
       " ('SaleType_WD', -0.002),\n",
       " ('SaleCondition_Abnorml', -0.053),\n",
       " ('SaleCondition_AdjLand', 0.0),\n",
       " ('SaleCondition_Alloca', 0.0),\n",
       " ('SaleCondition_Family', -0.011),\n",
       " ('SaleCondition_Normal', 0.0),\n",
       " ('SaleCondition_Partial', 0.0),\n",
       " ('Fence_GdPrv', -0.0),\n",
       " ('Fence_GdWo', -0.024),\n",
       " ('Fence_MnPrv', 0.0),\n",
       " ('Fence_MnWw', -0.0),\n",
       " ('Fence_No Fence', 0.0),\n",
       " ('Age', -0.003),\n",
       " ('Garage Age', 0.0),\n",
       " ('AgeSold', 0.004),\n",
       " ('AgeRemodAdd', -0.001)]"
      ]
     },
     "execution_count": 118,
     "metadata": {},
     "output_type": "execute_result"
    }
   ],
   "source": [
    "#lasso model parameters\n",
    "model_parameters = list(lasso.coef_)\n",
    "model_parameters.insert(0, lasso.intercept_)\n",
    "model_parameters = [round(x, 3) for x in model_parameters]\n",
    "cols = X.columns\n",
    "cols = cols.insert(0, \"constant\")\n",
    "var_coeff = list(zip(cols, model_parameters))\n",
    "var_coeff"
   ]
  },
  {
   "cell_type": "markdown",
   "metadata": {},
   "source": [
    "### Converting Value_Coeff into Dataframe"
   ]
  },
  {
   "cell_type": "code",
   "execution_count": 119,
   "metadata": {},
   "outputs": [
    {
     "data": {
      "text/html": [
       "<div>\n",
       "<style scoped>\n",
       "    .dataframe tbody tr th:only-of-type {\n",
       "        vertical-align: middle;\n",
       "    }\n",
       "\n",
       "    .dataframe tbody tr th {\n",
       "        vertical-align: top;\n",
       "    }\n",
       "\n",
       "    .dataframe thead th {\n",
       "        text-align: right;\n",
       "    }\n",
       "</style>\n",
       "<table border=\"1\" class=\"dataframe\">\n",
       "  <thead>\n",
       "    <tr style=\"text-align: right;\">\n",
       "      <th></th>\n",
       "      <th>Y</th>\n",
       "      <th>X</th>\n",
       "    </tr>\n",
       "  </thead>\n",
       "  <tbody>\n",
       "    <tr>\n",
       "      <th>0</th>\n",
       "      <td>constant</td>\n",
       "      <td>10.704</td>\n",
       "    </tr>\n",
       "    <tr>\n",
       "      <th>57</th>\n",
       "      <td>Neighborhood_Crawfor</td>\n",
       "      <td>0.104</td>\n",
       "    </tr>\n",
       "    <tr>\n",
       "      <th>54</th>\n",
       "      <td>Neighborhood_BrkSide</td>\n",
       "      <td>0.068</td>\n",
       "    </tr>\n",
       "    <tr>\n",
       "      <th>4</th>\n",
       "      <td>OverallQual</td>\n",
       "      <td>0.054</td>\n",
       "    </tr>\n",
       "    <tr>\n",
       "      <th>72</th>\n",
       "      <td>Neighborhood_Somerst</td>\n",
       "      <td>0.050</td>\n",
       "    </tr>\n",
       "    <tr>\n",
       "      <th>5</th>\n",
       "      <td>OverallCond</td>\n",
       "      <td>0.049</td>\n",
       "    </tr>\n",
       "    <tr>\n",
       "      <th>180</th>\n",
       "      <td>KitchenQual_Ex</td>\n",
       "      <td>0.047</td>\n",
       "    </tr>\n",
       "    <tr>\n",
       "      <th>147</th>\n",
       "      <td>Foundation_PConc</td>\n",
       "      <td>0.035</td>\n",
       "    </tr>\n",
       "    <tr>\n",
       "      <th>78</th>\n",
       "      <td>Condition1_Norm</td>\n",
       "      <td>0.032</td>\n",
       "    </tr>\n",
       "    <tr>\n",
       "      <th>159</th>\n",
       "      <td>BsmtExposure_Gd</td>\n",
       "      <td>0.025</td>\n",
       "    </tr>\n",
       "    <tr>\n",
       "      <th>150</th>\n",
       "      <td>BsmtQual_Ex</td>\n",
       "      <td>0.025</td>\n",
       "    </tr>\n",
       "    <tr>\n",
       "      <th>192</th>\n",
       "      <td>FireplaceQu_Gd</td>\n",
       "      <td>0.023</td>\n",
       "    </tr>\n",
       "    <tr>\n",
       "      <th>105</th>\n",
       "      <td>Exterior1st_BrkFace</td>\n",
       "      <td>0.023</td>\n",
       "    </tr>\n",
       "    <tr>\n",
       "      <th>212</th>\n",
       "      <td>GarageQual_TA</td>\n",
       "      <td>0.020</td>\n",
       "    </tr>\n",
       "    <tr>\n",
       "      <th>189</th>\n",
       "      <td>Functional_Typ</td>\n",
       "      <td>0.019</td>\n",
       "    </tr>\n",
       "    <tr>\n",
       "      <th>175</th>\n",
       "      <td>HeatingQC_Ex</td>\n",
       "      <td>0.019</td>\n",
       "    </tr>\n",
       "    <tr>\n",
       "      <th>110</th>\n",
       "      <td>Exterior1st_MetalSd</td>\n",
       "      <td>0.017</td>\n",
       "    </tr>\n",
       "    <tr>\n",
       "      <th>15</th>\n",
       "      <td>BsmtFullBath</td>\n",
       "      <td>0.015</td>\n",
       "    </tr>\n",
       "    <tr>\n",
       "      <th>73</th>\n",
       "      <td>Neighborhood_StoneBr</td>\n",
       "      <td>0.014</td>\n",
       "    </tr>\n",
       "    <tr>\n",
       "      <th>197</th>\n",
       "      <td>GarageType_Attchd</td>\n",
       "      <td>0.012</td>\n",
       "    </tr>\n",
       "    <tr>\n",
       "      <th>23</th>\n",
       "      <td>GarageCars</td>\n",
       "      <td>0.011</td>\n",
       "    </tr>\n",
       "    <tr>\n",
       "      <th>36</th>\n",
       "      <td>MSZoning_RL</td>\n",
       "      <td>0.009</td>\n",
       "    </tr>\n",
       "    <tr>\n",
       "      <th>18</th>\n",
       "      <td>HalfBath</td>\n",
       "      <td>0.007</td>\n",
       "    </tr>\n",
       "    <tr>\n",
       "      <th>144</th>\n",
       "      <td>ExterCond_TA</td>\n",
       "      <td>0.007</td>\n",
       "    </tr>\n",
       "    <tr>\n",
       "      <th>177</th>\n",
       "      <td>HeatingQC_Gd</td>\n",
       "      <td>0.006</td>\n",
       "    </tr>\n",
       "    <tr>\n",
       "      <th>22</th>\n",
       "      <td>Fireplaces</td>\n",
       "      <td>0.005</td>\n",
       "    </tr>\n",
       "    <tr>\n",
       "      <th>244</th>\n",
       "      <td>AgeSold</td>\n",
       "      <td>0.004</td>\n",
       "    </tr>\n",
       "    <tr>\n",
       "      <th>165</th>\n",
       "      <td>BsmtFinType1_GLQ</td>\n",
       "      <td>0.003</td>\n",
       "    </tr>\n",
       "    <tr>\n",
       "      <th>205</th>\n",
       "      <td>GarageFinish_RFn</td>\n",
       "      <td>0.002</td>\n",
       "    </tr>\n",
       "    <tr>\n",
       "      <th>228</th>\n",
       "      <td>SaleType_New</td>\n",
       "      <td>0.002</td>\n",
       "    </tr>\n",
       "    <tr>\n",
       "      <th>...</th>\n",
       "      <td>...</td>\n",
       "      <td>...</td>\n",
       "    </tr>\n",
       "    <tr>\n",
       "      <th>90</th>\n",
       "      <td>HouseStyle_1.5Fin</td>\n",
       "      <td>0.000</td>\n",
       "    </tr>\n",
       "    <tr>\n",
       "      <th>91</th>\n",
       "      <td>HouseStyle_1.5Unf</td>\n",
       "      <td>0.000</td>\n",
       "    </tr>\n",
       "    <tr>\n",
       "      <th>3</th>\n",
       "      <td>LotArea</td>\n",
       "      <td>0.000</td>\n",
       "    </tr>\n",
       "    <tr>\n",
       "      <th>92</th>\n",
       "      <td>HouseStyle_1Story</td>\n",
       "      <td>-0.000</td>\n",
       "    </tr>\n",
       "    <tr>\n",
       "      <th>93</th>\n",
       "      <td>HouseStyle_2.5Fin</td>\n",
       "      <td>-0.000</td>\n",
       "    </tr>\n",
       "    <tr>\n",
       "      <th>94</th>\n",
       "      <td>HouseStyle_2.5Unf</td>\n",
       "      <td>0.000</td>\n",
       "    </tr>\n",
       "    <tr>\n",
       "      <th>95</th>\n",
       "      <td>HouseStyle_2Story</td>\n",
       "      <td>-0.000</td>\n",
       "    </tr>\n",
       "    <tr>\n",
       "      <th>96</th>\n",
       "      <td>HouseStyle_SFoyer</td>\n",
       "      <td>-0.000</td>\n",
       "    </tr>\n",
       "    <tr>\n",
       "      <th>97</th>\n",
       "      <td>HouseStyle_SLvl</td>\n",
       "      <td>0.000</td>\n",
       "    </tr>\n",
       "    <tr>\n",
       "      <th>98</th>\n",
       "      <td>RoofStyle_Flat</td>\n",
       "      <td>0.000</td>\n",
       "    </tr>\n",
       "    <tr>\n",
       "      <th>16</th>\n",
       "      <td>BsmtHalfBath</td>\n",
       "      <td>-0.000</td>\n",
       "    </tr>\n",
       "    <tr>\n",
       "      <th>245</th>\n",
       "      <td>AgeRemodAdd</td>\n",
       "      <td>-0.001</td>\n",
       "    </tr>\n",
       "    <tr>\n",
       "      <th>230</th>\n",
       "      <td>SaleType_WD</td>\n",
       "      <td>-0.002</td>\n",
       "    </tr>\n",
       "    <tr>\n",
       "      <th>242</th>\n",
       "      <td>Age</td>\n",
       "      <td>-0.003</td>\n",
       "    </tr>\n",
       "    <tr>\n",
       "      <th>65</th>\n",
       "      <td>Neighborhood_NWAmes</td>\n",
       "      <td>-0.004</td>\n",
       "    </tr>\n",
       "    <tr>\n",
       "      <th>161</th>\n",
       "      <td>BsmtExposure_No</td>\n",
       "      <td>-0.005</td>\n",
       "    </tr>\n",
       "    <tr>\n",
       "      <th>193</th>\n",
       "      <td>FireplaceQu_No Fireplace</td>\n",
       "      <td>-0.006</td>\n",
       "    </tr>\n",
       "    <tr>\n",
       "      <th>20</th>\n",
       "      <td>KitchenAbvGr</td>\n",
       "      <td>-0.009</td>\n",
       "    </tr>\n",
       "    <tr>\n",
       "      <th>19</th>\n",
       "      <td>BedroomAbvGr</td>\n",
       "      <td>-0.010</td>\n",
       "    </tr>\n",
       "    <tr>\n",
       "      <th>234</th>\n",
       "      <td>SaleCondition_Family</td>\n",
       "      <td>-0.011</td>\n",
       "    </tr>\n",
       "    <tr>\n",
       "      <th>143</th>\n",
       "      <td>ExterCond_Gd</td>\n",
       "      <td>-0.011</td>\n",
       "    </tr>\n",
       "    <tr>\n",
       "      <th>76</th>\n",
       "      <td>Condition1_Artery</td>\n",
       "      <td>-0.014</td>\n",
       "    </tr>\n",
       "    <tr>\n",
       "      <th>176</th>\n",
       "      <td>HeatingQC_Fa</td>\n",
       "      <td>-0.014</td>\n",
       "    </tr>\n",
       "    <tr>\n",
       "      <th>88</th>\n",
       "      <td>BldgType_Twnhs</td>\n",
       "      <td>-0.015</td>\n",
       "    </tr>\n",
       "    <tr>\n",
       "      <th>221</th>\n",
       "      <td>Fence_WD</td>\n",
       "      <td>-0.019</td>\n",
       "    </tr>\n",
       "    <tr>\n",
       "      <th>58</th>\n",
       "      <td>Neighborhood_Edwards</td>\n",
       "      <td>-0.021</td>\n",
       "    </tr>\n",
       "    <tr>\n",
       "      <th>238</th>\n",
       "      <td>Fence_GdWo</td>\n",
       "      <td>-0.024</td>\n",
       "    </tr>\n",
       "    <tr>\n",
       "      <th>37</th>\n",
       "      <td>MSZoning_RM</td>\n",
       "      <td>-0.035</td>\n",
       "    </tr>\n",
       "    <tr>\n",
       "      <th>231</th>\n",
       "      <td>SaleCondition_Abnorml</td>\n",
       "      <td>-0.053</td>\n",
       "    </tr>\n",
       "    <tr>\n",
       "      <th>33</th>\n",
       "      <td>MSZoning_C (all)</td>\n",
       "      <td>-0.214</td>\n",
       "    </tr>\n",
       "  </tbody>\n",
       "</table>\n",
       "<p>246 rows × 2 columns</p>\n",
       "</div>"
      ],
      "text/plain": [
       "                            Y       X\n",
       "0                    constant  10.704\n",
       "57       Neighborhood_Crawfor   0.104\n",
       "54       Neighborhood_BrkSide   0.068\n",
       "4                 OverallQual   0.054\n",
       "72       Neighborhood_Somerst   0.050\n",
       "5                 OverallCond   0.049\n",
       "180            KitchenQual_Ex   0.047\n",
       "147          Foundation_PConc   0.035\n",
       "78            Condition1_Norm   0.032\n",
       "159           BsmtExposure_Gd   0.025\n",
       "150               BsmtQual_Ex   0.025\n",
       "192            FireplaceQu_Gd   0.023\n",
       "105       Exterior1st_BrkFace   0.023\n",
       "212             GarageQual_TA   0.020\n",
       "189            Functional_Typ   0.019\n",
       "175              HeatingQC_Ex   0.019\n",
       "110       Exterior1st_MetalSd   0.017\n",
       "15               BsmtFullBath   0.015\n",
       "73       Neighborhood_StoneBr   0.014\n",
       "197         GarageType_Attchd   0.012\n",
       "23                 GarageCars   0.011\n",
       "36                MSZoning_RL   0.009\n",
       "18                   HalfBath   0.007\n",
       "144              ExterCond_TA   0.007\n",
       "177              HeatingQC_Gd   0.006\n",
       "22                 Fireplaces   0.005\n",
       "244                   AgeSold   0.004\n",
       "165          BsmtFinType1_GLQ   0.003\n",
       "205          GarageFinish_RFn   0.002\n",
       "228              SaleType_New   0.002\n",
       "..                        ...     ...\n",
       "90          HouseStyle_1.5Fin   0.000\n",
       "91          HouseStyle_1.5Unf   0.000\n",
       "3                     LotArea   0.000\n",
       "92          HouseStyle_1Story  -0.000\n",
       "93          HouseStyle_2.5Fin  -0.000\n",
       "94          HouseStyle_2.5Unf   0.000\n",
       "95          HouseStyle_2Story  -0.000\n",
       "96          HouseStyle_SFoyer  -0.000\n",
       "97            HouseStyle_SLvl   0.000\n",
       "98             RoofStyle_Flat   0.000\n",
       "16               BsmtHalfBath  -0.000\n",
       "245               AgeRemodAdd  -0.001\n",
       "230               SaleType_WD  -0.002\n",
       "242                       Age  -0.003\n",
       "65        Neighborhood_NWAmes  -0.004\n",
       "161           BsmtExposure_No  -0.005\n",
       "193  FireplaceQu_No Fireplace  -0.006\n",
       "20               KitchenAbvGr  -0.009\n",
       "19               BedroomAbvGr  -0.010\n",
       "234      SaleCondition_Family  -0.011\n",
       "143              ExterCond_Gd  -0.011\n",
       "76          Condition1_Artery  -0.014\n",
       "176              HeatingQC_Fa  -0.014\n",
       "88             BldgType_Twnhs  -0.015\n",
       "221                  Fence_WD  -0.019\n",
       "58       Neighborhood_Edwards  -0.021\n",
       "238                Fence_GdWo  -0.024\n",
       "37                MSZoning_RM  -0.035\n",
       "231     SaleCondition_Abnorml  -0.053\n",
       "33           MSZoning_C (all)  -0.214\n",
       "\n",
       "[246 rows x 2 columns]"
      ]
     },
     "execution_count": 119,
     "metadata": {},
     "output_type": "execute_result"
    }
   ],
   "source": [
    "df_1 = pd.DataFrame(var_coeff)\n",
    "## renaming the columns\n",
    "df_1 = df_1.rename(columns = {0 : 'Y', 1 : 'X'})\n",
    "# Sorting the data according to coefficients value\n",
    "df_1.sort_values('X', ascending = False)\n"
   ]
  },
  {
   "cell_type": "markdown",
   "metadata": {},
   "source": [
    "# Conclusion"
   ]
  },
  {
   "cell_type": "markdown",
   "metadata": {},
   "source": [
    "#### 1. Optimum value for lambda in ridge regression is 10\n",
    "#### 2. Optimum value for lambda in lasso regression is 0.001\n",
    "#### 3. So, the company can purchase houses below the market value by highlighting the negative parameters.\n",
    "#### 4. r2_score in train dataset: r2_score for ridge: 0.93, r2_score for lasso: 0.92\n",
    "#### 5. r2_score in test dataset: r2_score for ridge: 0.91, r2_score for lasso: 0.90\n",
    "#### 6. Top 5 Variables are:\n",
    "####      Neighborhood_Crawfor\n",
    "####      Neighborhood_BrkSide\n",
    "####      OverallQual\n",
    "####      Neighborhood_Somerst\n",
    "####      OverallCond"
   ]
  },
  {
   "cell_type": "code",
   "execution_count": null,
   "metadata": {},
   "outputs": [],
   "source": []
  }
 ],
 "metadata": {
  "kernelspec": {
   "display_name": "Python 3",
   "language": "python",
   "name": "python3"
  },
  "language_info": {
   "codemirror_mode": {
    "name": "ipython",
    "version": 3
   },
   "file_extension": ".py",
   "mimetype": "text/x-python",
   "name": "python",
   "nbconvert_exporter": "python",
   "pygments_lexer": "ipython3",
   "version": "3.7.3"
  }
 },
 "nbformat": 4,
 "nbformat_minor": 2
}
