{
 "cells": [
  {
   "cell_type": "markdown",
   "metadata": {},
   "source": [
    "# POS Tagging Using Viterbi Algorithm\n",
    "\n",
    "\n",
    "\n",
    "##### In this Assignment we apply techniques to improve the Vanilla Viterbi algorithm. \n",
    "##### Following are the steps involved:\n",
    "##### 1. Simple Vanilla Viterbi algorithm is developed.\n",
    "##### 2. Viterbi Modification 1 - Probability based algorithm\n",
    "##### 3. Viterbi Modification 2 - Rule Based Algorithm.\n",
    "##### 4. Test data is tested on both the Viterbi modification \n",
    "##### 5. The modified Viterbi algorithms are first tested on sampled test data for comparison.\n",
    "##### 6. The final algorithm and vanilla Viterbi Algorithm are the tested on full testing data for comparison.\n",
    "\n"
   ]
  },
  {
   "cell_type": "code",
   "execution_count": 105,
   "metadata": {},
   "outputs": [],
   "source": [
    "import pandas as pd\n",
    "import numpy as np\n",
    "import matplotlib.pyplot as plt\n",
    "import seaborn as sns\n",
    "import nltk, pprint\n",
    "import time\n",
    "import random\n",
    "from sklearn.model_selection import train_test_split\n",
    "from nltk.tokenize import word_tokenize\n",
    "import os"
   ]
  },
  {
   "cell_type": "markdown",
   "metadata": {},
   "source": [
    "# Data Preparation"
   ]
  },
  {
   "cell_type": "code",
   "execution_count": 2,
   "metadata": {},
   "outputs": [],
   "source": [
    "wsj = list(nltk.corpus.treebank.tagged_sents(tagset = 'universal'))"
   ]
  },
  {
   "cell_type": "code",
   "execution_count": 3,
   "metadata": {},
   "outputs": [
    {
     "name": "stdout",
     "output_type": "stream",
     "text": [
      "[[('Pierre', 'NOUN'), ('Vinken', 'NOUN'), (',', '.'), ('61', 'NUM'), ('years', 'NOUN'), ('old', 'ADJ'), (',', '.'), ('will', 'VERB'), ('join', 'VERB'), ('the', 'DET'), ('board', 'NOUN'), ('as', 'ADP'), ('a', 'DET'), ('nonexecutive', 'ADJ'), ('director', 'NOUN'), ('Nov.', 'NOUN'), ('29', 'NUM'), ('.', '.')], [('Mr.', 'NOUN'), ('Vinken', 'NOUN'), ('is', 'VERB'), ('chairman', 'NOUN'), ('of', 'ADP'), ('Elsevier', 'NOUN'), ('N.V.', 'NOUN'), (',', '.'), ('the', 'DET'), ('Dutch', 'NOUN'), ('publishing', 'VERB'), ('group', 'NOUN'), ('.', '.')], [('Rudolph', 'NOUN'), ('Agnew', 'NOUN'), (',', '.'), ('55', 'NUM'), ('years', 'NOUN'), ('old', 'ADJ'), ('and', 'CONJ'), ('former', 'ADJ'), ('chairman', 'NOUN'), ('of', 'ADP'), ('Consolidated', 'NOUN'), ('Gold', 'NOUN'), ('Fields', 'NOUN'), ('PLC', 'NOUN'), (',', '.'), ('was', 'VERB'), ('named', 'VERB'), ('*-1', 'X'), ('a', 'DET'), ('nonexecutive', 'ADJ'), ('director', 'NOUN'), ('of', 'ADP'), ('this', 'DET'), ('British', 'ADJ'), ('industrial', 'ADJ'), ('conglomerate', 'NOUN'), ('.', '.')], [('A', 'DET'), ('form', 'NOUN'), ('of', 'ADP'), ('asbestos', 'NOUN'), ('once', 'ADV'), ('used', 'VERB'), ('*', 'X'), ('*', 'X'), ('to', 'PRT'), ('make', 'VERB'), ('Kent', 'NOUN'), ('cigarette', 'NOUN'), ('filters', 'NOUN'), ('has', 'VERB'), ('caused', 'VERB'), ('a', 'DET'), ('high', 'ADJ'), ('percentage', 'NOUN'), ('of', 'ADP'), ('cancer', 'NOUN'), ('deaths', 'NOUN'), ('among', 'ADP'), ('a', 'DET'), ('group', 'NOUN'), ('of', 'ADP'), ('workers', 'NOUN'), ('exposed', 'VERB'), ('*', 'X'), ('to', 'PRT'), ('it', 'PRON'), ('more', 'ADV'), ('than', 'ADP'), ('30', 'NUM'), ('years', 'NOUN'), ('ago', 'ADP'), (',', '.'), ('researchers', 'NOUN'), ('reported', 'VERB'), ('0', 'X'), ('*T*-1', 'X'), ('.', '.')], [('The', 'DET'), ('asbestos', 'NOUN'), ('fiber', 'NOUN'), (',', '.'), ('crocidolite', 'NOUN'), (',', '.'), ('is', 'VERB'), ('unusually', 'ADV'), ('resilient', 'ADJ'), ('once', 'ADP'), ('it', 'PRON'), ('enters', 'VERB'), ('the', 'DET'), ('lungs', 'NOUN'), (',', '.'), ('with', 'ADP'), ('even', 'ADV'), ('brief', 'ADJ'), ('exposures', 'NOUN'), ('to', 'PRT'), ('it', 'PRON'), ('causing', 'VERB'), ('symptoms', 'NOUN'), ('that', 'DET'), ('*T*-1', 'X'), ('show', 'VERB'), ('up', 'PRT'), ('decades', 'NOUN'), ('later', 'ADJ'), (',', '.'), ('researchers', 'NOUN'), ('said', 'VERB'), ('0', 'X'), ('*T*-2', 'X'), ('.', '.')], [('Lorillard', 'NOUN'), ('Inc.', 'NOUN'), (',', '.'), ('the', 'DET'), ('unit', 'NOUN'), ('of', 'ADP'), ('New', 'ADJ'), ('York-based', 'ADJ'), ('Loews', 'NOUN'), ('Corp.', 'NOUN'), ('that', 'DET'), ('*T*-2', 'X'), ('makes', 'VERB'), ('Kent', 'NOUN'), ('cigarettes', 'NOUN'), (',', '.'), ('stopped', 'VERB'), ('using', 'VERB'), ('crocidolite', 'NOUN'), ('in', 'ADP'), ('its', 'PRON'), ('Micronite', 'NOUN'), ('cigarette', 'NOUN'), ('filters', 'NOUN'), ('in', 'ADP'), ('1956', 'NUM'), ('.', '.')], [('Although', 'ADP'), ('preliminary', 'ADJ'), ('findings', 'NOUN'), ('were', 'VERB'), ('reported', 'VERB'), ('*-2', 'X'), ('more', 'ADV'), ('than', 'ADP'), ('a', 'DET'), ('year', 'NOUN'), ('ago', 'ADP'), (',', '.'), ('the', 'DET'), ('latest', 'ADJ'), ('results', 'NOUN'), ('appear', 'VERB'), ('in', 'ADP'), ('today', 'NOUN'), (\"'s\", 'PRT'), ('New', 'NOUN'), ('England', 'NOUN'), ('Journal', 'NOUN'), ('of', 'ADP'), ('Medicine', 'NOUN'), (',', '.'), ('a', 'DET'), ('forum', 'NOUN'), ('likely', 'ADJ'), ('*', 'X'), ('to', 'PRT'), ('bring', 'VERB'), ('new', 'ADJ'), ('attention', 'NOUN'), ('to', 'PRT'), ('the', 'DET'), ('problem', 'NOUN'), ('.', '.')], [('A', 'DET'), ('Lorillard', 'NOUN'), ('spokewoman', 'NOUN'), ('said', 'VERB'), (',', '.'), ('``', '.'), ('This', 'DET'), ('is', 'VERB'), ('an', 'DET'), ('old', 'ADJ'), ('story', 'NOUN'), ('.', '.')], [('We', 'PRON'), (\"'re\", 'VERB'), ('talking', 'VERB'), ('about', 'ADP'), ('years', 'NOUN'), ('ago', 'ADP'), ('before', 'ADP'), ('anyone', 'NOUN'), ('heard', 'VERB'), ('of', 'ADP'), ('asbestos', 'NOUN'), ('having', 'VERB'), ('any', 'DET'), ('questionable', 'ADJ'), ('properties', 'NOUN'), ('.', '.')], [('There', 'DET'), ('is', 'VERB'), ('no', 'DET'), ('asbestos', 'NOUN'), ('in', 'ADP'), ('our', 'PRON'), ('products', 'NOUN'), ('now', 'ADV'), ('.', '.'), (\"''\", '.')], [('Neither', 'DET'), ('Lorillard', 'NOUN'), ('nor', 'CONJ'), ('the', 'DET'), ('researchers', 'NOUN'), ('who', 'PRON'), ('*T*-3', 'X'), ('studied', 'VERB'), ('the', 'DET'), ('workers', 'NOUN'), ('were', 'VERB'), ('aware', 'ADJ'), ('of', 'ADP'), ('any', 'DET'), ('research', 'NOUN'), ('on', 'ADP'), ('smokers', 'NOUN'), ('of', 'ADP'), ('the', 'DET'), ('Kent', 'NOUN'), ('cigarettes', 'NOUN'), ('.', '.')], [('``', '.'), ('We', 'PRON'), ('have', 'VERB'), ('no', 'DET'), ('useful', 'ADJ'), ('information', 'NOUN'), ('on', 'ADP'), ('whether', 'ADP'), ('users', 'NOUN'), ('are', 'VERB'), ('at', 'ADP'), ('risk', 'NOUN'), (',', '.'), (\"''\", '.'), ('said', 'VERB'), ('*T*-1', 'X'), ('James', 'NOUN'), ('A.', 'NOUN'), ('Talcott', 'NOUN'), ('of', 'ADP'), ('Boston', 'NOUN'), (\"'s\", 'PRT'), ('Dana-Farber', 'NOUN'), ('Cancer', 'NOUN'), ('Institute', 'NOUN'), ('.', '.')], [('Dr.', 'NOUN'), ('Talcott', 'NOUN'), ('led', 'VERB'), ('a', 'DET'), ('team', 'NOUN'), ('of', 'ADP'), ('researchers', 'NOUN'), ('from', 'ADP'), ('the', 'DET'), ('National', 'NOUN'), ('Cancer', 'NOUN'), ('Institute', 'NOUN'), ('and', 'CONJ'), ('the', 'DET'), ('medical', 'ADJ'), ('schools', 'NOUN'), ('of', 'ADP'), ('Harvard', 'NOUN'), ('University', 'NOUN'), ('and', 'CONJ'), ('Boston', 'NOUN'), ('University', 'NOUN'), ('.', '.')], [('The', 'DET'), ('Lorillard', 'NOUN'), ('spokeswoman', 'NOUN'), ('said', 'VERB'), ('0', 'X'), ('asbestos', 'NOUN'), ('was', 'VERB'), ('used', 'VERB'), ('*-1', 'X'), ('in', 'ADP'), ('``', '.'), ('very', 'ADV'), ('modest', 'ADJ'), ('amounts', 'NOUN'), (\"''\", '.'), ('in', 'ADP'), ('*', 'X'), ('making', 'VERB'), ('paper', 'NOUN'), ('for', 'ADP'), ('the', 'DET'), ('filters', 'NOUN'), ('in', 'ADP'), ('the', 'DET'), ('early', 'ADJ'), ('1950s', 'NUM'), ('and', 'CONJ'), ('replaced', 'VERB'), ('*-1', 'X'), ('with', 'ADP'), ('a', 'DET'), ('different', 'ADJ'), ('type', 'NOUN'), ('of', 'ADP'), ('filter', 'NOUN'), ('in', 'ADP'), ('1956', 'NUM'), ('.', '.')], [('From', 'ADP'), ('1953', 'NUM'), ('to', 'PRT'), ('1955', 'NUM'), (',', '.'), ('9.8', 'NUM'), ('billion', 'NUM'), ('Kent', 'NOUN'), ('cigarettes', 'NOUN'), ('with', 'ADP'), ('the', 'DET'), ('filters', 'NOUN'), ('were', 'VERB'), ('sold', 'VERB'), ('*-3', 'X'), (',', '.'), ('the', 'DET'), ('company', 'NOUN'), ('said', 'VERB'), ('0', 'X'), ('*T*-1', 'X'), ('.', '.')], [('Among', 'ADP'), ('33', 'NUM'), ('men', 'NOUN'), ('who', 'PRON'), ('*T*-4', 'X'), ('worked', 'VERB'), ('closely', 'ADV'), ('with', 'ADP'), ('the', 'DET'), ('substance', 'NOUN'), (',', '.'), ('28', 'NUM'), ('*ICH*-1', 'X'), ('have', 'VERB'), ('died', 'VERB'), ('--', '.'), ('more', 'ADJ'), ('than', 'ADP'), ('three', 'NUM'), ('times', 'NOUN'), ('the', 'DET'), ('expected', 'VERB'), ('number', 'NOUN'), ('.', '.')], [('Four', 'NUM'), ('of', 'ADP'), ('the', 'DET'), ('five', 'NUM'), ('surviving', 'VERB'), ('workers', 'NOUN'), ('have', 'VERB'), ('asbestos-related', 'ADJ'), ('diseases', 'NOUN'), (',', '.'), ('including', 'VERB'), ('three', 'NUM'), ('with', 'ADP'), ('recently', 'ADV'), ('diagnosed', 'VERB'), ('cancer', 'NOUN'), ('.', '.')], [('The', 'DET'), ('total', 'NOUN'), ('of', 'ADP'), ('18', 'NUM'), ('deaths', 'NOUN'), ('from', 'ADP'), ('malignant', 'ADJ'), ('mesothelioma', 'NOUN'), (',', '.'), ('lung', 'NOUN'), ('cancer', 'NOUN'), ('and', 'CONJ'), ('asbestosis', 'NOUN'), ('was', 'VERB'), ('far', 'ADV'), ('higher', 'ADJ'), ('than', 'ADP'), ('*', 'X'), ('expected', 'VERB'), ('*?*', 'X'), (',', '.'), ('the', 'DET'), ('researchers', 'NOUN'), ('said', 'VERB'), ('0', 'X'), ('*T*-1', 'X'), ('.', '.')], [('``', '.'), ('The', 'DET'), ('morbidity', 'NOUN'), ('rate', 'NOUN'), ('is', 'VERB'), ('a', 'DET'), ('striking', 'ADJ'), ('finding', 'NOUN'), ('among', 'ADP'), ('those', 'DET'), ('of', 'ADP'), ('us', 'PRON'), ('who', 'PRON'), ('*T*-5', 'X'), ('study', 'VERB'), ('asbestos-related', 'ADJ'), ('diseases', 'NOUN'), (',', '.'), (\"''\", '.'), ('said', 'VERB'), ('*T*-1', 'X'), ('Dr.', 'NOUN'), ('Talcott', 'NOUN'), ('.', '.')], [('The', 'DET'), ('percentage', 'NOUN'), ('of', 'ADP'), ('lung', 'NOUN'), ('cancer', 'NOUN'), ('deaths', 'NOUN'), ('among', 'ADP'), ('the', 'DET'), ('workers', 'NOUN'), ('at', 'ADP'), ('the', 'DET'), ('West', 'NOUN'), ('Groton', 'NOUN'), (',', '.'), ('Mass.', 'NOUN'), (',', '.'), ('paper', 'NOUN'), ('factory', 'NOUN'), ('appears', 'VERB'), ('*-1', 'X'), ('to', 'PRT'), ('be', 'VERB'), ('the', 'DET'), ('highest', 'ADJ'), ('for', 'ADP'), ('any', 'DET'), ('asbestos', 'NOUN'), ('workers', 'NOUN'), ('studied', 'VERB'), ('*', 'X'), ('in', 'ADP'), ('Western', 'ADJ'), ('industrialized', 'VERB'), ('countries', 'NOUN'), (',', '.'), ('he', 'PRON'), ('said', 'VERB'), ('0', 'X'), ('*T*-2', 'X'), ('.', '.')], [('The', 'DET'), ('plant', 'NOUN'), (',', '.'), ('which', 'DET'), ('*T*-1', 'X'), ('is', 'VERB'), ('owned', 'VERB'), ('*-4', 'X'), ('by', 'ADP'), ('Hollingsworth', 'NOUN'), ('&', 'CONJ'), ('Vose', 'NOUN'), ('Co.', 'NOUN'), (',', '.'), ('was', 'VERB'), ('under', 'ADP'), ('contract', 'NOUN'), ('*ICH*-2', 'X'), ('with', 'ADP'), ('Lorillard', 'NOUN'), ('*', 'X'), ('to', 'PRT'), ('make', 'VERB'), ('the', 'DET'), ('cigarette', 'NOUN'), ('filters', 'NOUN'), ('.', '.')], [('The', 'DET'), ('finding', 'NOUN'), ('probably', 'ADV'), ('will', 'VERB'), ('support', 'VERB'), ('those', 'DET'), ('who', 'PRON'), ('*T*-6', 'X'), ('argue', 'VERB'), ('that', 'ADP'), ('the', 'DET'), ('U.S.', 'NOUN'), ('should', 'VERB'), ('regulate', 'VERB'), ('the', 'DET'), ('class', 'NOUN'), ('of', 'ADP'), ('asbestos', 'NOUN'), ('including', 'VERB'), ('crocidolite', 'NOUN'), ('more', 'ADV'), ('stringently', 'ADV'), ('than', 'ADP'), ('the', 'DET'), ('common', 'ADJ'), ('kind', 'NOUN'), ('of', 'ADP'), ('asbestos', 'NOUN'), (',', '.'), ('chrysotile', 'NOUN'), (',', '.'), ('found', 'VERB'), ('*', 'X'), ('in', 'ADP'), ('most', 'ADJ'), ('schools', 'NOUN'), ('and', 'CONJ'), ('other', 'ADJ'), ('buildings', 'NOUN'), (',', '.'), ('Dr.', 'NOUN'), ('Talcott', 'NOUN'), ('said', 'VERB'), ('0', 'X'), ('*T*-1', 'X'), ('.', '.')], [('The', 'DET'), ('U.S.', 'NOUN'), ('is', 'VERB'), ('one', 'NUM'), ('of', 'ADP'), ('the', 'DET'), ('few', 'ADJ'), ('industrialized', 'VERB'), ('nations', 'NOUN'), ('that', 'DET'), ('*T*-7', 'X'), ('does', 'VERB'), (\"n't\", 'ADV'), ('have', 'VERB'), ('a', 'DET'), ('higher', 'ADJ'), ('standard', 'NOUN'), ('of', 'ADP'), ('regulation', 'NOUN'), ('for', 'ADP'), ('the', 'DET'), ('smooth', 'ADJ'), (',', '.'), ('needle-like', 'ADJ'), ('fibers', 'NOUN'), ('such', 'ADJ'), ('as', 'ADP'), ('crocidolite', 'NOUN'), ('that', 'DET'), ('*T*-1', 'X'), ('are', 'VERB'), ('classified', 'VERB'), ('*-5', 'X'), ('as', 'ADP'), ('amphobiles', 'NOUN'), (',', '.'), ('according', 'VERB'), ('to', 'PRT'), ('Brooke', 'NOUN'), ('T.', 'NOUN'), ('Mossman', 'NOUN'), (',', '.'), ('a', 'DET'), ('professor', 'NOUN'), ('of', 'ADP'), ('pathlogy', 'NOUN'), ('at', 'ADP'), ('the', 'DET'), ('University', 'NOUN'), ('of', 'ADP'), ('Vermont', 'NOUN'), ('College', 'NOUN'), ('of', 'ADP'), ('Medicine', 'NOUN'), ('.', '.')], [('More', 'ADV'), ('common', 'ADJ'), ('chrysotile', 'NOUN'), ('fibers', 'NOUN'), ('are', 'VERB'), ('curly', 'ADJ'), ('and', 'CONJ'), ('are', 'VERB'), ('more', 'ADV'), ('easily', 'ADV'), ('rejected', 'VERB'), ('*-1', 'X'), ('by', 'ADP'), ('the', 'DET'), ('body', 'NOUN'), (',', '.'), ('Dr.', 'NOUN'), ('Mossman', 'NOUN'), ('explained', 'VERB'), ('0', 'X'), ('*T*-2', 'X'), ('.', '.')], [('In', 'ADP'), ('July', 'NOUN'), (',', '.'), ('the', 'DET'), ('Environmental', 'NOUN'), ('Protection', 'NOUN'), ('Agency', 'NOUN'), ('imposed', 'VERB'), ('a', 'DET'), ('gradual', 'ADJ'), ('ban', 'NOUN'), ('on', 'ADP'), ('virtually', 'ADV'), ('all', 'DET'), ('uses', 'NOUN'), ('of', 'ADP'), ('asbestos', 'NOUN'), ('.', '.')], [('By', 'ADP'), ('1997', 'NUM'), (',', '.'), ('almost', 'ADV'), ('all', 'DET'), ('remaining', 'VERB'), ('uses', 'NOUN'), ('of', 'ADP'), ('cancer-causing', 'ADJ'), ('asbestos', 'NOUN'), ('will', 'VERB'), ('be', 'VERB'), ('outlawed', 'VERB'), ('*-6', 'X'), ('.', '.')], [('About', 'ADP'), ('160', 'NUM'), ('workers', 'NOUN'), ('at', 'ADP'), ('a', 'DET'), ('factory', 'NOUN'), ('that', 'DET'), ('*T*-8', 'X'), ('made', 'VERB'), ('paper', 'NOUN'), ('for', 'ADP'), ('the', 'DET'), ('Kent', 'NOUN'), ('filters', 'NOUN'), ('were', 'VERB'), ('exposed', 'VERB'), ('*-7', 'X'), ('to', 'PRT'), ('asbestos', 'NOUN'), ('in', 'ADP'), ('the', 'DET'), ('1950s', 'NUM'), ('.', '.')], [('Areas', 'NOUN'), ('of', 'ADP'), ('the', 'DET'), ('factory', 'NOUN'), ('*ICH*-2', 'X'), ('were', 'VERB'), ('particularly', 'ADV'), ('dusty', 'ADJ'), ('where', 'ADV'), ('the', 'DET'), ('crocidolite', 'NOUN'), ('was', 'VERB'), ('used', 'VERB'), ('*-8', 'X'), ('*T*-1', 'X'), ('.', '.')], [('Workers', 'NOUN'), ('dumped', 'VERB'), ('large', 'ADJ'), ('burlap', 'NOUN'), ('sacks', 'NOUN'), ('of', 'ADP'), ('the', 'DET'), ('imported', 'VERB'), ('material', 'NOUN'), ('into', 'ADP'), ('a', 'DET'), ('huge', 'ADJ'), ('bin', 'NOUN'), (',', '.'), ('poured', 'VERB'), ('in', 'PRT'), ('cotton', 'NOUN'), ('and', 'CONJ'), ('acetate', 'NOUN'), ('fibers', 'NOUN'), ('and', 'CONJ'), ('mechanically', 'ADV'), ('mixed', 'VERB'), ('the', 'DET'), ('dry', 'ADJ'), ('fibers', 'NOUN'), ('in', 'ADP'), ('a', 'DET'), ('process', 'NOUN'), ('used', 'VERB'), ('*', 'X'), ('*', 'X'), ('to', 'PRT'), ('make', 'VERB'), ('filters', 'NOUN'), ('.', '.')], [('Workers', 'NOUN'), ('described', 'VERB'), ('``', '.'), ('clouds', 'NOUN'), ('of', 'ADP'), ('blue', 'ADJ'), ('dust', 'NOUN'), (\"''\", '.'), ('that', 'DET'), ('*T*-1', 'X'), ('hung', 'VERB'), ('over', 'ADP'), ('parts', 'NOUN'), ('of', 'ADP'), ('the', 'DET'), ('factory', 'NOUN'), (',', '.'), ('even', 'ADV'), ('though', 'ADP'), ('exhaust', 'NOUN'), ('fans', 'NOUN'), ('ventilated', 'VERB'), ('the', 'DET'), ('area', 'NOUN'), ('.', '.')], [('``', '.'), ('There', 'DET'), (\"'s\", 'VERB'), ('no', 'DET'), ('question', 'NOUN'), ('that', 'ADP'), ('some', 'DET'), ('of', 'ADP'), ('those', 'DET'), ('workers', 'NOUN'), ('and', 'CONJ'), ('managers', 'NOUN'), ('contracted', 'VERB'), ('asbestos-related', 'ADJ'), ('diseases', 'NOUN'), (',', '.'), (\"''\", '.'), ('said', 'VERB'), ('*T*-1', 'X'), ('Darrell', 'NOUN'), ('Phillips', 'NOUN'), (',', '.'), ('vice', 'NOUN'), ('president', 'NOUN'), ('of', 'ADP'), ('human', 'ADJ'), ('resources', 'NOUN'), ('for', 'ADP'), ('Hollingsworth', 'NOUN'), ('&', 'CONJ'), ('Vose', 'NOUN'), ('.', '.')], [('``', '.'), ('But', 'CONJ'), ('you', 'PRON'), ('have', 'VERB'), ('*-1', 'X'), ('to', 'PRT'), ('recognize', 'VERB'), ('that', 'ADP'), ('these', 'DET'), ('events', 'NOUN'), ('took', 'VERB'), ('place', 'NOUN'), ('35', 'NUM'), ('years', 'NOUN'), ('ago', 'ADP'), ('.', '.')], [('It', 'PRON'), ('has', 'VERB'), ('no', 'DET'), ('bearing', 'NOUN'), ('on', 'ADP'), ('our', 'PRON'), ('work', 'NOUN'), ('force', 'NOUN'), ('today', 'NOUN'), ('.', '.')], [('Yields', 'NOUN'), ('on', 'ADP'), ('money-market', 'ADJ'), ('mutual', 'ADJ'), ('funds', 'NOUN'), ('continued', 'VERB'), ('*-1', 'X'), ('to', 'PRT'), ('slide', 'VERB'), (',', '.'), ('amid', 'ADP'), ('signs', 'NOUN'), ('that', 'ADP'), ('portfolio', 'NOUN'), ('managers', 'NOUN'), ('expect', 'VERB'), ('further', 'ADJ'), ('declines', 'NOUN'), ('in', 'ADP'), ('interest', 'NOUN'), ('rates', 'NOUN'), ('.', '.')], [('The', 'DET'), ('average', 'ADJ'), ('seven-day', 'ADJ'), ('compound', 'NOUN'), ('yield', 'NOUN'), ('of', 'ADP'), ('the', 'DET'), ('400', 'NUM'), ('taxable', 'ADJ'), ('funds', 'NOUN'), ('tracked', 'VERB'), ('*', 'X'), ('by', 'ADP'), ('IBC', 'NOUN'), (\"'s\", 'PRT'), ('Money', 'NOUN'), ('Fund', 'NOUN'), ('Report', 'NOUN'), ('eased', 'VERB'), ('a', 'DET'), ('fraction', 'NOUN'), ('of', 'ADP'), ('a', 'DET'), ('percentage', 'NOUN'), ('point', 'NOUN'), ('to', 'PRT'), ('8.45', 'NUM'), ('%', 'NOUN'), ('from', 'ADP'), ('8.47', 'NUM'), ('%', 'NOUN'), ('for', 'ADP'), ('the', 'DET'), ('week', 'NOUN'), ('ended', 'VERB'), ('Tuesday', 'NOUN'), ('.', '.')], [('Compound', 'NOUN'), ('yields', 'NOUN'), ('assume', 'VERB'), ('reinvestment', 'NOUN'), ('of', 'ADP'), ('dividends', 'NOUN'), ('and', 'CONJ'), ('that', 'ADP'), ('the', 'DET'), ('current', 'ADJ'), ('yield', 'NOUN'), ('continues', 'VERB'), ('for', 'ADP'), ('a', 'DET'), ('year', 'NOUN'), ('.', '.')], [('Average', 'ADJ'), ('maturity', 'NOUN'), ('of', 'ADP'), ('the', 'DET'), ('funds', 'NOUN'), (\"'\", 'PRT'), ('investments', 'NOUN'), ('lengthened', 'VERB'), ('by', 'ADP'), ('a', 'DET'), ('day', 'NOUN'), ('to', 'PRT'), ('41', 'NUM'), ('days', 'NOUN'), (',', '.'), ('the', 'DET'), ('longest', 'ADJ'), ('since', 'ADP'), ('early', 'ADJ'), ('August', 'NOUN'), (',', '.'), ('according', 'VERB'), ('to', 'PRT'), ('Donoghue', 'NOUN'), (\"'s\", 'PRT'), ('.', '.')], [('Longer', 'ADJ'), ('maturities', 'NOUN'), ('are', 'VERB'), ('thought', 'VERB'), ('*-1', 'X'), ('to', 'PRT'), ('indicate', 'VERB'), ('declining', 'VERB'), ('interest', 'NOUN'), ('rates', 'NOUN'), ('because', 'ADP'), ('they', 'PRON'), ('permit', 'VERB'), ('portfolio', 'NOUN'), ('managers', 'NOUN'), ('to', 'PRT'), ('retain', 'VERB'), ('relatively', 'ADV'), ('higher', 'ADJ'), ('rates', 'NOUN'), ('for', 'ADP'), ('a', 'DET'), ('longer', 'ADJ'), ('period', 'NOUN'), ('.', '.')], [('Shorter', 'ADJ'), ('maturities', 'NOUN'), ('are', 'VERB'), ('considered', 'VERB'), ('*-9', 'X'), ('a', 'DET'), ('sign', 'NOUN'), ('of', 'ADP'), ('rising', 'VERB'), ('rates', 'NOUN'), ('because', 'ADP'), ('portfolio', 'NOUN'), ('managers', 'NOUN'), ('can', 'VERB'), ('capture', 'VERB'), ('higher', 'ADJ'), ('rates', 'NOUN'), ('sooner', 'ADV'), ('.', '.')], [('The', 'DET'), ('average', 'ADJ'), ('maturity', 'NOUN'), ('for', 'ADP'), ('funds', 'NOUN'), ('open', 'ADJ'), ('only', 'ADV'), ('to', 'PRT'), ('institutions', 'NOUN'), (',', '.'), ('considered', 'VERB'), ('by', 'ADP'), ('some', 'DET'), ('*', 'X'), ('to', 'PRT'), ('be', 'VERB'), ('a', 'DET'), ('stronger', 'ADJ'), ('indicator', 'NOUN'), ('because', 'ADP'), ('those', 'DET'), ('managers', 'NOUN'), ('watch', 'VERB'), ('the', 'DET'), ('market', 'NOUN'), ('closely', 'ADV'), (',', '.'), ('reached', 'VERB'), ('a', 'DET'), ('high', 'ADJ'), ('point', 'NOUN'), ('for', 'ADP'), ('the', 'DET'), ('year', 'NOUN'), ('--', '.'), ('33', 'NUM'), ('days', 'NOUN'), ('.', '.')]]\n"
     ]
    }
   ],
   "source": [
    "print(wsj[:40])"
   ]
  },
  {
   "cell_type": "code",
   "execution_count": 29,
   "metadata": {},
   "outputs": [
    {
     "name": "stdout",
     "output_type": "stream",
     "text": [
      "3718\n",
      "196\n",
      "[[('Reliance', 'NOUN'), ('confirmed', 'VERB'), ('the', 'DET'), ('filing', 'NOUN'), ('but', 'CONJ'), ('would', 'VERB'), (\"n't\", 'ADV'), ('elaborate', 'VERB'), ('.', '.')], [('*', 'X'), ('Encouraging', 'VERB'), ('long-term', 'ADJ'), ('investing', 'NOUN'), ('.', '.')], [('Because', 'ADP'), ('of', 'ADP'), ('the', 'DET'), ('rulings', 'NOUN'), (',', '.'), ('the', 'DET'), ('Commerce', 'NOUN'), ('Department', 'NOUN'), ('will', 'VERB'), ('continue', 'VERB'), ('*-1', 'X'), ('to', 'PRT'), ('investigate', 'VERB'), ('complaints', 'NOUN'), ('*ICH*-2', 'X'), ('by', 'ADP'), ('U.S.', 'NOUN'), ('sweater', 'NOUN'), ('makers', 'NOUN'), ('that', 'ADP'), ('the', 'DET'), ('imports', 'NOUN'), ('are', 'VERB'), ('reaching', 'VERB'), ('the', 'DET'), ('U.S.', 'NOUN'), ('at', 'ADP'), ('unfairly', 'ADV'), ('low', 'ADJ'), ('prices', 'NOUN'), ('in', 'ADP'), ('violation', 'NOUN'), ('of', 'ADP'), ('the', 'DET'), ('U.S.', 'NOUN'), ('anti-dumping', 'ADJ'), ('act', 'NOUN'), ('.', '.')], [('What', 'PRON'), ('she', 'PRON'), ('did', 'VERB'), ('*T*-97', 'X'), ('was', 'VERB'), ('like', 'ADP'), ('*', 'X'), ('taking', 'VERB'), ('the', 'DET'), ('law', 'NOUN'), ('into', 'ADP'), ('your', 'PRON'), ('own', 'ADJ'), ('hands', 'NOUN'), ('.', '.'), (\"''\", '.')], [('Los', 'NOUN'), ('Angeles', 'NOUN'), ('is', 'VERB'), ('a', 'DET'), ('sprawling', 'ADJ'), (',', '.'), ('balkanized', 'ADJ'), ('newspaper', 'NOUN'), ('market', 'NOUN'), (',', '.'), ('and', 'CONJ'), ('advertisers', 'NOUN'), ('seemed', 'VERB'), ('*-1', 'X'), ('to', 'PRT'), ('feel', 'VERB'), ('0', 'X'), ('they', 'PRON'), ('could', 'VERB'), ('buy', 'VERB'), ('space', 'NOUN'), ('in', 'ADP'), ('the', 'DET'), ('mammoth', 'ADJ'), ('Times', 'NOUN'), (',', '.'), ('then', 'ADV'), ('target', 'VERB'), ('a', 'DET'), ('particular', 'ADJ'), ('area', 'NOUN'), ('with', 'ADP'), ('one', 'NUM'), ('of', 'ADP'), ('the', 'DET'), ('regional', 'ADJ'), ('dailies', 'NOUN'), ('.', '.')], [('In', 'ADP'), ('a', 'DET'), ('separate', 'ADJ'), ('report', 'NOUN'), (',', '.'), ('the', 'DET'), ('department', 'NOUN'), ('said', 'VERB'), ('0', 'X'), ('construction', 'NOUN'), ('spending', 'NOUN'), ('ran', 'VERB'), ('at', 'ADP'), ('an', 'DET'), ('annual', 'ADJ'), ('rate', 'NOUN'), ('of', 'ADP'), ('$', '.'), ('415.6', 'NUM'), ('billion', 'NUM'), ('*U*', 'X'), (',', '.'), ('not', 'ADV'), ('significantly', 'ADV'), ('different', 'ADJ'), ('from', 'ADP'), ('the', 'DET'), ('$', '.'), ('415.8', 'NUM'), ('billion', 'NUM'), ('*U*', 'X'), ('reported', 'VERB'), ('*', 'X'), ('for', 'ADP'), ('August', 'NOUN'), ('.', '.')], [('-LRB-', '.'), ('Fewer', 'ADJ'), ('said', 'VERB'), ('0', 'X'), ('conditions', 'NOUN'), ('wo', 'VERB'), (\"n't\", 'ADV'), ('change', 'VERB'), ('.', '.'), ('-RRB-', '.')], [('The', 'DET'), ('sad', 'ADJ'), ('reality', 'NOUN'), ('is', 'VERB'), ('that', 'ADP'), ('the', 'DET'), ('retail', 'ADJ'), ('investor', 'NOUN'), ('continues', 'VERB'), ('*-1', 'X'), ('to', 'PRT'), ('pursue', 'VERB'), ('stellar', 'ADJ'), ('performers', 'NOUN'), ('first', 'ADV'), (',', '.'), ('while', 'ADP'), ('*-2', 'X'), ('leaving', 'VERB'), ('institutions', 'NOUN'), ('to', 'PRT'), ('grapple', 'VERB'), ('with', 'ADP'), ('basis', 'NOUN'), ('points', 'NOUN'), ('of', 'ADP'), ('performance', 'NOUN'), ('on', 'ADP'), ('large', 'ADJ'), ('sums', 'NOUN'), ('of', 'ADP'), ('money', 'NOUN'), ('quarter', 'NOUN'), ('by', 'ADP'), ('quarter', 'NOUN'), ('*PPA*-3', 'X'), ('.', '.')], [('He', 'PRON'), ('said', 'VERB'), ('0', 'X'), ('the', 'DET'), ('exchange', 'NOUN'), ('is', 'VERB'), ('``', '.'), ('headed', 'VERB'), ('for', 'ADP'), ('a', 'DET'), ('real', 'ADJ'), ('crisis', 'NOUN'), (\"''\", '.'), ('if', 'ADP'), ('program', 'NOUN'), ('trading', 'NOUN'), ('is', 'VERB'), (\"n't\", 'ADV'), ('curbed', 'VERB'), ('*-1', 'X'), ('.', '.')], [('The', 'DET'), ('average', 'ADJ'), ('seven-day', 'ADJ'), ('simple', 'ADJ'), ('yield', 'NOUN'), ('of', 'ADP'), ('the', 'DET'), ('400', 'NUM'), ('funds', 'NOUN'), ('was', 'VERB'), ('8.12', 'NUM'), ('%', 'NOUN'), (',', '.'), ('down', 'ADV'), ('from', 'ADP'), ('8.14', 'NUM'), ('%', 'NOUN'), ('.', '.')], [('Later', 'ADJ'), ('yesterday', 'NOUN'), (',', '.'), ('a', 'DET'), ('Massachusetts', 'NOUN'), ('senate', 'NOUN'), ('committee', 'NOUN'), ('approved', 'VERB'), ('a', 'DET'), ('bill', 'NOUN'), ('0', 'X'), ('*T*-1', 'X'), ('to', 'PRT'), ('allow', 'VERB'), ('national', 'ADJ'), ('interstate', 'ADJ'), ('banking', 'NOUN'), ('by', 'ADP'), ('banks', 'NOUN'), ('in', 'ADP'), ('the', 'DET'), ('state', 'NOUN'), ('*', 'X'), ('beginning', 'NOUN'), ('in', 'ADP'), ('1991', 'NUM'), ('.', '.')], [('``', '.'), ('Bob', 'NOUN'), ('has', 'VERB'), ('handled', 'VERB'), ('the', 'DET'), ('extraordinary', 'ADJ'), ('growth', 'NOUN'), ('of', 'ADP'), ('the', 'DET'), ('company', 'NOUN'), ('quite', 'ADV'), ('brilliantly', 'ADV'), (',', '.'), (\"''\", '.'), ('said', 'VERB'), ('*T*-1', 'X'), ('Mr.', 'NOUN'), ('Newhouse', 'NOUN'), ('.', '.')], [('This', 'DET'), ('is', 'VERB'), ('the', 'DET'), ('real', 'ADJ'), ('issue', 'NOUN'), ('raised', 'VERB'), ('*', 'X'), ('by', 'ADP'), ('the', 'DET'), ('Wedtech', 'NOUN'), ('scandal', 'NOUN'), ('.', '.')], [('``', '.'), ('Florio', 'NOUN'), (\"'s\", 'VERB'), ('lying', 'VERB'), (',', '.'), (\"''\", '.'), ('the', 'DET'), ('voice', 'NOUN'), ('goes', 'VERB'), ('on', 'PRT'), (',', '.'), ('because', 'ADP'), ('``', '.'), ('the', 'DET'), ('barrel', 'NOUN'), ('on', 'ADP'), ('Courter', 'NOUN'), (\"'s\", 'PRT'), ('land', 'NOUN'), ('...', '.'), ('contained', 'VERB'), ('heating', 'NOUN'), ('oil', 'NOUN'), (',', '.'), ('was', 'VERB'), ('cleaned', 'VERB'), ('*-1', 'X'), ('up', 'PRT'), ('and', 'CONJ'), ('caused', 'VERB'), ('no', 'DET'), ('pollution', 'NOUN'), ('.', '.'), (\"''\", '.')], [('If', 'ADP'), ('``', '.'), ('A', 'DET'), ('Wild', 'NOUN'), ('Sheep', 'NOUN'), ('Chase', 'NOUN'), (\"''\", '.'), ('carries', 'VERB'), ('an', 'DET'), ('implicit', 'ADJ'), ('message', 'NOUN'), ('for', 'ADP'), ('international', 'ADJ'), ('relations', 'NOUN'), (',', '.'), ('it', 'PRON'), (\"'s\", 'VERB'), ('that', 'ADP'), ('the', 'DET'), ('Japanese', 'NOUN'), ('are', 'VERB'), ('more', 'ADV'), ('like', 'ADP'), ('us', 'PRON'), ('than', 'ADP'), ('most', 'ADJ'), ('of', 'ADP'), ('us', 'PRON'), ('think', 'VERB'), ('0', 'X'), ('*?*', 'X'), ('.', '.')], [('Whereas', 'ADP'), ('conventional', 'ADJ'), ('securities', 'NOUN'), ('financings', 'NOUN'), ('are', 'VERB'), ('structured', 'VERB'), ('*-3', 'X'), ('to', 'PRT'), ('be', 'VERB'), ('sold', 'VERB'), ('*-1', 'X'), ('quickly', 'ADV'), (',', '.'), ('Wall', 'NOUN'), ('Street', 'NOUN'), (\"'s\", 'PRT'), ('new', 'ADJ'), ('penchant', 'NOUN'), ('for', 'ADP'), ('leveraged', 'ADJ'), ('buy-outs', 'NOUN'), ('and', 'CONJ'), ('junk', 'NOUN'), ('bonds', 'NOUN'), ('is', 'VERB'), ('resulting', 'VERB'), ('in', 'ADP'), ('long-term', 'ADJ'), ('lending', 'VERB'), ('commitments', 'NOUN'), ('that', 'DET'), ('*T*-2', 'X'), ('stretch', 'VERB'), ('out', 'PRT'), ('for', 'ADP'), ('months', 'NOUN'), ('or', 'CONJ'), ('years', 'NOUN'), ('.', '.')], [('The', 'DET'), ('consumer', 'NOUN'), ('confidence', 'NOUN'), ('survey', 'NOUN'), (',', '.'), ('*-2', 'X'), ('covering', 'VERB'), ('5,000', 'NUM'), ('U.S.', 'NOUN'), ('households', 'NOUN'), (',', '.'), ('is', 'VERB'), ('conducted', 'VERB'), ('*-2', 'X'), ('in', 'ADP'), ('the', 'DET'), ('first', 'ADJ'), ('two', 'NUM'), ('weeks', 'NOUN'), ('of', 'ADP'), ('each', 'DET'), ('month', 'NOUN'), ('for', 'ADP'), ('the', 'DET'), ('Conference', 'NOUN'), ('Board', 'NOUN'), ('by', 'ADP'), ('National', 'NOUN'), ('Family', 'NOUN'), ('Opinion', 'NOUN'), ('Inc.', 'NOUN'), (',', '.'), ('a', 'DET'), ('Toledo', 'NOUN'), (',', '.'), ('Ohio', 'NOUN'), (',', '.'), ('market', 'NOUN'), ('researcher', 'NOUN'), ('.', '.')], [('``', '.'), ('If', 'ADP'), ('I', 'PRON'), ('took', 'VERB'), ('-LCB-', '.'), ('these', 'DET'), ('preparation', 'NOUN'), ('booklets', 'NOUN'), ('-RCB-', '.'), ('into', 'ADP'), ('my', 'PRON'), ('classroom', 'NOUN'), (',', '.'), ('I', 'PRON'), (\"'d\", 'VERB'), ('have', 'VERB'), ('a', 'DET'), ('hard', 'ADJ'), ('time', 'NOUN'), ('*-1', 'X'), ('justifying', 'VERB'), ('to', 'PRT'), ('my', 'PRON'), ('students', 'NOUN'), ('and', 'CONJ'), ('parents', 'NOUN'), ('that', 'ADP'), ('it', 'PRON'), ('was', 'VERB'), (\"n't\", 'ADV'), ('cheating', 'NOUN'), (',', '.'), (\"''\", '.'), ('says', 'VERB'), ('*T*-2', 'X'), ('John', 'NOUN'), ('Kaminski', 'NOUN'), (',', '.'), ('a', 'DET'), ('Traverse', 'NOUN'), ('City', 'NOUN'), (',', '.'), ('Mich.', 'NOUN'), (',', '.'), ('teacher', 'NOUN'), ('who', 'PRON'), ('*T*-103', 'X'), ('has', 'VERB'), ('studied', 'VERB'), ('test', 'NOUN'), ('coaching', 'NOUN'), ('.', '.')], [('*-2', 'X'), ('Used', 'VERB'), ('*-1', 'X'), ('by', 'ADP'), ('program', 'NOUN'), ('traders', 'NOUN'), ('and', 'CONJ'), ('others', 'NOUN'), ('*', 'X'), ('to', 'PRT'), ('zip', 'VERB'), ('orders', 'NOUN'), ('into', 'ADP'), ('the', 'DET'), ('exchange', 'NOUN'), (',', '.'), ('SuperDot', 'NOUN'), ('handles', 'VERB'), ('about', 'ADP'), ('80', 'NUM'), ('%', 'NOUN'), ('of', 'ADP'), ('all', 'DET'), ('orders', 'NOUN'), ('entered', 'VERB'), ('*', 'X'), ('at', 'ADP'), ('the', 'DET'), ('exchange', 'NOUN'), ('.', '.')], [('The', 'DET'), ('top', 'ADJ'), ('money', 'NOUN'), ('funds', 'NOUN'), ('are', 'VERB'), ('currently', 'ADV'), ('yielding', 'VERB'), ('well', 'ADV'), ('over', 'ADP'), ('9', 'NUM'), ('%', 'NOUN'), ('.', '.')], [('``', '.'), ('We', 'PRON'), (\"'re\", 'VERB'), ('pleased', 'VERB'), ('0', 'X'), ('the', 'DET'), ('ABA', 'NOUN'), ('rated', 'VERB'), ('him', 'PRON'), ('qualified', 'VERB'), (',', '.'), (\"''\", '.'), ('David', 'NOUN'), ('Runkel', 'NOUN'), (',', '.'), ('the', 'DET'), ('department', 'NOUN'), (\"'s\", 'PRT'), ('chief', 'NOUN'), ('spokesman', 'NOUN'), (',', '.'), ('said', 'VERB'), ('*T*-1', 'X'), ('in', 'ADP'), ('an', 'DET'), ('interview', 'NOUN'), ('.', '.')], [('Furukawa', 'NOUN'), ('Co.', 'NOUN'), ('of', 'ADP'), ('Japan', 'NOUN'), ('said', 'VERB'), ('0', 'X'), ('it', 'PRON'), ('will', 'VERB'), ('acquire', 'VERB'), ('two', 'NUM'), ('construction', 'NOUN'), ('machinery', 'NOUN'), ('plants', 'NOUN'), ('and', 'CONJ'), ('a', 'DET'), ('sales', 'NOUN'), ('unit', 'NOUN'), ('in', 'ADP'), ('France', 'NOUN'), ('formerly', 'ADV'), ('belonging', 'VERB'), ('to', 'PRT'), ('Dresser', 'NOUN'), ('Industries', 'NOUN'), ('Inc.', 'NOUN'), ('of', 'ADP'), ('the', 'DET'), ('U.S.', 'NOUN'), ('.', '.')], [('``', '.'), ('There', 'DET'), ('is', 'VERB'), ('finally', 'ADV'), ('some', 'DET'), ('sort', 'NOUN'), ('of', 'ADP'), ('sense', 'NOUN'), ('in', 'ADP'), ('the', 'DET'), ('market', 'NOUN'), (',', '.'), (\"''\", '.'), ('she', 'PRON'), ('says', 'VERB'), ('*T*-1', 'X'), ('.', '.')], [('Dealers', 'NOUN'), ('led', 'VERB'), ('the', 'DET'), ('market', 'NOUN'), ('Wednesday', 'NOUN'), ('by', 'ADP'), ('*-1', 'X'), ('actively', 'ADV'), ('trading', 'VERB'), ('for', 'ADP'), ('their', 'PRON'), ('own', 'ADJ'), ('accounts', 'NOUN'), (',', '.'), ('observers', 'NOUN'), ('said', 'VERB'), ('0', 'X'), ('*T*-2', 'X'), ('.', '.')], [('USX', 'NOUN'), ('has', 'VERB'), ('15', 'NUM'), ('working', 'NOUN'), ('days', 'NOUN'), ('0', 'X'), ('*', 'X'), ('to', 'PRT'), ('contest', 'VERB'), ('the', 'DET'), ('citations', 'NOUN'), ('and', 'CONJ'), ('proposed', 'VERB'), ('penalties', 'NOUN'), (',', '.'), ('before', 'ADP'), ('the', 'DET'), ('independent', 'ADJ'), ('Occupational', 'NOUN'), ('Safety', 'NOUN'), ('and', 'CONJ'), ('Health', 'NOUN'), ('Review', 'NOUN'), ('Commission', 'NOUN'), ('*T*-1', 'X'), ('.', '.')], [('Mr.', 'NOUN'), ('Black', 'NOUN'), ('said', 'VERB'), ('0', 'X'), ('he', 'PRON'), ('is', 'VERB'), ('``', '.'), ('pleased', 'VERB'), (\"''\", '.'), ('with', 'ADP'), ('the', 'DET'), ('economy', 'NOUN'), (\"'s\", 'PRT'), ('recent', 'ADJ'), ('performance', 'NOUN'), (',', '.'), ('and', 'CONJ'), ('does', 'VERB'), (\"n't\", 'ADV'), ('see', 'VERB'), ('``', '.'), ('a', 'DET'), ('lot', 'NOUN'), ('of', 'ADP'), ('excesses', 'NOUN'), ('*ICH*-1', 'X'), ('out', 'ADP'), ('there', 'ADV'), ('that', 'DET'), ('*T*-3', 'X'), ('would', 'VERB'), ('tilt', 'VERB'), ('us', 'PRON'), ('into', 'ADP'), ('recession', 'NOUN'), ('.', '.'), (\"''\", '.')], [('But', 'CONJ'), ('several', 'ADJ'), ('teachers', 'NOUN'), ('also', 'ADV'), ('say', 'VERB'), ('0', 'X'), ('the', 'DET'), ('incident', 'NOUN'), ('casts', 'VERB'), ('doubt', 'NOUN'), ('on', 'ADP'), ('the', 'DET'), ('wisdom', 'NOUN'), ('of', 'ADP'), ('*', 'X'), ('evaluating', 'VERB'), ('teachers', 'NOUN'), ('or', 'CONJ'), ('schools', 'NOUN'), ('by', 'ADP'), ('*', 'X'), ('using', 'VERB'), ('standardized', 'ADJ'), ('test', 'NOUN'), ('scores', 'NOUN'), ('.', '.')], [('The', 'DET'), ('following', 'NOUN'), ('*ICH*-4', 'X'), ('were', 'VERB'), ('barred', 'VERB'), ('*-3', 'X'), ('or', 'CONJ'), (',', '.'), ('where', 'ADV'), ('*', 'X'), ('noted', 'VERB'), ('*-1', 'X'), ('*T*-2', 'X'), (',', '.'), ('suspended', 'VERB'), ('*-3', 'X'), ('and', 'CONJ'), ('consented', 'VERB'), ('to', 'PRT'), ('findings', 'NOUN'), ('without', 'ADP'), ('*-3', 'X'), ('admitting', 'VERB'), ('or', 'CONJ'), ('denying', 'VERB'), ('wrongdoing', 'NOUN'), (':', '.'), ('Edward', 'NOUN'), ('L.', 'NOUN'), ('Cole', 'NOUN'), (',', '.'), ('Jackson', 'NOUN'), (',', '.'), ('Miss.', 'NOUN'), (',', '.'), ('$', '.'), ('10,000', 'NUM'), ('*U*', 'X'), ('fine', 'NOUN'), (';', '.'), ('Rita', 'NOUN'), ('Rae', 'NOUN'), ('Cross', 'NOUN'), (',', '.'), ('Denver', 'NOUN'), (',', '.'), ('$', '.'), ('2,500', 'NUM'), ('*U*', 'X'), ('fine', 'NOUN'), ('and', 'CONJ'), ('30-day', 'ADJ'), ('suspension', 'NOUN'), (';', '.'), ('Thomas', 'NOUN'), ('Richard', 'NOUN'), ('Meinders', 'NOUN'), (',', '.'), ('Colorado', 'NOUN'), ('Springs', 'NOUN'), (',', '.'), ('Colo.', 'NOUN'), (',', '.'), ('$', '.'), ('2,000', 'NUM'), ('*U*', 'X'), ('fine', 'NOUN'), (',', '.'), ('five-day', 'ADJ'), ('suspension', 'NOUN'), ('and', 'CONJ'), ('eight-month', 'ADJ'), ('suspension', 'NOUN'), ('as', 'ADP'), ('a', 'DET'), ('principal', 'NOUN'), (';', '.'), ('Ronald', 'NOUN'), ('A.', 'NOUN'), ('Cutrer', 'NOUN'), (',', '.'), ('Baton', 'NOUN'), ('Rouge', 'NOUN'), (',', '.'), ('La.', 'NOUN'), (',', '.'), ('$', '.'), ('15,000', 'NUM'), ('*U*', 'X'), ('fine', 'NOUN'), ('and', 'CONJ'), ('one-month', 'ADJ'), ('suspension', 'NOUN'), (';', '.'), ('Karl', 'NOUN'), ('Grant', 'NOUN'), ('Hale', 'NOUN'), (',', '.'), ('Midvale', 'NOUN'), (',', '.'), ('Utah', 'NOUN'), (',', '.'), ('$', '.'), ('15,000', 'NUM'), ('*U*', 'X'), ('fine', 'NOUN'), (';', '.'), ('Clinton', 'NOUN'), ('P.', 'NOUN'), ('Hayne', 'NOUN'), (',', '.'), ('New', 'NOUN'), ('Orleans', 'NOUN'), (',', '.'), ('$', '.'), ('7,500', 'NUM'), ('*U*', 'X'), ('fine', 'NOUN'), ('and', 'CONJ'), ('one-week', 'ADJ'), ('suspension', 'NOUN'), (';', '.'), ('Richard', 'NOUN'), ('M.', 'NOUN'), ('Kane', 'NOUN'), (',', '.'), ('Coconut', 'NOUN'), ('Creek', 'NOUN'), (',', '.'), ('Fla.', 'NOUN'), (',', '.'), ('$', '.'), ('250,000', 'NUM'), ('*U*', 'X'), ('fine', 'NOUN'), (';', '.'), ('John', 'NOUN'), ('B.', 'NOUN'), ('Merrick', 'NOUN'), (',', '.'), ('Aurora', 'NOUN'), (',', '.'), ('Colo.', 'NOUN'), (',', '.'), ('$', '.'), ('1,000', 'NUM'), ('*U*', 'X'), ('fine', 'NOUN'), ('and', 'CONJ'), ('10-day', 'ADJ'), ('suspension', 'NOUN'), (';', '.'), ('John', 'NOUN'), ('P.', 'NOUN'), ('Miller', 'NOUN'), (',', '.'), ('Baton', 'NOUN'), ('Rouge', 'NOUN'), (',', '.'), ('$', '.'), ('2,000', 'NUM'), ('*U*', 'X'), ('fine', 'NOUN'), ('and', 'CONJ'), ('two-week', 'ADJ'), ('suspension', 'NOUN'), (';', '.'), ('Randolph', 'NOUN'), ('K.', 'NOUN'), ('Pace', 'NOUN'), (',', '.'), ('New', 'NOUN'), ('York', 'NOUN'), (',', '.'), ('$', '.'), ('10,000', 'NUM'), ('*U*', 'X'), ('fine', 'NOUN'), ('and', 'CONJ'), ('90-day', 'ADJ'), ('suspension', 'NOUN'), (';', '.'), ('Brian', 'NOUN'), ('D.', 'NOUN'), ('Pitcher', 'NOUN'), (',', '.'), ('New', 'NOUN'), ('Providence', 'NOUN'), (',', '.'), ('N.J.', 'NOUN'), (',', '.'), ('$', '.'), ('30,000', 'NUM'), ('*U*', 'X'), ('fine', 'NOUN'), (';', '.'), ('Wayne', 'NOUN'), ('A.', 'NOUN'), ('Russo', 'NOUN'), (',', '.'), ('Bridgeville', 'NOUN'), (',', '.'), ('Pa.', 'NOUN'), (',', '.'), ('$', '.'), ('4,000', 'NUM'), ('*U*', 'X'), ('fine', 'NOUN'), ('and', 'CONJ'), ('15-day', 'ADJ'), ('suspension', 'NOUN'), (';', '.'), ('Orville', 'NOUN'), ('Leroy', 'NOUN'), ('Sandberg', 'NOUN'), (',', '.'), ('Aurora', 'NOUN'), (',', '.'), ('Colo.', 'NOUN'), (',', '.'), ('$', '.'), ('3,500', 'NUM'), ('*U*', 'X'), ('fine', 'NOUN'), ('and', 'CONJ'), ('10-day', 'ADJ'), ('suspension', 'NOUN'), (';', '.'), ('Richard', 'NOUN'), ('T.', 'NOUN'), ('Marchese', 'NOUN'), (',', '.'), ('Las', 'NOUN'), ('Vegas', 'NOUN'), (',', '.'), ('Nev.', 'NOUN'), (',', '.'), ('$', '.'), ('5,000', 'NUM'), ('*U*', 'X'), ('and', 'CONJ'), ('one-year', 'ADJ'), ('suspension', 'NOUN'), (';', '.'), ('Eric', 'NOUN'), ('G.', 'NOUN'), ('Monchecourt', 'NOUN'), (',', '.'), ('Las', 'NOUN'), ('Vegas', 'NOUN'), (',', '.'), ('$', '.'), ('5,000', 'NUM'), ('*U*', 'X'), ('and', 'CONJ'), ('one-year', 'ADJ'), ('suspension', 'NOUN'), (';', '.'), ('and', 'CONJ'), ('Robert', 'NOUN'), ('Gerhard', 'NOUN'), ('Smith', 'NOUN'), (',', '.'), ('Carson', 'NOUN'), ('City', 'NOUN'), (',', '.'), ('Nev.', 'NOUN'), (',', '.'), ('two-year', 'ADJ'), ('suspension', 'NOUN'), ('.', '.')], [('``', '.'), ('She', 'PRON'), ('did', 'VERB'), ('a', 'DET'), ('lot', 'NOUN'), ('of', 'ADP'), ('harm', 'NOUN'), (',', '.'), (\"''\", '.'), ('says', 'VERB'), ('*T*-1', 'X'), ('Cathryn', 'NOUN'), ('Rice', 'NOUN'), (',', '.'), ('who', 'PRON'), ('*T*-100', 'X'), ('had', 'VERB'), ('discovered', 'VERB'), ('the', 'DET'), ('crib', 'NOUN'), ('notes', 'NOUN'), ('.', '.')], [('``', '.'), ('When', 'ADV'), ('scientific', 'ADJ'), ('progress', 'NOUN'), ('moves', 'VERB'), ('into', 'ADP'), ('uncharted', 'ADJ'), ('ground', 'NOUN'), ('*T*-1', 'X'), (',', '.'), ('there', 'DET'), ('has', 'VERB'), ('*-3', 'X'), ('to', 'PRT'), ('be', 'VERB'), ('a', 'DET'), ('role', 'NOUN'), ('*ICH*-4', 'X'), ('for', 'ADP'), ('society', 'NOUN'), ('*', 'X'), ('to', 'PRT'), ('make', 'VERB'), ('judgments', 'NOUN'), ('about', 'ADP'), ('its', 'PRON'), ('applications', 'NOUN'), (',', '.'), (\"''\", '.'), ('says', 'VERB'), ('*T*-2', 'X'), ('Myron', 'NOUN'), ('Genel', 'NOUN'), (',', '.'), ('associate', 'NOUN'), ('dean', 'NOUN'), ('of', 'ADP'), ('the', 'DET'), ('Yale', 'NOUN'), ('Medical', 'NOUN'), ('School', 'NOUN'), ('.', '.')], [('The', 'DET'), ('Voice', 'NOUN'), ('of', 'ADP'), ('America', 'NOUN'), ('is', 'VERB'), ('a', 'DET'), ('government', 'NOUN'), ('agency', 'NOUN'), ('that', 'DET'), ('*T*-1', 'X'), ('broadcasts', 'VERB'), ('news', 'NOUN'), ('and', 'CONJ'), ('views', 'NOUN'), ('--', '.'), ('some', 'DET'), ('might', 'VERB'), ('say', 'VERB'), ('propaganda', 'NOUN'), ('--', '.'), ('in', 'ADP'), ('43', 'NUM'), ('languages', 'NOUN'), ('to', 'PRT'), ('130', 'NUM'), ('million', 'NUM'), ('listeners', 'NOUN'), ('around', 'ADP'), ('the', 'DET'), ('world', 'NOUN'), ('.', '.')], [('Oy', 'NOUN'), ('Waertsilae', 'NOUN'), ('is', 'VERB'), ('*-1', 'X'), ('to', 'PRT'), ('contribute', 'VERB'), ('200', 'NUM'), ('million', 'NUM'), ('markkaa', 'NOUN'), (',', '.'), ('most', 'ADJ'), ('of', 'ADP'), ('it', 'PRON'), ('as', 'ADP'), ('subordinated', 'VERB'), ('debt', 'NOUN'), (',', '.'), ('and', 'CONJ'), ('take', 'VERB'), ('a', 'DET'), ('minority', 'NOUN'), ('stake', 'NOUN'), ('in', 'ADP'), ('the', 'DET'), ('new', 'ADJ'), ('company', 'NOUN'), ('.', '.')], [('INTER-TEL', 'NOUN'), ('Inc', 'NOUN'), ('.', '.'), ('-LRB-', '.'), ('Chandler', 'NOUN'), (',', '.'), ('Ariz.', 'NOUN'), ('-RRB-', '.'), ('--', '.')], [('The', 'DET'), ('city', 'NOUN'), (\"'s\", 'PRT'), ('Campaign', 'NOUN'), ('Finance', 'NOUN'), ('Board', 'NOUN'), ('has', 'VERB'), ('refused', 'VERB'), ('*-1', 'X'), ('to', 'PRT'), ('pay', 'VERB'), ('Mr.', 'NOUN'), ('Dinkins', 'NOUN'), ('$', '.'), ('95,142', 'NUM'), ('*U*', 'X'), ('in', 'ADP'), ('matching', 'ADJ'), ('funds', 'NOUN'), ('because', 'ADP'), ('his', 'PRON'), ('campaign', 'NOUN'), ('records', 'NOUN'), ('are', 'VERB'), ('incomplete', 'ADJ'), ('.', '.')], [('``', '.'), ('We', 'PRON'), ('could', 'VERB'), ('prevent', 'VERB'), ('many', 'ADJ'), ('of', 'ADP'), ('these', 'DET'), ('fatalities', 'NOUN'), ('with', 'ADP'), ('minimum', 'ADJ'), ('roof-crush', 'ADJ'), ('standards', 'NOUN'), (',', '.'), (\"''\", '.'), ('he', 'PRON'), ('said', 'VERB'), ('*T*-1', 'X'), ('.', '.')], [('On', 'ADP'), ('the', 'DET'), ('back', 'NOUN'), (',', '.'), ('the', 'DET'), ('shirts', 'NOUN'), ('read', 'VERB'), (',', '.'), ('``', '.'), ('We', 'PRON'), ('have', 'VERB'), ('all', 'DET'), ('the', 'DET'), ('answers', 'NOUN'), ('.', '.'), (\"''\", '.')], [('Much', 'ADV'), ('of', 'ADP'), ('Mr.', 'NOUN'), ('Lane', 'NOUN'), (\"'s\", 'PRT'), ('film', 'NOUN'), ('takes', 'VERB'), ('a', 'DET'), ('highly', 'ADV'), ('romanticized', 'VERB'), ('view', 'NOUN'), ('of', 'ADP'), ('life', 'NOUN'), ('on', 'ADP'), ('the', 'DET'), ('streets', 'NOUN'), ('-LRB-', '.'), ('though', 'ADP'), ('probably', 'ADV'), ('no', 'DET'), ('more', 'ADV'), ('romanticized', 'VERB'), ('than', 'ADP'), ('Mr.', 'NOUN'), ('Chaplin', 'NOUN'), (\"'s\", 'PRT'), ('notion', 'NOUN'), ('of', 'ADP'), ('the', 'DET'), ('Tramp', 'NOUN'), ('as', 'ADP'), ('the', 'DET'), ('good-hearted', 'ADJ'), ('free', 'ADJ'), ('spirit', 'NOUN'), ('-RRB-', '.'), ('.', '.')], [('The', 'DET'), ('provision', 'NOUN'), (',', '.'), ('called', 'VERB'), ('*', 'X'), ('the', 'DET'), ('``', '.'), ('two-time-losers', 'ADJ'), (\"''\", '.'), ('amendment', 'NOUN'), ('by', 'ADP'), ('its', 'PRON'), ('supporters', 'NOUN'), (',', '.'), ('apparently', 'ADV'), ('was', 'VERB'), ('aimed', 'VERB'), ('*-29', 'X'), ('at', 'ADP'), ('*', 'X'), ('preventing', 'VERB'), ('Texas', 'NOUN'), ('Air', 'NOUN'), ('Corp.', 'NOUN'), ('Chairman', 'NOUN'), ('Frank', 'NOUN'), ('Lorenzo', 'NOUN'), ('from', 'ADP'), ('*-1', 'X'), ('attempting', 'VERB'), ('*', 'X'), ('to', 'PRT'), ('take', 'VERB'), ('over', 'PRT'), ('another', 'DET'), ('airline', 'NOUN'), ('.', '.')], [('When', 'ADV'), ('Scoring', 'NOUN'), ('High', 'NOUN'), ('first', 'ADV'), ('came', 'VERB'), ('out', 'ADV'), ('in', 'ADP'), ('1979', 'NUM'), ('*T*-1', 'X'), (',', '.'), ('it', 'PRON'), ('was', 'VERB'), ('a', 'DET'), ('publication', 'NOUN'), ('of', 'ADP'), ('Random', 'NOUN'), ('House', 'NOUN'), ('.', '.')], [('Olympia', 'NOUN'), ('Broadcasting', 'NOUN'), ('Corp.', 'NOUN'), ('said', 'VERB'), ('0', 'X'), ('it', 'PRON'), ('did', 'VERB'), (\"n't\", 'ADV'), ('make', 'VERB'), ('a', 'DET'), ('$', '.'), ('1.64', 'NUM'), ('million', 'NUM'), ('*U*', 'X'), ('semiannual', 'ADJ'), ('interest', 'NOUN'), ('payment', 'NOUN'), ('due', 'ADJ'), ('yesterday', 'NOUN'), ('on', 'ADP'), ('$', '.'), ('23.4', 'NUM'), ('million', 'NUM'), ('*U*', 'X'), ('of', 'ADP'), ('senior', 'ADJ'), ('subordinated', 'VERB'), ('debentures', 'NOUN'), ('.', '.')]]\n"
     ]
    }
   ],
   "source": [
    "# Splitting into train and test\n",
    "random.seed(1234)\n",
    "train_set,test_set = train_test_split(wsj,train_size=0.95,test_size=0.05,random_state = 101)\n",
    "\n",
    "print(len(train_set))\n",
    "print(len(test_set))\n",
    "print(train_set[:40])"
   ]
  },
  {
   "cell_type": "code",
   "execution_count": 30,
   "metadata": {},
   "outputs": [
    {
     "data": {
      "text/plain": [
       "95547"
      ]
     },
     "execution_count": 30,
     "metadata": {},
     "output_type": "execute_result"
    }
   ],
   "source": [
    "# Getting list of tagged words\n",
    "train_tagged_words = [tup for sent in train_set for tup in sent]\n",
    "len(train_tagged_words)"
   ]
  },
  {
   "cell_type": "code",
   "execution_count": 31,
   "metadata": {},
   "outputs": [
    {
     "data": {
      "text/plain": [
       "['Reliance',\n",
       " 'confirmed',\n",
       " 'the',\n",
       " 'filing',\n",
       " 'but',\n",
       " 'would',\n",
       " \"n't\",\n",
       " 'elaborate',\n",
       " '.',\n",
       " '*']"
      ]
     },
     "execution_count": 31,
     "metadata": {},
     "output_type": "execute_result"
    }
   ],
   "source": [
    "# tokens \n",
    "tokens = [pair[0] for pair in train_tagged_words]\n",
    "tokens[:10]"
   ]
  },
  {
   "cell_type": "code",
   "execution_count": 32,
   "metadata": {},
   "outputs": [
    {
     "name": "stdout",
     "output_type": "stream",
     "text": [
      "12100\n"
     ]
    }
   ],
   "source": [
    "# vocabulary\n",
    "V = set(tokens)\n",
    "print(len(V))"
   ]
  },
  {
   "cell_type": "code",
   "execution_count": 33,
   "metadata": {},
   "outputs": [
    {
     "data": {
      "text/plain": [
       "12"
      ]
     },
     "execution_count": 33,
     "metadata": {},
     "output_type": "execute_result"
    }
   ],
   "source": [
    "# number of tags\n",
    "T = set([pair[1] for pair in train_tagged_words])\n",
    "len(T)"
   ]
  },
  {
   "cell_type": "code",
   "execution_count": 34,
   "metadata": {},
   "outputs": [
    {
     "name": "stdout",
     "output_type": "stream",
     "text": [
      "{'CONJ', 'DET', 'ADV', 'NUM', 'X', 'PRON', 'ADP', 'ADJ', 'PRT', 'VERB', 'NOUN', '.'}\n"
     ]
    }
   ],
   "source": [
    "print(T)"
   ]
  },
  {
   "cell_type": "markdown",
   "metadata": {},
   "source": [
    "## 2. POS Tagging Algorithm - HMM\n",
    "\n",
    "#### We'll use the HMM algorithm to tag the words. Given a sequence of words to be tagged, the task is to assign the most probable tag to the word. \n",
    "\n",
    "#### In other words, to every word w, assign the tag t that maximises the likelihood P(t/w). Since P(t/w) = P(w/t). P(t) / P(w), after ignoring P(w), we have to compute P(w/t) and P(t).\n",
    "\n",
    "\n",
    "#### P(w/t) is basically the probability that given a tag (say NN), what is the probability of it being w (say 'building'). This can be computed by computing the fraction of all NNs which are equal to w, i.e. \n",
    "\n",
    "#### P(w/t) = count(w, t) / count(t). \n",
    "\n",
    "\n",
    "#### The term P(t) is the probability of tag t, and in a tagging task, we assume that a tag will depend only on the previous tag. In other words, the probability of a tag being NN will depend only on the previous tag t(n-1). So for e.g. if t(n-1) is a JJ, then t(n) is likely to be an NN since adjectives often precede a noun (blue coat, tall building etc.).\n",
    "\n",
    "\n",
    "#### Given the penn treebank tagged dataset, we can compute the two terms P(w/t) and P(t) and store them in two large matrices. The matrix of P(w/t) will be sparse, since each word will not be seen with most tags ever, and those terms will thus be zero."
   ]
  },
  {
   "cell_type": "markdown",
   "metadata": {},
   "source": [
    "## Emission Probabilities"
   ]
  },
  {
   "cell_type": "code",
   "execution_count": 35,
   "metadata": {},
   "outputs": [],
   "source": [
    "# computing P(w/t) and storing in T x V matrix\n",
    "t = len(T)\n",
    "v = len(V)\n",
    "w_given_t = np.zeros((t, v))"
   ]
  },
  {
   "cell_type": "code",
   "execution_count": 36,
   "metadata": {},
   "outputs": [],
   "source": [
    "def word_given_tag(word, tag, train_bag = train_tagged_words):\n",
    "    tag_list = [pair for pair in train_bag if pair[1]==tag]\n",
    "    count_tag = len(tag_list)\n",
    "    w_given_tag_list = [pair[0] for pair in tag_list if pair[0]==word]\n",
    "    count_w_given_tag = len(w_given_tag_list)\n",
    "    \n",
    "    return (count_w_given_tag, count_tag)"
   ]
  },
  {
   "cell_type": "markdown",
   "metadata": {},
   "source": [
    "# Transition Probability"
   ]
  },
  {
   "cell_type": "code",
   "execution_count": 37,
   "metadata": {},
   "outputs": [],
   "source": [
    "def t2_given_t1(t2, t1, train_bag = train_tagged_words):\n",
    "    tags = [pair[1] for pair in train_bag]\n",
    "    count_t1 = len([t for t in tags if t==t1])\n",
    "    count_t2_t1 = 0\n",
    "    for index in range(len(tags)-1):\n",
    "        if tags[index]==t1 and tags[index+1] == t2:\n",
    "            count_t2_t1 += 1\n",
    "    return (count_t2_t1, count_t1)"
   ]
  },
  {
   "cell_type": "code",
   "execution_count": 38,
   "metadata": {},
   "outputs": [],
   "source": [
    "# creating t x t transition matrix of tags\n",
    "# each column is t2, each row is t1\n",
    "# thus M(i, j) represents P(tj given ti)\n",
    "tags_matrix = np.zeros((len(T), len(T)), dtype='float32')\n",
    "for i, t1 in enumerate(list(T)):\n",
    "    for j, t2 in enumerate(list(T)): \n",
    "        tags_matrix[i, j] = t2_given_t1(t2, t1)[0]/t2_given_t1(t2, t1)[1]"
   ]
  },
  {
   "cell_type": "code",
   "execution_count": 39,
   "metadata": {},
   "outputs": [],
   "source": [
    "# Converting this into dataframe\n",
    "tags_df = pd.DataFrame(tags_matrix, columns = list(T), index=list(T))"
   ]
  },
  {
   "cell_type": "code",
   "execution_count": 40,
   "metadata": {},
   "outputs": [
    {
     "data": {
      "text/html": [
       "<div>\n",
       "<style scoped>\n",
       "    .dataframe tbody tr th:only-of-type {\n",
       "        vertical-align: middle;\n",
       "    }\n",
       "\n",
       "    .dataframe tbody tr th {\n",
       "        vertical-align: top;\n",
       "    }\n",
       "\n",
       "    .dataframe thead th {\n",
       "        text-align: right;\n",
       "    }\n",
       "</style>\n",
       "<table border=\"1\" class=\"dataframe\">\n",
       "  <thead>\n",
       "    <tr style=\"text-align: right;\">\n",
       "      <th></th>\n",
       "      <th>CONJ</th>\n",
       "      <th>DET</th>\n",
       "      <th>ADV</th>\n",
       "      <th>NUM</th>\n",
       "      <th>X</th>\n",
       "      <th>PRON</th>\n",
       "      <th>ADP</th>\n",
       "      <th>ADJ</th>\n",
       "      <th>PRT</th>\n",
       "      <th>VERB</th>\n",
       "      <th>NOUN</th>\n",
       "      <th>.</th>\n",
       "    </tr>\n",
       "  </thead>\n",
       "  <tbody>\n",
       "    <tr>\n",
       "      <th>CONJ</th>\n",
       "      <td>0.000465</td>\n",
       "      <td>0.121339</td>\n",
       "      <td>0.055323</td>\n",
       "      <td>0.039981</td>\n",
       "      <td>0.008833</td>\n",
       "      <td>0.058113</td>\n",
       "      <td>0.052534</td>\n",
       "      <td>0.118085</td>\n",
       "      <td>0.004649</td>\n",
       "      <td>0.156671</td>\n",
       "      <td>0.349140</td>\n",
       "      <td>0.034868</td>\n",
       "    </tr>\n",
       "    <tr>\n",
       "      <th>DET</th>\n",
       "      <td>0.000483</td>\n",
       "      <td>0.005676</td>\n",
       "      <td>0.012438</td>\n",
       "      <td>0.022220</td>\n",
       "      <td>0.045405</td>\n",
       "      <td>0.003744</td>\n",
       "      <td>0.009540</td>\n",
       "      <td>0.204323</td>\n",
       "      <td>0.000242</td>\n",
       "      <td>0.039850</td>\n",
       "      <td>0.638087</td>\n",
       "      <td>0.017993</td>\n",
       "    </tr>\n",
       "    <tr>\n",
       "      <th>ADV</th>\n",
       "      <td>0.006956</td>\n",
       "      <td>0.069891</td>\n",
       "      <td>0.080490</td>\n",
       "      <td>0.030474</td>\n",
       "      <td>0.023186</td>\n",
       "      <td>0.014906</td>\n",
       "      <td>0.118582</td>\n",
       "      <td>0.129182</td>\n",
       "      <td>0.014243</td>\n",
       "      <td>0.343491</td>\n",
       "      <td>0.031467</td>\n",
       "      <td>0.137131</td>\n",
       "    </tr>\n",
       "    <tr>\n",
       "      <th>NUM</th>\n",
       "      <td>0.013699</td>\n",
       "      <td>0.003276</td>\n",
       "      <td>0.002978</td>\n",
       "      <td>0.184932</td>\n",
       "      <td>0.210542</td>\n",
       "      <td>0.001489</td>\n",
       "      <td>0.036033</td>\n",
       "      <td>0.034247</td>\n",
       "      <td>0.026504</td>\n",
       "      <td>0.018761</td>\n",
       "      <td>0.350208</td>\n",
       "      <td>0.117332</td>\n",
       "    </tr>\n",
       "    <tr>\n",
       "      <th>X</th>\n",
       "      <td>0.010662</td>\n",
       "      <td>0.054742</td>\n",
       "      <td>0.024984</td>\n",
       "      <td>0.002864</td>\n",
       "      <td>0.076384</td>\n",
       "      <td>0.055538</td>\n",
       "      <td>0.142584</td>\n",
       "      <td>0.017187</td>\n",
       "      <td>0.185232</td>\n",
       "      <td>0.203851</td>\n",
       "      <td>0.062381</td>\n",
       "      <td>0.163590</td>\n",
       "    </tr>\n",
       "    <tr>\n",
       "      <th>PRON</th>\n",
       "      <td>0.005360</td>\n",
       "      <td>0.009954</td>\n",
       "      <td>0.034074</td>\n",
       "      <td>0.006508</td>\n",
       "      <td>0.089969</td>\n",
       "      <td>0.007657</td>\n",
       "      <td>0.022971</td>\n",
       "      <td>0.073124</td>\n",
       "      <td>0.013017</td>\n",
       "      <td>0.485452</td>\n",
       "      <td>0.210949</td>\n",
       "      <td>0.040965</td>\n",
       "    </tr>\n",
       "    <tr>\n",
       "      <th>ADP</th>\n",
       "      <td>0.000962</td>\n",
       "      <td>0.324709</td>\n",
       "      <td>0.014006</td>\n",
       "      <td>0.062226</td>\n",
       "      <td>0.034427</td>\n",
       "      <td>0.070031</td>\n",
       "      <td>0.016893</td>\n",
       "      <td>0.107024</td>\n",
       "      <td>0.001390</td>\n",
       "      <td>0.008340</td>\n",
       "      <td>0.320967</td>\n",
       "      <td>0.039025</td>\n",
       "    </tr>\n",
       "    <tr>\n",
       "      <th>ADJ</th>\n",
       "      <td>0.016971</td>\n",
       "      <td>0.004943</td>\n",
       "      <td>0.004778</td>\n",
       "      <td>0.021256</td>\n",
       "      <td>0.021091</td>\n",
       "      <td>0.000330</td>\n",
       "      <td>0.078267</td>\n",
       "      <td>0.066403</td>\n",
       "      <td>0.010710</td>\n",
       "      <td>0.011699</td>\n",
       "      <td>0.699621</td>\n",
       "      <td>0.063931</td>\n",
       "    </tr>\n",
       "    <tr>\n",
       "      <th>PRT</th>\n",
       "      <td>0.002306</td>\n",
       "      <td>0.097858</td>\n",
       "      <td>0.010214</td>\n",
       "      <td>0.056672</td>\n",
       "      <td>0.013509</td>\n",
       "      <td>0.017792</td>\n",
       "      <td>0.020099</td>\n",
       "      <td>0.083031</td>\n",
       "      <td>0.001647</td>\n",
       "      <td>0.405272</td>\n",
       "      <td>0.247776</td>\n",
       "      <td>0.043822</td>\n",
       "    </tr>\n",
       "    <tr>\n",
       "      <th>VERB</th>\n",
       "      <td>0.005577</td>\n",
       "      <td>0.134392</td>\n",
       "      <td>0.081952</td>\n",
       "      <td>0.022851</td>\n",
       "      <td>0.217506</td>\n",
       "      <td>0.035786</td>\n",
       "      <td>0.092022</td>\n",
       "      <td>0.064988</td>\n",
       "      <td>0.030674</td>\n",
       "      <td>0.169249</td>\n",
       "      <td>0.110070</td>\n",
       "      <td>0.034934</td>\n",
       "    </tr>\n",
       "    <tr>\n",
       "      <th>NOUN</th>\n",
       "      <td>0.042666</td>\n",
       "      <td>0.012942</td>\n",
       "      <td>0.017074</td>\n",
       "      <td>0.009542</td>\n",
       "      <td>0.029175</td>\n",
       "      <td>0.004607</td>\n",
       "      <td>0.176514</td>\n",
       "      <td>0.012248</td>\n",
       "      <td>0.043397</td>\n",
       "      <td>0.147667</td>\n",
       "      <td>0.263564</td>\n",
       "      <td>0.240604</td>\n",
       "    </tr>\n",
       "    <tr>\n",
       "      <th>.</th>\n",
       "      <td>0.057538</td>\n",
       "      <td>0.173335</td>\n",
       "      <td>0.052324</td>\n",
       "      <td>0.081003</td>\n",
       "      <td>0.026971</td>\n",
       "      <td>0.066349</td>\n",
       "      <td>0.091342</td>\n",
       "      <td>0.043963</td>\n",
       "      <td>0.002427</td>\n",
       "      <td>0.089095</td>\n",
       "      <td>0.222242</td>\n",
       "      <td>0.093320</td>\n",
       "    </tr>\n",
       "  </tbody>\n",
       "</table>\n",
       "</div>"
      ],
      "text/plain": [
       "          CONJ       DET       ADV       NUM         X      PRON       ADP  \\\n",
       "CONJ  0.000465  0.121339  0.055323  0.039981  0.008833  0.058113  0.052534   \n",
       "DET   0.000483  0.005676  0.012438  0.022220  0.045405  0.003744  0.009540   \n",
       "ADV   0.006956  0.069891  0.080490  0.030474  0.023186  0.014906  0.118582   \n",
       "NUM   0.013699  0.003276  0.002978  0.184932  0.210542  0.001489  0.036033   \n",
       "X     0.010662  0.054742  0.024984  0.002864  0.076384  0.055538  0.142584   \n",
       "PRON  0.005360  0.009954  0.034074  0.006508  0.089969  0.007657  0.022971   \n",
       "ADP   0.000962  0.324709  0.014006  0.062226  0.034427  0.070031  0.016893   \n",
       "ADJ   0.016971  0.004943  0.004778  0.021256  0.021091  0.000330  0.078267   \n",
       "PRT   0.002306  0.097858  0.010214  0.056672  0.013509  0.017792  0.020099   \n",
       "VERB  0.005577  0.134392  0.081952  0.022851  0.217506  0.035786  0.092022   \n",
       "NOUN  0.042666  0.012942  0.017074  0.009542  0.029175  0.004607  0.176514   \n",
       ".     0.057538  0.173335  0.052324  0.081003  0.026971  0.066349  0.091342   \n",
       "\n",
       "           ADJ       PRT      VERB      NOUN         .  \n",
       "CONJ  0.118085  0.004649  0.156671  0.349140  0.034868  \n",
       "DET   0.204323  0.000242  0.039850  0.638087  0.017993  \n",
       "ADV   0.129182  0.014243  0.343491  0.031467  0.137131  \n",
       "NUM   0.034247  0.026504  0.018761  0.350208  0.117332  \n",
       "X     0.017187  0.185232  0.203851  0.062381  0.163590  \n",
       "PRON  0.073124  0.013017  0.485452  0.210949  0.040965  \n",
       "ADP   0.107024  0.001390  0.008340  0.320967  0.039025  \n",
       "ADJ   0.066403  0.010710  0.011699  0.699621  0.063931  \n",
       "PRT   0.083031  0.001647  0.405272  0.247776  0.043822  \n",
       "VERB  0.064988  0.030674  0.169249  0.110070  0.034934  \n",
       "NOUN  0.012248  0.043397  0.147667  0.263564  0.240604  \n",
       ".     0.043963  0.002427  0.089095  0.222242  0.093320  "
      ]
     },
     "execution_count": 40,
     "metadata": {},
     "output_type": "execute_result"
    }
   ],
   "source": [
    "tags_df"
   ]
  },
  {
   "cell_type": "code",
   "execution_count": 41,
   "metadata": {},
   "outputs": [
    {
     "data": {
      "text/plain": [
       "CONJ    0.057538\n",
       "DET     0.173335\n",
       "ADV     0.052324\n",
       "NUM     0.081003\n",
       "X       0.026971\n",
       "PRON    0.066349\n",
       "ADP     0.091342\n",
       "ADJ     0.043963\n",
       "PRT     0.002427\n",
       "VERB    0.089095\n",
       "NOUN    0.222242\n",
       ".       0.093320\n",
       "Name: ., dtype: float32"
      ]
     },
     "execution_count": 41,
     "metadata": {},
     "output_type": "execute_result"
    }
   ],
   "source": [
    "tags_df.loc['.', :]"
   ]
  },
  {
   "cell_type": "code",
   "execution_count": 42,
   "metadata": {
    "scrolled": true
   },
   "outputs": [
    {
     "data": {
      "image/png": "[encoded data removed]",
      "text/plain": [
       "<Figure size 1296x864 with 2 Axes>"
      ]
     },
     "metadata": {
      "needs_background": "light"
     },
     "output_type": "display_data"
    }
   ],
   "source": [
    "# heatmap of tags matrix\n",
    "# T(i, j) means P(tag j given tag i)\n",
    "plt.figure(figsize=(18, 12))\n",
    "sns.heatmap(tags_df)\n",
    "plt.show()"
   ]
  },
  {
   "cell_type": "code",
   "execution_count": 43,
   "metadata": {},
   "outputs": [
    {
     "data": {
      "image/png": "[encoded data removed]",
      "text/plain": [
       "<Figure size 1296x864 with 2 Axes>"
      ]
     },
     "metadata": {
      "needs_background": "light"
     },
     "output_type": "display_data"
    }
   ],
   "source": [
    "# frequent tags\n",
    "# filter the df to get P(t2, t1) > 0.5\n",
    "tags_frequent = tags_df[tags_df>0.5]\n",
    "plt.figure(figsize=(18, 12))\n",
    "sns.heatmap(tags_frequent)\n",
    "plt.show()"
   ]
  },
  {
   "cell_type": "markdown",
   "metadata": {},
   "source": [
    "## 3. Viterbi Algorithm\n",
    "\n",
    "#### Let's now use the computed probabilities P(w, tag) and P(t2, t1) to assign tags to each word in the document. We'll run through each word w and compute P(tag/w)=P(w/tag).P(tag) for each tag in the tag set, and then assign the tag having the max P(tag/w).\n",
    "\n",
    "#### We'll store the assigned tags in a list of tuples, similar to the list 'train_tagged_words'. Each tuple will be a (token, assigned_tag). As we progress further in the list, each tag to be assigned will use the tag of the previous token.\n",
    "\n",
    "#### Note: P(tag|start) = P(tag|'.') "
   ]
  },
  {
   "cell_type": "code",
   "execution_count": 44,
   "metadata": {},
   "outputs": [
    {
     "data": {
      "text/plain": [
       "95547"
      ]
     },
     "execution_count": 44,
     "metadata": {},
     "output_type": "execute_result"
    }
   ],
   "source": [
    "len(train_tagged_words)"
   ]
  },
  {
   "cell_type": "code",
   "execution_count": 45,
   "metadata": {},
   "outputs": [],
   "source": [
    "# Viterbi Heuristic\n",
    "def Viterbi(words, train_bag = train_tagged_words):\n",
    "    state = []\n",
    "    T = list(set([pair[1] for pair in train_bag]))\n",
    "    \n",
    "    for key, word in enumerate(words):\n",
    "        #initialise list of probability column for a given observation\n",
    "        p = [] \n",
    "        for tag in T:\n",
    "            if key == 0:\n",
    "                transition_p = tags_df.loc['.', tag]\n",
    "            else:\n",
    "                transition_p = tags_df.loc[state[-1], tag]\n",
    "                \n",
    "            # compute emission and state probabilities\n",
    "            emission_p = word_given_tag(words[key], tag)[0]/word_given_tag(words[key], tag)[1]\n",
    "            state_probability = emission_p * transition_p    \n",
    "            p.append(state_probability)\n",
    "            \n",
    "        pmax = max(p)\n",
    "        # getting state for which probability is maximum\n",
    "        state_max = T[p.index(pmax)] \n",
    "        state.append(state_max)\n",
    "    return list(zip(words, state))"
   ]
  },
  {
   "cell_type": "markdown",
   "metadata": {},
   "source": [
    "## 4. Evaluating on Test Set"
   ]
  },
  {
   "cell_type": "code",
   "execution_count": 46,
   "metadata": {},
   "outputs": [
    {
     "data": {
      "text/plain": [
       "[[('The', 'DET'),\n",
       "  ('Contra', 'NOUN'),\n",
       "  ('military', 'ADJ'),\n",
       "  ('command', 'NOUN'),\n",
       "  (',', '.'),\n",
       "  ('in', 'ADP'),\n",
       "  ('a', 'DET'),\n",
       "  ('statement', 'NOUN'),\n",
       "  ('from', 'ADP'),\n",
       "  ('Honduras', 'NOUN'),\n",
       "  (',', '.'),\n",
       "  ('said', 'VERB'),\n",
       "  ('0', 'X'),\n",
       "  ('Sandinista', 'NOUN'),\n",
       "  ('troops', 'NOUN'),\n",
       "  ('had', 'VERB'),\n",
       "  ('launched', 'VERB'),\n",
       "  ('a', 'DET'),\n",
       "  ('major', 'ADJ'),\n",
       "  ('offensive', 'NOUN'),\n",
       "  ('against', 'ADP'),\n",
       "  ('the', 'DET'),\n",
       "  ('rebel', 'NOUN'),\n",
       "  ('forces', 'NOUN'),\n",
       "  ('.', '.')],\n",
       " [('*-1', 'X'),\n",
       "  ('Bucking', 'VERB'),\n",
       "  ('the', 'DET'),\n",
       "  ('market', 'NOUN'),\n",
       "  ('trend', 'NOUN'),\n",
       "  (',', '.'),\n",
       "  ('an', 'DET'),\n",
       "  ('issue', 'NOUN'),\n",
       "  ('of', 'ADP'),\n",
       "  ('$', '.'),\n",
       "  ('130', 'NUM'),\n",
       "  ('million', 'NUM'),\n",
       "  ('*U*', 'X'),\n",
       "  ('general', 'ADJ'),\n",
       "  ('obligation', 'NOUN'),\n",
       "  ('distributable', 'ADJ'),\n",
       "  ('state', 'NOUN'),\n",
       "  ('aid', 'NOUN'),\n",
       "  ('bonds', 'NOUN'),\n",
       "  ('from', 'ADP'),\n",
       "  ('Detroit', 'NOUN'),\n",
       "  (',', '.'),\n",
       "  ('Mich.', 'NOUN'),\n",
       "  (',', '.'),\n",
       "  ('apparently', 'ADV'),\n",
       "  ('drew', 'VERB'),\n",
       "  ('solid', 'ADJ'),\n",
       "  ('investor', 'NOUN'),\n",
       "  ('interest', 'NOUN'),\n",
       "  ('.', '.')],\n",
       " [('Ralston', 'NOUN'),\n",
       "  ('said', 'VERB'),\n",
       "  ('0', 'X'),\n",
       "  ('its', 'PRON'),\n",
       "  ('Eveready', 'NOUN'),\n",
       "  ('battery', 'NOUN'),\n",
       "  ('unit', 'NOUN'),\n",
       "  ('was', 'VERB'),\n",
       "  ('hurt', 'VERB'),\n",
       "  ('*-1', 'X'),\n",
       "  ('by', 'ADP'),\n",
       "  ('continuing', 'VERB'),\n",
       "  ('economic', 'ADJ'),\n",
       "  ('problems', 'NOUN'),\n",
       "  ('in', 'ADP'),\n",
       "  ('South', 'NOUN'),\n",
       "  ('America', 'NOUN'),\n",
       "  ('.', '.')],\n",
       " [('I', 'PRON'),\n",
       "  ('feel', 'VERB'),\n",
       "  ('pretty', 'ADV'),\n",
       "  ('good', 'ADJ'),\n",
       "  ('about', 'ADP'),\n",
       "  ('it', 'PRON'),\n",
       "  ('.', '.')],\n",
       " [('Mr.', 'NOUN'),\n",
       "  ('Felten', 'NOUN'),\n",
       "  ('said', 'VERB'),\n",
       "  (',', '.'),\n",
       "  ('``', '.'),\n",
       "  ('We', 'PRON'),\n",
       "  ('got', 'VERB'),\n",
       "  ('what', 'PRON'),\n",
       "  ('*T*-252', 'X'),\n",
       "  ('amounted', 'VERB'),\n",
       "  ('to', 'PRT'),\n",
       "  ('a', 'DET'),\n",
       "  ('parking', 'NOUN'),\n",
       "  ('ticket', 'NOUN'),\n",
       "  (',', '.'),\n",
       "  ('and', 'CONJ'),\n",
       "  ('by', 'ADP'),\n",
       "  ('*-1', 'X'),\n",
       "  ('complaining', 'VERB'),\n",
       "  ('about', 'ADP'),\n",
       "  ('it', 'PRON'),\n",
       "  (',', '.'),\n",
       "  ('we', 'PRON'),\n",
       "  ('ended', 'VERB'),\n",
       "  ('up', 'PRT'),\n",
       "  ('with', 'ADP'),\n",
       "  ('a', 'DET'),\n",
       "  ('sizable', 'ADJ'),\n",
       "  ('fine', 'NOUN'),\n",
       "  ('and', 'CONJ'),\n",
       "  ('suspension', 'NOUN'),\n",
       "  ('.', '.'),\n",
       "  (\"''\", '.')]]"
      ]
     },
     "execution_count": 46,
     "metadata": {},
     "output_type": "execute_result"
    }
   ],
   "source": [
    "random.seed(1234)\n",
    "\n",
    "# choose random 5 sents\n",
    "rndom = [random.randint(1,len(test_set)) for x in range(5)]\n",
    "\n",
    "# list of sents\n",
    "test_run = [test_set[i] for i in rndom]\n",
    "\n",
    "# list of tagged words\n",
    "test_run_base = [tup for sent in test_run for tup in sent]\n",
    "\n",
    "# list of untagged words\n",
    "test_tagged_words = [tup[0] for sent in test_run for tup in sent]\n",
    "test_run"
   ]
  },
  {
   "cell_type": "code",
   "execution_count": 47,
   "metadata": {},
   "outputs": [
    {
     "name": "stdout",
     "output_type": "stream",
     "text": [
      "Time taken in seconds:  27.865619659423828\n",
      "[('The', 'DET'), ('Contra', 'CONJ'), ('military', 'ADJ'), ('command', 'VERB'), (',', '.'), ('in', 'ADP'), ('a', 'DET'), ('statement', 'NOUN'), ('from', 'ADP'), ('Honduras', 'CONJ'), (',', '.'), ('said', 'VERB'), ('0', 'X'), ('Sandinista', 'CONJ'), ('troops', 'NOUN'), ('had', 'VERB'), ('launched', 'VERB'), ('a', 'DET'), ('major', 'ADJ'), ('offensive', 'CONJ'), ('against', 'ADP'), ('the', 'DET'), ('rebel', 'CONJ'), ('forces', 'NOUN'), ('.', '.'), ('*-1', 'X'), ('Bucking', 'CONJ'), ('the', 'DET'), ('market', 'NOUN'), ('trend', 'NOUN'), (',', '.'), ('an', 'DET'), ('issue', 'NOUN'), ('of', 'ADP'), ('$', '.'), ('130', 'NUM'), ('million', 'NUM'), ('*U*', 'X'), ('general', 'ADJ'), ('obligation', 'NOUN'), ('distributable', 'ADJ'), ('state', 'NOUN'), ('aid', 'NOUN'), ('bonds', 'NOUN'), ('from', 'ADP'), ('Detroit', 'NOUN'), (',', '.'), ('Mich.', 'NOUN'), (',', '.'), ('apparently', 'ADV'), ('drew', 'CONJ'), ('solid', 'ADJ'), ('investor', 'NOUN'), ('interest', 'NOUN'), ('.', '.'), ('Ralston', 'NOUN'), ('said', 'VERB'), ('0', 'X'), ('its', 'PRON'), ('Eveready', 'CONJ'), ('battery', 'NOUN'), ('unit', 'NOUN'), ('was', 'VERB'), ('hurt', 'VERB'), ('*-1', 'X'), ('by', 'ADP'), ('continuing', 'VERB'), ('economic', 'ADJ'), ('problems', 'NOUN'), ('in', 'ADP'), ('South', 'NOUN'), ('America', 'NOUN'), ('.', '.'), ('I', 'PRON'), ('feel', 'VERB'), ('pretty', 'ADV'), ('good', 'ADJ'), ('about', 'ADP'), ('it', 'PRON'), ('.', '.'), ('Mr.', 'NOUN'), ('Felten', 'NOUN'), ('said', 'VERB'), (',', '.'), ('``', '.'), ('We', 'PRON'), ('got', 'VERB'), ('what', 'PRON'), ('*T*-252', 'CONJ'), ('amounted', 'VERB'), ('to', 'PRT'), ('a', 'DET'), ('parking', 'NOUN'), ('ticket', 'NOUN'), (',', '.'), ('and', 'CONJ'), ('by', 'ADP'), ('*-1', 'X'), ('complaining', 'CONJ'), ('about', 'ADP'), ('it', 'PRON'), (',', '.'), ('we', 'PRON'), ('ended', 'VERB'), ('up', 'ADV'), ('with', 'ADP'), ('a', 'DET'), ('sizable', 'ADJ'), ('fine', 'NOUN'), ('and', 'CONJ'), ('suspension', 'NOUN'), ('.', '.'), (\"''\", '.')]\n"
     ]
    }
   ],
   "source": [
    "# tagging the test sentences\n",
    "start = time.time()\n",
    "tagged_seq = Viterbi(test_tagged_words)\n",
    "end = time.time()\n",
    "difference = end-start\n",
    "\n",
    "print(\"Time taken in seconds: \", difference)\n",
    "print(tagged_seq)\n",
    "#print(test_run_base)"
   ]
  },
  {
   "cell_type": "code",
   "execution_count": 48,
   "metadata": {},
   "outputs": [
    {
     "data": {
      "text/plain": [
       "0.8938053097345132"
      ]
     },
     "execution_count": 48,
     "metadata": {},
     "output_type": "execute_result"
    }
   ],
   "source": [
    "# accuracy\n",
    "check = [i for i, j in zip(tagged_seq, test_run_base) if i == j]\n",
    "\n",
    "accuracy = len(check)/len(tagged_seq)\n",
    "\n",
    "accuracy"
   ]
  },
  {
   "cell_type": "code",
   "execution_count": 49,
   "metadata": {},
   "outputs": [
    {
     "data": {
      "text/plain": [
       "[(('Contra', 'CONJ'), ('Contra', 'NOUN')),\n",
       " (('command', 'VERB'), ('command', 'NOUN')),\n",
       " (('Honduras', 'CONJ'), ('Honduras', 'NOUN')),\n",
       " (('Sandinista', 'CONJ'), ('Sandinista', 'NOUN')),\n",
       " (('offensive', 'CONJ'), ('offensive', 'NOUN')),\n",
       " (('rebel', 'CONJ'), ('rebel', 'NOUN')),\n",
       " (('Bucking', 'CONJ'), ('Bucking', 'VERB')),\n",
       " (('drew', 'CONJ'), ('drew', 'VERB')),\n",
       " (('Eveready', 'CONJ'), ('Eveready', 'NOUN')),\n",
       " (('*T*-252', 'CONJ'), ('*T*-252', 'X')),\n",
       " (('complaining', 'CONJ'), ('complaining', 'VERB')),\n",
       " (('up', 'ADV'), ('up', 'PRT'))]"
      ]
     },
     "execution_count": 49,
     "metadata": {},
     "output_type": "execute_result"
    }
   ],
   "source": [
    "# let's check the incorrectly tagged words\n",
    "[j for i, j in enumerate(zip(tagged_seq, test_run_base)) if j[0] != j[1]]"
   ]
  },
  {
   "cell_type": "markdown",
   "metadata": {},
   "source": [
    "## Viterbi Modification - 1\n",
    "\n",
    "\n",
    "### Probability Based Algorithm"
   ]
  },
  {
   "cell_type": "code",
   "execution_count": 50,
   "metadata": {},
   "outputs": [],
   "source": [
    "# use transition probability of tags when emission probability is zero (in case of unknown words)\n",
    "\n",
    "def Viterbi_1(words, train_bag = train_tagged_words):\n",
    "    state = []\n",
    "    T = list(set([pair[1] for pair in train_bag]))\n",
    "    \n",
    "    for key, word in enumerate(words):\n",
    "        #initialise list of probability column for a given observation\n",
    "        p = [] \n",
    "        p_transition =[] # list for storing transition probabilities\n",
    "        for tag in T:\n",
    "            if key == 0:\n",
    "                transition_p = tags_df.loc['.', tag]\n",
    "            else:\n",
    "                transition_p = tags_df.loc[state[-1], tag]\n",
    "                \n",
    "            # compute emission and state probabilities\n",
    "            emission_p = word_given_tag(words[key], tag)[0]/word_given_tag(words[key], tag)[1]\n",
    "            state_probability = emission_p * transition_p    \n",
    "            p.append(state_probability)\n",
    "            p_transition.append(transition_p)\n",
    "            \n",
    "        pmax = max(p)\n",
    "        state_max = T[p.index(pmax)] \n",
    "        \n",
    "      \n",
    "        # if probability is zero (unknown word) then use transition probability\n",
    "        if(pmax==0):\n",
    "            pmax = max(p_transition)\n",
    "            state_max = T[p_transition.index(pmax)]\n",
    "                           \n",
    "        else:\n",
    "            state_max = T[p.index(pmax)] \n",
    "        \n",
    "        state.append(state_max)\n",
    "    return list(zip(words, state))"
   ]
  },
  {
   "cell_type": "code",
   "execution_count": 51,
   "metadata": {},
   "outputs": [
    {
     "name": "stdout",
     "output_type": "stream",
     "text": [
      "Time taken in seconds:  26.046510219573975\n",
      "Modified Viterbi_1 Accuracy:  94.69026548672566\n"
     ]
    }
   ],
   "source": [
    "# tagging the test sentences\n",
    "start = time.time()\n",
    "tagged_seq = Viterbi_1(test_tagged_words)\n",
    "end = time.time()\n",
    "difference = end-start\n",
    "\n",
    "print(\"Time taken in seconds: \", difference)\n",
    "\n",
    "# accuracy\n",
    "check = [i for i, j in zip(tagged_seq, test_run_base) if i == j] \n",
    "accuracy = len(check)/len(tagged_seq)\n",
    "print('Modified Viterbi_1 Accuracy: ',accuracy*100)"
   ]
  },
  {
   "cell_type": "markdown",
   "metadata": {},
   "source": [
    "#### Adding Tag occurance probability weights: we will apply weights based on the probability of tag occurance to the transition probabilities of tags and then use the resulting probability for predicting unknown words.\n",
    "\n",
    "###### This scheme will also take into account that some POS tags are more likely to occur as compared to others."
   ]
  },
  {
   "cell_type": "code",
   "execution_count": 53,
   "metadata": {},
   "outputs": [
    {
     "data": {
      "text/plain": [
       "[('CONJ', 0.02251248076862696),\n",
       " ('DET', 0.08666938784053921),\n",
       " ('ADV', 0.031597015081582885),\n",
       " ('NUM', 0.035145007169246546),\n",
       " ('X', 0.06576867928872701),\n",
       " ('PRON', 0.0273373313657153),\n",
       " ('ADP', 0.0978889970381069),\n",
       " ('ADJ', 0.06351847781719991),\n",
       " ('PRT', 0.03176447193527793),\n",
       " ('VERB', 0.1351167488251855),\n",
       " ('NOUN', 0.2862674913916711),\n",
       " ('.', 0.11641391147812072)]"
      ]
     },
     "execution_count": 53,
     "metadata": {},
     "output_type": "execute_result"
    }
   ],
   "source": [
    "# lets create a list containing tuples of POS tags and POS tag occurance probability, based on training data\n",
    "tag_prob = []\n",
    "total_tag = len([tag for word,tag in train_tagged_words])\n",
    "for t in T:\n",
    "    each_tag = [tag for word,tag in train_tagged_words if tag==t]\n",
    "    tag_prob.append((t,len(each_tag)/total_tag))\n",
    "\n",
    "tag_prob"
   ]
  },
  {
   "cell_type": "code",
   "execution_count": 54,
   "metadata": {},
   "outputs": [],
   "source": [
    "def Viterbi_1(words, train_bag = train_tagged_words):\n",
    "    state = []\n",
    "    T = list(set([pair[1] for pair in train_bag]))\n",
    "    \n",
    "    for key, word in enumerate(words):\n",
    "        #initialise list of probability column for a given observation\n",
    "        p = [] \n",
    "        p_transition =[] # list for storing transition probabilities\n",
    "       \n",
    "        for tag in T:\n",
    "            if key == 0:\n",
    "                transition_p = tags_df.loc['.', tag]\n",
    "            else:\n",
    "                transition_p = tags_df.loc[state[-1], tag]\n",
    "                \n",
    "            # compute emission and state probabilities\n",
    "            emission_p = word_given_tag(words[key], tag)[0]/word_given_tag(words[key], tag)[1]\n",
    "            state_probability = emission_p * transition_p    \n",
    "            p.append(state_probability)\n",
    "            \n",
    "            # find POS tag occurance probability\n",
    "            tag_p = [pair[1] for pair in tag_prob if pair[0]==tag ]\n",
    "            \n",
    "            # calculate the transition prob weighted by tag occurance probability.\n",
    "            transition_p = tag_p[0]*transition_p             \n",
    "            p_transition.append(transition_p)\n",
    "            \n",
    "        pmax = max(p)\n",
    "        state_max = T[p.index(pmax)] \n",
    "        \n",
    "      \n",
    "        # if probability is zero (unknown word) then use weighted transition probability\n",
    "        if(pmax==0):\n",
    "            pmax = max(p_transition)\n",
    "            state_max = T[p_transition.index(pmax)]                 \n",
    "                           \n",
    "        else:\n",
    "            state_max = T[p.index(pmax)] \n",
    "        \n",
    "        state.append(state_max)\n",
    "    return list(zip(words, state))"
   ]
  },
  {
   "cell_type": "code",
   "execution_count": 55,
   "metadata": {},
   "outputs": [
    {
     "name": "stdout",
     "output_type": "stream",
     "text": [
      "Time taken in seconds:  25.251418113708496\n"
     ]
    }
   ],
   "source": [
    "# tagging the test sentence\n",
    "start = time.time()\n",
    "tagged_seq = Viterbi_1(test_tagged_words)\n",
    "end = time.time()\n",
    "difference = end - start\n",
    "\n",
    "print(\"Time taken in seconds: \", difference)\n"
   ]
  },
  {
   "cell_type": "code",
   "execution_count": 56,
   "metadata": {},
   "outputs": [
    {
     "name": "stdout",
     "output_type": "stream",
     "text": [
      "Modified Viterbi_1 Accuracy:  95.57522123893806\n"
     ]
    }
   ],
   "source": [
    "# accuracy\n",
    "check = [i for i, j in zip(tagged_seq, test_run_base) if i == j] \n",
    "accuracy = len(check)/len(tagged_seq)\n",
    "print('Modified Viterbi_1 Accuracy: ',accuracy*100)"
   ]
  },
  {
   "cell_type": "code",
   "execution_count": 57,
   "metadata": {},
   "outputs": [
    {
     "data": {
      "text/plain": [
       "[(('command', 'VERB'), ('command', 'NOUN')),\n",
       " (('Sandinista', 'VERB'), ('Sandinista', 'NOUN')),\n",
       " (('Eveready', 'VERB'), ('Eveready', 'NOUN')),\n",
       " (('*T*-252', 'VERB'), ('*T*-252', 'X')),\n",
       " (('up', 'ADV'), ('up', 'PRT'))]"
      ]
     },
     "execution_count": 57,
     "metadata": {},
     "output_type": "execute_result"
    }
   ],
   "source": [
    "[j for i, j in enumerate(zip(tagged_seq, test_run_base)) if j[0] != j[1]]\n"
   ]
  },
  {
   "cell_type": "markdown",
   "metadata": {},
   "source": [
    "\n",
    "\n",
    "\n",
    "# Viterbi Modification 2\n",
    "\n",
    "\n",
    "## Rule Based Algorithm"
   ]
  },
  {
   "cell_type": "code",
   "execution_count": 58,
   "metadata": {},
   "outputs": [],
   "source": [
    "# specify patterns for tagging\n",
    "patterns = [\n",
    "    (r'.*ing$', 'VERB'),              # gerund\n",
    "    (r'.*ed$', 'VERB'),               # past tense \n",
    "    (r'.*es$', 'VERB'),               # verb    \n",
    "    (r'.*\\'s$', 'NOUN'),              # possessive nouns\n",
    "    (r'.*s$', 'NOUN'),                # plural nouns\n",
    "    (r'\\*T?\\*?-[0-9]+$', 'X'),        # X\n",
    "    (r'^-?[0-9]+(.[0-9]+)?$', 'NUM'), # cardinal numbers\n",
    "    (r'.*', 'NOUN')                   # nouns\n",
    "]\n",
    "\n",
    "# rule based tagger\n",
    "rule_based_tagger = nltk.RegexpTagger(patterns)"
   ]
  },
  {
   "cell_type": "code",
   "execution_count": 59,
   "metadata": {},
   "outputs": [],
   "source": [
    "# Modification in Viterbi Algorithm : Backoff to rule based tagger in case unknown word is encountered.\n",
    "def Viterbi_2(words, train_bag = train_tagged_words):\n",
    "    state = []\n",
    "    T = list(set([pair[1] for pair in train_bag]))\n",
    "    \n",
    "    for key, word in enumerate(words):\n",
    "        #initialise list of probability column for a given observation\n",
    "        p = []\n",
    "        for tag in T:\n",
    "            if key == 0:\n",
    "                transition_p = tags_df.loc['.', tag]\n",
    "            else:\n",
    "                transition_p = tags_df.loc[state[-1], tag]\n",
    "                \n",
    "            # compute emission and state probabilities\n",
    "            emission_p = word_given_tag(words[key], tag)[0] / word_given_tag(words[key], tag)[1]\n",
    "            state_probability = emission_p * transition_p\n",
    "            p.append(state_probability)\n",
    "            \n",
    "        pmax = max(p)\n",
    "        state_max = rule_based_tagger.tag([word])[0][1]\n",
    "        \n",
    "        if (pmax == 0):\n",
    "            state_max = rule_based_tagger.tag([word])[0][1]\n",
    "        else:\n",
    "            if state_max != 'X':\n",
    "                # getting state for which probability is maximum\n",
    "                state_max = T[p.index(pmax)]\n",
    "        state.append(state_max)\n",
    "    return list(zip(words,state))\n",
    "        "
   ]
  },
  {
   "cell_type": "code",
   "execution_count": 60,
   "metadata": {},
   "outputs": [
    {
     "name": "stdout",
     "output_type": "stream",
     "text": [
      "Time taken in seconds:  25.943708896636963\n"
     ]
    }
   ],
   "source": [
    "# tagging the test sentences\n",
    "start = time.time()\n",
    "tagged_seq = Viterbi_2(test_tagged_words)\n",
    "end = time.time()\n",
    "\n",
    "difference = end - start\n",
    "\n",
    "print(\"Time taken in seconds: \", difference)\n"
   ]
  },
  {
   "cell_type": "code",
   "execution_count": 61,
   "metadata": {},
   "outputs": [
    {
     "name": "stdout",
     "output_type": "stream",
     "text": [
      "accuracy: 0.9734513274336283\n"
     ]
    }
   ],
   "source": [
    "# Accuracy \n",
    "check = [i for i, j in zip(tagged_seq, test_run_base) if i == j]\n",
    "\n",
    "accuracy = len(check) / len(tagged_seq)\n",
    "\n",
    "print('accuracy:', accuracy)"
   ]
  },
  {
   "cell_type": "markdown",
   "metadata": {},
   "source": [
    "#### There is a significant increase in the accuracy with Rule Based Algorithm "
   ]
  },
  {
   "cell_type": "code",
   "execution_count": 62,
   "metadata": {},
   "outputs": [
    {
     "data": {
      "text/plain": [
       "[(('command', 'VERB'), ('command', 'NOUN')),\n",
       " (('drew', 'NOUN'), ('drew', 'VERB')),\n",
       " (('up', 'ADV'), ('up', 'PRT'))]"
      ]
     },
     "execution_count": 62,
     "metadata": {},
     "output_type": "execute_result"
    }
   ],
   "source": [
    "# let's check the incorrectly tagged words\n",
    "[j for i, j in enumerate(zip(tagged_seq, test_run_base)) if j[0] != j[1]]"
   ]
  },
  {
   "cell_type": "markdown",
   "metadata": {},
   "source": [
    "## Testing Test Set\n",
    "\n",
    "\n",
    "\n",
    "### Testing the test for Viterbi_1 modification\n",
    " "
   ]
  },
  {
   "cell_type": "code",
   "execution_count": 63,
   "metadata": {},
   "outputs": [],
   "source": [
    "test_tagged_words = [tup[0] for sent in test_set for tup in sent]\n",
    "test_run_base = [tup for sent in test_set for tup in sent]"
   ]
  },
  {
   "cell_type": "code",
   "execution_count": 64,
   "metadata": {},
   "outputs": [
    {
     "name": "stdout",
     "output_type": "stream",
     "text": [
      "Time taken in seconds:  1195.20042014122\n"
     ]
    }
   ],
   "source": [
    "# tagging the test sentences\n",
    "start = time.time()\n",
    "tagged_seq = Viterbi_1(test_tagged_words)\n",
    "end = time.time()\n",
    "difference = end - start\n",
    "\n",
    "print(\"Time taken in seconds: \", difference)\n"
   ]
  },
  {
   "cell_type": "code",
   "execution_count": 65,
   "metadata": {},
   "outputs": [
    {
     "name": "stdout",
     "output_type": "stream",
     "text": [
      "Modified Viterbi Algorithm Accuracy:  94.46285825697018\n"
     ]
    }
   ],
   "source": [
    "# accuracy\n",
    "check = [i for i, j in zip(tagged_seq, test_run_base) if i == j] \n",
    "accuracy = len(check)/len(tagged_seq)\n",
    "print('Modified Viterbi Algorithm Accuracy: ',accuracy*100)"
   ]
  },
  {
   "cell_type": "markdown",
   "metadata": {},
   "source": [
    "### Testing the test set for Viterbi_2 Modification"
   ]
  },
  {
   "cell_type": "code",
   "execution_count": 66,
   "metadata": {},
   "outputs": [
    {
     "name": "stdout",
     "output_type": "stream",
     "text": [
      "Time taken in seconds:  1210.352744102478\n"
     ]
    }
   ],
   "source": [
    "# tagging the test sentences\n",
    "start = time.time()\n",
    "tagged_seq = Viterbi_2(test_tagged_words)\n",
    "end = time.time()\n",
    "difference = end-start\n",
    "\n",
    "print(\"Time taken in seconds: \", difference)"
   ]
  },
  {
   "cell_type": "code",
   "execution_count": 67,
   "metadata": {},
   "outputs": [
    {
     "name": "stdout",
     "output_type": "stream",
     "text": [
      "Modified Viterbi Algorithm Accuracy:  95.37921622148568\n"
     ]
    }
   ],
   "source": [
    "# accuracy\n",
    "check = [i for i, j in zip(tagged_seq, test_run_base) if i == j] \n",
    "accuracy = len(check)/len(tagged_seq)\n",
    "print('Modified Viterbi Algorithm Accuracy: ',accuracy*100)"
   ]
  },
  {
   "cell_type": "code",
   "execution_count": 93,
   "metadata": {},
   "outputs": [],
   "source": [
    "f = open(r'C:\\Users\\tabish\\Downloads\\New_folder\\Test_sentences.txt', 'r')"
   ]
  },
  {
   "cell_type": "code",
   "execution_count": 94,
   "metadata": {},
   "outputs": [],
   "source": [
    "text = f.read()\n",
    "\n",
    "sample_test_sent = text.splitlines()\n"
   ]
  },
  {
   "cell_type": "code",
   "execution_count": 95,
   "metadata": {},
   "outputs": [],
   "source": [
    "f.close()"
   ]
  },
  {
   "cell_type": "code",
   "execution_count": 97,
   "metadata": {},
   "outputs": [
    {
     "data": {
      "text/plain": [
       "['Android is a mobile operating system developed by Google.',\n",
       " 'Android has been the best-selling OS worldwide on smartphones since 2011 and on tablets since 2013.',\n",
       " \"Google and Twitter made a deal in 2015 that gave Google access to Twitter's firehose.\",\n",
       " 'Twitter is an online news and social networking service on which users post and interact with messages known as tweets.',\n",
       " 'Before entering politics, Donald Trump was a domineering businessman and a television personality.',\n",
       " 'The 2018 FIFA World Cup is the 21st FIFA World Cup, an international football tournament contested once every four years.',\n",
       " 'This is the first World Cup to be held in Eastern Europe and the 11th time that it has been held in Europe.',\n",
       " 'Show me the cheapest round trips from Dallas to Atlanta',\n",
       " 'I would like to see flights from Denver to Philadelphia.',\n",
       " 'Show me the price of the flights leaving Atlanta at about 3 in the afternoon and arriving in San Francisco.',\n",
       " 'NASA invited social media users to experience the launch of ICESAT-2 Satellite.']"
      ]
     },
     "execution_count": 97,
     "metadata": {},
     "output_type": "execute_result"
    }
   ],
   "source": [
    "sample_test_sent\n"
   ]
  },
  {
   "cell_type": "code",
   "execution_count": 98,
   "metadata": {},
   "outputs": [],
   "source": [
    "# List of untagged words\n",
    "sample_test_words = [word for sent in sample_test_sent for word in sent.split()]\n"
   ]
  },
  {
   "cell_type": "code",
   "execution_count": 99,
   "metadata": {},
   "outputs": [
    {
     "name": "stdout",
     "output_type": "stream",
     "text": [
      "Time taken in seconds:  34.499024868011475\n"
     ]
    }
   ],
   "source": [
    "# Tagging the sample sentences\n",
    "start = time.time()\n",
    "sample_tagged_seq = Viterbi(sample_test_words)\n",
    "end = time.time()\n",
    "difference = end - start\n",
    "\n",
    "print(\"Time taken in seconds: \", difference)\n"
   ]
  },
  {
   "cell_type": "code",
   "execution_count": 100,
   "metadata": {},
   "outputs": [
    {
     "data": {
      "text/plain": [
       "[('Android', 'CONJ'),\n",
       " ('is', 'VERB'),\n",
       " ('a', 'DET'),\n",
       " ('mobile', 'ADJ'),\n",
       " ('operating', 'NOUN'),\n",
       " ('system', 'NOUN'),\n",
       " ('developed', 'VERB'),\n",
       " ('by', 'ADP'),\n",
       " ('Google.', 'CONJ'),\n",
       " ('Android', 'CONJ'),\n",
       " ('has', 'VERB'),\n",
       " ('been', 'VERB'),\n",
       " ('the', 'DET'),\n",
       " ('best-selling', 'ADJ'),\n",
       " ('OS', 'CONJ'),\n",
       " ('worldwide', 'CONJ'),\n",
       " ('on', 'ADP'),\n",
       " ('smartphones', 'CONJ'),\n",
       " ('since', 'ADP'),\n",
       " ('2011', 'CONJ'),\n",
       " ('and', 'CONJ'),\n",
       " ('on', 'ADP'),\n",
       " ('tablets', 'NOUN'),\n",
       " ('since', 'ADP'),\n",
       " ('2013.', 'CONJ'),\n",
       " ('Google', 'CONJ'),\n",
       " ('and', 'CONJ'),\n",
       " ('Twitter', 'CONJ'),\n",
       " ('made', 'VERB'),\n",
       " ('a', 'DET'),\n",
       " ('deal', 'NOUN'),\n",
       " ('in', 'ADP'),\n",
       " ('2015', 'CONJ'),\n",
       " ('that', 'DET'),\n",
       " ('gave', 'VERB'),\n",
       " ('Google', 'CONJ'),\n",
       " ('access', 'NOUN'),\n",
       " ('to', 'PRT'),\n",
       " (\"Twitter's\", 'CONJ'),\n",
       " ('firehose.', 'CONJ'),\n",
       " ('Twitter', 'CONJ'),\n",
       " ('is', 'VERB'),\n",
       " ('an', 'DET'),\n",
       " ('online', 'CONJ'),\n",
       " ('news', 'NOUN'),\n",
       " ('and', 'CONJ'),\n",
       " ('social', 'ADJ'),\n",
       " ('networking', 'NOUN'),\n",
       " ('service', 'NOUN'),\n",
       " ('on', 'ADP'),\n",
       " ('which', 'DET'),\n",
       " ('users', 'NOUN'),\n",
       " ('post', 'NOUN'),\n",
       " ('and', 'CONJ'),\n",
       " ('interact', 'CONJ'),\n",
       " ('with', 'ADP'),\n",
       " ('messages', 'CONJ'),\n",
       " ('known', 'VERB'),\n",
       " ('as', 'ADP'),\n",
       " ('tweets.', 'CONJ'),\n",
       " ('Before', 'ADP'),\n",
       " ('entering', 'VERB'),\n",
       " ('politics,', 'CONJ'),\n",
       " ('Donald', 'NOUN'),\n",
       " ('Trump', 'NOUN'),\n",
       " ('was', 'VERB'),\n",
       " ('a', 'DET'),\n",
       " ('domineering', 'CONJ'),\n",
       " ('businessman', 'NOUN'),\n",
       " ('and', 'CONJ'),\n",
       " ('a', 'DET'),\n",
       " ('television', 'NOUN'),\n",
       " ('personality.', 'CONJ'),\n",
       " ('The', 'DET'),\n",
       " ('2018', 'CONJ'),\n",
       " ('FIFA', 'CONJ'),\n",
       " ('World', 'NOUN'),\n",
       " ('Cup', 'CONJ'),\n",
       " ('is', 'VERB'),\n",
       " ('the', 'DET'),\n",
       " ('21st', 'CONJ'),\n",
       " ('FIFA', 'CONJ'),\n",
       " ('World', 'NOUN'),\n",
       " ('Cup,', 'CONJ'),\n",
       " ('an', 'DET'),\n",
       " ('international', 'ADJ'),\n",
       " ('football', 'NOUN'),\n",
       " ('tournament', 'CONJ'),\n",
       " ('contested', 'CONJ'),\n",
       " ('once', 'ADV'),\n",
       " ('every', 'DET'),\n",
       " ('four', 'NUM'),\n",
       " ('years.', 'CONJ'),\n",
       " ('This', 'DET'),\n",
       " ('is', 'VERB'),\n",
       " ('the', 'DET'),\n",
       " ('first', 'ADJ'),\n",
       " ('World', 'NOUN'),\n",
       " ('Cup', 'CONJ'),\n",
       " ('to', 'PRT'),\n",
       " ('be', 'VERB'),\n",
       " ('held', 'VERB'),\n",
       " ('in', 'ADP'),\n",
       " ('Eastern', 'NOUN'),\n",
       " ('Europe', 'NOUN'),\n",
       " ('and', 'CONJ'),\n",
       " ('the', 'DET'),\n",
       " ('11th', 'ADJ'),\n",
       " ('time', 'NOUN'),\n",
       " ('that', 'ADP'),\n",
       " ('it', 'PRON'),\n",
       " ('has', 'VERB'),\n",
       " ('been', 'VERB'),\n",
       " ('held', 'VERB'),\n",
       " ('in', 'ADP'),\n",
       " ('Europe.', 'CONJ'),\n",
       " ('Show', 'NOUN'),\n",
       " ('me', 'PRON'),\n",
       " ('the', 'DET'),\n",
       " ('cheapest', 'ADJ'),\n",
       " ('round', 'NOUN'),\n",
       " ('trips', 'CONJ'),\n",
       " ('from', 'ADP'),\n",
       " ('Dallas', 'NOUN'),\n",
       " ('to', 'PRT'),\n",
       " ('Atlanta', 'NOUN'),\n",
       " ('I', 'PRON'),\n",
       " ('would', 'VERB'),\n",
       " ('like', 'ADP'),\n",
       " ('to', 'PRT'),\n",
       " ('see', 'VERB'),\n",
       " ('flights', 'NOUN'),\n",
       " ('from', 'ADP'),\n",
       " ('Denver', 'NOUN'),\n",
       " ('to', 'PRT'),\n",
       " ('Philadelphia.', 'CONJ'),\n",
       " ('Show', 'NOUN'),\n",
       " ('me', 'PRON'),\n",
       " ('the', 'DET'),\n",
       " ('price', 'NOUN'),\n",
       " ('of', 'ADP'),\n",
       " ('the', 'DET'),\n",
       " ('flights', 'NOUN'),\n",
       " ('leaving', 'VERB'),\n",
       " ('Atlanta', 'NOUN'),\n",
       " ('at', 'ADP'),\n",
       " ('about', 'ADP'),\n",
       " ('3', 'NUM'),\n",
       " ('in', 'ADP'),\n",
       " ('the', 'DET'),\n",
       " ('afternoon', 'NOUN'),\n",
       " ('and', 'CONJ'),\n",
       " ('arriving', 'CONJ'),\n",
       " ('in', 'ADP'),\n",
       " ('San', 'NOUN'),\n",
       " ('Francisco.', 'CONJ'),\n",
       " ('NASA', 'CONJ'),\n",
       " ('invited', 'CONJ'),\n",
       " ('social', 'ADJ'),\n",
       " ('media', 'NOUN'),\n",
       " ('users', 'NOUN'),\n",
       " ('to', 'PRT'),\n",
       " ('experience', 'NOUN'),\n",
       " ('the', 'DET'),\n",
       " ('launch', 'NOUN'),\n",
       " ('of', 'ADP'),\n",
       " ('ICESAT-2', 'CONJ'),\n",
       " ('Satellite.', 'CONJ')]"
      ]
     },
     "execution_count": 100,
     "metadata": {},
     "output_type": "execute_result"
    }
   ],
   "source": [
    "sample_tagged_seq"
   ]
  },
  {
   "cell_type": "markdown",
   "metadata": {},
   "source": [
    "#### We can see many tags has misclassified like\n",
    "#### Android - Conj\n",
    "#### Google - Conj\n",
    "#### OS - Conj"
   ]
  },
  {
   "cell_type": "markdown",
   "metadata": {},
   "source": [
    "\n",
    "\n",
    "### Tagging with Viterbi 1"
   ]
  },
  {
   "cell_type": "code",
   "execution_count": 101,
   "metadata": {},
   "outputs": [
    {
     "name": "stdout",
     "output_type": "stream",
     "text": [
      "Time taken in seconds:  35.28809404373169\n"
     ]
    }
   ],
   "source": [
    "# tagging the test sequence\n",
    "start = time.time()\n",
    "sample_tagged_seq = Viterbi_1(sample_test_words)\n",
    "end = time.time()\n",
    "difference = end - start\n",
    "\n",
    "print(\"Time taken in seconds: \", difference)\n"
   ]
  },
  {
   "cell_type": "code",
   "execution_count": 102,
   "metadata": {},
   "outputs": [
    {
     "data": {
      "text/plain": [
       "[('Android', 'NOUN'),\n",
       " ('is', 'VERB'),\n",
       " ('a', 'DET'),\n",
       " ('mobile', 'ADJ'),\n",
       " ('operating', 'NOUN'),\n",
       " ('system', 'NOUN'),\n",
       " ('developed', 'VERB'),\n",
       " ('by', 'ADP'),\n",
       " ('Google.', 'NOUN'),\n",
       " ('Android', 'NOUN'),\n",
       " ('has', 'VERB'),\n",
       " ('been', 'VERB'),\n",
       " ('the', 'DET'),\n",
       " ('best-selling', 'ADJ'),\n",
       " ('OS', 'NOUN'),\n",
       " ('worldwide', 'NOUN'),\n",
       " ('on', 'ADP'),\n",
       " ('smartphones', 'NOUN'),\n",
       " ('since', 'ADP'),\n",
       " ('2011', 'NOUN'),\n",
       " ('and', 'CONJ'),\n",
       " ('on', 'ADP'),\n",
       " ('tablets', 'NOUN'),\n",
       " ('since', 'ADP'),\n",
       " ('2013.', 'NOUN'),\n",
       " ('Google', 'NOUN'),\n",
       " ('and', 'CONJ'),\n",
       " ('Twitter', 'NOUN'),\n",
       " ('made', 'VERB'),\n",
       " ('a', 'DET'),\n",
       " ('deal', 'NOUN'),\n",
       " ('in', 'ADP'),\n",
       " ('2015', 'NOUN'),\n",
       " ('that', 'ADP'),\n",
       " ('gave', 'VERB'),\n",
       " ('Google', 'NOUN'),\n",
       " ('access', 'NOUN'),\n",
       " ('to', 'PRT'),\n",
       " (\"Twitter's\", 'NOUN'),\n",
       " ('firehose.', 'NOUN'),\n",
       " ('Twitter', 'NOUN'),\n",
       " ('is', 'VERB'),\n",
       " ('an', 'DET'),\n",
       " ('online', 'NOUN'),\n",
       " ('news', 'NOUN'),\n",
       " ('and', 'CONJ'),\n",
       " ('social', 'ADJ'),\n",
       " ('networking', 'NOUN'),\n",
       " ('service', 'NOUN'),\n",
       " ('on', 'ADP'),\n",
       " ('which', 'DET'),\n",
       " ('users', 'NOUN'),\n",
       " ('post', 'NOUN'),\n",
       " ('and', 'CONJ'),\n",
       " ('interact', 'NOUN'),\n",
       " ('with', 'ADP'),\n",
       " ('messages', 'NOUN'),\n",
       " ('known', 'VERB'),\n",
       " ('as', 'ADP'),\n",
       " ('tweets.', 'NOUN'),\n",
       " ('Before', 'ADP'),\n",
       " ('entering', 'VERB'),\n",
       " ('politics,', 'NOUN'),\n",
       " ('Donald', 'NOUN'),\n",
       " ('Trump', 'NOUN'),\n",
       " ('was', 'VERB'),\n",
       " ('a', 'DET'),\n",
       " ('domineering', 'NOUN'),\n",
       " ('businessman', 'NOUN'),\n",
       " ('and', 'CONJ'),\n",
       " ('a', 'DET'),\n",
       " ('television', 'NOUN'),\n",
       " ('personality.', 'NOUN'),\n",
       " ('The', 'DET'),\n",
       " ('2018', 'NOUN'),\n",
       " ('FIFA', 'NOUN'),\n",
       " ('World', 'NOUN'),\n",
       " ('Cup', 'NOUN'),\n",
       " ('is', 'VERB'),\n",
       " ('the', 'DET'),\n",
       " ('21st', 'NOUN'),\n",
       " ('FIFA', 'NOUN'),\n",
       " ('World', 'NOUN'),\n",
       " ('Cup,', 'NOUN'),\n",
       " ('an', 'DET'),\n",
       " ('international', 'ADJ'),\n",
       " ('football', 'NOUN'),\n",
       " ('tournament', 'NOUN'),\n",
       " ('contested', 'NOUN'),\n",
       " ('once', 'ADV'),\n",
       " ('every', 'DET'),\n",
       " ('four', 'NUM'),\n",
       " ('years.', 'NOUN'),\n",
       " ('This', 'DET'),\n",
       " ('is', 'VERB'),\n",
       " ('the', 'DET'),\n",
       " ('first', 'ADJ'),\n",
       " ('World', 'NOUN'),\n",
       " ('Cup', 'NOUN'),\n",
       " ('to', 'PRT'),\n",
       " ('be', 'VERB'),\n",
       " ('held', 'VERB'),\n",
       " ('in', 'ADP'),\n",
       " ('Eastern', 'NOUN'),\n",
       " ('Europe', 'NOUN'),\n",
       " ('and', 'CONJ'),\n",
       " ('the', 'DET'),\n",
       " ('11th', 'ADJ'),\n",
       " ('time', 'NOUN'),\n",
       " ('that', 'ADP'),\n",
       " ('it', 'PRON'),\n",
       " ('has', 'VERB'),\n",
       " ('been', 'VERB'),\n",
       " ('held', 'VERB'),\n",
       " ('in', 'ADP'),\n",
       " ('Europe.', 'NOUN'),\n",
       " ('Show', 'NOUN'),\n",
       " ('me', 'PRON'),\n",
       " ('the', 'DET'),\n",
       " ('cheapest', 'ADJ'),\n",
       " ('round', 'NOUN'),\n",
       " ('trips', 'NOUN'),\n",
       " ('from', 'ADP'),\n",
       " ('Dallas', 'NOUN'),\n",
       " ('to', 'PRT'),\n",
       " ('Atlanta', 'NOUN'),\n",
       " ('I', 'PRON'),\n",
       " ('would', 'VERB'),\n",
       " ('like', 'ADP'),\n",
       " ('to', 'PRT'),\n",
       " ('see', 'VERB'),\n",
       " ('flights', 'NOUN'),\n",
       " ('from', 'ADP'),\n",
       " ('Denver', 'NOUN'),\n",
       " ('to', 'PRT'),\n",
       " ('Philadelphia.', 'NOUN'),\n",
       " ('Show', 'NOUN'),\n",
       " ('me', 'PRON'),\n",
       " ('the', 'DET'),\n",
       " ('price', 'NOUN'),\n",
       " ('of', 'ADP'),\n",
       " ('the', 'DET'),\n",
       " ('flights', 'NOUN'),\n",
       " ('leaving', 'VERB'),\n",
       " ('Atlanta', 'NOUN'),\n",
       " ('at', 'ADP'),\n",
       " ('about', 'ADP'),\n",
       " ('3', 'NUM'),\n",
       " ('in', 'ADP'),\n",
       " ('the', 'DET'),\n",
       " ('afternoon', 'NOUN'),\n",
       " ('and', 'CONJ'),\n",
       " ('arriving', 'NOUN'),\n",
       " ('in', 'ADP'),\n",
       " ('San', 'NOUN'),\n",
       " ('Francisco.', 'NOUN'),\n",
       " ('NASA', 'NOUN'),\n",
       " ('invited', 'NOUN'),\n",
       " ('social', 'ADJ'),\n",
       " ('media', 'NOUN'),\n",
       " ('users', 'NOUN'),\n",
       " ('to', 'PRT'),\n",
       " ('experience', 'NOUN'),\n",
       " ('the', 'DET'),\n",
       " ('launch', 'NOUN'),\n",
       " ('of', 'ADP'),\n",
       " ('ICESAT-2', 'NOUN'),\n",
       " ('Satellite.', 'NOUN')]"
      ]
     },
     "execution_count": 102,
     "metadata": {},
     "output_type": "execute_result"
    }
   ],
   "source": [
    "sample_tagged_seq"
   ]
  },
  {
   "cell_type": "markdown",
   "metadata": {},
   "source": [
    "### All these cases were correctly POS tagged by Viterbi_1:\n",
    "\n",
    "\n",
    "#### Android as NOUN\n",
    "#### Google as NOUN\n",
    "#### OS as NOUN"
   ]
  },
  {
   "cell_type": "markdown",
   "metadata": {},
   "source": [
    "\n",
    "\n",
    "### Tagging with Viterbi 2\n"
   ]
  },
  {
   "cell_type": "code",
   "execution_count": 103,
   "metadata": {},
   "outputs": [
    {
     "name": "stdout",
     "output_type": "stream",
     "text": [
      "Time taken in seconds:  34.35109829902649\n"
     ]
    }
   ],
   "source": [
    "start = time.time()\n",
    "sample_tagged_seq = Viterbi_2(sample_test_words)\n",
    "end = time.time()\n",
    "difference = end - start\n",
    "\n",
    "print(\"Time taken in seconds: \", difference)\n"
   ]
  },
  {
   "cell_type": "code",
   "execution_count": 104,
   "metadata": {},
   "outputs": [
    {
     "data": {
      "text/plain": [
       "[('Android', 'NOUN'),\n",
       " ('is', 'VERB'),\n",
       " ('a', 'DET'),\n",
       " ('mobile', 'ADJ'),\n",
       " ('operating', 'NOUN'),\n",
       " ('system', 'NOUN'),\n",
       " ('developed', 'VERB'),\n",
       " ('by', 'ADP'),\n",
       " ('Google.', 'NOUN'),\n",
       " ('Android', 'NOUN'),\n",
       " ('has', 'VERB'),\n",
       " ('been', 'VERB'),\n",
       " ('the', 'DET'),\n",
       " ('best-selling', 'ADJ'),\n",
       " ('OS', 'NOUN'),\n",
       " ('worldwide', 'NOUN'),\n",
       " ('on', 'ADP'),\n",
       " ('smartphones', 'VERB'),\n",
       " ('since', 'ADP'),\n",
       " ('2011', 'NUM'),\n",
       " ('and', 'CONJ'),\n",
       " ('on', 'ADP'),\n",
       " ('tablets', 'NOUN'),\n",
       " ('since', 'ADP'),\n",
       " ('2013.', 'NOUN'),\n",
       " ('Google', 'NOUN'),\n",
       " ('and', 'CONJ'),\n",
       " ('Twitter', 'NOUN'),\n",
       " ('made', 'VERB'),\n",
       " ('a', 'DET'),\n",
       " ('deal', 'NOUN'),\n",
       " ('in', 'ADP'),\n",
       " ('2015', 'NUM'),\n",
       " ('that', 'ADP'),\n",
       " ('gave', 'VERB'),\n",
       " ('Google', 'NOUN'),\n",
       " ('access', 'NOUN'),\n",
       " ('to', 'PRT'),\n",
       " (\"Twitter's\", 'NOUN'),\n",
       " ('firehose.', 'NOUN'),\n",
       " ('Twitter', 'NOUN'),\n",
       " ('is', 'VERB'),\n",
       " ('an', 'DET'),\n",
       " ('online', 'NOUN'),\n",
       " ('news', 'NOUN'),\n",
       " ('and', 'CONJ'),\n",
       " ('social', 'ADJ'),\n",
       " ('networking', 'NOUN'),\n",
       " ('service', 'NOUN'),\n",
       " ('on', 'ADP'),\n",
       " ('which', 'DET'),\n",
       " ('users', 'NOUN'),\n",
       " ('post', 'NOUN'),\n",
       " ('and', 'CONJ'),\n",
       " ('interact', 'NOUN'),\n",
       " ('with', 'ADP'),\n",
       " ('messages', 'VERB'),\n",
       " ('known', 'VERB'),\n",
       " ('as', 'ADP'),\n",
       " ('tweets.', 'NOUN'),\n",
       " ('Before', 'ADP'),\n",
       " ('entering', 'VERB'),\n",
       " ('politics,', 'NOUN'),\n",
       " ('Donald', 'NOUN'),\n",
       " ('Trump', 'NOUN'),\n",
       " ('was', 'VERB'),\n",
       " ('a', 'DET'),\n",
       " ('domineering', 'VERB'),\n",
       " ('businessman', 'NOUN'),\n",
       " ('and', 'CONJ'),\n",
       " ('a', 'DET'),\n",
       " ('television', 'NOUN'),\n",
       " ('personality.', 'NOUN'),\n",
       " ('The', 'DET'),\n",
       " ('2018', 'NUM'),\n",
       " ('FIFA', 'NOUN'),\n",
       " ('World', 'NOUN'),\n",
       " ('Cup', 'NOUN'),\n",
       " ('is', 'VERB'),\n",
       " ('the', 'DET'),\n",
       " ('21st', 'NOUN'),\n",
       " ('FIFA', 'NOUN'),\n",
       " ('World', 'NOUN'),\n",
       " ('Cup,', 'NOUN'),\n",
       " ('an', 'DET'),\n",
       " ('international', 'ADJ'),\n",
       " ('football', 'NOUN'),\n",
       " ('tournament', 'NOUN'),\n",
       " ('contested', 'VERB'),\n",
       " ('once', 'ADV'),\n",
       " ('every', 'DET'),\n",
       " ('four', 'NUM'),\n",
       " ('years.', 'NOUN'),\n",
       " ('This', 'DET'),\n",
       " ('is', 'VERB'),\n",
       " ('the', 'DET'),\n",
       " ('first', 'ADJ'),\n",
       " ('World', 'NOUN'),\n",
       " ('Cup', 'NOUN'),\n",
       " ('to', 'PRT'),\n",
       " ('be', 'VERB'),\n",
       " ('held', 'VERB'),\n",
       " ('in', 'ADP'),\n",
       " ('Eastern', 'NOUN'),\n",
       " ('Europe', 'NOUN'),\n",
       " ('and', 'CONJ'),\n",
       " ('the', 'DET'),\n",
       " ('11th', 'ADJ'),\n",
       " ('time', 'NOUN'),\n",
       " ('that', 'ADP'),\n",
       " ('it', 'PRON'),\n",
       " ('has', 'VERB'),\n",
       " ('been', 'VERB'),\n",
       " ('held', 'VERB'),\n",
       " ('in', 'ADP'),\n",
       " ('Europe.', 'NOUN'),\n",
       " ('Show', 'NOUN'),\n",
       " ('me', 'PRON'),\n",
       " ('the', 'DET'),\n",
       " ('cheapest', 'ADJ'),\n",
       " ('round', 'NOUN'),\n",
       " ('trips', 'NOUN'),\n",
       " ('from', 'ADP'),\n",
       " ('Dallas', 'NOUN'),\n",
       " ('to', 'PRT'),\n",
       " ('Atlanta', 'NOUN'),\n",
       " ('I', 'PRON'),\n",
       " ('would', 'VERB'),\n",
       " ('like', 'ADP'),\n",
       " ('to', 'PRT'),\n",
       " ('see', 'VERB'),\n",
       " ('flights', 'NOUN'),\n",
       " ('from', 'ADP'),\n",
       " ('Denver', 'NOUN'),\n",
       " ('to', 'PRT'),\n",
       " ('Philadelphia.', 'NOUN'),\n",
       " ('Show', 'NOUN'),\n",
       " ('me', 'PRON'),\n",
       " ('the', 'DET'),\n",
       " ('price', 'NOUN'),\n",
       " ('of', 'ADP'),\n",
       " ('the', 'DET'),\n",
       " ('flights', 'NOUN'),\n",
       " ('leaving', 'VERB'),\n",
       " ('Atlanta', 'NOUN'),\n",
       " ('at', 'ADP'),\n",
       " ('about', 'ADP'),\n",
       " ('3', 'NUM'),\n",
       " ('in', 'ADP'),\n",
       " ('the', 'DET'),\n",
       " ('afternoon', 'NOUN'),\n",
       " ('and', 'CONJ'),\n",
       " ('arriving', 'VERB'),\n",
       " ('in', 'ADP'),\n",
       " ('San', 'NOUN'),\n",
       " ('Francisco.', 'NOUN'),\n",
       " ('NASA', 'NOUN'),\n",
       " ('invited', 'VERB'),\n",
       " ('social', 'ADJ'),\n",
       " ('media', 'NOUN'),\n",
       " ('users', 'NOUN'),\n",
       " ('to', 'PRT'),\n",
       " ('experience', 'NOUN'),\n",
       " ('the', 'DET'),\n",
       " ('launch', 'NOUN'),\n",
       " ('of', 'ADP'),\n",
       " ('ICESAT-2', 'NOUN'),\n",
       " ('Satellite.', 'NOUN')]"
      ]
     },
     "execution_count": 104,
     "metadata": {},
     "output_type": "execute_result"
    }
   ],
   "source": [
    "sample_tagged_seq"
   ]
  },
  {
   "cell_type": "markdown",
   "metadata": {},
   "source": [
    "### All these cases were correctly POS tagged by Viterbi_2:\n",
    "\n",
    "#### Android as NOUN\n",
    "#### Google as NOUN\n",
    "#### OS as NOUN"
   ]
  },
  {
   "cell_type": "markdown",
   "metadata": {},
   "source": [
    "\n",
    "\n",
    "### Compare the tagging accuracies of the modifications with the vanilla Viterbi algorithm¶\n",
    "\n",
    "#### The accuracy of vanilla Viterbi Algorithm: 89.38%\n",
    "\n",
    "#### The accuracy of modified Viterbi Algorithm 1: 95.44%\n",
    "\n",
    "#### The accuracy of modified Viterbi Algorithm 2 : 97%"
   ]
  },
  {
   "cell_type": "markdown",
   "metadata": {},
   "source": [
    "#### List down cases which were incorrectly tagged by original POS tagger and got corrected by your modifications\n",
    "##### The following cases were incorrectly tagged which got corrected by modified Viterbi Algorithm:\n",
    "\n",
    "##### Contra:correctly tagged as NOUN\n",
    "##### Honduras:correctly tagged as NOUN\n",
    "##### complaining: correctly tagged as VERB\n",
    "##### Bucking: correctly tagged as VERB\n",
    "##### Sandinista: correctly tagged as NOUN\n",
    "##### Eveready: correctly tagged as NOUN\n",
    "##### *T*-252: correctly tagged as 'X'\n",
    "##### drew: correctly tagged as VERB"
   ]
  },
  {
   "cell_type": "code",
   "execution_count": null,
   "metadata": {},
   "outputs": [],
   "source": []
  }
 ],
 "metadata": {
  "kernelspec": {
   "display_name": "Python 3",
   "language": "python",
   "name": "python3"
  },
  "language_info": {
   "codemirror_mode": {
    "name": "ipython",
    "version": 3
   },
   "file_extension": ".py",
   "mimetype": "text/x-python",
   "name": "python",
   "nbconvert_exporter": "python",
   "pygments_lexer": "ipython3",
   "version": "3.7.3"
  }
 },
 "nbformat": 4,
 "nbformat_minor": 2
}
